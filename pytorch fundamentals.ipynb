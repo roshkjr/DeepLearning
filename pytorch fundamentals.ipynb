{
  "cells": [
    {
      "cell_type": "markdown",
      "metadata": {
        "id": "view-in-github",
        "colab_type": "text"
      },
      "source": [
        "<a href=\"https://colab.research.google.com/github/roshkjr/DeepLearning/blob/main/pytorch%20fundamentals.ipynb\" target=\"_parent\"><img src=\"https://colab.research.google.com/assets/colab-badge.svg\" alt=\"Open In Colab\"/></a>"
      ]
    },
    {
      "cell_type": "markdown",
      "source": [
        "## Pytorch Fundamentals"
      ],
      "metadata": {
        "id": "loHZMx_1l_my"
      }
    },
    {
      "cell_type": "markdown",
      "source": [
        "This is the first notebook from the series of notebooks I am planning to create as part of my learning path for deep learning. If you are also new to Pytorch just like me, hope you find this useful, and if you did, please express you appreciation by giving a star to my github repository and sharing these notebooks 🙏\n",
        "\n",
        "Pytorch is a popular framework in Python for training and building deep learning models, open-sourced by Meta. I will be discussing some fundamental concepts in Pytorch including data represenation and operations using Tensors in this notebook. So without any further delay, let's get started 🤩"
      ],
      "metadata": {
        "id": "fW0JImHbmnIY"
      }
    },
    {
      "cell_type": "markdown",
      "source": [
        "## Tensors\n",
        "\n",
        "If you have never heard the word Deep Learning before, what would you guess it means? If you guessed it is about Learning, then you guessed it right. It is a method for computers to learn patterns from data. In order to make computers learn from data, the data need to be represented and processed efficiently. Tensors are data structures designed to store and process data for developing deep learning models in Pytorch. Tensors are a lot similar to ndarrays in Numpy, but with two superpowers 💪:\n",
        "1. Support for automatic differentiation\n",
        "2. Support for GPU accelerated numerical calculations\n",
        "\n",
        "We will discuss what these features means, and why they are important. But before that, let's get some hands-on with Tensors and see what can they do 🚀"
      ],
      "metadata": {
        "id": "79Zwbp_OnRpl"
      }
    },
    {
      "cell_type": "code",
      "execution_count": 1,
      "metadata": {
        "id": "yI5sWoN7lyyh"
      },
      "outputs": [],
      "source": [
        "import torch"
      ]
    },
    {
      "cell_type": "markdown",
      "source": [
        "## Creating Tensors"
      ],
      "metadata": {
        "id": "HCVRl1uKAxCK"
      }
    },
    {
      "cell_type": "markdown",
      "source": [
        "PyTorch provides different fucntions to create tensors populated with values. In this section we will look into some of these functions."
      ],
      "metadata": {
        "id": "qkqWC2MxA2YB"
      }
    },
    {
      "cell_type": "code",
      "source": [
        "# creating a tensor with evenly spaced values\n",
        "n = 10\n",
        "x = torch.arange(n)\n",
        "x"
      ],
      "metadata": {
        "id": "6i4Ja0ELAMLx",
        "outputId": "050d9a8d-dbdb-44ce-8c6a-b8f0d4014276",
        "colab": {
          "base_uri": "https://localhost:8080/"
        }
      },
      "execution_count": 6,
      "outputs": [
        {
          "output_type": "stream",
          "name": "stdout",
          "text": [
            "tensor([0, 1, 2, 3, 4, 5, 6, 7, 8, 9])\n"
          ]
        }
      ]
    },
    {
      "cell_type": "markdown",
      "source": [
        "arange creates an evenly spaced vector of values starting from 0 and ending in n (not included). The default data type for arange is 64-bit integer"
      ],
      "metadata": {
        "id": "bn92y_xkAdDq"
      }
    },
    {
      "cell_type": "code",
      "source": [
        "# creating a tensor with non-zero start and custom step value\n",
        "x = torch.arange(start=5, end=20, step=5)\n",
        "x"
      ],
      "metadata": {
        "id": "YO6Hm683Cl1-",
        "outputId": "9d04624b-f46a-4d3d-b59b-db09bf554b1f",
        "colab": {
          "base_uri": "https://localhost:8080/"
        }
      },
      "execution_count": 10,
      "outputs": [
        {
          "output_type": "execute_result",
          "data": {
            "text/plain": [
              "tensor([ 5, 10, 15])"
            ]
          },
          "metadata": {},
          "execution_count": 10
        }
      ]
    },
    {
      "cell_type": "code",
      "source": [
        "x.dtype"
      ],
      "metadata": {
        "id": "AFXSzfwWDB8x",
        "outputId": "fef539c1-1585-4776-e3cb-61dc581b1975",
        "colab": {
          "base_uri": "https://localhost:8080/"
        }
      },
      "execution_count": 11,
      "outputs": [
        {
          "output_type": "execute_result",
          "data": {
            "text/plain": [
              "torch.int64"
            ]
          },
          "metadata": {},
          "execution_count": 11
        }
      ]
    },
    {
      "cell_type": "code",
      "source": [
        "# creating tensor with float data type\n",
        "x = torch.arange(5, dtype=torch.float32)\n",
        "x.dtype"
      ],
      "metadata": {
        "id": "GCXZXLh0EeuJ",
        "outputId": "79725304-1b20-44c7-a577-06dc8d162a7c",
        "colab": {
          "base_uri": "https://localhost:8080/"
        }
      },
      "execution_count": 13,
      "outputs": [
        {
          "output_type": "execute_result",
          "data": {
            "text/plain": [
              "torch.float32"
            ]
          },
          "metadata": {},
          "execution_count": 13
        }
      ]
    },
    {
      "cell_type": "code",
      "source": [
        "# finding the number of elements\n",
        "x.numel()"
      ],
      "metadata": {
        "id": "FXMZmTLaEOmI",
        "outputId": "b5b1e6a1-07c3-4d99-ae6d-3dd715e5cfab",
        "colab": {
          "base_uri": "https://localhost:8080/"
        }
      },
      "execution_count": 14,
      "outputs": [
        {
          "output_type": "execute_result",
          "data": {
            "text/plain": [
              "5"
            ]
          },
          "metadata": {},
          "execution_count": 14
        }
      ]
    },
    {
      "cell_type": "markdown",
      "source": [
        "The dimensions of a tensor can be accessed using the shape attribute, and it can be altered to a compatible alternatives using reshape method."
      ],
      "metadata": {
        "id": "fUF3vj7NJAGP"
      }
    },
    {
      "cell_type": "code",
      "source": [
        "x.shape"
      ],
      "metadata": {
        "id": "mhGzoHSkFRyy",
        "outputId": "e72cff98-bc20-470a-9947-16e27c9d9ab2",
        "colab": {
          "base_uri": "https://localhost:8080/"
        }
      },
      "execution_count": 15,
      "outputs": [
        {
          "output_type": "execute_result",
          "data": {
            "text/plain": [
              "torch.Size([5])"
            ]
          },
          "metadata": {},
          "execution_count": 15
        }
      ]
    },
    {
      "cell_type": "code",
      "source": [
        "# changing the dimensions of a tensor\n",
        "x = torch.arange(12).reshape((3,4))\n",
        "x"
      ],
      "metadata": {
        "id": "DgCORcz2Hhgh",
        "outputId": "b2aca3cc-c41b-4e25-a02c-17d399fb04ca",
        "colab": {
          "base_uri": "https://localhost:8080/"
        }
      },
      "execution_count": 16,
      "outputs": [
        {
          "output_type": "execute_result",
          "data": {
            "text/plain": [
              "tensor([[ 0,  1,  2,  3],\n",
              "        [ 4,  5,  6,  7],\n",
              "        [ 8,  9, 10, 11]])"
            ]
          },
          "metadata": {},
          "execution_count": 16
        }
      ]
    },
    {
      "cell_type": "markdown",
      "source": [
        "For any 2D tensor, num_ele = num_rows * num_col. Hence, one of the dimensions of reshaped tensor can be implicitly calculated, given all other dimensions."
      ],
      "metadata": {
        "id": "wzCjU6fRKIQB"
      }
    },
    {
      "cell_type": "code",
      "source": [
        "# reshaping tensor using implicit dimension\n",
        "torch.arange(12).reshape((4,-1))"
      ],
      "metadata": {
        "id": "WxbmmW2sIPwU",
        "outputId": "30a8e024-38f9-43c2-f939-af5011a0b173",
        "colab": {
          "base_uri": "https://localhost:8080/"
        }
      },
      "execution_count": 18,
      "outputs": [
        {
          "output_type": "execute_result",
          "data": {
            "text/plain": [
              "tensor([[ 0,  1,  2],\n",
              "        [ 3,  4,  5],\n",
              "        [ 6,  7,  8],\n",
              "        [ 9, 10, 11]])"
            ]
          },
          "metadata": {},
          "execution_count": 18
        }
      ]
    },
    {
      "cell_type": "markdown",
      "source": [
        "While developing deep learning models, the parameters of the model are often initialized randomly. You can generate a random tensor from a standard normal distribution (mean = 0, standard deviation = 1) using torch.randn"
      ],
      "metadata": {
        "id": "BEnbiBLUOH0V"
      }
    },
    {
      "cell_type": "code",
      "source": [
        "# creating a random tensor\n",
        "x = torch.randn(3,4)\n",
        "x"
      ],
      "metadata": {
        "id": "OTUE2o6ZOoNG",
        "outputId": "4f0365b1-f6db-457d-b9d9-d356fb558abd",
        "colab": {
          "base_uri": "https://localhost:8080/"
        }
      },
      "execution_count": 25,
      "outputs": [
        {
          "output_type": "execute_result",
          "data": {
            "text/plain": [
              "tensor([[ 1.5969, -0.2940,  0.9667, -0.1470],\n",
              "        [ 0.0844, -0.7506,  1.2532, -0.6951],\n",
              "        [ 0.2990,  1.8869, -0.0500,  0.0776]])"
            ]
          },
          "metadata": {},
          "execution_count": 25
        }
      ]
    },
    {
      "cell_type": "code",
      "source": [
        "# creating tensor with zeros\n",
        "zero = torch.zeros((4,5))\n",
        "zero"
      ],
      "metadata": {
        "id": "G9NwQnkEL--_",
        "outputId": "2de96144-5c3a-4e25-cd5b-b51b75350aac",
        "colab": {
          "base_uri": "https://localhost:8080/"
        }
      },
      "execution_count": 19,
      "outputs": [
        {
          "output_type": "execute_result",
          "data": {
            "text/plain": [
              "tensor([[0., 0., 0., 0., 0.],\n",
              "        [0., 0., 0., 0., 0.],\n",
              "        [0., 0., 0., 0., 0.],\n",
              "        [0., 0., 0., 0., 0.]])"
            ]
          },
          "metadata": {},
          "execution_count": 19
        }
      ]
    },
    {
      "cell_type": "code",
      "source": [
        "# creating tensor with ones\n",
        "ones = torch.ones((2,3))\n",
        "ones"
      ],
      "metadata": {
        "id": "cVQUpLmVM2xu",
        "outputId": "aa88836c-76da-4eb6-bd16-e768049001ef",
        "colab": {
          "base_uri": "https://localhost:8080/"
        }
      },
      "execution_count": 20,
      "outputs": [
        {
          "output_type": "execute_result",
          "data": {
            "text/plain": [
              "tensor([[1., 1., 1.],\n",
              "        [1., 1., 1.]])"
            ]
          },
          "metadata": {},
          "execution_count": 20
        }
      ]
    },
    {
      "cell_type": "code",
      "source": [
        "# creating a tensor with zeros with the same shape of another tensor\n",
        "y = torch.zeros_like(ones)\n",
        "y"
      ],
      "metadata": {
        "id": "9mteSjyOM9rX",
        "outputId": "f09719b6-7cd8-4241-eaff-bb096c2943b2",
        "colab": {
          "base_uri": "https://localhost:8080/"
        }
      },
      "execution_count": 27,
      "outputs": [
        {
          "output_type": "execute_result",
          "data": {
            "text/plain": [
              "tensor([[0., 0., 0.],\n",
              "        [0., 0., 0.]])"
            ]
          },
          "metadata": {},
          "execution_count": 27
        }
      ]
    },
    {
      "cell_type": "code",
      "source": [
        "# creating a tensor from a list of values\n",
        "x = torch.tensor([[[1,2,3],\n",
        "                   [4,5,6],\n",
        "                   [7,8,9]],\n",
        "                  [[10,11,12],\n",
        "                   [13,14,15],\n",
        "                   [16,17,18]]])\n",
        "x.shape"
      ],
      "metadata": {
        "id": "fqW7v9vrRJkY",
        "outputId": "4794cadf-6b7c-4a74-af01-4a4ae5f6850f",
        "colab": {
          "base_uri": "https://localhost:8080/"
        }
      },
      "execution_count": 32,
      "outputs": [
        {
          "output_type": "execute_result",
          "data": {
            "text/plain": [
              "torch.Size([2, 3, 3])"
            ]
          },
          "metadata": {},
          "execution_count": 32
        }
      ]
    },
    {
      "cell_type": "markdown",
      "source": [
        "The shape of a tensor is read from outer to inner paratheses. In the above example, there are two brackets inside the first bracket, hence the first dimension is 2. Similarly the second and third dimensions are 3, each corresponding to 3 brackets with second and third brackets from the outer 😵. The best way to check your understanding of tensor dimensions is to access different slices of the tensor and see if are getting it right. Let's try some examples together."
      ],
      "metadata": {
        "id": "B0f3P_SySfsz"
      }
    },
    {
      "cell_type": "code",
      "source": [
        "# get the number 5 from the above tensor\n",
        "x[0,1,1]"
      ],
      "metadata": {
        "id": "upLVuLkuRRQ_",
        "outputId": "be5789e1-3852-447d-d48d-699107d71ae3",
        "colab": {
          "base_uri": "https://localhost:8080/"
        }
      },
      "execution_count": 34,
      "outputs": [
        {
          "output_type": "execute_result",
          "data": {
            "text/plain": [
              "tensor(5)"
            ]
          },
          "metadata": {},
          "execution_count": 34
        }
      ]
    },
    {
      "cell_type": "code",
      "source": [
        "# get the row [7,8,9] from the above tensor\n",
        "x[0,2,:]"
      ],
      "metadata": {
        "id": "kjyFXfF6VUld",
        "outputId": "13daefa0-5fda-4000-dab6-8dc622842a81",
        "colab": {
          "base_uri": "https://localhost:8080/"
        }
      },
      "execution_count": 35,
      "outputs": [
        {
          "output_type": "execute_result",
          "data": {
            "text/plain": [
              "tensor([7, 8, 9])"
            ]
          },
          "metadata": {},
          "execution_count": 35
        }
      ]
    },
    {
      "cell_type": "code",
      "source": [
        "# get the row [13,14,15] from the above tensor\n",
        "x[1,1,:]"
      ],
      "metadata": {
        "id": "FUZxQh68VifJ",
        "outputId": "69882b26-bb83-42b4-e968-ca26f7bcba6a",
        "colab": {
          "base_uri": "https://localhost:8080/"
        }
      },
      "execution_count": 36,
      "outputs": [
        {
          "output_type": "execute_result",
          "data": {
            "text/plain": [
              "tensor([13, 14, 15])"
            ]
          },
          "metadata": {},
          "execution_count": 36
        }
      ]
    }
  ],
  "metadata": {
    "language_info": {
      "name": "python"
    },
    "colab": {
      "provenance": [],
      "include_colab_link": true
    },
    "kernelspec": {
      "name": "python3",
      "display_name": "Python 3"
    }
  },
  "nbformat": 4,
  "nbformat_minor": 0
}