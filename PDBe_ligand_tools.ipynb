{
  "nbformat": 4,
  "nbformat_minor": 0,
  "metadata": {
    "colab": {
      "provenance": [],
      "include_colab_link": true
    },
    "kernelspec": {
      "name": "python3",
      "display_name": "Python 3"
    },
    "language_info": {
      "name": "python"
    }
  },
  "cells": [
    {
      "cell_type": "markdown",
      "metadata": {
        "id": "view-in-github",
        "colab_type": "text"
      },
      "source": [
        "<a href=\"https://colab.research.google.com/github/roshkjr/DeepLearning/blob/main/PDBe_ligand_tools.ipynb\" target=\"_parent\"><img src=\"https://colab.research.google.com/assets/colab-badge.svg\" alt=\"Open In Colab\"/></a>"
      ]
    },
    {
      "cell_type": "markdown",
      "metadata": {
        "id": "D4K6GJSsp2mv"
      },
      "source": [
        "![](https://www.ebi.ac.uk/pdbe/sites/default/files/2019-04/PDBe-letterhead-charcoal-RGB_2013.png)\n",
        "\n",
        "# PDBe tools for ligand analysis and visualisation\n",
        "## Introduction\n",
        "Welcome to this Google Colab notebook, showcasing specialized tools developed by the Protein Data Bank in Europe (PDBe) to analyse small-molecules in PDB. We will explore:\n",
        "\n",
        "1.   **[PDBe CCDUtils](https://github.com/PDBeurope/ccdutils)**: A small-molecule toolkit for accessing and enriching ligand data\n",
        "\n",
        "2.   **[PDBe Arpeggio](https://github.com/PDBeurope/arpeggio)**: Analysing interactions between ligands and macromolecules\n",
        "3.   **[PDBe RelLig](https://github.com/PDBeurope/rellig)**: Identifying the functional roles of ligands, such as reactants, cofactors, and drugs"
      ]
    },
    {
      "cell_type": "markdown",
      "metadata": {
        "id": "FmIv9NCAtHz1"
      },
      "source": [
        "  ## Instructions <a name=\"Instructions\"></a>\n",
        "\n",
        "* Quick Start <a name=\"Quick Start\"></a>\n",
        "\n",
        "In order to make the learning experience more accessible and interactive, we have incorporated widgets that allow you to provide inputs and customize certain aspects of the code. These widgets serve as interactive elements that enhance your ability to interact with the code and observe the impact of different inputs on the results. Throughout this tutorial, you will come across code chunks that include these interactive widgets.\n",
        "\n",
        "  * How to use Google Colab <a name=\"Google Colab\"></a>\n",
        "1. To run a code cell, click on the cell to select it. You will notice a play button (▶) on the left side of the cell. Click on the play button or press Shift+Enter to run the code in the selected cell.\n",
        "2. The code will start executing, and you will see the output, if any, displayed below the code cell.\n",
        "3. Move to the next code cell and repeat steps 2 and 3 until you have executed all the desired code cells in sequence.\n",
        "4. The currently running step is indicated by a circle with a stop sign next to it.\n",
        "If you need to stop or interrupt the execution of a code cell, you can click on the stop button (■) located next to the play button.\n",
        "\n",
        "*Remember to run the code cells in the correct order, as their execution might depend on variables or functions defined in previous cells. You can modify the code in a code cell and re-run it to see updated results.*\n",
        "\n",
        "## Contact us\n",
        "\n",
        "Requests for clarifications or reporting bugs can be made via pdbehelp@ebi.ac.uk."
      ]
    },
    {
      "cell_type": "markdown",
      "metadata": {
        "id": "9LKPtm5gr2Fu"
      },
      "source": [
        "#&nbsp; 1.  PDBe CCDUtils\n",
        "## Introduction\n",
        "PDBe CCDUtils is an open-source python package for processing and analyzing small molecules in the PDB. Small-molecule data in the PDB is available as [Chemical Component Dictionary (CCD)](http://www.wwpdb.org/data/ccd) or [Biologically Interesting Molecule reference Dictioanry (BIRD)](http://www.wwpdb.org/data/bird) in PDBX/mmCIF format. PDBe CCDUtils provides streamlined access to all metadata of small molecules in the PDB and offers a set of convenient methods to compute various properties using RDKIt such as\n",
        "\n",
        "* [Physicochemical properties](#accessing-properties-of-CCD)\n",
        "* [Matching common fragments and scaffolds](#finding-fragments-and-scaffolds)\n",
        "* [Mapping to small-molecule databases using UniChem](#fetching-external-mappings-to-other-databases)\n",
        "* [2D depictions](#2D-Depictions)\n",
        "* [Similarity using PARITY method](#similarity-using-parity-method)\n",
        "* [Export to multiple formats](#export-to-different-formats)\n",
        "\n",
        "\n",
        "PDBe CCDUtils also provides methods for identifying all the Covalently Linked Chemical components (CLC) in a macromolecular structure. To findout more, please refer to the publication [PDBe CCDUtils: an RDKit-based toolkit for handling and analysing small molecules in the Protein Data Bank](https://doi.org/10.1186/s13321-023-00786-w)"
      ]
    },
    {
      "cell_type": "markdown",
      "metadata": {
        "id": "v2TarOvbsmVj"
      },
      "source": [
        "## Install dependencies"
      ]
    },
    {
      "cell_type": "code",
      "execution_count": 94,
      "metadata": {
        "colab": {
          "base_uri": "https://localhost:8080/"
        },
        "id": "RZIHS507sqDq",
        "outputId": "ea15bdb5-0664-490d-837c-5794bccb1cef"
      },
      "outputs": [
        {
          "output_type": "stream",
          "name": "stdout",
          "text": [
            "Requirement already satisfied: rdkit in /usr/local/lib/python3.10/dist-packages (2024.3.5)\n",
            "Requirement already satisfied: pdbeccdutils in /usr/local/lib/python3.10/dist-packages (0.8.5)\n",
            "Requirement already satisfied: wget in /usr/local/lib/python3.10/dist-packages (3.2)\n",
            "Requirement already satisfied: numpy in /usr/local/lib/python3.10/dist-packages (from rdkit) (1.26.4)\n",
            "Requirement already satisfied: Pillow in /usr/local/lib/python3.10/dist-packages (from rdkit) (10.4.0)\n",
            "Requirement already satisfied: scipy in /usr/local/lib/python3.10/dist-packages (from pdbeccdutils) (1.13.1)\n",
            "Requirement already satisfied: requests in /usr/local/lib/python3.10/dist-packages (from pdbeccdutils) (2.32.3)\n",
            "Requirement already satisfied: gemmi in /usr/local/lib/python3.10/dist-packages (from pdbeccdutils) (0.6.7)\n",
            "Requirement already satisfied: networkx in /usr/local/lib/python3.10/dist-packages (from pdbeccdutils) (3.4.2)\n",
            "Requirement already satisfied: charset-normalizer<4,>=2 in /usr/local/lib/python3.10/dist-packages (from requests->pdbeccdutils) (3.4.0)\n",
            "Requirement already satisfied: idna<4,>=2.5 in /usr/local/lib/python3.10/dist-packages (from requests->pdbeccdutils) (3.10)\n",
            "Requirement already satisfied: urllib3<3,>=1.21.1 in /usr/local/lib/python3.10/dist-packages (from requests->pdbeccdutils) (2.2.3)\n",
            "Requirement already satisfied: certifi>=2017.4.17 in /usr/local/lib/python3.10/dist-packages (from requests->pdbeccdutils) (2024.8.30)\n"
          ]
        }
      ],
      "source": [
        "%pip install rdkit pdbeccdutils wget"
      ]
    },
    {
      "cell_type": "markdown",
      "metadata": {
        "id": "JZbtb1_cr_GH"
      },
      "source": [
        "## Helper functions"
      ]
    },
    {
      "cell_type": "code",
      "execution_count": 2,
      "metadata": {
        "id": "8-lUsb_4r_GH"
      },
      "outputs": [],
      "source": [
        "import os\n",
        "import gzip\n",
        "import requests\n",
        "from enum import Enum\n",
        "from typing import NamedTuple\n",
        "import pandas as pd\n",
        "from collections import defaultdict\n",
        "from typing import List, Set, Dict\n",
        "from gemmi import cif\n",
        "from pdbeccdutils.core.component import Component"
      ]
    },
    {
      "cell_type": "code",
      "execution_count": 3,
      "metadata": {
        "id": "RbWhEiWwr_GH"
      },
      "outputs": [],
      "source": [
        "BASE_URL = \"https://ftp.ebi.ac.uk/pub/databases/msd\"\n",
        "PDBECHEM_URL = f\"{BASE_URL}/pdbechem_v2\"\n",
        "ENTRY_URL = f\"{BASE_URL}/updated_mmcif/all\"\n",
        "ASSEMBLY_URL = f\"{BASE_URL}/assemblies/all\"\n",
        "\n",
        "class ligandType(Enum):\n",
        "    CCD = \"ccd\"\n",
        "    PRD = \"prd\"\n",
        "    CLC = \"clc\"\n",
        "\n",
        "class Subcomponent(NamedTuple):\n",
        "    id: int\n",
        "    name: str\n",
        "    atoms: list[str]\n",
        "\n",
        "\n",
        "def get_ligand_cif(ligand_id: str, ligand_type: ligandType) -> str:\n",
        "    \"\"\"\n",
        "    Downloads and writes ligand CIF from PDBe FTP to a file\n",
        "    and returns the path\n",
        "\n",
        "    Args:\n",
        "        ligand_id: ID of the ligand\n",
        "        ligand_type: Type of ligand\n",
        "\n",
        "    Returns:\n",
        "        The path to cif file of ligand\n",
        "    \"\"\"\n",
        "    match ligand_type.value:\n",
        "        case \"ccd\":\n",
        "            ligand_dir = os.path.join(\"ccd\", ligand_id[0], ligand_id)\n",
        "        case \"prd\":\n",
        "            ligand_dir = os.path.join(\"prd\", ligand_id[-1],ligand_id)\n",
        "        case \"clc\":\n",
        "            ligand_dir = os.path.join(\"clc\", ligand_id[-1],ligand_id)\n",
        "    try:\n",
        "        ligand_cif_path = os.path.join(PDBECHEM_URL, ligand_dir, f\"{ligand_id}.cif\")\n",
        "        response = requests.get(ligand_cif_path)\n",
        "        assert response.status_code == 200\n",
        "        ligand_cif_file = os.path.join(os.getcwd(), f\"{ligand_id}.cif\")\n",
        "        with open(ligand_cif_file, \"wb\") as fh:\n",
        "            fh.write(response.content)\n",
        "\n",
        "        return ligand_cif_file\n",
        "    except  AssertionError:\n",
        "        print(f\"Couldn't find the file. Check if {ligand_id} & {ligand_type} are valid, if so try again\")\n",
        "\n",
        "\n",
        "def get_entry_cif(pdb_id: str) -> str:\n",
        "    \"\"\"\n",
        "    Downloads and writes PDB entry updated mmCIF to a file and\n",
        "    returns the path\n",
        "\n",
        "    Args:\n",
        "        pdb_id: PDB id of an entry\n",
        "\n",
        "    Returns:\n",
        "        path to the downloaded cif file\n",
        "    \"\"\"\n",
        "    entry_url = os.path.join(ENTRY_URL, f\"{pdb_id}_updated.cif.gz\")\n",
        "    response = requests.get(entry_url, stream=True)\n",
        "    response.raise_for_status()\n",
        "    with open(f\"{pdb_id}_updated.cif\", \"wb\") as fh:\n",
        "        fh.write(gzip.decompress(response.content))\n",
        "\n",
        "    return f\"{pdb_id}_updated.cif\"\n",
        "\n",
        "def get_subcomponents(component: Component) -> List[Subcomponent]:\n",
        "    \"\"\"\n",
        "    Returns a list of subcomponents present in a\n",
        "    multi-component ligand\n",
        "\n",
        "    Args:\n",
        "        component: Component object of small molecule\n",
        "    \"\"\"\n",
        "    mol = component.mol_no_h\n",
        "    atoms = defaultdict(list)\n",
        "    for atom in mol.GetAtoms():\n",
        "        if not atom.HasProp(\"residue_id\"):\n",
        "            continue\n",
        "        else:\n",
        "            res_id = atom.GetProp(\"residue_id\")\n",
        "            res_info = atom.GetPDBResidueInfo()\n",
        "            res_name = res_info.GetResidueName()\n",
        "            atoms[(res_id, res_name)].append(atom.GetProp(\"name\"))\n",
        "\n",
        "    subcomponents = [Subcomponent(id=key[0],\n",
        "                                  name = key[1],\n",
        "                                  atoms = values,\n",
        "                                ) for key, values in atoms.items()]\n",
        "    return subcomponents\n"
      ]
    },
    {
      "cell_type": "markdown",
      "metadata": {
        "id": "cI84zBz7r_GJ"
      },
      "source": [
        "##&nbsp; 1.1  Reading small molecule data"
      ]
    },
    {
      "cell_type": "code",
      "execution_count": null,
      "metadata": {
        "id": "_ToEPsKEr_GJ"
      },
      "outputs": [],
      "source": [
        "from pdbeccdutils.core import ccd_reader"
      ]
    },
    {
      "cell_type": "code",
      "execution_count": null,
      "metadata": {
        "colab": {
          "base_uri": "https://localhost:8080/"
        },
        "id": "yf7w9isVr_GK",
        "outputId": "3f822425-521c-4c74-9c42-7cdcbe3a0108"
      },
      "outputs": [
        {
          "data": {
            "text/plain": [
              "CCDReaderResult(warnings=[], errors=[], component=<pdbeccdutils.core.component.Component object at 0x7b9661fb5d20>, sanitized=True)"
            ]
          },
          "execution_count": 17,
          "metadata": {},
          "output_type": "execute_result"
        }
      ],
      "source": [
        "hem_cif = get_ligand_cif(\"HEM\", ligandType.CCD)\n",
        "hem =  ccd_reader.read_pdb_cif_file(hem_cif)\n",
        "hem"
      ]
    },
    {
      "cell_type": "markdown",
      "metadata": {
        "id": "QUmSJtE4r_GL"
      },
      "source": [
        "CCDReaderResult contains a component object - the core structural representation of small-molecules in PDBe CCDUtils. Component is a wrapper around rdkit.Chem.rdchem.Mol object providing most of its functionality and access metada data from CCD file."
      ]
    },
    {
      "cell_type": "code",
      "execution_count": null,
      "metadata": {
        "id": "PDsjaTkOr_GL"
      },
      "outputs": [],
      "source": [
        "hem_component = hem.component"
      ]
    },
    {
      "cell_type": "markdown",
      "metadata": {
        "id": "QN6fPdSgr_GL"
      },
      "source": [
        "##&nbsp; 1.2 Accessing properties of CCD"
      ]
    },
    {
      "cell_type": "markdown",
      "metadata": {
        "id": "3rJ4YGyNr_GL"
      },
      "source": [
        "Properties in the CCD file and physicochemical properties generated by RDKit can be accessed using attributes of the Component object"
      ]
    },
    {
      "cell_type": "code",
      "execution_count": null,
      "metadata": {
        "colab": {
          "base_uri": "https://localhost:8080/"
        },
        "id": "E_AJcHu8r_GL",
        "outputId": "d4e25400-aa7e-4445-ad66-97df9c879932"
      },
      "outputs": [
        {
          "name": "stdout",
          "output_type": "stream",
          "text": [
            "\n",
            "id: HEM\n",
            "name: PROTOPORPHYRIN IX CONTAINING FE\n",
            "formula: C34 H32 Fe N4 O4\n",
            "inchi: InChI=1S/C34H34N4O4.Fe/c1-7-21-17(3)25-13-26-19(5)23(9-11-33(39)40)31(37-26)16-32-24(10-12-34(41)42)20(6)28(38-32)15-30-22(8-2)18(4)27(36-30)14-29(21)35-25;/h7-8,13-16H,1-2,9-12H2,3-6H3,(H4,35,36,37,38,39,40,41,42);/q;+2/p-2/b25-13-,26-13-,27-14-,28-15-,29-14-,30-15-,31-16-,32-16-;\n",
            "inchikey: KABFMIBPWCXCRK-RGGAHWMASA-L\n",
            "release status: REL\n",
            "modified_date: 2024-09-27\n",
            "\n"
          ]
        }
      ],
      "source": [
        "print(f\"\"\"\n",
        "id: {hem_component.id}\n",
        "name: {hem_component.name}\n",
        "formula: {hem_component.formula}\n",
        "inchi: {hem_component.inchi}\n",
        "inchikey: {hem_component.inchikey}\n",
        "release status: {hem_component.pdbx_release_status.name}\n",
        "modified_date: {hem_component.modified_date}\n",
        "\"\"\")"
      ]
    },
    {
      "cell_type": "code",
      "execution_count": null,
      "metadata": {
        "colab": {
          "base_uri": "https://localhost:8080/"
        },
        "id": "n82cytJ5r_GM",
        "outputId": "e811b036-75c9-4913-c0b1-b983c11fb89b"
      },
      "outputs": [
        {
          "data": {
            "text/plain": [
              "[Descriptor(type='SMILES', program='ACDLabs', program_version='12.01', value='C=1c3c(c(c4C=C5C(=C(C=6C=C7C(=C(C8=CC=2C(=C(C=1N=2[Fe](n34)(N5=6)N78)CCC(=O)O)C)\\\\C=C)C)\\\\C=C)C)C)CCC(=O)O'),\n",
              " Descriptor(type='InChI', program='InChI', program_version='1.03', value='InChI=1S/C34H34N4O4.Fe/c1-7-21-17(3)25-13-26-19(5)23(9-11-33(39)40)31(37-26)16-32-24(10-12-34(41)42)20(6)28(38-32)15-30-22(8-2)18(4)27(36-30)14-29(21)35-25;/h7-8,13-16H,1-2,9-12H2,3-6H3,(H4,35,36,37,38,39,40,41,42);/q;+2/p-2/b25-13-,26-13-,27-14-,28-15-,29-14-,30-15-,31-16-,32-16-;'),\n",
              " Descriptor(type='InChIKey', program='InChI', program_version='1.03', value='KABFMIBPWCXCRK-RGGAHWMASA-L'),\n",
              " Descriptor(type='SMILES_CANONICAL', program='CACTVS', program_version='3.385', value='CC1=C(CCC(O)=O)C2=Cc3n4[Fe]5|6|N2=C1C=c7n5c(=CC8=N|6C(=Cc4c(C)c3CCC(O)=O)C(=C8C=C)C)c(C)c7C=C'),\n",
              " Descriptor(type='SMILES', program='CACTVS', program_version='3.385', value='CC1=C(CCC(O)=O)C2=Cc3n4[Fe]5|6|N2=C1C=c7n5c(=CC8=N|6C(=Cc4c(C)c3CCC(O)=O)C(=C8C=C)C)c(C)c7C=C'),\n",
              " Descriptor(type='SMILES_CANONICAL', program='OpenEye OEToolkits', program_version='1.7.6', value='Cc1c2n3c(c1CCC(=O)O)C=C4C(=C(C5=[N]4[Fe]36[N]7=C(C=C8N6C(=C5)C(=C8C)C=C)C(=C(C7=C2)C)C=C)C)CCC(=O)O'),\n",
              " Descriptor(type='SMILES', program='OpenEye OEToolkits', program_version='1.7.6', value='Cc1c2n3c(c1CCC(=O)O)C=C4C(=C(C5=[N]4[Fe]36[N]7=C(C=C8N6C(=C5)C(=C8C)C=C)C(=C(C7=C2)C)C=C)C)CCC(=O)O'),\n",
              " Descriptor(type='SYSTEMATIC NAME', program='OpenEye OEToolkits', program_version='1.6.1', value='3-[(5Z,10Z,14Z,19Z)-18-(2-carboxyethyl)-8,13-bis(ethenyl)-3,7,12,17-tetramethyl-21,23-dihydroporphyrin-2-yl]propanoic acid'),\n",
              " Descriptor(type='SYSTEMATIC NAME', program='ACDLabs', program_version='12.01', value=\"[3,3'-(7,12-diethenyl-3,8,13,17-tetramethylporphyrin-2,18-diyl-kappa~4~N~21~,N~22~,N~23~,N~24~)dipropanoato(2-)]iron\")]"
            ]
          },
          "execution_count": 48,
          "metadata": {},
          "output_type": "execute_result"
        }
      ],
      "source": [
        "hem_component.descriptors"
      ]
    },
    {
      "cell_type": "code",
      "execution_count": null,
      "metadata": {
        "colab": {
          "base_uri": "https://localhost:8080/"
        },
        "id": "ZmzwfuA4r_GM",
        "outputId": "1cc9408d-430c-41aa-8ff8-432b1a81ac38"
      },
      "outputs": [
        {
          "data": {
            "text/plain": [
              "{'exactmw': 616.177293004001,\n",
              " 'amw': 616.4990000000015,\n",
              " 'lipinskiHBA': 8.0,\n",
              " 'lipinskiHBD': 2.0,\n",
              " 'NumRotatableBonds': 12.0,\n",
              " 'NumHBD': 2.0,\n",
              " 'NumHBA': 8.0,\n",
              " 'NumHeavyAtoms': 43.0,\n",
              " 'NumAtoms': 75.0,\n",
              " 'NumHeteroatoms': 9.0,\n",
              " 'NumAmideBonds': 0.0,\n",
              " 'FractionCSP3': 0.23529411764705882,\n",
              " 'NumRings': 6.0,\n",
              " 'NumAromaticRings': 2.0,\n",
              " 'NumAliphaticRings': 4.0,\n",
              " 'NumSaturatedRings': 0.0,\n",
              " 'NumHeterocycles': 6.0,\n",
              " 'NumAromaticHeterocycles': 2.0,\n",
              " 'NumSaturatedHeterocycles': 0.0,\n",
              " 'NumAliphaticHeterocycles': 4.0,\n",
              " 'NumSpiroAtoms': 0.0,\n",
              " 'NumBridgeheadAtoms': 6.0,\n",
              " 'NumAtomStereoCenters': 1.0,\n",
              " 'NumUnspecifiedAtomStereoCenters': 0.0,\n",
              " 'labuteASA': 296.33725284003606,\n",
              " 'tpsa': 96.26000000000002,\n",
              " 'CrippenClogP': 6.210060000000007,\n",
              " 'CrippenMR': 165.27259999999967,\n",
              " 'chi0v': 21.879585517566603,\n",
              " 'chi1v': 13.71303192500862,\n",
              " 'chi2v': 11.67144422171997,\n",
              " 'chi3v': 11.67144422171997,\n",
              " 'chi4v': 10.931337280412357,\n",
              " 'chi0n': 52.775400934448555,\n",
              " 'chi1n': 27.554303075888956,\n",
              " 'chi2n': 7.046175792189254,\n",
              " 'chi3n': 7.046175792189254,\n",
              " 'chi4n': 5.474853708651833,\n",
              " 'hallKierAlpha': -4.460519480519479,\n",
              " 'kappa1': 9.033095446276976,\n",
              " 'kappa2': 8.336182650117628,\n",
              " 'kappa3': 2.8255702357007864,\n",
              " 'Phi': 1.7511984543281554}"
            ]
          },
          "execution_count": 49,
          "metadata": {},
          "output_type": "execute_result"
        }
      ],
      "source": [
        "hem_component.physchem_properties"
      ]
    },
    {
      "cell_type": "markdown",
      "metadata": {
        "id": "cqGxZfgCr_GM"
      },
      "source": [
        "##&nbsp; 1.3 Fetching external mappings to other databases"
      ]
    },
    {
      "cell_type": "code",
      "execution_count": null,
      "metadata": {
        "colab": {
          "base_uri": "https://localhost:8080/"
        },
        "id": "qmn93mUvr_GM",
        "outputId": "e5593014-e116-4a25-a128-3cd9c9b43b47"
      },
      "outputs": [
        {
          "data": {
            "text/plain": [
              "[('DrugBank', 'DB18267'),\n",
              " ('PDBe', 'HEM'),\n",
              " ('BRENDA', '135197'),\n",
              " ('MedChemExpress', 'HY-111914A'),\n",
              " ('BRENDA', '228486'),\n",
              " ('BRENDA', '228485'),\n",
              " ('BRENDA', '48'),\n",
              " ('BRENDA', '8254'),\n",
              " ('BRENDA', '143348'),\n",
              " ('BRENDA', '822'),\n",
              " ('BRENDA', '211503'),\n",
              " ('EPA CompTox Dashboard', 'DTXSID90889386'),\n",
              " ('HMDB', 'HMDB0003178'),\n",
              " ('MetaboLights', 'MTBLC26355'),\n",
              " ('BRENDA', '3360'),\n",
              " ('MetaboLights', 'MTBLC17627'),\n",
              " ('BRENDA', '30062'),\n",
              " ('BRENDA', '144129'),\n",
              " ('BRENDA', '1517'),\n",
              " ('SureChEMBL', 'SCHEMBL4008'),\n",
              " ('PubChem TPHARMA', '14912106'),\n",
              " ('fdasrs', '42VZT0U6YR'),\n",
              " ('ChEBI', '26355'),\n",
              " ('Probes And Drugs', 'PD158908'),\n",
              " ('ChEBI', '17627')]"
            ]
          },
          "execution_count": 50,
          "metadata": {},
          "output_type": "execute_result"
        }
      ],
      "source": [
        "external_mappings = hem_component.fetch_external_mappings(all_mappings=True)\n",
        "external_mappings"
      ]
    },
    {
      "cell_type": "markdown",
      "metadata": {
        "id": "HeCtfsQkr_GN"
      },
      "source": [
        "##&nbsp; 1.4 Finding fragments"
      ]
    },
    {
      "cell_type": "markdown",
      "metadata": {
        "id": "6TfMwjqdr_GN"
      },
      "source": [
        "PDBe CCDUtils supports search for fragments present in a small molecule from a library of fragments. The fragment library present in PDBe CCDUtils contains 2158 fragments which were manually currated at PDBe and collaborating resources (ENAMINE, DSI). Should you wish to check all the fragments, please check [fragment_library.tsv](https://github.com/PDBeurope/ccdutils/blob/master/pdbeccdutils/data/fragment_library.tsv) file."
      ]
    },
    {
      "cell_type": "code",
      "execution_count": null,
      "metadata": {
        "id": "OxSwep0Qr_GN"
      },
      "outputs": [],
      "source": [
        "from pdbeccdutils.core.fragment_library import FragmentLibrary\n",
        "from rdkit.Chem import Draw"
      ]
    },
    {
      "cell_type": "code",
      "execution_count": null,
      "metadata": {
        "id": "Hj1YszD3r_GN"
      },
      "outputs": [],
      "source": [
        "fragment_library = FragmentLibrary()"
      ]
    },
    {
      "cell_type": "code",
      "execution_count": null,
      "metadata": {
        "colab": {
          "base_uri": "https://localhost:8080/"
        },
        "id": "UQKn2ludr_GN",
        "outputId": "ec4e54b8-cea2-486f-aca5-574a1ffbd81b"
      },
      "outputs": [
        {
          "name": "stdout",
          "output_type": "stream",
          "text": [
            "No of fragments found: 0\n"
          ]
        }
      ],
      "source": [
        "fragment_matches = hem_component.library_search(fragment_library)\n",
        "print(f\"No of fragments found: {len(fragment_matches)}\")"
      ]
    },
    {
      "cell_type": "code",
      "execution_count": null,
      "metadata": {
        "colab": {
          "base_uri": "https://localhost:8080/"
        },
        "id": "YCSbSRwDr_GN",
        "outputId": "e1f876f6-7a1c-422d-8e41-2f8e50d7f2dc"
      },
      "outputs": [
        {
          "data": {
            "text/plain": [
              "[]"
            ]
          },
          "execution_count": 54,
          "metadata": {},
          "output_type": "execute_result"
        }
      ],
      "source": [
        "fragment_matches"
      ]
    },
    {
      "cell_type": "code",
      "execution_count": null,
      "metadata": {
        "colab": {
          "base_uri": "https://localhost:8080/"
        },
        "id": "O6wODyPor_GN",
        "outputId": "a0d14c5f-895f-4e30-d925-b5117266fd97"
      },
      "outputs": [
        {
          "data": {
            "image/png": "[encoded data removed]",
            "text/plain": [
              "<IPython.core.display.Image object>"
            ]
          },
          "execution_count": 55,
          "metadata": {},
          "output_type": "execute_result"
        }
      ],
      "source": [
        "fragment_mols = [fragment.mol for fragment in hem_component.fragments]\n",
        "img = Draw.MolsToGridImage(fragment_mols, legends = [fragment.name for fragment in hem_component.fragments])\n",
        "img"
      ]
    },
    {
      "cell_type": "markdown",
      "metadata": {
        "id": "HEN92ItWr_GN"
      },
      "source": [
        "##&nbsp; 1.5 Finding scaffolds"
      ]
    },
    {
      "cell_type": "markdown",
      "metadata": {
        "id": "l__p9JiKr_GN"
      },
      "source": [
        "PDBe CCDUtils supports identification of scaffolds of small moelcules in PDB using the RDKit functionality. Currently it supports three types of scaffolding methods\n",
        "* MurckoScaffold\n",
        "* MurckoScaffoldGeneric\n",
        "* BRICS"
      ]
    },
    {
      "cell_type": "code",
      "execution_count": null,
      "metadata": {
        "id": "ZbiWfqhUr_GN"
      },
      "outputs": [],
      "source": [
        "from pdbeccdutils.core.models import ScaffoldingMethod"
      ]
    },
    {
      "cell_type": "code",
      "execution_count": null,
      "metadata": {
        "id": "Bl_cvN3Fr_GN"
      },
      "outputs": [],
      "source": [
        "murcko_scaffolds = hem_component.get_scaffolds(scaffolding_method = ScaffoldingMethod.MurckoScaffold)\n",
        "generic_murcko_scaffolds = hem_component.get_scaffolds(scaffolding_method = ScaffoldingMethod.MurckoGeneric)\n",
        "brics_scaffolds = hem_component.get_scaffolds(scaffolding_method=ScaffoldingMethod.Brics)"
      ]
    },
    {
      "cell_type": "code",
      "execution_count": null,
      "metadata": {
        "colab": {
          "base_uri": "https://localhost:8080/",
          "height": 167
        },
        "id": "BR5ea72Er_GN",
        "outputId": "a5636bba-486a-4c90-ab22-23c50b342615"
      },
      "outputs": [
        {
          "data": {
            "image/png": "[encoded data removed]",
            "text/plain": [
              "<rdkit.Chem.rdchem.Mol at 0x7b9660955690>"
            ]
          },
          "execution_count": 58,
          "metadata": {},
          "output_type": "execute_result"
        }
      ],
      "source": [
        "murcko_scaffolds[0]"
      ]
    },
    {
      "cell_type": "markdown",
      "metadata": {
        "id": "oF9tqWSar_GO"
      },
      "source": [
        "##&nbsp; 1.6 2D Depictions"
      ]
    },
    {
      "cell_type": "markdown",
      "metadata": {
        "id": "IfHkVXzEr_GO"
      },
      "source": [
        "PDBe CCDUtils uses [template-based](https://rdkit.org/docs/source/rdkit.Chem.rdDepictor.html#rdkit.Chem.rdDepictor.GenerateDepictionMatching2DStructure) and [connectivity based](https://rdkit.org/docs/source/rdkit.Chem.rdCoordGen.html) methods from RDKit to generate 2D depictions of small moelcules. Templates can either be downloaded from PubChem or provided as a path to a folder containing SDF files. A hand-curated set of [ten templates](https://github.com/PDBeurope/ccdutils/tree/master/pdbeccdutils/data/general_templates) are also provided with PDBe CCDUtils\n",
        "\n",
        "To find the best depiction of a small molecule, a heuristic-based Depiction Penalty Score (DPS) is defined. A DPS of zero indicates a high-quality 2D depiction, while higher scores indicate lower quality."
      ]
    },
    {
      "cell_type": "code",
      "execution_count": null,
      "metadata": {
        "colab": {
          "base_uri": "https://localhost:8080/"
        },
        "id": "KlXgHxLWr_GO",
        "outputId": "9d3014fc-5bf0-42f0-c40b-1bc126deb22c"
      },
      "outputs": [
        {
          "data": {
            "image/png": "[encoded data removed]",
            "text/plain": [
              "<rdkit.Chem.rdchem.Mol at 0x7b9660a4dcb0>"
            ]
          },
          "execution_count": 59,
          "metadata": {},
          "output_type": "execute_result"
        }
      ],
      "source": [
        "hem_component.mol"
      ]
    },
    {
      "cell_type": "code",
      "execution_count": null,
      "metadata": {
        "id": "xWZjIYvBr_GO"
      },
      "outputs": [],
      "source": [
        "from pdbeccdutils.core.depictions import DepictionManager\n",
        "from pdbeccdutils.utils.pubchem_downloader import PubChemDownloader\n",
        "from IPython.core.display import SVG"
      ]
    },
    {
      "cell_type": "code",
      "execution_count": null,
      "metadata": {
        "id": "O1WtVX1tr_GO"
      },
      "outputs": [],
      "source": [
        "pubchem_templates = os.getcwd()\n",
        "pubchem_downloader = PubChemDownloader(pubchem_templates)"
      ]
    },
    {
      "cell_type": "code",
      "execution_count": null,
      "metadata": {
        "colab": {
          "base_uri": "https://localhost:8080/"
        },
        "id": "DswwylfTr_GO",
        "outputId": "db5da1d9-4534-421d-935e-743b349cd817"
      },
      "outputs": [
        {
          "name": "stderr",
          "output_type": "stream",
          "text": [
            "[20:25:38] unrecognized bond type[20:25:38] unrecognized bond type[20:35:13] Warning: molecule is tagged as 2D, but at least one Z coordinate is not zero. Marking the mol as 3D.\n"
          ]
        },
        {
          "data": {
            "text/plain": [
              "DepictionResult(source=<DepictionSource.Template: 2>, template_name='hem', mol=<rdkit.Chem.rdchem.RWMol object at 0x7b96607e04f0>, score=0.0)"
            ]
          },
          "execution_count": 62,
          "metadata": {},
          "output_type": "execute_result"
        }
      ],
      "source": [
        "pubchem_downloader.process_template(hem_component)\n",
        "depictions = DepictionManager(pubchem_templates)\n",
        "depiction_result = hem_component.compute_2d(depictions)\n",
        "depiction_result"
      ]
    },
    {
      "cell_type": "code",
      "execution_count": null,
      "metadata": {
        "colab": {
          "base_uri": "https://localhost:8080/"
        },
        "id": "Iyj-d9upr_GO",
        "outputId": "78c21660-a606-43a8-beb0-ade853eedd6b"
      },
      "outputs": [
        {
          "data": {
            "image/png": "[encoded data removed]",
            "text/plain": [
              "<rdkit.Chem.rdchem.RWMol at 0x7b96607e04f0>"
            ]
          },
          "execution_count": 63,
          "metadata": {},
          "output_type": "execute_result"
        }
      ],
      "source": [
        "hem_component.mol2D"
      ]
    },
    {
      "cell_type": "code",
      "execution_count": null,
      "metadata": {
        "id": "mg_3knBhr_GR"
      },
      "outputs": [],
      "source": [
        "hem_component.export_2d_svg(\"hem.svg\", width=400)"
      ]
    },
    {
      "cell_type": "code",
      "execution_count": null,
      "metadata": {
        "colab": {
          "base_uri": "https://localhost:8080/"
        },
        "id": "Vul-cY_gr_GR",
        "outputId": "f7fc7b54-4675-477c-9589-0e786c83f751"
      },
      "outputs": [
        {
          "data": {
            "image/svg+xml": "<svg xmlns=\"http://www.w3.org/2000/svg\" xmlns:rdkit=\"http://www.rdkit.org/xml\" xmlns:xlink=\"http://www.w3.org/1999/xlink\" version=\"1.1\" baseProfile=\"full\" xml:space=\"preserve\" width=\"400px\" height=\"400px\" viewBox=\"0 0 400 400\">\n<!-- END OF HEADER -->\n<rect style=\"opacity:1.0;fill:#FFFFFF;stroke:none\" width=\"400.0\" height=\"400.0\" x=\"0.0\" y=\"0.0\"> </rect>\n<path class=\"bond-0 atom-0 atom-4\" d=\"M 133.3,200.2 L 152.0,168.3\" style=\"fill:none;fill-rule:evenodd;stroke:#000000;stroke-width:2.0px;stroke-linecap:butt;stroke-linejoin:miter;stroke-opacity:1\"/>\n<path class=\"bond-1 atom-0 atom-31\" d=\"M 133.3,200.2 L 152.0,232.1\" style=\"fill:none;fill-rule:evenodd;stroke:#000000;stroke-width:2.0px;stroke-linecap:butt;stroke-linejoin:miter;stroke-opacity:1\"/>\n<path class=\"bond-1 atom-0 atom-31\" d=\"M 140.0,200.2 L 155.7,226.9\" style=\"fill:none;fill-rule:evenodd;stroke:#000000;stroke-width:2.0px;stroke-linecap:butt;stroke-linejoin:miter;stroke-opacity:1\"/>\n<path class=\"bond-2 atom-1 atom-7\" d=\"M 226.1,106.4 L 194.2,125.2\" style=\"fill:none;fill-rule:evenodd;stroke:#000000;stroke-width:2.0px;stroke-linecap:butt;stroke-linejoin:miter;stroke-opacity:1\"/>\n<path class=\"bond-3 atom-1 atom-14\" d=\"M 226.1,106.4 L 258.9,125.2\" style=\"fill:none;fill-rule:evenodd;stroke:#000000;stroke-width:2.0px;stroke-linecap:butt;stroke-linejoin:miter;stroke-opacity:1\"/>\n<path class=\"bond-3 atom-1 atom-14\" d=\"M 226.2,113.1 L 253.6,128.8\" style=\"fill:none;fill-rule:evenodd;stroke:#000000;stroke-width:2.0px;stroke-linecap:butt;stroke-linejoin:miter;stroke-opacity:1\"/>\n<path class=\"bond-4 atom-2 atom-17\" d=\"M 319.9,200.2 L 301.1,168.3\" style=\"fill:none;fill-rule:evenodd;stroke:#000000;stroke-width:2.0px;stroke-linecap:butt;stroke-linejoin:miter;stroke-opacity:1\"/>\n<path class=\"bond-5 atom-2 atom-21\" d=\"M 319.9,200.2 L 301.1,232.1\" style=\"fill:none;fill-rule:evenodd;stroke:#000000;stroke-width:2.0px;stroke-linecap:butt;stroke-linejoin:miter;stroke-opacity:1\"/>\n<path class=\"bond-5 atom-2 atom-21\" d=\"M 313.2,200.2 L 297.5,226.9\" style=\"fill:none;fill-rule:evenodd;stroke:#000000;stroke-width:2.0px;stroke-linecap:butt;stroke-linejoin:miter;stroke-opacity:1\"/>\n<path class=\"bond-6 atom-3 atom-24\" d=\"M 226.1,294.0 L 258.9,275.2\" style=\"fill:none;fill-rule:evenodd;stroke:#000000;stroke-width:2.0px;stroke-linecap:butt;stroke-linejoin:miter;stroke-opacity:1\"/>\n<path class=\"bond-6 atom-3 atom-24\" d=\"M 226.2,287.3 L 253.6,271.6\" style=\"fill:none;fill-rule:evenodd;stroke:#000000;stroke-width:2.0px;stroke-linecap:butt;stroke-linejoin:miter;stroke-opacity:1\"/>\n<path class=\"bond-7 atom-3 atom-28\" d=\"M 226.1,294.0 L 194.2,275.2\" style=\"fill:none;fill-rule:evenodd;stroke:#000000;stroke-width:2.0px;stroke-linecap:butt;stroke-linejoin:miter;stroke-opacity:1\"/>\n<path class=\"bond-8 atom-4 atom-5\" d=\"M 152.0,168.3 L 135.2,134.6\" style=\"fill:none;fill-rule:evenodd;stroke:#000000;stroke-width:2.0px;stroke-linecap:butt;stroke-linejoin:miter;stroke-opacity:1\"/>\n<path class=\"bond-8 atom-4 atom-5\" d=\"M 155.3,161.9 L 142.2,135.7\" style=\"fill:none;fill-rule:evenodd;stroke:#000000;stroke-width:2.0px;stroke-linecap:butt;stroke-linejoin:miter;stroke-opacity:1\"/>\n<path class=\"bond-9 atom-4 atom-38\" d=\"M 152.0,168.3 L 167.7,165.5\" style=\"fill:none;fill-rule:evenodd;stroke:#000000;stroke-width:2.0px;stroke-linecap:butt;stroke-linejoin:miter;stroke-opacity:1\"/>\n<path class=\"bond-9 atom-4 atom-38\" d=\"M 167.7,165.5 L 183.4,162.7\" style=\"fill:none;fill-rule:evenodd;stroke:#0000FF;stroke-width:2.0px;stroke-linecap:butt;stroke-linejoin:miter;stroke-opacity:1\"/>\n<path class=\"bond-10 atom-5 atom-6\" d=\"M 135.2,134.6 L 161.4,108.3\" style=\"fill:none;fill-rule:evenodd;stroke:#000000;stroke-width:2.0px;stroke-linecap:butt;stroke-linejoin:miter;stroke-opacity:1\"/>\n<path class=\"bond-11 atom-5 atom-9\" d=\"M 135.2,134.6 L 97.9,128.4\" style=\"fill:none;fill-rule:evenodd;stroke:#000000;stroke-width:2.0px;stroke-linecap:butt;stroke-linejoin:miter;stroke-opacity:1\"/>\n<path class=\"bond-12 atom-6 atom-7\" d=\"M 161.4,108.3 L 194.2,125.2\" style=\"fill:none;fill-rule:evenodd;stroke:#000000;stroke-width:2.0px;stroke-linecap:butt;stroke-linejoin:miter;stroke-opacity:1\"/>\n<path class=\"bond-12 atom-6 atom-7\" d=\"M 162.5,115.4 L 187.9,128.4\" style=\"fill:none;fill-rule:evenodd;stroke:#000000;stroke-width:2.0px;stroke-linecap:butt;stroke-linejoin:miter;stroke-opacity:1\"/>\n<path class=\"bond-13 atom-6 atom-8\" d=\"M 161.4,108.3 L 155.6,71.6\" style=\"fill:none;fill-rule:evenodd;stroke:#000000;stroke-width:2.0px;stroke-linecap:butt;stroke-linejoin:miter;stroke-opacity:1\"/>\n<path class=\"bond-14 atom-7 atom-38\" d=\"M 194.2,125.2 L 191.9,140.2\" style=\"fill:none;fill-rule:evenodd;stroke:#000000;stroke-width:2.0px;stroke-linecap:butt;stroke-linejoin:miter;stroke-opacity:1\"/>\n<path class=\"bond-14 atom-7 atom-38\" d=\"M 191.9,140.2 L 189.6,155.2\" style=\"fill:none;fill-rule:evenodd;stroke:#0000FF;stroke-width:2.0px;stroke-linecap:butt;stroke-linejoin:miter;stroke-opacity:1\"/>\n<path class=\"bond-15 atom-9 atom-10\" d=\"M 97.9,128.4 L 84.9,93.7\" style=\"fill:none;fill-rule:evenodd;stroke:#000000;stroke-width:2.0px;stroke-linecap:butt;stroke-linejoin:miter;stroke-opacity:1\"/>\n<path class=\"bond-16 atom-10 atom-11\" d=\"M 84.9,93.7 L 48.4,87.6\" style=\"fill:none;fill-rule:evenodd;stroke:#000000;stroke-width:2.0px;stroke-linecap:butt;stroke-linejoin:miter;stroke-opacity:1\"/>\n<path class=\"bond-17 atom-11 atom-12\" d=\"M 47.2,84.5 L 37.6,96.2\" style=\"fill:none;fill-rule:evenodd;stroke:#000000;stroke-width:2.0px;stroke-linecap:butt;stroke-linejoin:miter;stroke-opacity:1\"/>\n<path class=\"bond-17 atom-11 atom-12\" d=\"M 37.6,96.2 L 28.0,107.8\" style=\"fill:none;fill-rule:evenodd;stroke:#FF0000;stroke-width:2.0px;stroke-linecap:butt;stroke-linejoin:miter;stroke-opacity:1\"/>\n<path class=\"bond-17 atom-11 atom-12\" d=\"M 51.6,88.2 L 42.1,99.8\" style=\"fill:none;fill-rule:evenodd;stroke:#000000;stroke-width:2.0px;stroke-linecap:butt;stroke-linejoin:miter;stroke-opacity:1\"/>\n<path class=\"bond-17 atom-11 atom-12\" d=\"M 42.1,99.8 L 32.5,111.5\" style=\"fill:none;fill-rule:evenodd;stroke:#FF0000;stroke-width:2.0px;stroke-linecap:butt;stroke-linejoin:miter;stroke-opacity:1\"/>\n<path class=\"bond-18 atom-11 atom-13\" d=\"M 48.4,87.6 L 43.1,73.7\" style=\"fill:none;fill-rule:evenodd;stroke:#000000;stroke-width:2.0px;stroke-linecap:butt;stroke-linejoin:miter;stroke-opacity:1\"/>\n<path class=\"bond-18 atom-11 atom-13\" d=\"M 43.1,73.7 L 37.9,59.7\" style=\"fill:none;fill-rule:evenodd;stroke:#FF0000;stroke-width:2.0px;stroke-linecap:butt;stroke-linejoin:miter;stroke-opacity:1\"/>\n<path class=\"bond-19 atom-14 atom-15\" d=\"M 258.9,125.2 L 291.8,108.3\" style=\"fill:none;fill-rule:evenodd;stroke:#000000;stroke-width:2.0px;stroke-linecap:butt;stroke-linejoin:miter;stroke-opacity:1\"/>\n<path class=\"bond-20 atom-14 atom-39\" d=\"M 258.9,125.2 L 261.3,140.2\" style=\"fill:none;fill-rule:evenodd;stroke:#000000;stroke-width:2.0px;stroke-linecap:butt;stroke-linejoin:miter;stroke-opacity:1\"/>\n<path class=\"bond-20 atom-14 atom-39\" d=\"M 261.3,140.2 L 263.6,155.2\" style=\"fill:none;fill-rule:evenodd;stroke:#0000FF;stroke-width:2.0px;stroke-linecap:butt;stroke-linejoin:miter;stroke-opacity:1\"/>\n<path class=\"bond-21 atom-15 atom-16\" d=\"M 291.8,108.3 L 319.0,134.6\" style=\"fill:none;fill-rule:evenodd;stroke:#000000;stroke-width:2.0px;stroke-linecap:butt;stroke-linejoin:miter;stroke-opacity:1\"/>\n<path class=\"bond-21 atom-15 atom-16\" d=\"M 290.7,115.4 L 311.8,135.7\" style=\"fill:none;fill-rule:evenodd;stroke:#000000;stroke-width:2.0px;stroke-linecap:butt;stroke-linejoin:miter;stroke-opacity:1\"/>\n<path class=\"bond-22 atom-15 atom-18\" d=\"M 291.8,108.3 L 297.4,71.8\" style=\"fill:none;fill-rule:evenodd;stroke:#000000;stroke-width:2.0px;stroke-linecap:butt;stroke-linejoin:miter;stroke-opacity:1\"/>\n<path class=\"bond-23 atom-16 atom-17\" d=\"M 319.0,134.6 L 301.1,168.3\" style=\"fill:none;fill-rule:evenodd;stroke:#000000;stroke-width:2.0px;stroke-linecap:butt;stroke-linejoin:miter;stroke-opacity:1\"/>\n<path class=\"bond-24 atom-16 atom-19\" d=\"M 319.0,134.6 L 356.2,128.0\" style=\"fill:none;fill-rule:evenodd;stroke:#000000;stroke-width:2.0px;stroke-linecap:butt;stroke-linejoin:miter;stroke-opacity:1\"/>\n<path class=\"bond-25 atom-17 atom-39\" d=\"M 301.1,168.3 L 285.5,165.5\" style=\"fill:none;fill-rule:evenodd;stroke:#000000;stroke-width:2.0px;stroke-linecap:butt;stroke-linejoin:miter;stroke-opacity:1\"/>\n<path class=\"bond-25 atom-17 atom-39\" d=\"M 285.5,165.5 L 269.8,162.7\" style=\"fill:none;fill-rule:evenodd;stroke:#0000FF;stroke-width:2.0px;stroke-linecap:butt;stroke-linejoin:miter;stroke-opacity:1\"/>\n<path class=\"bond-25 atom-17 atom-39\" d=\"M 298.0,161.9 L 284.4,159.5\" style=\"fill:none;fill-rule:evenodd;stroke:#000000;stroke-width:2.0px;stroke-linecap:butt;stroke-linejoin:miter;stroke-opacity:1\"/>\n<path class=\"bond-25 atom-17 atom-39\" d=\"M 284.4,159.5 L 270.8,157.0\" style=\"fill:none;fill-rule:evenodd;stroke:#0000FF;stroke-width:2.0px;stroke-linecap:butt;stroke-linejoin:miter;stroke-opacity:1\"/>\n<path class=\"bond-26 atom-19 atom-20\" d=\"M 356.2,128.0 L 380.0,156.4\" style=\"fill:none;fill-rule:evenodd;stroke:#000000;stroke-width:2.0px;stroke-linecap:butt;stroke-linejoin:miter;stroke-opacity:1\"/>\n<path class=\"bond-26 atom-19 atom-20\" d=\"M 353.9,134.3 L 375.6,160.1\" style=\"fill:none;fill-rule:evenodd;stroke:#000000;stroke-width:2.0px;stroke-linecap:butt;stroke-linejoin:miter;stroke-opacity:1\"/>\n<path class=\"bond-27 atom-21 atom-22\" d=\"M 301.1,232.1 L 319.0,265.9\" style=\"fill:none;fill-rule:evenodd;stroke:#000000;stroke-width:2.0px;stroke-linecap:butt;stroke-linejoin:miter;stroke-opacity:1\"/>\n<path class=\"bond-28 atom-21 atom-40\" d=\"M 301.1,232.1 L 285.5,234.9\" style=\"fill:none;fill-rule:evenodd;stroke:#000000;stroke-width:2.0px;stroke-linecap:butt;stroke-linejoin:miter;stroke-opacity:1\"/>\n<path class=\"bond-28 atom-21 atom-40\" d=\"M 285.5,234.9 L 269.8,237.7\" style=\"fill:none;fill-rule:evenodd;stroke:#0000FF;stroke-width:2.0px;stroke-linecap:butt;stroke-linejoin:miter;stroke-opacity:1\"/>\n<path class=\"bond-29 atom-22 atom-23\" d=\"M 319.0,265.9 L 291.8,292.1\" style=\"fill:none;fill-rule:evenodd;stroke:#000000;stroke-width:2.0px;stroke-linecap:butt;stroke-linejoin:miter;stroke-opacity:1\"/>\n<path class=\"bond-29 atom-22 atom-23\" d=\"M 311.8,264.7 L 290.7,285.1\" style=\"fill:none;fill-rule:evenodd;stroke:#000000;stroke-width:2.0px;stroke-linecap:butt;stroke-linejoin:miter;stroke-opacity:1\"/>\n<path class=\"bond-30 atom-22 atom-25\" d=\"M 319.0,265.9 L 356.7,271.3\" style=\"fill:none;fill-rule:evenodd;stroke:#000000;stroke-width:2.0px;stroke-linecap:butt;stroke-linejoin:miter;stroke-opacity:1\"/>\n<path class=\"bond-31 atom-23 atom-24\" d=\"M 291.8,292.1 L 258.9,275.2\" style=\"fill:none;fill-rule:evenodd;stroke:#000000;stroke-width:2.0px;stroke-linecap:butt;stroke-linejoin:miter;stroke-opacity:1\"/>\n<path class=\"bond-32 atom-23 atom-26\" d=\"M 291.8,292.1 L 297.0,329.6\" style=\"fill:none;fill-rule:evenodd;stroke:#000000;stroke-width:2.0px;stroke-linecap:butt;stroke-linejoin:miter;stroke-opacity:1\"/>\n<path class=\"bond-33 atom-24 atom-40\" d=\"M 258.9,275.2 L 261.3,260.2\" style=\"fill:none;fill-rule:evenodd;stroke:#000000;stroke-width:2.0px;stroke-linecap:butt;stroke-linejoin:miter;stroke-opacity:1\"/>\n<path class=\"bond-33 atom-24 atom-40\" d=\"M 261.3,260.2 L 263.6,245.2\" style=\"fill:none;fill-rule:evenodd;stroke:#0000FF;stroke-width:2.0px;stroke-linecap:butt;stroke-linejoin:miter;stroke-opacity:1\"/>\n<path class=\"bond-34 atom-26 atom-27\" d=\"M 297.0,329.6 L 267.8,352.4\" style=\"fill:none;fill-rule:evenodd;stroke:#000000;stroke-width:2.0px;stroke-linecap:butt;stroke-linejoin:miter;stroke-opacity:1\"/>\n<path class=\"bond-34 atom-26 atom-27\" d=\"M 290.8,327.0 L 264.3,347.8\" style=\"fill:none;fill-rule:evenodd;stroke:#000000;stroke-width:2.0px;stroke-linecap:butt;stroke-linejoin:miter;stroke-opacity:1\"/>\n<path class=\"bond-35 atom-28 atom-29\" d=\"M 194.2,275.2 L 161.4,292.1\" style=\"fill:none;fill-rule:evenodd;stroke:#000000;stroke-width:2.0px;stroke-linecap:butt;stroke-linejoin:miter;stroke-opacity:1\"/>\n<path class=\"bond-36 atom-28 atom-41\" d=\"M 194.2,275.2 L 191.9,260.2\" style=\"fill:none;fill-rule:evenodd;stroke:#000000;stroke-width:2.0px;stroke-linecap:butt;stroke-linejoin:miter;stroke-opacity:1\"/>\n<path class=\"bond-36 atom-28 atom-41\" d=\"M 191.9,260.2 L 189.6,245.2\" style=\"fill:none;fill-rule:evenodd;stroke:#0000FF;stroke-width:2.0px;stroke-linecap:butt;stroke-linejoin:miter;stroke-opacity:1\"/>\n<path class=\"bond-36 atom-28 atom-41\" d=\"M 187.9,272.0 L 185.9,259.0\" style=\"fill:none;fill-rule:evenodd;stroke:#000000;stroke-width:2.0px;stroke-linecap:butt;stroke-linejoin:miter;stroke-opacity:1\"/>\n<path class=\"bond-36 atom-28 atom-41\" d=\"M 185.9,259.0 L 183.9,246.1\" style=\"fill:none;fill-rule:evenodd;stroke:#0000FF;stroke-width:2.0px;stroke-linecap:butt;stroke-linejoin:miter;stroke-opacity:1\"/>\n<path class=\"bond-37 atom-29 atom-30\" d=\"M 161.4,292.1 L 135.2,265.9\" style=\"fill:none;fill-rule:evenodd;stroke:#000000;stroke-width:2.0px;stroke-linecap:butt;stroke-linejoin:miter;stroke-opacity:1\"/>\n<path class=\"bond-37 atom-29 atom-30\" d=\"M 162.5,285.0 L 142.2,264.7\" style=\"fill:none;fill-rule:evenodd;stroke:#000000;stroke-width:2.0px;stroke-linecap:butt;stroke-linejoin:miter;stroke-opacity:1\"/>\n<path class=\"bond-38 atom-29 atom-32\" d=\"M 161.4,292.1 L 155.8,328.6\" style=\"fill:none;fill-rule:evenodd;stroke:#000000;stroke-width:2.0px;stroke-linecap:butt;stroke-linejoin:miter;stroke-opacity:1\"/>\n<path class=\"bond-39 atom-30 atom-31\" d=\"M 135.2,265.9 L 152.0,232.1\" style=\"fill:none;fill-rule:evenodd;stroke:#000000;stroke-width:2.0px;stroke-linecap:butt;stroke-linejoin:miter;stroke-opacity:1\"/>\n<path class=\"bond-40 atom-30 atom-33\" d=\"M 135.2,265.9 L 98.5,271.7\" style=\"fill:none;fill-rule:evenodd;stroke:#000000;stroke-width:2.0px;stroke-linecap:butt;stroke-linejoin:miter;stroke-opacity:1\"/>\n<path class=\"bond-41 atom-31 atom-41\" d=\"M 152.0,232.1 L 167.7,234.9\" style=\"fill:none;fill-rule:evenodd;stroke:#000000;stroke-width:2.0px;stroke-linecap:butt;stroke-linejoin:miter;stroke-opacity:1\"/>\n<path class=\"bond-41 atom-31 atom-41\" d=\"M 167.7,234.9 L 183.4,237.7\" style=\"fill:none;fill-rule:evenodd;stroke:#0000FF;stroke-width:2.0px;stroke-linecap:butt;stroke-linejoin:miter;stroke-opacity:1\"/>\n<path class=\"bond-42 atom-33 atom-34\" d=\"M 98.5,271.7 L 85.2,306.3\" style=\"fill:none;fill-rule:evenodd;stroke:#000000;stroke-width:2.0px;stroke-linecap:butt;stroke-linejoin:miter;stroke-opacity:1\"/>\n<path class=\"bond-43 atom-34 atom-35\" d=\"M 85.2,306.3 L 48.6,312.1\" style=\"fill:none;fill-rule:evenodd;stroke:#000000;stroke-width:2.0px;stroke-linecap:butt;stroke-linejoin:miter;stroke-opacity:1\"/>\n<path class=\"bond-44 atom-35 atom-36\" d=\"M 51.9,311.5 L 42.4,299.9\" style=\"fill:none;fill-rule:evenodd;stroke:#000000;stroke-width:2.0px;stroke-linecap:butt;stroke-linejoin:miter;stroke-opacity:1\"/>\n<path class=\"bond-44 atom-35 atom-36\" d=\"M 42.4,299.9 L 33.0,288.2\" style=\"fill:none;fill-rule:evenodd;stroke:#FF0000;stroke-width:2.0px;stroke-linecap:butt;stroke-linejoin:miter;stroke-opacity:1\"/>\n<path class=\"bond-44 atom-35 atom-36\" d=\"M 47.4,315.2 L 37.9,303.5\" style=\"fill:none;fill-rule:evenodd;stroke:#000000;stroke-width:2.0px;stroke-linecap:butt;stroke-linejoin:miter;stroke-opacity:1\"/>\n<path class=\"bond-44 atom-35 atom-36\" d=\"M 37.9,303.5 L 28.5,291.8\" style=\"fill:none;fill-rule:evenodd;stroke:#FF0000;stroke-width:2.0px;stroke-linecap:butt;stroke-linejoin:miter;stroke-opacity:1\"/>\n<path class=\"bond-45 atom-35 atom-37\" d=\"M 48.6,312.1 L 43.2,326.1\" style=\"fill:none;fill-rule:evenodd;stroke:#000000;stroke-width:2.0px;stroke-linecap:butt;stroke-linejoin:miter;stroke-opacity:1\"/>\n<path class=\"bond-45 atom-35 atom-37\" d=\"M 43.2,326.1 L 37.8,340.1\" style=\"fill:none;fill-rule:evenodd;stroke:#FF0000;stroke-width:2.0px;stroke-linecap:butt;stroke-linejoin:miter;stroke-opacity:1\"/>\n<path class=\"bond-46 atom-42 atom-38\" d=\"M 219.8,193.7 L 206.8,180.4\" style=\"fill:none;fill-rule:evenodd;stroke:#000000;stroke-width:2.0px;stroke-linecap:butt;stroke-linejoin:miter;stroke-opacity:1\"/>\n<path class=\"bond-46 atom-42 atom-38\" d=\"M 206.8,180.4 L 193.9,167.2\" style=\"fill:none;fill-rule:evenodd;stroke:#0000FF;stroke-width:2.0px;stroke-linecap:butt;stroke-linejoin:miter;stroke-opacity:1\"/>\n<path class=\"bond-47 atom-39 atom-42\" d=\"M 259.3,167.0 L 244.6,181.7\" style=\"fill:none;fill-rule:evenodd;stroke:#0000FF;stroke-width:2.0px;stroke-linecap:butt;stroke-linejoin:miter;stroke-opacity:1;stroke-dasharray:1,1.33333\"/>\n<path class=\"bond-47 atom-39 atom-42\" d=\"M 244.6,181.7 L 229.9,196.4\" style=\"fill:none;fill-rule:evenodd;stroke:#000000;stroke-width:2.0px;stroke-linecap:butt;stroke-linejoin:miter;stroke-opacity:1;stroke-dasharray:1,1.33333\"/>\n<path class=\"bond-48 atom-42 atom-40\" d=\"M 230.8,204.9 L 245.0,219.1\" style=\"fill:none;fill-rule:evenodd;stroke:#000000;stroke-width:2.0px;stroke-linecap:butt;stroke-linejoin:miter;stroke-opacity:1\"/>\n<path class=\"bond-48 atom-42 atom-40\" d=\"M 245.0,219.1 L 259.3,233.4\" style=\"fill:none;fill-rule:evenodd;stroke:#0000FF;stroke-width:2.0px;stroke-linecap:butt;stroke-linejoin:miter;stroke-opacity:1\"/>\n<path class=\"bond-49 atom-41 atom-42\" d=\"M 193.9,233.3 L 206.8,220.0\" style=\"fill:none;fill-rule:evenodd;stroke:#0000FF;stroke-width:2.0px;stroke-linecap:butt;stroke-linejoin:miter;stroke-opacity:1;stroke-dasharray:1,1.33333\"/>\n<path class=\"bond-49 atom-41 atom-42\" d=\"M 206.8,220.0 L 219.8,206.7\" style=\"fill:none;fill-rule:evenodd;stroke:#000000;stroke-width:2.0px;stroke-linecap:butt;stroke-linejoin:miter;stroke-opacity:1;stroke-dasharray:1,1.33333\"/>\n<path d=\"M 134.2,198.6 L 133.3,200.2 L 134.2,201.8\" style=\"fill:none;stroke:#000000;stroke-width:2.0px;stroke-linecap:butt;stroke-linejoin:miter;stroke-opacity:1;\"/>\n<path d=\"M 224.5,107.4 L 226.1,106.4 L 227.8,107.4\" style=\"fill:none;stroke:#000000;stroke-width:2.0px;stroke-linecap:butt;stroke-linejoin:miter;stroke-opacity:1;\"/>\n<path d=\"M 319.0,198.6 L 319.9,200.2 L 319.0,201.8\" style=\"fill:none;stroke:#000000;stroke-width:2.0px;stroke-linecap:butt;stroke-linejoin:miter;stroke-opacity:1;\"/>\n<path d=\"M 227.8,293.1 L 226.1,294.0 L 224.5,293.1\" style=\"fill:none;stroke:#000000;stroke-width:2.0px;stroke-linecap:butt;stroke-linejoin:miter;stroke-opacity:1;\"/>\n<path d=\"M 99.8,128.7 L 97.9,128.4 L 97.3,126.7\" style=\"fill:none;stroke:#000000;stroke-width:2.0px;stroke-linecap:butt;stroke-linejoin:miter;stroke-opacity:1;\"/>\n<path d=\"M 85.6,95.4 L 84.9,93.7 L 83.1,93.4\" style=\"fill:none;stroke:#000000;stroke-width:2.0px;stroke-linecap:butt;stroke-linejoin:miter;stroke-opacity:1;\"/>\n<path d=\"M 50.2,87.9 L 48.4,87.6 L 48.1,86.9\" style=\"fill:none;stroke:#000000;stroke-width:2.0px;stroke-linecap:butt;stroke-linejoin:miter;stroke-opacity:1;\"/>\n<path d=\"M 354.3,128.3 L 356.2,128.0 L 357.4,129.4\" style=\"fill:none;stroke:#000000;stroke-width:2.0px;stroke-linecap:butt;stroke-linejoin:miter;stroke-opacity:1;\"/>\n<path d=\"M 296.8,327.7 L 297.0,329.6 L 295.6,330.7\" style=\"fill:none;stroke:#000000;stroke-width:2.0px;stroke-linecap:butt;stroke-linejoin:miter;stroke-opacity:1;\"/>\n<path d=\"M 100.3,271.4 L 98.5,271.7 L 97.8,273.4\" style=\"fill:none;stroke:#000000;stroke-width:2.0px;stroke-linecap:butt;stroke-linejoin:miter;stroke-opacity:1;\"/>\n<path d=\"M 85.9,304.5 L 85.2,306.3 L 83.4,306.5\" style=\"fill:none;stroke:#000000;stroke-width:2.0px;stroke-linecap:butt;stroke-linejoin:miter;stroke-opacity:1;\"/>\n<path d=\"M 50.4,311.8 L 48.6,312.1 L 48.3,312.8\" style=\"fill:none;stroke:#000000;stroke-width:2.0px;stroke-linecap:butt;stroke-linejoin:miter;stroke-opacity:1;\"/>\n<path class=\"atom-12\" d=\"M 20.0 116.3 Q 20.0 113.8, 21.2 112.4 Q 22.5 110.9, 24.8 110.9 Q 27.1 110.9, 28.4 112.4 Q 29.6 113.8, 29.6 116.3 Q 29.6 118.8, 28.4 120.3 Q 27.1 121.7, 24.8 121.7 Q 22.5 121.7, 21.2 120.3 Q 20.0 118.8, 20.0 116.3 M 24.8 120.5 Q 26.4 120.5, 27.3 119.5 Q 28.2 118.4, 28.2 116.3 Q 28.2 114.2, 27.3 113.2 Q 26.4 112.1, 24.8 112.1 Q 23.2 112.1, 22.3 113.2 Q 21.5 114.2, 21.5 116.3 Q 21.5 118.4, 22.3 119.5 Q 23.2 120.5, 24.8 120.5 \" fill=\"#FF0000\"/>\n<path class=\"atom-13\" d=\"M 20.2 47.8 L 21.6 47.8 L 21.6 52.2 L 26.9 52.2 L 26.9 47.8 L 28.4 47.8 L 28.4 58.2 L 26.9 58.2 L 26.9 53.4 L 21.6 53.4 L 21.6 58.2 L 20.2 58.2 L 20.2 47.8 \" fill=\"#FF0000\"/>\n<path class=\"atom-13\" d=\"M 30.5 53.0 Q 30.5 50.4, 31.8 49.0 Q 33.0 47.6, 35.3 47.6 Q 37.7 47.6, 38.9 49.0 Q 40.2 50.4, 40.2 53.0 Q 40.2 55.5, 38.9 57.0 Q 37.6 58.4, 35.3 58.4 Q 33.0 58.4, 31.8 57.0 Q 30.5 55.5, 30.5 53.0 M 35.3 57.2 Q 36.9 57.2, 37.8 56.2 Q 38.7 55.1, 38.7 53.0 Q 38.7 50.9, 37.8 49.9 Q 36.9 48.8, 35.3 48.8 Q 33.7 48.8, 32.9 49.9 Q 32.0 50.9, 32.0 53.0 Q 32.0 55.1, 32.9 56.2 Q 33.7 57.2, 35.3 57.2 \" fill=\"#FF0000\"/>\n<path class=\"atom-36\" d=\"M 20.5 283.3 Q 20.5 280.8, 21.7 279.4 Q 23.0 277.9, 25.3 277.9 Q 27.6 277.9, 28.9 279.4 Q 30.1 280.8, 30.1 283.3 Q 30.1 285.8, 28.8 287.3 Q 27.6 288.7, 25.3 288.7 Q 23.0 288.7, 21.7 287.3 Q 20.5 285.8, 20.5 283.3 M 25.3 287.5 Q 26.9 287.5, 27.7 286.5 Q 28.6 285.4, 28.6 283.3 Q 28.6 281.2, 27.7 280.2 Q 26.9 279.1, 25.3 279.1 Q 23.7 279.1, 22.8 280.2 Q 21.9 281.2, 21.9 283.3 Q 21.9 285.4, 22.8 286.5 Q 23.7 287.5, 25.3 287.5 \" fill=\"#FF0000\"/>\n<path class=\"atom-37\" d=\"M 20.1 341.5 L 21.6 341.5 L 21.6 345.9 L 26.9 345.9 L 26.9 341.5 L 28.3 341.5 L 28.3 351.9 L 26.9 351.9 L 26.9 347.1 L 21.6 347.1 L 21.6 351.9 L 20.1 351.9 L 20.1 341.5 \" fill=\"#FF0000\"/>\n<path class=\"atom-37\" d=\"M 30.5 346.7 Q 30.5 344.2, 31.7 342.7 Q 33.0 341.3, 35.3 341.3 Q 37.6 341.3, 38.9 342.7 Q 40.1 344.2, 40.1 346.7 Q 40.1 349.2, 38.9 350.7 Q 37.6 352.1, 35.3 352.1 Q 33.0 352.1, 31.7 350.7 Q 30.5 349.2, 30.5 346.7 M 35.3 350.9 Q 36.9 350.9, 37.8 349.9 Q 38.7 348.8, 38.7 346.7 Q 38.7 344.6, 37.8 343.6 Q 36.9 342.5, 35.3 342.5 Q 33.7 342.5, 32.8 343.6 Q 32.0 344.6, 32.0 346.7 Q 32.0 348.8, 32.8 349.9 Q 33.7 350.9, 35.3 350.9 \" fill=\"#FF0000\"/>\n<path class=\"atom-38\" d=\"M 186.3 156.5 L 189.7 162.1 Q 190.1 162.6, 190.6 163.6 Q 191.2 164.6, 191.2 164.7 L 191.2 156.5 L 192.6 156.5 L 192.6 167.0 L 191.1 167.0 L 187.5 160.9 Q 187.0 160.2, 186.6 159.4 Q 186.1 158.6, 186.0 158.3 L 186.0 167.0 L 184.6 167.0 L 184.6 156.5 L 186.3 156.5 \" fill=\"#0000FF\"/>\n<path class=\"atom-39\" d=\"M 262.2 156.5 L 265.7 162.1 Q 266.0 162.6, 266.6 163.6 Q 267.1 164.6, 267.2 164.7 L 267.2 156.5 L 268.5 156.5 L 268.5 167.0 L 267.1 167.0 L 263.4 160.9 Q 263.0 160.2, 262.5 159.4 Q 262.1 158.6, 261.9 158.3 L 261.9 167.0 L 260.6 167.0 L 260.6 156.5 L 262.2 156.5 \" fill=\"#0000FF\"/>\n<path class=\"atom-40\" d=\"M 262.2 233.4 L 265.7 239.0 Q 266.0 239.5, 266.6 240.5 Q 267.1 241.5, 267.2 241.6 L 267.2 233.4 L 268.5 233.4 L 268.5 243.9 L 267.1 243.9 L 263.4 237.8 Q 263.0 237.1, 262.5 236.3 Q 262.1 235.5, 261.9 235.2 L 261.9 243.9 L 260.6 243.9 L 260.6 233.4 L 262.2 233.4 \" fill=\"#0000FF\"/>\n<path class=\"atom-41\" d=\"M 186.3 233.4 L 189.7 239.0 Q 190.1 239.5, 190.6 240.5 Q 191.2 241.5, 191.2 241.6 L 191.2 233.4 L 192.6 233.4 L 192.6 243.9 L 191.1 243.9 L 187.5 237.8 Q 187.0 237.1, 186.6 236.3 Q 186.1 235.5, 186.0 235.2 L 186.0 243.9 L 184.6 243.9 L 184.6 233.4 L 186.3 233.4 \" fill=\"#0000FF\"/>\n<path class=\"atom-42\" d=\"M 215.5 195.0 L 221.8 195.0 L 221.8 196.2 L 216.9 196.2 L 216.9 199.4 L 221.2 199.4 L 221.2 200.6 L 216.9 200.6 L 216.9 205.5 L 215.5 205.5 L 215.5 195.0 \" fill=\"#000000\"/>\n<path class=\"atom-42\" d=\"M 222.7 201.6 Q 222.7 199.8, 223.7 198.8 Q 224.6 197.7, 226.3 197.7 Q 228.0 197.7, 228.7 198.7 Q 229.5 199.7, 229.5 201.6 L 229.5 201.8 L 224.2 201.8 Q 224.2 203.1, 224.8 203.8 Q 225.4 204.5, 226.4 204.5 Q 227.0 204.5, 227.6 204.4 Q 228.1 204.2, 228.8 203.9 L 229.2 204.9 Q 228.4 205.2, 227.8 205.4 Q 227.1 205.6, 226.4 205.6 Q 224.6 205.6, 223.7 204.5 Q 222.7 203.5, 222.7 201.6 M 226.3 198.8 Q 225.4 198.8, 224.9 199.3 Q 224.4 199.8, 224.2 200.8 L 228.0 200.8 Q 227.9 199.8, 227.5 199.3 Q 227.1 198.8, 226.3 198.8 \" fill=\"#000000\"/>\n</svg>",
            "text/plain": [
              "<IPython.core.display.SVG object>"
            ]
          },
          "execution_count": 65,
          "metadata": {},
          "output_type": "execute_result"
        }
      ],
      "source": [
        "SVG(\"hem.svg\")"
      ]
    },
    {
      "cell_type": "markdown",
      "metadata": {
        "id": "4FyFem25r_GS"
      },
      "source": [
        "##&nbsp; 1.6.1 Highlighting substructures"
      ]
    },
    {
      "cell_type": "markdown",
      "metadata": {
        "id": "19cwH1rsr_GS"
      },
      "source": [
        "Atoms and bonds of substructures (fragments and scaffolds) can be highligted on the 2D depiction of small molecules using *export_2d_svg* method of Component object. The atoms to highlight can be passed as a dictionary with atom names as keys and the color as values. Similarly the bonds to highlight can be passed as a dictionary of atom names of bonds as a tuple and colors as values.\n",
        "The below example shows how to highlight the Murcko scaffold of **HEM**."
      ]
    },
    {
      "cell_type": "code",
      "execution_count": null,
      "metadata": {
        "id": "wV_TOmaqr_GS"
      },
      "outputs": [],
      "source": [
        "atom_color = (0.5, 0.5, 0.5, 0.4)\n",
        "bond_color = (0.5, 0.5, 0.5, 0.8)\n",
        "hem_murcko_scaffold = murcko_scaffolds[0]\n",
        "athighlights = {atom.GetProp(\"name\"):atom_color for atom in hem_murcko_scaffold.GetAtoms()}\n",
        "bndhighlights = {(bond.GetBeginAtom().GetProp(\"name\"), bond.GetEndAtom().GetProp(\"name\")): bond_color for bond in hem_murcko_scaffold.GetBonds()}\n",
        "hem_component.export_2d_svg(\"hem_scaffold.svg\", atom_highlight=athighlights, bond_highlight=bndhighlights, width=400)"
      ]
    },
    {
      "cell_type": "code",
      "execution_count": null,
      "metadata": {
        "colab": {
          "base_uri": "https://localhost:8080/",
          "height": 421
        },
        "id": "BTO0_lz1r_GS",
        "outputId": "432d15b7-459f-4067-bebb-b0165adf27db"
      },
      "outputs": [
        {
          "data": {
            "image/svg+xml": "<svg xmlns=\"http://www.w3.org/2000/svg\" xmlns:rdkit=\"http://www.rdkit.org/xml\" xmlns:xlink=\"http://www.w3.org/1999/xlink\" version=\"1.1\" baseProfile=\"full\" xml:space=\"preserve\" width=\"400px\" height=\"400px\" viewBox=\"0 0 400 400\">\n<!-- END OF HEADER -->\n<rect style=\"opacity:1.0;fill:#FFFFFF;stroke:none\" width=\"400.0\" height=\"400.0\" x=\"0.0\" y=\"0.0\"> </rect>\n<path class=\"bond-0 atom-0 atom-4\" d=\"M 147.5,168.2 L 152.0,168.3 L 154.5,171.9 L 137.9,200.2 L 128.7,200.2 Z\" style=\"fill:#7F7F7FCC;fill-rule:evenodd;fill-opacity:0.8;stroke:#7F7F7FCC;stroke-width:0.0px;stroke-linecap:butt;stroke-linejoin:miter;stroke-opacity:0.8;\"/>\n<path class=\"bond-1 atom-0 atom-31\" d=\"M 137.9,200.2 L 154.5,228.5 L 152.0,232.1 L 147.5,232.3 L 128.7,200.2 Z\" style=\"fill:#7F7F7FCC;fill-rule:evenodd;fill-opacity:0.8;stroke:#7F7F7FCC;stroke-width:0.0px;stroke-linecap:butt;stroke-linejoin:miter;stroke-opacity:0.8;\"/>\n<path class=\"bond-2 atom-1 atom-7\" d=\"M 226.1,101.9 L 226.1,111.0 L 197.9,127.7 L 194.2,125.2 L 194.1,120.7 Z\" style=\"fill:#7F7F7FCC;fill-rule:evenodd;fill-opacity:0.8;stroke:#7F7F7FCC;stroke-width:0.0px;stroke-linecap:butt;stroke-linejoin:miter;stroke-opacity:0.8;\"/>\n<path class=\"bond-3 atom-1 atom-14\" d=\"M 226.1,101.9 L 259.0,120.7 L 258.9,125.2 L 255.3,127.7 L 226.1,111.0 Z\" style=\"fill:#7F7F7FCC;fill-rule:evenodd;fill-opacity:0.8;stroke:#7F7F7FCC;stroke-width:0.0px;stroke-linecap:butt;stroke-linejoin:miter;stroke-opacity:0.8;\"/>\n<path class=\"bond-4 atom-2 atom-17\" d=\"M 305.7,168.2 L 324.5,200.2 L 315.3,200.2 L 298.7,171.9 L 301.1,168.3 Z\" style=\"fill:#7F7F7FCC;fill-rule:evenodd;fill-opacity:0.8;stroke:#7F7F7FCC;stroke-width:0.0px;stroke-linecap:butt;stroke-linejoin:miter;stroke-opacity:0.8;\"/>\n<path class=\"bond-5 atom-2 atom-21\" d=\"M 324.5,200.2 L 305.7,232.2 L 301.1,232.1 L 298.7,228.5 L 315.3,200.2 Z\" style=\"fill:#7F7F7FCC;fill-rule:evenodd;fill-opacity:0.8;stroke:#7F7F7FCC;stroke-width:0.0px;stroke-linecap:butt;stroke-linejoin:miter;stroke-opacity:0.8;\"/>\n<path class=\"bond-6 atom-3 atom-24\" d=\"M 255.3,272.8 L 258.9,275.2 L 259.0,279.7 L 226.1,298.6 L 226.1,289.4 Z\" style=\"fill:#7F7F7FCC;fill-rule:evenodd;fill-opacity:0.8;stroke:#7F7F7FCC;stroke-width:0.0px;stroke-linecap:butt;stroke-linejoin:miter;stroke-opacity:0.8;\"/>\n<path class=\"bond-7 atom-3 atom-28\" d=\"M 197.9,272.8 L 226.1,289.4 L 226.1,298.6 L 194.1,279.8 L 194.2,275.2 Z\" style=\"fill:#7F7F7FCC;fill-rule:evenodd;fill-opacity:0.8;stroke:#7F7F7FCC;stroke-width:0.0px;stroke-linecap:butt;stroke-linejoin:miter;stroke-opacity:0.8;\"/>\n<path class=\"bond-8 atom-4 atom-5\" d=\"M 130.3,133.8 L 140.0,135.4 L 154.2,163.9 L 152.0,168.3 L 147.5,168.2 Z\" style=\"fill:#7F7F7FCC;fill-rule:evenodd;fill-opacity:0.8;stroke:#7F7F7FCC;stroke-width:0.0px;stroke-linecap:butt;stroke-linejoin:miter;stroke-opacity:0.8;\"/>\n<path class=\"bond-9 atom-4 atom-38\" d=\"M 185.1,158.4 L 188.6,161.8 L 187.2,166.0 L 154.5,171.9 L 152.0,168.3 L 154.2,163.9 Z\" style=\"fill:#7F7F7FCC;fill-rule:evenodd;fill-opacity:0.8;stroke:#7F7F7FCC;stroke-width:0.0px;stroke-linecap:butt;stroke-linejoin:miter;stroke-opacity:0.8;\"/>\n<path class=\"bond-10 atom-5 atom-6\" d=\"M 160.7,103.5 L 162.2,113.2 L 140.0,135.4 L 130.3,133.8 Z\" style=\"fill:#7F7F7FCC;fill-rule:evenodd;fill-opacity:0.8;stroke:#7F7F7FCC;stroke-width:0.0px;stroke-linecap:butt;stroke-linejoin:miter;stroke-opacity:0.8;\"/>\n<path class=\"bond-12 atom-6 atom-7\" d=\"M 160.7,103.5 L 194.1,120.7 L 194.2,125.2 L 189.9,127.4 L 162.2,113.2 Z\" style=\"fill:#7F7F7FCC;fill-rule:evenodd;fill-opacity:0.8;stroke:#7F7F7FCC;stroke-width:0.0px;stroke-linecap:butt;stroke-linejoin:miter;stroke-opacity:0.8;\"/>\n<path class=\"bond-14 atom-7 atom-38\" d=\"M 194.2,125.2 L 197.9,127.7 L 192.8,160.4 L 188.6,161.8 L 185.1,158.4 L 189.9,127.4 Z\" style=\"fill:#7F7F7FCC;fill-rule:evenodd;fill-opacity:0.8;stroke:#7F7F7FCC;stroke-width:0.0px;stroke-linecap:butt;stroke-linejoin:miter;stroke-opacity:0.8;\"/>\n<path class=\"bond-19 atom-14 atom-15\" d=\"M 292.5,103.5 L 291.1,113.1 L 263.3,127.4 L 258.9,125.2 L 259.0,120.7 Z\" style=\"fill:#7F7F7FCC;fill-rule:evenodd;fill-opacity:0.8;stroke:#7F7F7FCC;stroke-width:0.0px;stroke-linecap:butt;stroke-linejoin:miter;stroke-opacity:0.8;\"/>\n<path class=\"bond-20 atom-14 atom-39\" d=\"M 258.9,125.2 L 263.3,127.4 L 268.0,158.4 L 264.6,161.8 L 260.4,160.4 L 255.3,127.7 Z\" style=\"fill:#7F7F7FCC;fill-rule:evenodd;fill-opacity:0.8;stroke:#7F7F7FCC;stroke-width:0.0px;stroke-linecap:butt;stroke-linejoin:miter;stroke-opacity:0.8;\"/>\n<path class=\"bond-21 atom-15 atom-16\" d=\"M 292.5,103.5 L 323.8,133.8 L 314.1,135.4 L 291.1,113.1 Z\" style=\"fill:#7F7F7FCC;fill-rule:evenodd;fill-opacity:0.8;stroke:#7F7F7FCC;stroke-width:0.0px;stroke-linecap:butt;stroke-linejoin:miter;stroke-opacity:0.8;\"/>\n<path class=\"bond-23 atom-16 atom-17\" d=\"M 323.8,133.8 L 305.7,168.2 L 301.1,168.3 L 299.0,163.9 L 314.1,135.4 Z\" style=\"fill:#7F7F7FCC;fill-rule:evenodd;fill-opacity:0.8;stroke:#7F7F7FCC;stroke-width:0.0px;stroke-linecap:butt;stroke-linejoin:miter;stroke-opacity:0.8;\"/>\n<path class=\"bond-25 atom-17 atom-39\" d=\"M 268.0,158.4 L 299.0,163.9 L 301.1,168.3 L 298.7,171.9 L 265.9,166.0 L 264.6,161.8 Z\" style=\"fill:#7F7F7FCC;fill-rule:evenodd;fill-opacity:0.8;stroke:#7F7F7FCC;stroke-width:0.0px;stroke-linecap:butt;stroke-linejoin:miter;stroke-opacity:0.8;\"/>\n<path class=\"bond-27 atom-21 atom-22\" d=\"M 301.1,232.1 L 305.7,232.2 L 323.8,266.6 L 314.1,265.1 L 299.0,236.5 Z\" style=\"fill:#7F7F7FCC;fill-rule:evenodd;fill-opacity:0.8;stroke:#7F7F7FCC;stroke-width:0.0px;stroke-linecap:butt;stroke-linejoin:miter;stroke-opacity:0.8;\"/>\n<path class=\"bond-28 atom-21 atom-40\" d=\"M 298.7,228.5 L 301.1,232.1 L 299.0,236.5 L 268.0,242.1 L 264.6,238.7 L 265.9,234.4 Z\" style=\"fill:#7F7F7FCC;fill-rule:evenodd;fill-opacity:0.8;stroke:#7F7F7FCC;stroke-width:0.0px;stroke-linecap:butt;stroke-linejoin:miter;stroke-opacity:0.8;\"/>\n<path class=\"bond-29 atom-22 atom-23\" d=\"M 314.1,265.1 L 323.8,266.6 L 292.5,296.9 L 291.1,287.3 Z\" style=\"fill:#7F7F7FCC;fill-rule:evenodd;fill-opacity:0.8;stroke:#7F7F7FCC;stroke-width:0.0px;stroke-linecap:butt;stroke-linejoin:miter;stroke-opacity:0.8;\"/>\n<path class=\"bond-31 atom-23 atom-24\" d=\"M 263.3,273.0 L 291.1,287.3 L 292.5,296.9 L 259.0,279.7 L 258.9,275.2 Z\" style=\"fill:#7F7F7FCC;fill-rule:evenodd;fill-opacity:0.8;stroke:#7F7F7FCC;stroke-width:0.0px;stroke-linecap:butt;stroke-linejoin:miter;stroke-opacity:0.8;\"/>\n<path class=\"bond-33 atom-24 atom-40\" d=\"M 264.6,238.7 L 268.0,242.1 L 263.3,273.0 L 258.9,275.2 L 255.3,272.8 L 260.4,240.0 Z\" style=\"fill:#7F7F7FCC;fill-rule:evenodd;fill-opacity:0.8;stroke:#7F7F7FCC;stroke-width:0.0px;stroke-linecap:butt;stroke-linejoin:miter;stroke-opacity:0.8;\"/>\n<path class=\"bond-35 atom-28 atom-29\" d=\"M 189.9,273.0 L 194.2,275.2 L 194.1,279.8 L 160.7,297.0 L 162.2,287.3 Z\" style=\"fill:#7F7F7FCC;fill-rule:evenodd;fill-opacity:0.8;stroke:#7F7F7FCC;stroke-width:0.0px;stroke-linecap:butt;stroke-linejoin:miter;stroke-opacity:0.8;\"/>\n<path class=\"bond-36 atom-28 atom-41\" d=\"M 188.6,238.7 L 192.8,240.0 L 197.9,272.8 L 194.2,275.2 L 189.9,273.0 L 185.1,242.1 Z\" style=\"fill:#7F7F7FCC;fill-rule:evenodd;fill-opacity:0.8;stroke:#7F7F7FCC;stroke-width:0.0px;stroke-linecap:butt;stroke-linejoin:miter;stroke-opacity:0.8;\"/>\n<path class=\"bond-37 atom-29 atom-30\" d=\"M 140.0,265.1 L 162.2,287.3 L 160.7,297.0 L 130.3,266.6 Z\" style=\"fill:#7F7F7FCC;fill-rule:evenodd;fill-opacity:0.8;stroke:#7F7F7FCC;stroke-width:0.0px;stroke-linecap:butt;stroke-linejoin:miter;stroke-opacity:0.8;\"/>\n<path class=\"bond-39 atom-30 atom-31\" d=\"M 152.0,232.1 L 154.2,236.5 L 140.0,265.1 L 130.3,266.6 L 147.5,232.3 Z\" style=\"fill:#7F7F7FCC;fill-rule:evenodd;fill-opacity:0.8;stroke:#7F7F7FCC;stroke-width:0.0px;stroke-linecap:butt;stroke-linejoin:miter;stroke-opacity:0.8;\"/>\n<path class=\"bond-41 atom-31 atom-41\" d=\"M 154.5,228.5 L 187.2,234.4 L 188.6,238.7 L 185.1,242.1 L 154.2,236.5 L 152.0,232.1 Z\" style=\"fill:#7F7F7FCC;fill-rule:evenodd;fill-opacity:0.8;stroke:#7F7F7FCC;stroke-width:0.0px;stroke-linecap:butt;stroke-linejoin:miter;stroke-opacity:0.8;\"/>\n<path class=\"bond-46 atom-38 atom-42\" d=\"M 192.8,160.4 L 226.2,194.6 L 226.1,200.2 L 220.6,200.2 L 187.2,166.0 L 188.6,161.8 Z\" style=\"fill:#7F7F7FCC;fill-rule:evenodd;fill-opacity:0.8;stroke:#7F7F7FCC;stroke-width:0.0px;stroke-linecap:butt;stroke-linejoin:miter;stroke-opacity:0.8;\"/>\n<path class=\"bond-47 atom-39 atom-42\" d=\"M 260.4,160.4 L 264.6,161.8 L 265.9,166.0 L 231.7,200.2 L 226.1,200.2 L 226.2,194.6 Z\" style=\"fill:#7F7F7FCC;fill-rule:evenodd;fill-opacity:0.8;stroke:#7F7F7FCC;stroke-width:0.0px;stroke-linecap:butt;stroke-linejoin:miter;stroke-opacity:0.8;\"/>\n<path class=\"bond-48 atom-40 atom-42\" d=\"M 226.1,200.2 L 231.7,200.2 L 265.9,234.4 L 264.6,238.7 L 260.4,240.0 L 226.2,205.8 Z\" style=\"fill:#7F7F7FCC;fill-rule:evenodd;fill-opacity:0.8;stroke:#7F7F7FCC;stroke-width:0.0px;stroke-linecap:butt;stroke-linejoin:miter;stroke-opacity:0.8;\"/>\n<path class=\"bond-49 atom-41 atom-42\" d=\"M 226.1,200.2 L 226.2,205.8 L 192.8,240.0 L 188.6,238.7 L 187.2,234.4 L 220.6,200.2 Z\" style=\"fill:#7F7F7FCC;fill-rule:evenodd;fill-opacity:0.8;stroke:#7F7F7FCC;stroke-width:0.0px;stroke-linecap:butt;stroke-linejoin:miter;stroke-opacity:0.8;\"/>\n<ellipse cx=\"133.3\" cy=\"200.2\" rx=\"7.4\" ry=\"7.4\" class=\"atom-0\" style=\"fill:#7F7F7F66;fill-rule:evenodd;stroke:#7F7F7F66;stroke-width:1.0px;stroke-linecap:butt;stroke-linejoin:miter;stroke-opacity:1\"/>\n<ellipse cx=\"226.1\" cy=\"106.4\" rx=\"7.4\" ry=\"7.4\" class=\"atom-1\" style=\"fill:#7F7F7F66;fill-rule:evenodd;stroke:#7F7F7F66;stroke-width:1.0px;stroke-linecap:butt;stroke-linejoin:miter;stroke-opacity:1\"/>\n<ellipse cx=\"319.9\" cy=\"200.2\" rx=\"7.4\" ry=\"7.4\" class=\"atom-2\" style=\"fill:#7F7F7F66;fill-rule:evenodd;stroke:#7F7F7F66;stroke-width:1.0px;stroke-linecap:butt;stroke-linejoin:miter;stroke-opacity:1\"/>\n<ellipse cx=\"226.1\" cy=\"294.0\" rx=\"7.4\" ry=\"7.4\" class=\"atom-3\" style=\"fill:#7F7F7F66;fill-rule:evenodd;stroke:#7F7F7F66;stroke-width:1.0px;stroke-linecap:butt;stroke-linejoin:miter;stroke-opacity:1\"/>\n<ellipse cx=\"152.0\" cy=\"168.3\" rx=\"7.4\" ry=\"7.4\" class=\"atom-4\" style=\"fill:#7F7F7F66;fill-rule:evenodd;stroke:#7F7F7F66;stroke-width:1.0px;stroke-linecap:butt;stroke-linejoin:miter;stroke-opacity:1\"/>\n<ellipse cx=\"135.2\" cy=\"134.6\" rx=\"7.4\" ry=\"7.4\" class=\"atom-5\" style=\"fill:#7F7F7F66;fill-rule:evenodd;stroke:#7F7F7F66;stroke-width:1.0px;stroke-linecap:butt;stroke-linejoin:miter;stroke-opacity:1\"/>\n<ellipse cx=\"161.4\" cy=\"108.3\" rx=\"7.4\" ry=\"7.4\" class=\"atom-6\" style=\"fill:#7F7F7F66;fill-rule:evenodd;stroke:#7F7F7F66;stroke-width:1.0px;stroke-linecap:butt;stroke-linejoin:miter;stroke-opacity:1\"/>\n<ellipse cx=\"194.2\" cy=\"125.2\" rx=\"7.4\" ry=\"7.4\" class=\"atom-7\" style=\"fill:#7F7F7F66;fill-rule:evenodd;stroke:#7F7F7F66;stroke-width:1.0px;stroke-linecap:butt;stroke-linejoin:miter;stroke-opacity:1\"/>\n<ellipse cx=\"258.9\" cy=\"125.2\" rx=\"7.4\" ry=\"7.4\" class=\"atom-14\" style=\"fill:#7F7F7F66;fill-rule:evenodd;stroke:#7F7F7F66;stroke-width:1.0px;stroke-linecap:butt;stroke-linejoin:miter;stroke-opacity:1\"/>\n<ellipse cx=\"291.8\" cy=\"108.3\" rx=\"7.4\" ry=\"7.4\" class=\"atom-15\" style=\"fill:#7F7F7F66;fill-rule:evenodd;stroke:#7F7F7F66;stroke-width:1.0px;stroke-linecap:butt;stroke-linejoin:miter;stroke-opacity:1\"/>\n<ellipse cx=\"319.0\" cy=\"134.6\" rx=\"7.4\" ry=\"7.4\" class=\"atom-16\" style=\"fill:#7F7F7F66;fill-rule:evenodd;stroke:#7F7F7F66;stroke-width:1.0px;stroke-linecap:butt;stroke-linejoin:miter;stroke-opacity:1\"/>\n<ellipse cx=\"301.1\" cy=\"168.3\" rx=\"7.4\" ry=\"7.4\" class=\"atom-17\" style=\"fill:#7F7F7F66;fill-rule:evenodd;stroke:#7F7F7F66;stroke-width:1.0px;stroke-linecap:butt;stroke-linejoin:miter;stroke-opacity:1\"/>\n<ellipse cx=\"301.1\" cy=\"232.1\" rx=\"7.4\" ry=\"7.4\" class=\"atom-21\" style=\"fill:#7F7F7F66;fill-rule:evenodd;stroke:#7F7F7F66;stroke-width:1.0px;stroke-linecap:butt;stroke-linejoin:miter;stroke-opacity:1\"/>\n<ellipse cx=\"319.0\" cy=\"265.9\" rx=\"7.4\" ry=\"7.4\" class=\"atom-22\" style=\"fill:#7F7F7F66;fill-rule:evenodd;stroke:#7F7F7F66;stroke-width:1.0px;stroke-linecap:butt;stroke-linejoin:miter;stroke-opacity:1\"/>\n<ellipse cx=\"291.8\" cy=\"292.1\" rx=\"7.4\" ry=\"7.4\" class=\"atom-23\" style=\"fill:#7F7F7F66;fill-rule:evenodd;stroke:#7F7F7F66;stroke-width:1.0px;stroke-linecap:butt;stroke-linejoin:miter;stroke-opacity:1\"/>\n<ellipse cx=\"258.9\" cy=\"275.2\" rx=\"7.4\" ry=\"7.4\" class=\"atom-24\" style=\"fill:#7F7F7F66;fill-rule:evenodd;stroke:#7F7F7F66;stroke-width:1.0px;stroke-linecap:butt;stroke-linejoin:miter;stroke-opacity:1\"/>\n<ellipse cx=\"194.2\" cy=\"275.2\" rx=\"7.4\" ry=\"7.4\" class=\"atom-28\" style=\"fill:#7F7F7F66;fill-rule:evenodd;stroke:#7F7F7F66;stroke-width:1.0px;stroke-linecap:butt;stroke-linejoin:miter;stroke-opacity:1\"/>\n<ellipse cx=\"161.4\" cy=\"292.1\" rx=\"7.4\" ry=\"7.4\" class=\"atom-29\" style=\"fill:#7F7F7F66;fill-rule:evenodd;stroke:#7F7F7F66;stroke-width:1.0px;stroke-linecap:butt;stroke-linejoin:miter;stroke-opacity:1\"/>\n<ellipse cx=\"135.2\" cy=\"265.9\" rx=\"7.4\" ry=\"7.4\" class=\"atom-30\" style=\"fill:#7F7F7F66;fill-rule:evenodd;stroke:#7F7F7F66;stroke-width:1.0px;stroke-linecap:butt;stroke-linejoin:miter;stroke-opacity:1\"/>\n<ellipse cx=\"152.0\" cy=\"232.1\" rx=\"7.4\" ry=\"7.4\" class=\"atom-31\" style=\"fill:#7F7F7F66;fill-rule:evenodd;stroke:#7F7F7F66;stroke-width:1.0px;stroke-linecap:butt;stroke-linejoin:miter;stroke-opacity:1\"/>\n<ellipse cx=\"188.6\" cy=\"161.8\" rx=\"7.4\" ry=\"7.4\" class=\"atom-38\" style=\"fill:#7F7F7F66;fill-rule:evenodd;stroke:#7F7F7F66;stroke-width:1.0px;stroke-linecap:butt;stroke-linejoin:miter;stroke-opacity:1\"/>\n<ellipse cx=\"264.6\" cy=\"161.8\" rx=\"7.4\" ry=\"7.4\" class=\"atom-39\" style=\"fill:#7F7F7F66;fill-rule:evenodd;stroke:#7F7F7F66;stroke-width:1.0px;stroke-linecap:butt;stroke-linejoin:miter;stroke-opacity:1\"/>\n<ellipse cx=\"264.6\" cy=\"238.7\" rx=\"7.4\" ry=\"7.4\" class=\"atom-40\" style=\"fill:#7F7F7F66;fill-rule:evenodd;stroke:#7F7F7F66;stroke-width:1.0px;stroke-linecap:butt;stroke-linejoin:miter;stroke-opacity:1\"/>\n<ellipse cx=\"188.6\" cy=\"238.7\" rx=\"7.4\" ry=\"7.4\" class=\"atom-41\" style=\"fill:#7F7F7F66;fill-rule:evenodd;stroke:#7F7F7F66;stroke-width:1.0px;stroke-linecap:butt;stroke-linejoin:miter;stroke-opacity:1\"/>\n<ellipse cx=\"222.5\" cy=\"200.3\" rx=\"9.9\" ry=\"7.5\" class=\"atom-42\" style=\"fill:#7F7F7F66;fill-rule:evenodd;stroke:#7F7F7F66;stroke-width:1.0px;stroke-linecap:butt;stroke-linejoin:miter;stroke-opacity:1\"/>\n<path class=\"bond-0 atom-0 atom-4\" d=\"M 133.3,200.2 L 152.0,168.3\" style=\"fill:none;fill-rule:evenodd;stroke:#000000;stroke-width:2.0px;stroke-linecap:butt;stroke-linejoin:miter;stroke-opacity:1\"/>\n<path class=\"bond-1 atom-0 atom-31\" d=\"M 133.3,200.2 L 152.0,232.1\" style=\"fill:none;fill-rule:evenodd;stroke:#000000;stroke-width:2.0px;stroke-linecap:butt;stroke-linejoin:miter;stroke-opacity:1\"/>\n<path class=\"bond-1 atom-0 atom-31\" d=\"M 140.0,200.2 L 155.7,226.9\" style=\"fill:none;fill-rule:evenodd;stroke:#000000;stroke-width:2.0px;stroke-linecap:butt;stroke-linejoin:miter;stroke-opacity:1\"/>\n<path class=\"bond-2 atom-1 atom-7\" d=\"M 226.1,106.4 L 194.2,125.2\" style=\"fill:none;fill-rule:evenodd;stroke:#000000;stroke-width:2.0px;stroke-linecap:butt;stroke-linejoin:miter;stroke-opacity:1\"/>\n<path class=\"bond-3 atom-1 atom-14\" d=\"M 226.1,106.4 L 258.9,125.2\" style=\"fill:none;fill-rule:evenodd;stroke:#000000;stroke-width:2.0px;stroke-linecap:butt;stroke-linejoin:miter;stroke-opacity:1\"/>\n<path class=\"bond-3 atom-1 atom-14\" d=\"M 226.2,113.1 L 253.6,128.8\" style=\"fill:none;fill-rule:evenodd;stroke:#000000;stroke-width:2.0px;stroke-linecap:butt;stroke-linejoin:miter;stroke-opacity:1\"/>\n<path class=\"bond-4 atom-2 atom-17\" d=\"M 319.9,200.2 L 301.1,168.3\" style=\"fill:none;fill-rule:evenodd;stroke:#000000;stroke-width:2.0px;stroke-linecap:butt;stroke-linejoin:miter;stroke-opacity:1\"/>\n<path class=\"bond-5 atom-2 atom-21\" d=\"M 319.9,200.2 L 301.1,232.1\" style=\"fill:none;fill-rule:evenodd;stroke:#000000;stroke-width:2.0px;stroke-linecap:butt;stroke-linejoin:miter;stroke-opacity:1\"/>\n<path class=\"bond-5 atom-2 atom-21\" d=\"M 313.2,200.2 L 297.5,226.9\" style=\"fill:none;fill-rule:evenodd;stroke:#000000;stroke-width:2.0px;stroke-linecap:butt;stroke-linejoin:miter;stroke-opacity:1\"/>\n<path class=\"bond-6 atom-3 atom-24\" d=\"M 226.1,294.0 L 258.9,275.2\" style=\"fill:none;fill-rule:evenodd;stroke:#000000;stroke-width:2.0px;stroke-linecap:butt;stroke-linejoin:miter;stroke-opacity:1\"/>\n<path class=\"bond-6 atom-3 atom-24\" d=\"M 226.2,287.3 L 253.6,271.6\" style=\"fill:none;fill-rule:evenodd;stroke:#000000;stroke-width:2.0px;stroke-linecap:butt;stroke-linejoin:miter;stroke-opacity:1\"/>\n<path class=\"bond-7 atom-3 atom-28\" d=\"M 226.1,294.0 L 194.2,275.2\" style=\"fill:none;fill-rule:evenodd;stroke:#000000;stroke-width:2.0px;stroke-linecap:butt;stroke-linejoin:miter;stroke-opacity:1\"/>\n<path class=\"bond-8 atom-4 atom-5\" d=\"M 152.0,168.3 L 135.2,134.6\" style=\"fill:none;fill-rule:evenodd;stroke:#000000;stroke-width:2.0px;stroke-linecap:butt;stroke-linejoin:miter;stroke-opacity:1\"/>\n<path class=\"bond-8 atom-4 atom-5\" d=\"M 155.3,161.9 L 142.2,135.7\" style=\"fill:none;fill-rule:evenodd;stroke:#000000;stroke-width:2.0px;stroke-linecap:butt;stroke-linejoin:miter;stroke-opacity:1\"/>\n<path class=\"bond-9 atom-4 atom-38\" d=\"M 152.0,168.3 L 167.7,165.5\" style=\"fill:none;fill-rule:evenodd;stroke:#000000;stroke-width:2.0px;stroke-linecap:butt;stroke-linejoin:miter;stroke-opacity:1\"/>\n<path class=\"bond-9 atom-4 atom-38\" d=\"M 167.7,165.5 L 183.4,162.7\" style=\"fill:none;fill-rule:evenodd;stroke:#0000FF;stroke-width:2.0px;stroke-linecap:butt;stroke-linejoin:miter;stroke-opacity:1\"/>\n<path class=\"bond-10 atom-5 atom-6\" d=\"M 135.2,134.6 L 161.4,108.3\" style=\"fill:none;fill-rule:evenodd;stroke:#000000;stroke-width:2.0px;stroke-linecap:butt;stroke-linejoin:miter;stroke-opacity:1\"/>\n<path class=\"bond-11 atom-5 atom-9\" d=\"M 135.2,134.6 L 97.9,128.4\" style=\"fill:none;fill-rule:evenodd;stroke:#000000;stroke-width:2.0px;stroke-linecap:butt;stroke-linejoin:miter;stroke-opacity:1\"/>\n<path class=\"bond-12 atom-6 atom-7\" d=\"M 161.4,108.3 L 194.2,125.2\" style=\"fill:none;fill-rule:evenodd;stroke:#000000;stroke-width:2.0px;stroke-linecap:butt;stroke-linejoin:miter;stroke-opacity:1\"/>\n<path class=\"bond-12 atom-6 atom-7\" d=\"M 162.5,115.4 L 187.9,128.4\" style=\"fill:none;fill-rule:evenodd;stroke:#000000;stroke-width:2.0px;stroke-linecap:butt;stroke-linejoin:miter;stroke-opacity:1\"/>\n<path class=\"bond-13 atom-6 atom-8\" d=\"M 161.4,108.3 L 155.6,71.6\" style=\"fill:none;fill-rule:evenodd;stroke:#000000;stroke-width:2.0px;stroke-linecap:butt;stroke-linejoin:miter;stroke-opacity:1\"/>\n<path class=\"bond-14 atom-7 atom-38\" d=\"M 194.2,125.2 L 191.9,140.2\" style=\"fill:none;fill-rule:evenodd;stroke:#000000;stroke-width:2.0px;stroke-linecap:butt;stroke-linejoin:miter;stroke-opacity:1\"/>\n<path class=\"bond-14 atom-7 atom-38\" d=\"M 191.9,140.2 L 189.6,155.2\" style=\"fill:none;fill-rule:evenodd;stroke:#0000FF;stroke-width:2.0px;stroke-linecap:butt;stroke-linejoin:miter;stroke-opacity:1\"/>\n<path class=\"bond-15 atom-9 atom-10\" d=\"M 97.9,128.4 L 84.9,93.7\" style=\"fill:none;fill-rule:evenodd;stroke:#000000;stroke-width:2.0px;stroke-linecap:butt;stroke-linejoin:miter;stroke-opacity:1\"/>\n<path class=\"bond-16 atom-10 atom-11\" d=\"M 84.9,93.7 L 48.4,87.6\" style=\"fill:none;fill-rule:evenodd;stroke:#000000;stroke-width:2.0px;stroke-linecap:butt;stroke-linejoin:miter;stroke-opacity:1\"/>\n<path class=\"bond-17 atom-11 atom-12\" d=\"M 47.2,84.5 L 37.6,96.2\" style=\"fill:none;fill-rule:evenodd;stroke:#000000;stroke-width:2.0px;stroke-linecap:butt;stroke-linejoin:miter;stroke-opacity:1\"/>\n<path class=\"bond-17 atom-11 atom-12\" d=\"M 37.6,96.2 L 28.0,107.8\" style=\"fill:none;fill-rule:evenodd;stroke:#FF0000;stroke-width:2.0px;stroke-linecap:butt;stroke-linejoin:miter;stroke-opacity:1\"/>\n<path class=\"bond-17 atom-11 atom-12\" d=\"M 51.6,88.2 L 42.1,99.8\" style=\"fill:none;fill-rule:evenodd;stroke:#000000;stroke-width:2.0px;stroke-linecap:butt;stroke-linejoin:miter;stroke-opacity:1\"/>\n<path class=\"bond-17 atom-11 atom-12\" d=\"M 42.1,99.8 L 32.5,111.5\" style=\"fill:none;fill-rule:evenodd;stroke:#FF0000;stroke-width:2.0px;stroke-linecap:butt;stroke-linejoin:miter;stroke-opacity:1\"/>\n<path class=\"bond-18 atom-11 atom-13\" d=\"M 48.4,87.6 L 43.1,73.7\" style=\"fill:none;fill-rule:evenodd;stroke:#000000;stroke-width:2.0px;stroke-linecap:butt;stroke-linejoin:miter;stroke-opacity:1\"/>\n<path class=\"bond-18 atom-11 atom-13\" d=\"M 43.1,73.7 L 37.9,59.7\" style=\"fill:none;fill-rule:evenodd;stroke:#FF0000;stroke-width:2.0px;stroke-linecap:butt;stroke-linejoin:miter;stroke-opacity:1\"/>\n<path class=\"bond-19 atom-14 atom-15\" d=\"M 258.9,125.2 L 291.8,108.3\" style=\"fill:none;fill-rule:evenodd;stroke:#000000;stroke-width:2.0px;stroke-linecap:butt;stroke-linejoin:miter;stroke-opacity:1\"/>\n<path class=\"bond-20 atom-14 atom-39\" d=\"M 258.9,125.2 L 261.3,140.2\" style=\"fill:none;fill-rule:evenodd;stroke:#000000;stroke-width:2.0px;stroke-linecap:butt;stroke-linejoin:miter;stroke-opacity:1\"/>\n<path class=\"bond-20 atom-14 atom-39\" d=\"M 261.3,140.2 L 263.6,155.2\" style=\"fill:none;fill-rule:evenodd;stroke:#0000FF;stroke-width:2.0px;stroke-linecap:butt;stroke-linejoin:miter;stroke-opacity:1\"/>\n<path class=\"bond-21 atom-15 atom-16\" d=\"M 291.8,108.3 L 319.0,134.6\" style=\"fill:none;fill-rule:evenodd;stroke:#000000;stroke-width:2.0px;stroke-linecap:butt;stroke-linejoin:miter;stroke-opacity:1\"/>\n<path class=\"bond-21 atom-15 atom-16\" d=\"M 290.7,115.4 L 311.8,135.7\" style=\"fill:none;fill-rule:evenodd;stroke:#000000;stroke-width:2.0px;stroke-linecap:butt;stroke-linejoin:miter;stroke-opacity:1\"/>\n<path class=\"bond-22 atom-15 atom-18\" d=\"M 291.8,108.3 L 297.4,71.8\" style=\"fill:none;fill-rule:evenodd;stroke:#000000;stroke-width:2.0px;stroke-linecap:butt;stroke-linejoin:miter;stroke-opacity:1\"/>\n<path class=\"bond-23 atom-16 atom-17\" d=\"M 319.0,134.6 L 301.1,168.3\" style=\"fill:none;fill-rule:evenodd;stroke:#000000;stroke-width:2.0px;stroke-linecap:butt;stroke-linejoin:miter;stroke-opacity:1\"/>\n<path class=\"bond-24 atom-16 atom-19\" d=\"M 319.0,134.6 L 356.2,128.0\" style=\"fill:none;fill-rule:evenodd;stroke:#000000;stroke-width:2.0px;stroke-linecap:butt;stroke-linejoin:miter;stroke-opacity:1\"/>\n<path class=\"bond-25 atom-17 atom-39\" d=\"M 301.1,168.3 L 285.5,165.5\" style=\"fill:none;fill-rule:evenodd;stroke:#000000;stroke-width:2.0px;stroke-linecap:butt;stroke-linejoin:miter;stroke-opacity:1\"/>\n<path class=\"bond-25 atom-17 atom-39\" d=\"M 285.5,165.5 L 269.8,162.7\" style=\"fill:none;fill-rule:evenodd;stroke:#0000FF;stroke-width:2.0px;stroke-linecap:butt;stroke-linejoin:miter;stroke-opacity:1\"/>\n<path class=\"bond-25 atom-17 atom-39\" d=\"M 298.0,161.9 L 284.4,159.5\" style=\"fill:none;fill-rule:evenodd;stroke:#000000;stroke-width:2.0px;stroke-linecap:butt;stroke-linejoin:miter;stroke-opacity:1\"/>\n<path class=\"bond-25 atom-17 atom-39\" d=\"M 284.4,159.5 L 270.8,157.0\" style=\"fill:none;fill-rule:evenodd;stroke:#0000FF;stroke-width:2.0px;stroke-linecap:butt;stroke-linejoin:miter;stroke-opacity:1\"/>\n<path class=\"bond-26 atom-19 atom-20\" d=\"M 356.2,128.0 L 380.0,156.4\" style=\"fill:none;fill-rule:evenodd;stroke:#000000;stroke-width:2.0px;stroke-linecap:butt;stroke-linejoin:miter;stroke-opacity:1\"/>\n<path class=\"bond-26 atom-19 atom-20\" d=\"M 353.9,134.3 L 375.6,160.1\" style=\"fill:none;fill-rule:evenodd;stroke:#000000;stroke-width:2.0px;stroke-linecap:butt;stroke-linejoin:miter;stroke-opacity:1\"/>\n<path class=\"bond-27 atom-21 atom-22\" d=\"M 301.1,232.1 L 319.0,265.9\" style=\"fill:none;fill-rule:evenodd;stroke:#000000;stroke-width:2.0px;stroke-linecap:butt;stroke-linejoin:miter;stroke-opacity:1\"/>\n<path class=\"bond-28 atom-21 atom-40\" d=\"M 301.1,232.1 L 285.5,234.9\" style=\"fill:none;fill-rule:evenodd;stroke:#000000;stroke-width:2.0px;stroke-linecap:butt;stroke-linejoin:miter;stroke-opacity:1\"/>\n<path class=\"bond-28 atom-21 atom-40\" d=\"M 285.5,234.9 L 269.8,237.7\" style=\"fill:none;fill-rule:evenodd;stroke:#0000FF;stroke-width:2.0px;stroke-linecap:butt;stroke-linejoin:miter;stroke-opacity:1\"/>\n<path class=\"bond-29 atom-22 atom-23\" d=\"M 319.0,265.9 L 291.8,292.1\" style=\"fill:none;fill-rule:evenodd;stroke:#000000;stroke-width:2.0px;stroke-linecap:butt;stroke-linejoin:miter;stroke-opacity:1\"/>\n<path class=\"bond-29 atom-22 atom-23\" d=\"M 311.8,264.7 L 290.7,285.1\" style=\"fill:none;fill-rule:evenodd;stroke:#000000;stroke-width:2.0px;stroke-linecap:butt;stroke-linejoin:miter;stroke-opacity:1\"/>\n<path class=\"bond-30 atom-22 atom-25\" d=\"M 319.0,265.9 L 356.7,271.3\" style=\"fill:none;fill-rule:evenodd;stroke:#000000;stroke-width:2.0px;stroke-linecap:butt;stroke-linejoin:miter;stroke-opacity:1\"/>\n<path class=\"bond-31 atom-23 atom-24\" d=\"M 291.8,292.1 L 258.9,275.2\" style=\"fill:none;fill-rule:evenodd;stroke:#000000;stroke-width:2.0px;stroke-linecap:butt;stroke-linejoin:miter;stroke-opacity:1\"/>\n<path class=\"bond-32 atom-23 atom-26\" d=\"M 291.8,292.1 L 297.0,329.6\" style=\"fill:none;fill-rule:evenodd;stroke:#000000;stroke-width:2.0px;stroke-linecap:butt;stroke-linejoin:miter;stroke-opacity:1\"/>\n<path class=\"bond-33 atom-24 atom-40\" d=\"M 258.9,275.2 L 261.3,260.2\" style=\"fill:none;fill-rule:evenodd;stroke:#000000;stroke-width:2.0px;stroke-linecap:butt;stroke-linejoin:miter;stroke-opacity:1\"/>\n<path class=\"bond-33 atom-24 atom-40\" d=\"M 261.3,260.2 L 263.6,245.2\" style=\"fill:none;fill-rule:evenodd;stroke:#0000FF;stroke-width:2.0px;stroke-linecap:butt;stroke-linejoin:miter;stroke-opacity:1\"/>\n<path class=\"bond-34 atom-26 atom-27\" d=\"M 297.0,329.6 L 267.8,352.4\" style=\"fill:none;fill-rule:evenodd;stroke:#000000;stroke-width:2.0px;stroke-linecap:butt;stroke-linejoin:miter;stroke-opacity:1\"/>\n<path class=\"bond-34 atom-26 atom-27\" d=\"M 290.8,327.0 L 264.3,347.8\" style=\"fill:none;fill-rule:evenodd;stroke:#000000;stroke-width:2.0px;stroke-linecap:butt;stroke-linejoin:miter;stroke-opacity:1\"/>\n<path class=\"bond-35 atom-28 atom-29\" d=\"M 194.2,275.2 L 161.4,292.1\" style=\"fill:none;fill-rule:evenodd;stroke:#000000;stroke-width:2.0px;stroke-linecap:butt;stroke-linejoin:miter;stroke-opacity:1\"/>\n<path class=\"bond-36 atom-28 atom-41\" d=\"M 194.2,275.2 L 191.9,260.2\" style=\"fill:none;fill-rule:evenodd;stroke:#000000;stroke-width:2.0px;stroke-linecap:butt;stroke-linejoin:miter;stroke-opacity:1\"/>\n<path class=\"bond-36 atom-28 atom-41\" d=\"M 191.9,260.2 L 189.6,245.2\" style=\"fill:none;fill-rule:evenodd;stroke:#0000FF;stroke-width:2.0px;stroke-linecap:butt;stroke-linejoin:miter;stroke-opacity:1\"/>\n<path class=\"bond-36 atom-28 atom-41\" d=\"M 187.9,272.0 L 185.9,259.0\" style=\"fill:none;fill-rule:evenodd;stroke:#000000;stroke-width:2.0px;stroke-linecap:butt;stroke-linejoin:miter;stroke-opacity:1\"/>\n<path class=\"bond-36 atom-28 atom-41\" d=\"M 185.9,259.0 L 183.9,246.1\" style=\"fill:none;fill-rule:evenodd;stroke:#0000FF;stroke-width:2.0px;stroke-linecap:butt;stroke-linejoin:miter;stroke-opacity:1\"/>\n<path class=\"bond-37 atom-29 atom-30\" d=\"M 161.4,292.1 L 135.2,265.9\" style=\"fill:none;fill-rule:evenodd;stroke:#000000;stroke-width:2.0px;stroke-linecap:butt;stroke-linejoin:miter;stroke-opacity:1\"/>\n<path class=\"bond-37 atom-29 atom-30\" d=\"M 162.5,285.0 L 142.2,264.7\" style=\"fill:none;fill-rule:evenodd;stroke:#000000;stroke-width:2.0px;stroke-linecap:butt;stroke-linejoin:miter;stroke-opacity:1\"/>\n<path class=\"bond-38 atom-29 atom-32\" d=\"M 161.4,292.1 L 155.8,328.6\" style=\"fill:none;fill-rule:evenodd;stroke:#000000;stroke-width:2.0px;stroke-linecap:butt;stroke-linejoin:miter;stroke-opacity:1\"/>\n<path class=\"bond-39 atom-30 atom-31\" d=\"M 135.2,265.9 L 152.0,232.1\" style=\"fill:none;fill-rule:evenodd;stroke:#000000;stroke-width:2.0px;stroke-linecap:butt;stroke-linejoin:miter;stroke-opacity:1\"/>\n<path class=\"bond-40 atom-30 atom-33\" d=\"M 135.2,265.9 L 98.5,271.7\" style=\"fill:none;fill-rule:evenodd;stroke:#000000;stroke-width:2.0px;stroke-linecap:butt;stroke-linejoin:miter;stroke-opacity:1\"/>\n<path class=\"bond-41 atom-31 atom-41\" d=\"M 152.0,232.1 L 167.7,234.9\" style=\"fill:none;fill-rule:evenodd;stroke:#000000;stroke-width:2.0px;stroke-linecap:butt;stroke-linejoin:miter;stroke-opacity:1\"/>\n<path class=\"bond-41 atom-31 atom-41\" d=\"M 167.7,234.9 L 183.4,237.7\" style=\"fill:none;fill-rule:evenodd;stroke:#0000FF;stroke-width:2.0px;stroke-linecap:butt;stroke-linejoin:miter;stroke-opacity:1\"/>\n<path class=\"bond-42 atom-33 atom-34\" d=\"M 98.5,271.7 L 85.2,306.3\" style=\"fill:none;fill-rule:evenodd;stroke:#000000;stroke-width:2.0px;stroke-linecap:butt;stroke-linejoin:miter;stroke-opacity:1\"/>\n<path class=\"bond-43 atom-34 atom-35\" d=\"M 85.2,306.3 L 48.6,312.1\" style=\"fill:none;fill-rule:evenodd;stroke:#000000;stroke-width:2.0px;stroke-linecap:butt;stroke-linejoin:miter;stroke-opacity:1\"/>\n<path class=\"bond-44 atom-35 atom-36\" d=\"M 51.9,311.5 L 42.4,299.9\" style=\"fill:none;fill-rule:evenodd;stroke:#000000;stroke-width:2.0px;stroke-linecap:butt;stroke-linejoin:miter;stroke-opacity:1\"/>\n<path class=\"bond-44 atom-35 atom-36\" d=\"M 42.4,299.9 L 33.0,288.2\" style=\"fill:none;fill-rule:evenodd;stroke:#FF0000;stroke-width:2.0px;stroke-linecap:butt;stroke-linejoin:miter;stroke-opacity:1\"/>\n<path class=\"bond-44 atom-35 atom-36\" d=\"M 47.4,315.2 L 37.9,303.5\" style=\"fill:none;fill-rule:evenodd;stroke:#000000;stroke-width:2.0px;stroke-linecap:butt;stroke-linejoin:miter;stroke-opacity:1\"/>\n<path class=\"bond-44 atom-35 atom-36\" d=\"M 37.9,303.5 L 28.5,291.8\" style=\"fill:none;fill-rule:evenodd;stroke:#FF0000;stroke-width:2.0px;stroke-linecap:butt;stroke-linejoin:miter;stroke-opacity:1\"/>\n<path class=\"bond-45 atom-35 atom-37\" d=\"M 48.6,312.1 L 43.2,326.1\" style=\"fill:none;fill-rule:evenodd;stroke:#000000;stroke-width:2.0px;stroke-linecap:butt;stroke-linejoin:miter;stroke-opacity:1\"/>\n<path class=\"bond-45 atom-35 atom-37\" d=\"M 43.2,326.1 L 37.8,340.1\" style=\"fill:none;fill-rule:evenodd;stroke:#FF0000;stroke-width:2.0px;stroke-linecap:butt;stroke-linejoin:miter;stroke-opacity:1\"/>\n<path class=\"bond-46 atom-42 atom-38\" d=\"M 219.8,193.7 L 206.8,180.4\" style=\"fill:none;fill-rule:evenodd;stroke:#000000;stroke-width:2.0px;stroke-linecap:butt;stroke-linejoin:miter;stroke-opacity:1\"/>\n<path class=\"bond-46 atom-42 atom-38\" d=\"M 206.8,180.4 L 193.9,167.2\" style=\"fill:none;fill-rule:evenodd;stroke:#0000FF;stroke-width:2.0px;stroke-linecap:butt;stroke-linejoin:miter;stroke-opacity:1\"/>\n<path class=\"bond-47 atom-39 atom-42\" d=\"M 259.3,167.0 L 244.6,181.7\" style=\"fill:none;fill-rule:evenodd;stroke:#0000FF;stroke-width:2.0px;stroke-linecap:butt;stroke-linejoin:miter;stroke-opacity:1;stroke-dasharray:1,1.33333\"/>\n<path class=\"bond-47 atom-39 atom-42\" d=\"M 244.6,181.7 L 229.9,196.4\" style=\"fill:none;fill-rule:evenodd;stroke:#000000;stroke-width:2.0px;stroke-linecap:butt;stroke-linejoin:miter;stroke-opacity:1;stroke-dasharray:1,1.33333\"/>\n<path class=\"bond-48 atom-42 atom-40\" d=\"M 230.8,204.9 L 245.0,219.1\" style=\"fill:none;fill-rule:evenodd;stroke:#000000;stroke-width:2.0px;stroke-linecap:butt;stroke-linejoin:miter;stroke-opacity:1\"/>\n<path class=\"bond-48 atom-42 atom-40\" d=\"M 245.0,219.1 L 259.3,233.4\" style=\"fill:none;fill-rule:evenodd;stroke:#0000FF;stroke-width:2.0px;stroke-linecap:butt;stroke-linejoin:miter;stroke-opacity:1\"/>\n<path class=\"bond-49 atom-41 atom-42\" d=\"M 193.9,233.3 L 206.8,220.0\" style=\"fill:none;fill-rule:evenodd;stroke:#0000FF;stroke-width:2.0px;stroke-linecap:butt;stroke-linejoin:miter;stroke-opacity:1;stroke-dasharray:1,1.33333\"/>\n<path class=\"bond-49 atom-41 atom-42\" d=\"M 206.8,220.0 L 219.8,206.7\" style=\"fill:none;fill-rule:evenodd;stroke:#000000;stroke-width:2.0px;stroke-linecap:butt;stroke-linejoin:miter;stroke-opacity:1;stroke-dasharray:1,1.33333\"/>\n<path d=\"M 134.2,198.6 L 133.3,200.2 L 134.2,201.8\" style=\"fill:none;stroke:#000000;stroke-width:2.0px;stroke-linecap:butt;stroke-linejoin:miter;stroke-opacity:1;\"/>\n<path d=\"M 224.5,107.4 L 226.1,106.4 L 227.8,107.4\" style=\"fill:none;stroke:#000000;stroke-width:2.0px;stroke-linecap:butt;stroke-linejoin:miter;stroke-opacity:1;\"/>\n<path d=\"M 319.0,198.6 L 319.9,200.2 L 319.0,201.8\" style=\"fill:none;stroke:#000000;stroke-width:2.0px;stroke-linecap:butt;stroke-linejoin:miter;stroke-opacity:1;\"/>\n<path d=\"M 227.8,293.1 L 226.1,294.0 L 224.5,293.1\" style=\"fill:none;stroke:#000000;stroke-width:2.0px;stroke-linecap:butt;stroke-linejoin:miter;stroke-opacity:1;\"/>\n<path d=\"M 99.8,128.7 L 97.9,128.4 L 97.3,126.7\" style=\"fill:none;stroke:#000000;stroke-width:2.0px;stroke-linecap:butt;stroke-linejoin:miter;stroke-opacity:1;\"/>\n<path d=\"M 85.6,95.4 L 84.9,93.7 L 83.1,93.4\" style=\"fill:none;stroke:#000000;stroke-width:2.0px;stroke-linecap:butt;stroke-linejoin:miter;stroke-opacity:1;\"/>\n<path d=\"M 50.2,87.9 L 48.4,87.6 L 48.1,86.9\" style=\"fill:none;stroke:#000000;stroke-width:2.0px;stroke-linecap:butt;stroke-linejoin:miter;stroke-opacity:1;\"/>\n<path d=\"M 354.3,128.3 L 356.2,128.0 L 357.4,129.4\" style=\"fill:none;stroke:#000000;stroke-width:2.0px;stroke-linecap:butt;stroke-linejoin:miter;stroke-opacity:1;\"/>\n<path d=\"M 296.8,327.7 L 297.0,329.6 L 295.6,330.7\" style=\"fill:none;stroke:#000000;stroke-width:2.0px;stroke-linecap:butt;stroke-linejoin:miter;stroke-opacity:1;\"/>\n<path d=\"M 100.3,271.4 L 98.5,271.7 L 97.8,273.4\" style=\"fill:none;stroke:#000000;stroke-width:2.0px;stroke-linecap:butt;stroke-linejoin:miter;stroke-opacity:1;\"/>\n<path d=\"M 85.9,304.5 L 85.2,306.3 L 83.4,306.5\" style=\"fill:none;stroke:#000000;stroke-width:2.0px;stroke-linecap:butt;stroke-linejoin:miter;stroke-opacity:1;\"/>\n<path d=\"M 50.4,311.8 L 48.6,312.1 L 48.3,312.8\" style=\"fill:none;stroke:#000000;stroke-width:2.0px;stroke-linecap:butt;stroke-linejoin:miter;stroke-opacity:1;\"/>\n<path class=\"atom-12\" d=\"M 20.0 116.3 Q 20.0 113.8, 21.2 112.4 Q 22.5 110.9, 24.8 110.9 Q 27.1 110.9, 28.4 112.4 Q 29.6 113.8, 29.6 116.3 Q 29.6 118.8, 28.4 120.3 Q 27.1 121.7, 24.8 121.7 Q 22.5 121.7, 21.2 120.3 Q 20.0 118.8, 20.0 116.3 M 24.8 120.5 Q 26.4 120.5, 27.3 119.5 Q 28.2 118.4, 28.2 116.3 Q 28.2 114.2, 27.3 113.2 Q 26.4 112.1, 24.8 112.1 Q 23.2 112.1, 22.3 113.2 Q 21.5 114.2, 21.5 116.3 Q 21.5 118.4, 22.3 119.5 Q 23.2 120.5, 24.8 120.5 \" fill=\"#FF0000\"/>\n<path class=\"atom-13\" d=\"M 20.2 47.8 L 21.6 47.8 L 21.6 52.2 L 26.9 52.2 L 26.9 47.8 L 28.4 47.8 L 28.4 58.2 L 26.9 58.2 L 26.9 53.4 L 21.6 53.4 L 21.6 58.2 L 20.2 58.2 L 20.2 47.8 \" fill=\"#FF0000\"/>\n<path class=\"atom-13\" d=\"M 30.5 53.0 Q 30.5 50.4, 31.8 49.0 Q 33.0 47.6, 35.3 47.6 Q 37.7 47.6, 38.9 49.0 Q 40.2 50.4, 40.2 53.0 Q 40.2 55.5, 38.9 57.0 Q 37.6 58.4, 35.3 58.4 Q 33.0 58.4, 31.8 57.0 Q 30.5 55.5, 30.5 53.0 M 35.3 57.2 Q 36.9 57.2, 37.8 56.2 Q 38.7 55.1, 38.7 53.0 Q 38.7 50.9, 37.8 49.9 Q 36.9 48.8, 35.3 48.8 Q 33.7 48.8, 32.9 49.9 Q 32.0 50.9, 32.0 53.0 Q 32.0 55.1, 32.9 56.2 Q 33.7 57.2, 35.3 57.2 \" fill=\"#FF0000\"/>\n<path class=\"atom-36\" d=\"M 20.5 283.3 Q 20.5 280.8, 21.7 279.4 Q 23.0 277.9, 25.3 277.9 Q 27.6 277.9, 28.9 279.4 Q 30.1 280.8, 30.1 283.3 Q 30.1 285.8, 28.8 287.3 Q 27.6 288.7, 25.3 288.7 Q 23.0 288.7, 21.7 287.3 Q 20.5 285.8, 20.5 283.3 M 25.3 287.5 Q 26.9 287.5, 27.7 286.5 Q 28.6 285.4, 28.6 283.3 Q 28.6 281.2, 27.7 280.2 Q 26.9 279.1, 25.3 279.1 Q 23.7 279.1, 22.8 280.2 Q 21.9 281.2, 21.9 283.3 Q 21.9 285.4, 22.8 286.5 Q 23.7 287.5, 25.3 287.5 \" fill=\"#FF0000\"/>\n<path class=\"atom-37\" d=\"M 20.1 341.5 L 21.6 341.5 L 21.6 345.9 L 26.9 345.9 L 26.9 341.5 L 28.3 341.5 L 28.3 351.9 L 26.9 351.9 L 26.9 347.1 L 21.6 347.1 L 21.6 351.9 L 20.1 351.9 L 20.1 341.5 \" fill=\"#FF0000\"/>\n<path class=\"atom-37\" d=\"M 30.5 346.7 Q 30.5 344.2, 31.7 342.7 Q 33.0 341.3, 35.3 341.3 Q 37.6 341.3, 38.9 342.7 Q 40.1 344.2, 40.1 346.7 Q 40.1 349.2, 38.9 350.7 Q 37.6 352.1, 35.3 352.1 Q 33.0 352.1, 31.7 350.7 Q 30.5 349.2, 30.5 346.7 M 35.3 350.9 Q 36.9 350.9, 37.8 349.9 Q 38.7 348.8, 38.7 346.7 Q 38.7 344.6, 37.8 343.6 Q 36.9 342.5, 35.3 342.5 Q 33.7 342.5, 32.8 343.6 Q 32.0 344.6, 32.0 346.7 Q 32.0 348.8, 32.8 349.9 Q 33.7 350.9, 35.3 350.9 \" fill=\"#FF0000\"/>\n<path class=\"atom-38\" d=\"M 186.3 156.5 L 189.7 162.1 Q 190.1 162.6, 190.6 163.6 Q 191.2 164.6, 191.2 164.7 L 191.2 156.5 L 192.6 156.5 L 192.6 167.0 L 191.1 167.0 L 187.5 160.9 Q 187.0 160.2, 186.6 159.4 Q 186.1 158.6, 186.0 158.3 L 186.0 167.0 L 184.6 167.0 L 184.6 156.5 L 186.3 156.5 \" fill=\"#0000FF\"/>\n<path class=\"atom-39\" d=\"M 262.2 156.5 L 265.7 162.1 Q 266.0 162.6, 266.6 163.6 Q 267.1 164.6, 267.2 164.7 L 267.2 156.5 L 268.5 156.5 L 268.5 167.0 L 267.1 167.0 L 263.4 160.9 Q 263.0 160.2, 262.5 159.4 Q 262.1 158.6, 261.9 158.3 L 261.9 167.0 L 260.6 167.0 L 260.6 156.5 L 262.2 156.5 \" fill=\"#0000FF\"/>\n<path class=\"atom-40\" d=\"M 262.2 233.4 L 265.7 239.0 Q 266.0 239.5, 266.6 240.5 Q 267.1 241.5, 267.2 241.6 L 267.2 233.4 L 268.5 233.4 L 268.5 243.9 L 267.1 243.9 L 263.4 237.8 Q 263.0 237.1, 262.5 236.3 Q 262.1 235.5, 261.9 235.2 L 261.9 243.9 L 260.6 243.9 L 260.6 233.4 L 262.2 233.4 \" fill=\"#0000FF\"/>\n<path class=\"atom-41\" d=\"M 186.3 233.4 L 189.7 239.0 Q 190.1 239.5, 190.6 240.5 Q 191.2 241.5, 191.2 241.6 L 191.2 233.4 L 192.6 233.4 L 192.6 243.9 L 191.1 243.9 L 187.5 237.8 Q 187.0 237.1, 186.6 236.3 Q 186.1 235.5, 186.0 235.2 L 186.0 243.9 L 184.6 243.9 L 184.6 233.4 L 186.3 233.4 \" fill=\"#0000FF\"/>\n<path class=\"atom-42\" d=\"M 215.5 195.0 L 221.8 195.0 L 221.8 196.2 L 216.9 196.2 L 216.9 199.4 L 221.2 199.4 L 221.2 200.6 L 216.9 200.6 L 216.9 205.5 L 215.5 205.5 L 215.5 195.0 \" fill=\"#000000\"/>\n<path class=\"atom-42\" d=\"M 222.7 201.6 Q 222.7 199.8, 223.7 198.8 Q 224.6 197.7, 226.3 197.7 Q 228.0 197.7, 228.7 198.7 Q 229.5 199.7, 229.5 201.6 L 229.5 201.8 L 224.2 201.8 Q 224.2 203.1, 224.8 203.8 Q 225.4 204.5, 226.4 204.5 Q 227.0 204.5, 227.6 204.4 Q 228.1 204.2, 228.8 203.9 L 229.2 204.9 Q 228.4 205.2, 227.8 205.4 Q 227.1 205.6, 226.4 205.6 Q 224.6 205.6, 223.7 204.5 Q 222.7 203.5, 222.7 201.6 M 226.3 198.8 Q 225.4 198.8, 224.9 199.3 Q 224.4 199.8, 224.2 200.8 L 228.0 200.8 Q 227.9 199.8, 227.5 199.3 Q 227.1 198.8, 226.3 198.8 \" fill=\"#000000\"/>\n</svg>",
            "text/plain": [
              "<IPython.core.display.SVG object>"
            ]
          },
          "execution_count": 67,
          "metadata": {},
          "output_type": "execute_result"
        }
      ],
      "source": [
        "SVG(\"hem_scaffold.svg\")"
      ]
    },
    {
      "cell_type": "markdown",
      "metadata": {
        "id": "_OEcc0Cxr_GT"
      },
      "source": [
        "##&nbsp; 1.7 Similarity using PARITY method"
      ]
    },
    {
      "cell_type": "markdown",
      "metadata": {
        "id": "y8beI-qIr_GT"
      },
      "source": [
        "PDBe CCDUtils supports comparison of small moelcules based on [PARITY](https://www.ncbi.nlm.nih.gov/pmc/articles/PMC5890617/) similarity score. PARITY represents the proportion of atoms of same type residing in identical topology between two small molecules"
      ]
    },
    {
      "cell_type": "code",
      "execution_count": null,
      "metadata": {
        "id": "A79VuGDcr_GT"
      },
      "outputs": [],
      "source": [
        "from pdbeccdutils.computations.parity_method import compare_molecules"
      ]
    },
    {
      "cell_type": "code",
      "execution_count": null,
      "metadata": {
        "id": "k1CmrndSr_GT"
      },
      "outputs": [],
      "source": [
        "heme_acetyl_cif = get_ligand_cif(\"HCO\", ligandType.CCD)\n",
        "heme_acetyl_component = ccd_reader.read_pdb_cif_file(heme_acetyl_cif).component"
      ]
    },
    {
      "cell_type": "code",
      "execution_count": null,
      "metadata": {
        "id": "5HScCv5fr_GT"
      },
      "outputs": [],
      "source": [
        "similarity = compare_molecules(hem_component.mol_no_h, heme_acetyl_component.mol_no_h)"
      ]
    },
    {
      "cell_type": "code",
      "execution_count": null,
      "metadata": {
        "colab": {
          "base_uri": "https://localhost:8080/"
        },
        "id": "43SXqfwnr_GT",
        "outputId": "57a13c2e-38e9-4cc0-fa2e-1e08f85c564b"
      },
      "outputs": [
        {
          "data": {
            "text/plain": [
              "ParityResult(mapping={0: 1, 4: 9, 5: 10, 6: 11, 7: 12, 38: 5, 42: 0, 40: 7, 21: 27, 2: 3, 17: 22, 39: 6, 14: 19, 1: 2, 15: 20, 16: 21, 19: 24, 20: 25, 18: 23, 22: 28, 23: 29, 24: 30, 3: 4, 28: 34, 41: 8, 31: 37, 30: 36, 29: 35, 32: 38, 33: 39, 34: 40, 35: 41, 36: 42, 37: 43, 26: 32, 27: 33, 25: 31, 8: 13, 9: 14, 10: 15, 11: 16, 12: 17, 13: 18}, similarity_score=0.9772727272727273)"
            ]
          },
          "execution_count": 71,
          "metadata": {},
          "output_type": "execute_result"
        }
      ],
      "source": [
        "similarity"
      ]
    },
    {
      "cell_type": "markdown",
      "metadata": {
        "id": "NENdxYQ7r_GU"
      },
      "source": [
        "##&nbsp; 1.8 Export to different formats"
      ]
    },
    {
      "cell_type": "markdown",
      "metadata": {
        "id": "Nj_Q15Ctr_GU"
      },
      "source": [
        "PDBe CCDUtils presently supports exporting of small molecule data to the following formats\n",
        "* CIF\n",
        "* PDB\n",
        "* SDF\n",
        "* CML"
      ]
    },
    {
      "cell_type": "code",
      "execution_count": null,
      "metadata": {
        "id": "b-CaEJ2ur_GU"
      },
      "outputs": [],
      "source": [
        "from pdbeccdutils.core import ccd_writer"
      ]
    },
    {
      "cell_type": "code",
      "execution_count": null,
      "metadata": {
        "id": "dmLG0A0Pr_GU"
      },
      "outputs": [],
      "source": [
        "ccd_writer.write_molecule(\"hem.sdf\",\n",
        "                          hem_component,\n",
        "                          )"
      ]
    },
    {
      "cell_type": "code",
      "execution_count": null,
      "metadata": {
        "id": "aVvRKjzqr_GV"
      },
      "outputs": [],
      "source": [
        "ccd_writer.write_molecule(\"hem.pdb\",\n",
        "                          hem_component,\n",
        "                          )"
      ]
    },
    {
      "cell_type": "markdown",
      "metadata": {
        "id": "cHi8voZCr_GV"
      },
      "source": [
        "##&nbsp; 1.9 Use cases"
      ]
    },
    {
      "cell_type": "markdown",
      "metadata": {
        "id": "g0FpHQVyr_GV"
      },
      "source": [
        "###&nbsp; 1.9.1 Fetching DrugBank details"
      ]
    },
    {
      "cell_type": "markdown",
      "metadata": {
        "id": "s1NtuKpZr_GV"
      },
      "source": [
        "The enriched CIF files of small molecules available from [PDBeChem FTP](https://ftp.ebi.ac.uk/pub/databases/msd/pdbechem_v2) contains data fetched from DrugBank. This information can be accessed by parsing approriate category in the CIF files. The below example shows how to fetch DrugBank details of **IMATINIB**"
      ]
    },
    {
      "cell_type": "code",
      "execution_count": null,
      "metadata": {
        "id": "X2kbaIntr_GV"
      },
      "outputs": [],
      "source": [
        "sti_cif = get_ligand_cif(\"STI\", ligandType.CCD)\n",
        "sti_component = ccd_reader.read_pdb_cif_file(sti_cif).component"
      ]
    },
    {
      "cell_type": "code",
      "execution_count": null,
      "metadata": {
        "id": "LhgnJb5br_GV"
      },
      "outputs": [],
      "source": [
        "def get_drugbank_synonyms(component: Component) -> Set[str]:\n",
        "    \"\"\"\n",
        "    Returns synonyms from DrugBank\n",
        "\n",
        "    Args:\n",
        "        component: Component object of small molecule\n",
        "    \"\"\"\n",
        "\n",
        "    cif_block = component.ccd_cif_block\n",
        "    if \"_pdbe_chem_comp_synonyms.\" not in cif_block.get_mmcif_category_names():\n",
        "        return\n",
        "    synonyms = set()\n",
        "    synonyms_table = cif_block.find(\"_pdbe_chem_comp_synonyms.\", [\"name\", \"provenance\"])\n",
        "    for row in synonyms_table:\n",
        "        if row[\"_pdbe_chem_comp_synonyms.provenance\"] == \"DrugBank\":\n",
        "            synonyms.add(cif.as_string(row[\"_pdbe_chem_comp_synonyms.name\"]))\n",
        "    return synonyms"
      ]
    },
    {
      "cell_type": "code",
      "execution_count": null,
      "metadata": {
        "colab": {
          "base_uri": "https://localhost:8080/"
        },
        "id": "TQbTzZb0r_GV",
        "outputId": "1d022a2c-9efe-4a3c-8341-0709fc820a4e"
      },
      "outputs": [
        {
          "data": {
            "text/plain": [
              "{'Celonib',\n",
              " 'Enliven',\n",
              " 'Imatib',\n",
              " 'Imatinib',\n",
              " 'Imatinibum',\n",
              " 'Mesylonib',\n",
              " 'Mitinab',\n",
              " 'Plivatinib',\n",
              " 'Shantinib',\n",
              " \"α-(4-methyl-1-piperazinyl)-3'-((4-(3-pyridyl)-2-pyrimidinyl)amino)-p-toluidide\"}"
            ]
          },
          "execution_count": 76,
          "metadata": {},
          "output_type": "execute_result"
        }
      ],
      "source": [
        "synonyms = get_drugbank_synonyms(sti_component)\n",
        "synonyms"
      ]
    },
    {
      "cell_type": "code",
      "execution_count": null,
      "metadata": {
        "id": "Tts_E5oFr_GV"
      },
      "outputs": [],
      "source": [
        "def get_drugbank_classification(component: Component) -> Dict[str, str]:\n",
        "    \"\"\"\n",
        "    Returns DrugBank classification details\n",
        "\n",
        "    Args:\n",
        "        component: Component object of small molecule\n",
        "    \"\"\"\n",
        "    cif_block = component.ccd_cif_block\n",
        "    if \"_pdbe_chem_comp_drugbank_classification.\" not in cif_block.get_mmcif_category_names():\n",
        "        return\n",
        "    items = [\"description\", \"kingdom\", \"superclass\", \"class\", \"parent\"]\n",
        "    classification = {item: cif.as_string(cif_block.find_value(f\"_pdbe_chem_comp_drugbank_classification.{item}\")) for item in items}\n",
        "    return classification"
      ]
    },
    {
      "cell_type": "code",
      "execution_count": null,
      "metadata": {
        "colab": {
          "base_uri": "https://localhost:8080/"
        },
        "id": "xH1UfS6Lr_GV",
        "outputId": "ac72a353-cfe5-452e-9463-47a032196950"
      },
      "outputs": [
        {
          "data": {
            "text/plain": [
              "{'description': \"This compound belongs to the class of organic compounds known as benzanilides. These are aromatic compounds containing an anilide group in which the carboxamide group is substituted with a benzene ring. They have the general structure RNC(=O)R', where R,R'= benzene.\",\n",
              " 'kingdom': 'Organic compounds',\n",
              " 'superclass': 'Benzenoids',\n",
              " 'class': 'Benzene and substituted derivatives',\n",
              " 'parent': 'Benzanilides'}"
            ]
          },
          "execution_count": 78,
          "metadata": {},
          "output_type": "execute_result"
        }
      ],
      "source": [
        "get_drugbank_classification(sti_component)"
      ]
    },
    {
      "cell_type": "code",
      "execution_count": null,
      "metadata": {
        "id": "l7b26OQHr_GV"
      },
      "outputs": [],
      "source": [
        "def get_drugbank_details(component: Component):\n",
        "    \"\"\"\n",
        "    Returns details from DrugBank such as name, id,\n",
        "    description etc.\n",
        "\n",
        "    Args:\n",
        "        component: Component object of small molecule\n",
        "\n",
        "    \"\"\"\n",
        "    cif_block = component.ccd_cif_block\n",
        "    if \"_pdbe_chem_comp_drugbank_details.\" not in cif_block.get_mmcif_category_names():\n",
        "        return\n",
        "    items = [\"drugbank_id\", \"name\", \"description\", \"mechanism_of_action\"]\n",
        "    details = defaultdict(list)\n",
        "    for item in items:\n",
        "        details[\"info\"].append(item)\n",
        "        details[\"value\"].append(cif.as_string(cif_block.find_value(f\"_pdbe_chem_comp_drugbank_details.{item}\")))\n",
        "    synonyms = get_drugbank_synonyms(component)\n",
        "    details[\"info\"].append(\"synonyms\")\n",
        "    details[\"value\"].append(', '.join(synonyms))\n",
        "    details_df = pd.DataFrame.from_dict(details)\n",
        "    return details_df\n"
      ]
    },
    {
      "cell_type": "code",
      "execution_count": null,
      "metadata": {
        "colab": {
          "base_uri": "https://localhost:8080/",
          "height": 276
        },
        "id": "x4exoMthr_GV",
        "outputId": "b0b716fd-6eaf-41b7-b94d-48d44a05f182"
      },
      "outputs": [
        {
          "data": {
            "application/vnd.google.colaboratory.intrinsic+json": {
              "summary": "{\n  \"name\": \"get_drugbank_details(sti_component)\",\n  \"rows\": 5,\n  \"fields\": [\n    {\n      \"column\": \"info\",\n      \"properties\": {\n        \"dtype\": \"string\",\n        \"num_unique_values\": 5,\n        \"samples\": [\n          \"name\",\n          \"synonyms\",\n          \"description\"\n        ],\n        \"semantic_type\": \"\",\n        \"description\": \"\"\n      }\n    },\n    {\n      \"column\": \"value\",\n      \"properties\": {\n        \"dtype\": \"string\",\n        \"num_unique_values\": 5,\n        \"samples\": [\n          \"Imatinib\",\n          \"\\u03b1-(4-methyl-1-piperazinyl)-3'-((4-(3-pyridyl)-2-pyrimidinyl)amino)-p-toluidide, Imatinibum, Plivatinib, Enliven, Celonib, Imatinib, Mesylonib, Mitinab, Imatib, Shantinib\",\n          \"Imatinib is a small molecule kinase inhibitor that revolutionized the treatment of cancer, particularly chronic myeloid leukemia, in 2001.[A249305] It was deemed a \\\"miracle drug\\\" due to its clinical success, as oncologist Dr. Brian noted that \\\"complete hematologic responses were observed in 53 of 54 patients with CML treated with a daily dosage of 300 mg or more and typically occurred in the first four weeks of therapy\\\".[A249315]. The discovery of imatinib also established a new group of therapy called \\\"targeted therapy\\\", since treatment can be tailored specifically to the unique cancer genetics of each patient.[L42220]   Imatinib was approved on February 1st ,2001 by the FDA and November 7th, 2001 by the EMA; however, its European approval has been withdrawn in October 2023.[A263036,L49746,L49751]\"\n        ],\n        \"semantic_type\": \"\",\n        \"description\": \"\"\n      }\n    }\n  ]\n}",
              "type": "dataframe"
            },
            "text/html": [
              "\n",
              "  <div id=\"df-84a6efeb-0a41-45e7-a1f2-26ec3d125b4f\" class=\"colab-df-container\">\n",
              "    <div>\n",
              "<style scoped>\n",
              "    .dataframe tbody tr th:only-of-type {\n",
              "        vertical-align: middle;\n",
              "    }\n",
              "\n",
              "    .dataframe tbody tr th {\n",
              "        vertical-align: top;\n",
              "    }\n",
              "\n",
              "    .dataframe thead th {\n",
              "        text-align: right;\n",
              "    }\n",
              "</style>\n",
              "<table border=\"1\" class=\"dataframe\">\n",
              "  <thead>\n",
              "    <tr style=\"text-align: right;\">\n",
              "      <th></th>\n",
              "      <th>info</th>\n",
              "      <th>value</th>\n",
              "    </tr>\n",
              "  </thead>\n",
              "  <tbody>\n",
              "    <tr>\n",
              "      <th>0</th>\n",
              "      <td>drugbank_id</td>\n",
              "      <td>DB00619</td>\n",
              "    </tr>\n",
              "    <tr>\n",
              "      <th>1</th>\n",
              "      <td>name</td>\n",
              "      <td>Imatinib</td>\n",
              "    </tr>\n",
              "    <tr>\n",
              "      <th>2</th>\n",
              "      <td>description</td>\n",
              "      <td>Imatinib is a small molecule kinase inhibitor that revolutionized the treatment of cancer, particularly chronic myeloid leukemia, in 2001.[A249305] It was deemed a \"miracle drug\" due to its clinical success, as oncologist Dr. Brian noted that \"complete hematologic responses were observed in 53 of 54 patients with CML treated with a daily dosage of 300 mg or more and typically occurred in the first four weeks of therapy\".[A249315]. The discovery of imatinib also established a new group of therapy called \"targeted therapy\", since treatment can be tailored specifically to the unique cancer genetics of each patient.[L42220]   Imatinib was approved on February 1st ,2001 by the FDA and November 7th, 2001 by the EMA; however, its European approval has been withdrawn in October 2023.[A263036,L49746,L49751]</td>\n",
              "    </tr>\n",
              "    <tr>\n",
              "      <th>3</th>\n",
              "      <td>mechanism_of_action</td>\n",
              "      <td>Imatinib mesylate is a protein-tyrosine kinase inhibitor that inhibits the BCR-ABL tyrosine kinase, the constitutively active tyrosine kinase created by the Philadelphia chromosome abnormality in CML.[L42080]Although the function of normal BCR is still unclear, ABL activation is overexpressed in various tumors and is heavily implicated in cancer cells growth and survival.[A249305,A249310] Imatinib inhibits the BCR-ABL protein by binding to the ATP pocket in the active site, thus preventing downstream phosphorylation of target protein.[A249305]  Imatinib is also an inhibitor of the receptor tyrosine kinases for platelet-derived growth factor (PDGF) and stem cell factor (SCF), c-Kit, and inhibits PDGF- and SCF-mediated cellular events. In vitro, imatinib inhibits proliferation and induces apoptosis in GIST cells, which express an activating c-Kit mutation.[L42080]</td>\n",
              "    </tr>\n",
              "    <tr>\n",
              "      <th>4</th>\n",
              "      <td>synonyms</td>\n",
              "      <td>α-(4-methyl-1-piperazinyl)-3'-((4-(3-pyridyl)-2-pyrimidinyl)amino)-p-toluidide, Imatinibum, Plivatinib, Enliven, Celonib, Imatinib, Mesylonib, Mitinab, Imatib, Shantinib</td>\n",
              "    </tr>\n",
              "  </tbody>\n",
              "</table>\n",
              "</div>\n",
              "    <div class=\"colab-df-buttons\">\n",
              "\n",
              "  <div class=\"colab-df-container\">\n",
              "    <button class=\"colab-df-convert\" onclick=\"convertToInteractive('df-84a6efeb-0a41-45e7-a1f2-26ec3d125b4f')\"\n",
              "            title=\"Convert this dataframe to an interactive table.\"\n",
              "            style=\"display:none;\">\n",
              "\n",
              "  <svg xmlns=\"http://www.w3.org/2000/svg\" height=\"24px\" viewBox=\"0 -960 960 960\">\n",
              "    <path d=\"M120-120v-720h720v720H120Zm60-500h600v-160H180v160Zm220 220h160v-160H400v160Zm0 220h160v-160H400v160ZM180-400h160v-160H180v160Zm440 0h160v-160H620v160ZM180-180h160v-160H180v160Zm440 0h160v-160H620v160Z\"/>\n",
              "  </svg>\n",
              "    </button>\n",
              "\n",
              "  <style>\n",
              "    .colab-df-container {\n",
              "      display:flex;\n",
              "      gap: 12px;\n",
              "    }\n",
              "\n",
              "    .colab-df-convert {\n",
              "      background-color: #E8F0FE;\n",
              "      border: none;\n",
              "      border-radius: 50%;\n",
              "      cursor: pointer;\n",
              "      display: none;\n",
              "      fill: #1967D2;\n",
              "      height: 32px;\n",
              "      padding: 0 0 0 0;\n",
              "      width: 32px;\n",
              "    }\n",
              "\n",
              "    .colab-df-convert:hover {\n",
              "      background-color: #E2EBFA;\n",
              "      box-shadow: 0px 1px 2px rgba(60, 64, 67, 0.3), 0px 1px 3px 1px rgba(60, 64, 67, 0.15);\n",
              "      fill: #174EA6;\n",
              "    }\n",
              "\n",
              "    .colab-df-buttons div {\n",
              "      margin-bottom: 4px;\n",
              "    }\n",
              "\n",
              "    [theme=dark] .colab-df-convert {\n",
              "      background-color: #3B4455;\n",
              "      fill: #D2E3FC;\n",
              "    }\n",
              "\n",
              "    [theme=dark] .colab-df-convert:hover {\n",
              "      background-color: #434B5C;\n",
              "      box-shadow: 0px 1px 3px 1px rgba(0, 0, 0, 0.15);\n",
              "      filter: drop-shadow(0px 1px 2px rgba(0, 0, 0, 0.3));\n",
              "      fill: #FFFFFF;\n",
              "    }\n",
              "  </style>\n",
              "\n",
              "    <script>\n",
              "      const buttonEl =\n",
              "        document.querySelector('#df-84a6efeb-0a41-45e7-a1f2-26ec3d125b4f button.colab-df-convert');\n",
              "      buttonEl.style.display =\n",
              "        google.colab.kernel.accessAllowed ? 'block' : 'none';\n",
              "\n",
              "      async function convertToInteractive(key) {\n",
              "        const element = document.querySelector('#df-84a6efeb-0a41-45e7-a1f2-26ec3d125b4f');\n",
              "        const dataTable =\n",
              "          await google.colab.kernel.invokeFunction('convertToInteractive',\n",
              "                                                    [key], {});\n",
              "        if (!dataTable) return;\n",
              "\n",
              "        const docLinkHtml = 'Like what you see? Visit the ' +\n",
              "          '<a target=\"_blank\" href=https://colab.research.google.com/notebooks/data_table.ipynb>data table notebook</a>'\n",
              "          + ' to learn more about interactive tables.';\n",
              "        element.innerHTML = '';\n",
              "        dataTable['output_type'] = 'display_data';\n",
              "        await google.colab.output.renderOutput(dataTable, element);\n",
              "        const docLink = document.createElement('div');\n",
              "        docLink.innerHTML = docLinkHtml;\n",
              "        element.appendChild(docLink);\n",
              "      }\n",
              "    </script>\n",
              "  </div>\n",
              "\n",
              "\n",
              "<div id=\"df-73c7fc5c-b69b-4f1c-899b-c7ea361feea7\">\n",
              "  <button class=\"colab-df-quickchart\" onclick=\"quickchart('df-73c7fc5c-b69b-4f1c-899b-c7ea361feea7')\"\n",
              "            title=\"Suggest charts\"\n",
              "            style=\"display:none;\">\n",
              "\n",
              "<svg xmlns=\"http://www.w3.org/2000/svg\" height=\"24px\"viewBox=\"0 0 24 24\"\n",
              "     width=\"24px\">\n",
              "    <g>\n",
              "        <path d=\"M19 3H5c-1.1 0-2 .9-2 2v14c0 1.1.9 2 2 2h14c1.1 0 2-.9 2-2V5c0-1.1-.9-2-2-2zM9 17H7v-7h2v7zm4 0h-2V7h2v10zm4 0h-2v-4h2v4z\"/>\n",
              "    </g>\n",
              "</svg>\n",
              "  </button>\n",
              "\n",
              "<style>\n",
              "  .colab-df-quickchart {\n",
              "      --bg-color: #E8F0FE;\n",
              "      --fill-color: #1967D2;\n",
              "      --hover-bg-color: #E2EBFA;\n",
              "      --hover-fill-color: #174EA6;\n",
              "      --disabled-fill-color: #AAA;\n",
              "      --disabled-bg-color: #DDD;\n",
              "  }\n",
              "\n",
              "  [theme=dark] .colab-df-quickchart {\n",
              "      --bg-color: #3B4455;\n",
              "      --fill-color: #D2E3FC;\n",
              "      --hover-bg-color: #434B5C;\n",
              "      --hover-fill-color: #FFFFFF;\n",
              "      --disabled-bg-color: #3B4455;\n",
              "      --disabled-fill-color: #666;\n",
              "  }\n",
              "\n",
              "  .colab-df-quickchart {\n",
              "    background-color: var(--bg-color);\n",
              "    border: none;\n",
              "    border-radius: 50%;\n",
              "    cursor: pointer;\n",
              "    display: none;\n",
              "    fill: var(--fill-color);\n",
              "    height: 32px;\n",
              "    padding: 0;\n",
              "    width: 32px;\n",
              "  }\n",
              "\n",
              "  .colab-df-quickchart:hover {\n",
              "    background-color: var(--hover-bg-color);\n",
              "    box-shadow: 0 1px 2px rgba(60, 64, 67, 0.3), 0 1px 3px 1px rgba(60, 64, 67, 0.15);\n",
              "    fill: var(--button-hover-fill-color);\n",
              "  }\n",
              "\n",
              "  .colab-df-quickchart-complete:disabled,\n",
              "  .colab-df-quickchart-complete:disabled:hover {\n",
              "    background-color: var(--disabled-bg-color);\n",
              "    fill: var(--disabled-fill-color);\n",
              "    box-shadow: none;\n",
              "  }\n",
              "\n",
              "  .colab-df-spinner {\n",
              "    border: 2px solid var(--fill-color);\n",
              "    border-color: transparent;\n",
              "    border-bottom-color: var(--fill-color);\n",
              "    animation:\n",
              "      spin 1s steps(1) infinite;\n",
              "  }\n",
              "\n",
              "  @keyframes spin {\n",
              "    0% {\n",
              "      border-color: transparent;\n",
              "      border-bottom-color: var(--fill-color);\n",
              "      border-left-color: var(--fill-color);\n",
              "    }\n",
              "    20% {\n",
              "      border-color: transparent;\n",
              "      border-left-color: var(--fill-color);\n",
              "      border-top-color: var(--fill-color);\n",
              "    }\n",
              "    30% {\n",
              "      border-color: transparent;\n",
              "      border-left-color: var(--fill-color);\n",
              "      border-top-color: var(--fill-color);\n",
              "      border-right-color: var(--fill-color);\n",
              "    }\n",
              "    40% {\n",
              "      border-color: transparent;\n",
              "      border-right-color: var(--fill-color);\n",
              "      border-top-color: var(--fill-color);\n",
              "    }\n",
              "    60% {\n",
              "      border-color: transparent;\n",
              "      border-right-color: var(--fill-color);\n",
              "    }\n",
              "    80% {\n",
              "      border-color: transparent;\n",
              "      border-right-color: var(--fill-color);\n",
              "      border-bottom-color: var(--fill-color);\n",
              "    }\n",
              "    90% {\n",
              "      border-color: transparent;\n",
              "      border-bottom-color: var(--fill-color);\n",
              "    }\n",
              "  }\n",
              "</style>\n",
              "\n",
              "  <script>\n",
              "    async function quickchart(key) {\n",
              "      const quickchartButtonEl =\n",
              "        document.querySelector('#' + key + ' button');\n",
              "      quickchartButtonEl.disabled = true;  // To prevent multiple clicks.\n",
              "      quickchartButtonEl.classList.add('colab-df-spinner');\n",
              "      try {\n",
              "        const charts = await google.colab.kernel.invokeFunction(\n",
              "            'suggestCharts', [key], {});\n",
              "      } catch (error) {\n",
              "        console.error('Error during call to suggestCharts:', error);\n",
              "      }\n",
              "      quickchartButtonEl.classList.remove('colab-df-spinner');\n",
              "      quickchartButtonEl.classList.add('colab-df-quickchart-complete');\n",
              "    }\n",
              "    (() => {\n",
              "      let quickchartButtonEl =\n",
              "        document.querySelector('#df-73c7fc5c-b69b-4f1c-899b-c7ea361feea7 button');\n",
              "      quickchartButtonEl.style.display =\n",
              "        google.colab.kernel.accessAllowed ? 'block' : 'none';\n",
              "    })();\n",
              "  </script>\n",
              "</div>\n",
              "\n",
              "    </div>\n",
              "  </div>\n"
            ],
            "text/plain": [
              "                  info  \\\n",
              "0          drugbank_id   \n",
              "1                 name   \n",
              "2          description   \n",
              "3  mechanism_of_action   \n",
              "4             synonyms   \n",
              "\n",
              "                                                                                                                                                                                                                                                                                                                                                                                                                                                                                                                                                                                                                                                                                                                                                                                                                                                                                                        value  \n",
              "0                                                                                                                                                                                                                                                                                                                                                                                                                                                                                                                                                                                                                                                                                                                                                                                                                                                                                                     DB00619  \n",
              "1                                                                                                                                                                                                                                                                                                                                                                                                                                                                                                                                                                                                                                                                                                                                                                                                                                                                                                    Imatinib  \n",
              "2                                                                   Imatinib is a small molecule kinase inhibitor that revolutionized the treatment of cancer, particularly chronic myeloid leukemia, in 2001.[A249305] It was deemed a \"miracle drug\" due to its clinical success, as oncologist Dr. Brian noted that \"complete hematologic responses were observed in 53 of 54 patients with CML treated with a daily dosage of 300 mg or more and typically occurred in the first four weeks of therapy\".[A249315]. The discovery of imatinib also established a new group of therapy called \"targeted therapy\", since treatment can be tailored specifically to the unique cancer genetics of each patient.[L42220]   Imatinib was approved on February 1st ,2001 by the FDA and November 7th, 2001 by the EMA; however, its European approval has been withdrawn in October 2023.[A263036,L49746,L49751]  \n",
              "3  Imatinib mesylate is a protein-tyrosine kinase inhibitor that inhibits the BCR-ABL tyrosine kinase, the constitutively active tyrosine kinase created by the Philadelphia chromosome abnormality in CML.[L42080]Although the function of normal BCR is still unclear, ABL activation is overexpressed in various tumors and is heavily implicated in cancer cells growth and survival.[A249305,A249310] Imatinib inhibits the BCR-ABL protein by binding to the ATP pocket in the active site, thus preventing downstream phosphorylation of target protein.[A249305]  Imatinib is also an inhibitor of the receptor tyrosine kinases for platelet-derived growth factor (PDGF) and stem cell factor (SCF), c-Kit, and inhibits PDGF- and SCF-mediated cellular events. In vitro, imatinib inhibits proliferation and induces apoptosis in GIST cells, which express an activating c-Kit mutation.[L42080]  \n",
              "4                                                                                                                                                                                                                                                                                                                                                                                                                                                                                                                                                                                                                                                                                                                                   α-(4-methyl-1-piperazinyl)-3'-((4-(3-pyridyl)-2-pyrimidinyl)amino)-p-toluidide, Imatinibum, Plivatinib, Enliven, Celonib, Imatinib, Mesylonib, Mitinab, Imatib, Shantinib  "
            ]
          },
          "execution_count": 80,
          "metadata": {},
          "output_type": "execute_result"
        }
      ],
      "source": [
        "pd.set_option('display.max_colwidth', None)\n",
        "get_drugbank_details(sti_component)"
      ]
    },
    {
      "cell_type": "code",
      "execution_count": null,
      "metadata": {
        "id": "27JCVSBer_GW"
      },
      "outputs": [],
      "source": [
        "def get_drugbank_targets(component: Component) -> pd.DataFrame:\n",
        "    \"\"\"\n",
        "    Returns target information from DrugBank\n",
        "\n",
        "    Args:\n",
        "        component: Component object of small molecule\n",
        "    \"\"\"\n",
        "    cif_block = component.ccd_cif_block\n",
        "    if \"_pdbe_chem_comp_drugbank_targets.\" not in cif_block.get_mmcif_category_names():\n",
        "        return\n",
        "    items = [\"name\", \"organism\", \"uniprot_id\", \"pharmacologically_active\"]\n",
        "    targets = cif_block.find(\"_pdbe_chem_comp_drugbank_targets.\", items)\n",
        "    targets_info = defaultdict(list)\n",
        "    for row in targets:\n",
        "        for item in items:\n",
        "            targets_info[item].append(cif.as_string(row[f\"_pdbe_chem_comp_drugbank_targets.{item}\"]))\n",
        "    targets_df = pd.DataFrame.from_dict(targets_info)\n",
        "    return targets_df\n"
      ]
    },
    {
      "cell_type": "code",
      "execution_count": null,
      "metadata": {
        "colab": {
          "base_uri": "https://localhost:8080/",
          "height": 363
        },
        "id": "6Cy86U7mr_GW",
        "outputId": "a81f3b44-dae4-4c1b-9034-3c68ab33961e"
      },
      "outputs": [
        {
          "data": {
            "application/vnd.google.colaboratory.intrinsic+json": {
              "summary": "{\n  \"name\": \"get_drugbank_targets(sti_component)\",\n  \"rows\": 10,\n  \"fields\": [\n    {\n      \"column\": \"name\",\n      \"properties\": {\n        \"dtype\": \"string\",\n        \"num_unique_values\": 10,\n        \"samples\": [\n          \"Platelet-derived growth factor receptor beta\",\n          \"Mast/stem cell growth factor receptor Kit\",\n          \"Platelet-derived growth factor receptor alpha\"\n        ],\n        \"semantic_type\": \"\",\n        \"description\": \"\"\n      }\n    },\n    {\n      \"column\": \"organism\",\n      \"properties\": {\n        \"dtype\": \"category\",\n        \"num_unique_values\": 1,\n        \"samples\": [\n          \"Humans\"\n        ],\n        \"semantic_type\": \"\",\n        \"description\": \"\"\n      }\n    },\n    {\n      \"column\": \"uniprot_id\",\n      \"properties\": {\n        \"dtype\": \"string\",\n        \"num_unique_values\": 10,\n        \"samples\": [\n          \"P09619\"\n        ],\n        \"semantic_type\": \"\",\n        \"description\": \"\"\n      }\n    },\n    {\n      \"column\": \"pharmacologically_active\",\n      \"properties\": {\n        \"dtype\": \"category\",\n        \"num_unique_values\": 2,\n        \"samples\": [\n          \"unknown\"\n        ],\n        \"semantic_type\": \"\",\n        \"description\": \"\"\n      }\n    }\n  ]\n}",
              "type": "dataframe"
            },
            "text/html": [
              "\n",
              "  <div id=\"df-56a935d1-8cf6-41b8-86d3-bd7299af7347\" class=\"colab-df-container\">\n",
              "    <div>\n",
              "<style scoped>\n",
              "    .dataframe tbody tr th:only-of-type {\n",
              "        vertical-align: middle;\n",
              "    }\n",
              "\n",
              "    .dataframe tbody tr th {\n",
              "        vertical-align: top;\n",
              "    }\n",
              "\n",
              "    .dataframe thead th {\n",
              "        text-align: right;\n",
              "    }\n",
              "</style>\n",
              "<table border=\"1\" class=\"dataframe\">\n",
              "  <thead>\n",
              "    <tr style=\"text-align: right;\">\n",
              "      <th></th>\n",
              "      <th>name</th>\n",
              "      <th>organism</th>\n",
              "      <th>uniprot_id</th>\n",
              "      <th>pharmacologically_active</th>\n",
              "    </tr>\n",
              "  </thead>\n",
              "  <tbody>\n",
              "    <tr>\n",
              "      <th>0</th>\n",
              "      <td>Breakpoint cluster region protein</td>\n",
              "      <td>Humans</td>\n",
              "      <td>P11274</td>\n",
              "      <td>yes</td>\n",
              "    </tr>\n",
              "    <tr>\n",
              "      <th>1</th>\n",
              "      <td>Mast/stem cell growth factor receptor Kit</td>\n",
              "      <td>Humans</td>\n",
              "      <td>P10721</td>\n",
              "      <td>yes</td>\n",
              "    </tr>\n",
              "    <tr>\n",
              "      <th>2</th>\n",
              "      <td>Proto-oncogene tyrosine-protein kinase receptor Ret</td>\n",
              "      <td>Humans</td>\n",
              "      <td>P07949</td>\n",
              "      <td>yes</td>\n",
              "    </tr>\n",
              "    <tr>\n",
              "      <th>3</th>\n",
              "      <td>High affinity nerve growth factor receptor</td>\n",
              "      <td>Humans</td>\n",
              "      <td>P04629</td>\n",
              "      <td>unknown</td>\n",
              "    </tr>\n",
              "    <tr>\n",
              "      <th>4</th>\n",
              "      <td>Macrophage colony-stimulating factor 1 receptor</td>\n",
              "      <td>Humans</td>\n",
              "      <td>P07333</td>\n",
              "      <td>unknown</td>\n",
              "    </tr>\n",
              "    <tr>\n",
              "      <th>5</th>\n",
              "      <td>Platelet-derived growth factor receptor alpha</td>\n",
              "      <td>Humans</td>\n",
              "      <td>P16234</td>\n",
              "      <td>yes</td>\n",
              "    </tr>\n",
              "    <tr>\n",
              "      <th>6</th>\n",
              "      <td>Epithelial discoidin domain-containing receptor 1</td>\n",
              "      <td>Humans</td>\n",
              "      <td>Q08345</td>\n",
              "      <td>unknown</td>\n",
              "    </tr>\n",
              "    <tr>\n",
              "      <th>7</th>\n",
              "      <td>Tyrosine-protein kinase ABL1</td>\n",
              "      <td>Humans</td>\n",
              "      <td>P00519</td>\n",
              "      <td>yes</td>\n",
              "    </tr>\n",
              "    <tr>\n",
              "      <th>8</th>\n",
              "      <td>Platelet-derived growth factor receptor beta</td>\n",
              "      <td>Humans</td>\n",
              "      <td>P09619</td>\n",
              "      <td>yes</td>\n",
              "    </tr>\n",
              "    <tr>\n",
              "      <th>9</th>\n",
              "      <td>Discoidin domain-containing receptor 2</td>\n",
              "      <td>Humans</td>\n",
              "      <td>Q16832</td>\n",
              "      <td>unknown</td>\n",
              "    </tr>\n",
              "  </tbody>\n",
              "</table>\n",
              "</div>\n",
              "    <div class=\"colab-df-buttons\">\n",
              "\n",
              "  <div class=\"colab-df-container\">\n",
              "    <button class=\"colab-df-convert\" onclick=\"convertToInteractive('df-56a935d1-8cf6-41b8-86d3-bd7299af7347')\"\n",
              "            title=\"Convert this dataframe to an interactive table.\"\n",
              "            style=\"display:none;\">\n",
              "\n",
              "  <svg xmlns=\"http://www.w3.org/2000/svg\" height=\"24px\" viewBox=\"0 -960 960 960\">\n",
              "    <path d=\"M120-120v-720h720v720H120Zm60-500h600v-160H180v160Zm220 220h160v-160H400v160Zm0 220h160v-160H400v160ZM180-400h160v-160H180v160Zm440 0h160v-160H620v160ZM180-180h160v-160H180v160Zm440 0h160v-160H620v160Z\"/>\n",
              "  </svg>\n",
              "    </button>\n",
              "\n",
              "  <style>\n",
              "    .colab-df-container {\n",
              "      display:flex;\n",
              "      gap: 12px;\n",
              "    }\n",
              "\n",
              "    .colab-df-convert {\n",
              "      background-color: #E8F0FE;\n",
              "      border: none;\n",
              "      border-radius: 50%;\n",
              "      cursor: pointer;\n",
              "      display: none;\n",
              "      fill: #1967D2;\n",
              "      height: 32px;\n",
              "      padding: 0 0 0 0;\n",
              "      width: 32px;\n",
              "    }\n",
              "\n",
              "    .colab-df-convert:hover {\n",
              "      background-color: #E2EBFA;\n",
              "      box-shadow: 0px 1px 2px rgba(60, 64, 67, 0.3), 0px 1px 3px 1px rgba(60, 64, 67, 0.15);\n",
              "      fill: #174EA6;\n",
              "    }\n",
              "\n",
              "    .colab-df-buttons div {\n",
              "      margin-bottom: 4px;\n",
              "    }\n",
              "\n",
              "    [theme=dark] .colab-df-convert {\n",
              "      background-color: #3B4455;\n",
              "      fill: #D2E3FC;\n",
              "    }\n",
              "\n",
              "    [theme=dark] .colab-df-convert:hover {\n",
              "      background-color: #434B5C;\n",
              "      box-shadow: 0px 1px 3px 1px rgba(0, 0, 0, 0.15);\n",
              "      filter: drop-shadow(0px 1px 2px rgba(0, 0, 0, 0.3));\n",
              "      fill: #FFFFFF;\n",
              "    }\n",
              "  </style>\n",
              "\n",
              "    <script>\n",
              "      const buttonEl =\n",
              "        document.querySelector('#df-56a935d1-8cf6-41b8-86d3-bd7299af7347 button.colab-df-convert');\n",
              "      buttonEl.style.display =\n",
              "        google.colab.kernel.accessAllowed ? 'block' : 'none';\n",
              "\n",
              "      async function convertToInteractive(key) {\n",
              "        const element = document.querySelector('#df-56a935d1-8cf6-41b8-86d3-bd7299af7347');\n",
              "        const dataTable =\n",
              "          await google.colab.kernel.invokeFunction('convertToInteractive',\n",
              "                                                    [key], {});\n",
              "        if (!dataTable) return;\n",
              "\n",
              "        const docLinkHtml = 'Like what you see? Visit the ' +\n",
              "          '<a target=\"_blank\" href=https://colab.research.google.com/notebooks/data_table.ipynb>data table notebook</a>'\n",
              "          + ' to learn more about interactive tables.';\n",
              "        element.innerHTML = '';\n",
              "        dataTable['output_type'] = 'display_data';\n",
              "        await google.colab.output.renderOutput(dataTable, element);\n",
              "        const docLink = document.createElement('div');\n",
              "        docLink.innerHTML = docLinkHtml;\n",
              "        element.appendChild(docLink);\n",
              "      }\n",
              "    </script>\n",
              "  </div>\n",
              "\n",
              "\n",
              "<div id=\"df-5a593402-653d-46ae-bb1f-654368ea8143\">\n",
              "  <button class=\"colab-df-quickchart\" onclick=\"quickchart('df-5a593402-653d-46ae-bb1f-654368ea8143')\"\n",
              "            title=\"Suggest charts\"\n",
              "            style=\"display:none;\">\n",
              "\n",
              "<svg xmlns=\"http://www.w3.org/2000/svg\" height=\"24px\"viewBox=\"0 0 24 24\"\n",
              "     width=\"24px\">\n",
              "    <g>\n",
              "        <path d=\"M19 3H5c-1.1 0-2 .9-2 2v14c0 1.1.9 2 2 2h14c1.1 0 2-.9 2-2V5c0-1.1-.9-2-2-2zM9 17H7v-7h2v7zm4 0h-2V7h2v10zm4 0h-2v-4h2v4z\"/>\n",
              "    </g>\n",
              "</svg>\n",
              "  </button>\n",
              "\n",
              "<style>\n",
              "  .colab-df-quickchart {\n",
              "      --bg-color: #E8F0FE;\n",
              "      --fill-color: #1967D2;\n",
              "      --hover-bg-color: #E2EBFA;\n",
              "      --hover-fill-color: #174EA6;\n",
              "      --disabled-fill-color: #AAA;\n",
              "      --disabled-bg-color: #DDD;\n",
              "  }\n",
              "\n",
              "  [theme=dark] .colab-df-quickchart {\n",
              "      --bg-color: #3B4455;\n",
              "      --fill-color: #D2E3FC;\n",
              "      --hover-bg-color: #434B5C;\n",
              "      --hover-fill-color: #FFFFFF;\n",
              "      --disabled-bg-color: #3B4455;\n",
              "      --disabled-fill-color: #666;\n",
              "  }\n",
              "\n",
              "  .colab-df-quickchart {\n",
              "    background-color: var(--bg-color);\n",
              "    border: none;\n",
              "    border-radius: 50%;\n",
              "    cursor: pointer;\n",
              "    display: none;\n",
              "    fill: var(--fill-color);\n",
              "    height: 32px;\n",
              "    padding: 0;\n",
              "    width: 32px;\n",
              "  }\n",
              "\n",
              "  .colab-df-quickchart:hover {\n",
              "    background-color: var(--hover-bg-color);\n",
              "    box-shadow: 0 1px 2px rgba(60, 64, 67, 0.3), 0 1px 3px 1px rgba(60, 64, 67, 0.15);\n",
              "    fill: var(--button-hover-fill-color);\n",
              "  }\n",
              "\n",
              "  .colab-df-quickchart-complete:disabled,\n",
              "  .colab-df-quickchart-complete:disabled:hover {\n",
              "    background-color: var(--disabled-bg-color);\n",
              "    fill: var(--disabled-fill-color);\n",
              "    box-shadow: none;\n",
              "  }\n",
              "\n",
              "  .colab-df-spinner {\n",
              "    border: 2px solid var(--fill-color);\n",
              "    border-color: transparent;\n",
              "    border-bottom-color: var(--fill-color);\n",
              "    animation:\n",
              "      spin 1s steps(1) infinite;\n",
              "  }\n",
              "\n",
              "  @keyframes spin {\n",
              "    0% {\n",
              "      border-color: transparent;\n",
              "      border-bottom-color: var(--fill-color);\n",
              "      border-left-color: var(--fill-color);\n",
              "    }\n",
              "    20% {\n",
              "      border-color: transparent;\n",
              "      border-left-color: var(--fill-color);\n",
              "      border-top-color: var(--fill-color);\n",
              "    }\n",
              "    30% {\n",
              "      border-color: transparent;\n",
              "      border-left-color: var(--fill-color);\n",
              "      border-top-color: var(--fill-color);\n",
              "      border-right-color: var(--fill-color);\n",
              "    }\n",
              "    40% {\n",
              "      border-color: transparent;\n",
              "      border-right-color: var(--fill-color);\n",
              "      border-top-color: var(--fill-color);\n",
              "    }\n",
              "    60% {\n",
              "      border-color: transparent;\n",
              "      border-right-color: var(--fill-color);\n",
              "    }\n",
              "    80% {\n",
              "      border-color: transparent;\n",
              "      border-right-color: var(--fill-color);\n",
              "      border-bottom-color: var(--fill-color);\n",
              "    }\n",
              "    90% {\n",
              "      border-color: transparent;\n",
              "      border-bottom-color: var(--fill-color);\n",
              "    }\n",
              "  }\n",
              "</style>\n",
              "\n",
              "  <script>\n",
              "    async function quickchart(key) {\n",
              "      const quickchartButtonEl =\n",
              "        document.querySelector('#' + key + ' button');\n",
              "      quickchartButtonEl.disabled = true;  // To prevent multiple clicks.\n",
              "      quickchartButtonEl.classList.add('colab-df-spinner');\n",
              "      try {\n",
              "        const charts = await google.colab.kernel.invokeFunction(\n",
              "            'suggestCharts', [key], {});\n",
              "      } catch (error) {\n",
              "        console.error('Error during call to suggestCharts:', error);\n",
              "      }\n",
              "      quickchartButtonEl.classList.remove('colab-df-spinner');\n",
              "      quickchartButtonEl.classList.add('colab-df-quickchart-complete');\n",
              "    }\n",
              "    (() => {\n",
              "      let quickchartButtonEl =\n",
              "        document.querySelector('#df-5a593402-653d-46ae-bb1f-654368ea8143 button');\n",
              "      quickchartButtonEl.style.display =\n",
              "        google.colab.kernel.accessAllowed ? 'block' : 'none';\n",
              "    })();\n",
              "  </script>\n",
              "</div>\n",
              "\n",
              "    </div>\n",
              "  </div>\n"
            ],
            "text/plain": [
              "                                                  name organism uniprot_id  \\\n",
              "0                    Breakpoint cluster region protein   Humans     P11274   \n",
              "1            Mast/stem cell growth factor receptor Kit   Humans     P10721   \n",
              "2  Proto-oncogene tyrosine-protein kinase receptor Ret   Humans     P07949   \n",
              "3           High affinity nerve growth factor receptor   Humans     P04629   \n",
              "4      Macrophage colony-stimulating factor 1 receptor   Humans     P07333   \n",
              "5        Platelet-derived growth factor receptor alpha   Humans     P16234   \n",
              "6    Epithelial discoidin domain-containing receptor 1   Humans     Q08345   \n",
              "7                         Tyrosine-protein kinase ABL1   Humans     P00519   \n",
              "8         Platelet-derived growth factor receptor beta   Humans     P09619   \n",
              "9               Discoidin domain-containing receptor 2   Humans     Q16832   \n",
              "\n",
              "  pharmacologically_active  \n",
              "0                      yes  \n",
              "1                      yes  \n",
              "2                      yes  \n",
              "3                  unknown  \n",
              "4                  unknown  \n",
              "5                      yes  \n",
              "6                  unknown  \n",
              "7                      yes  \n",
              "8                      yes  \n",
              "9                  unknown  "
            ]
          },
          "execution_count": 82,
          "metadata": {},
          "output_type": "execute_result"
        }
      ],
      "source": [
        "get_drugbank_targets(sti_component)"
      ]
    },
    {
      "cell_type": "markdown",
      "metadata": {
        "id": "82txjXibr_GW"
      },
      "source": [
        "###&nbsp; 1.9.2 Idenitfying Covalently Linked Components from a PDB entry"
      ]
    },
    {
      "cell_type": "markdown",
      "metadata": {
        "id": "6w8MLnvBr_GW"
      },
      "source": [
        "In some PDB entries, large ligands are fragmented to smaller CCDs. For example in PDB entry [1e55](https://www.ebi.ac.uk/pdbe/entry/pdb/1e55), the competitive inhibitor **dhurrin** is in compelx with the structure, but it is split into two different CCDs - BGC and DHR. This happens due to the current wwwPDB annotation policies, which recommend splitting of large ligands to smaller CCDs to allow identification of correct stereospecificities and geometry. However, this practise obscures the small molecule data in the PDB archive and make it difficult to automatically identify and map to other databases.\n",
        "\n",
        "At PDBe, we have created a process to identify these fragmented ligands in the PDB and assign a unique identifier based on the inchikey. You can access them from [PDBeChem FTP](https://ftp.ebi.ac.uk/pub/databases/msd/pdbechem_v2/clc/). You can also use PDBe CCDUtils to create the complete representaiton of fragmented ligands in a PDB entry."
      ]
    },
    {
      "cell_type": "code",
      "execution_count": 95,
      "metadata": {
        "id": "VuIofN2Tr_GW"
      },
      "outputs": [],
      "source": [
        "from pdbeccdutils.helpers import cif_tools\n",
        "from pdbeccdutils.core.boundmolecule import infer_bound_molecules\n",
        "from pdbeccdutils.core import clc_reader"
      ]
    },
    {
      "cell_type": "code",
      "execution_count": null,
      "metadata": {
        "id": "jcg1Lub9r_GW"
      },
      "outputs": [],
      "source": [
        "def get_clc(pdb_id: str) -> list[clc_reader.CLCReaderResult]:\n",
        "    \"\"\"\n",
        "    Returns a list of CLCReaderResults containing Component\n",
        "    object of Covalently Linked Components (CLCs)\n",
        "\n",
        "    Args:\n",
        "        pdb_id: PDB ID of an entry\n",
        "\n",
        "    \"\"\"\n",
        "    input_cif = get_entry_cif(pdb_id)\n",
        "    fixed_mmcif_file = os.path.join(f\"{pdb_id}_processed.cif\")\n",
        "\n",
        "    #Keeps only first model, removes alternate conformations of atoms and residues\n",
        "    cif_tools.fix_updated_mmcif(input_cif, fixed_mmcif_file)\n",
        "\n",
        "    #\n",
        "    bms = infer_bound_molecules(\n",
        "    fixed_mmcif_file, [\"HOH\"], assembly=False\n",
        ")\n",
        "    clc_reader_results = []\n",
        "    for i, bm in enumerate(bms, start=1):\n",
        "        bm_id = f\"bm{i}\"\n",
        "        reader_result = clc_reader.infer_multiple_chem_comp(\n",
        "            fixed_mmcif_file, bm, bm_id, sanitize=True\n",
        "        )\n",
        "        if reader_result:\n",
        "            clc_reader_results.append(reader_result)\n",
        "\n",
        "    return clc_reader_results\n"
      ]
    },
    {
      "cell_type": "code",
      "execution_count": null,
      "metadata": {
        "colab": {
          "base_uri": "https://localhost:8080/",
          "height": 167
        },
        "id": "PetzTxumr_GX",
        "outputId": "e134ec3e-44c5-4443-e46d-cba4baf04201"
      },
      "outputs": [
        {
          "data": {
            "image/png": "[encoded data removed]",
            "text/plain": [
              "<rdkit.Chem.rdchem.RWMol at 0x7b9660663920>"
            ]
          },
          "execution_count": 85,
          "metadata": {},
          "output_type": "execute_result"
        }
      ],
      "source": [
        "clc_reader_results = get_clc(\"1e55\")\n",
        "dhurrin_component = clc_reader_results[0].component\n",
        "dhurrin_component.mol"
      ]
    },
    {
      "cell_type": "code",
      "execution_count": null,
      "metadata": {
        "colab": {
          "base_uri": "https://localhost:8080/"
        },
        "id": "RWjLqqL9r_GX",
        "outputId": "1d260f96-ebf0-4fa3-bdee-d76e17c7fdd8"
      },
      "outputs": [
        {
          "data": {
            "text/plain": [
              "[('SureChEMBL', 'SCHEMBL50174'),\n",
              " ('PubChem', '161355'),\n",
              " ('eMolecules', '32231621'),\n",
              " ('PubChem TPHARMA', '24422914'),\n",
              " ('fdasrs', 'P5999IY65C'),\n",
              " ('NMRShiftDB', '60025950'),\n",
              " ('HMDB', 'HMDB0060471'),\n",
              " ('Rhea', '27826'),\n",
              " ('BRENDA', '30532'),\n",
              " ('BRENDA', '1121'),\n",
              " ('MetaboLights', 'MTBLC27826'),\n",
              " ('ChEBI', '27826'),\n",
              " ('KEGG LIGAND', 'C05143'),\n",
              " ('EPA CompTox Dashboard', 'DTXSID90198142'),\n",
              " ('ZINC', 'ZINC000004096638'),\n",
              " ('Nikkaji', 'J10.589I')]"
            ]
          },
          "execution_count": 86,
          "metadata": {},
          "output_type": "execute_result"
        }
      ],
      "source": [
        "dhurrin_component.fetch_external_mappings(all_mappings=True)"
      ]
    },
    {
      "cell_type": "markdown",
      "metadata": {
        "id": "CmymVirer_GX"
      },
      "source": [
        "Instead of creating the complete representation of fragmented ligands from PDB entries, you can find the standardized IDs of these ligands from [interacting_chains_with_ligand_functions.tsv](https://ftp.ebi.ac.uk/pub/databases/msd/pdbechem_v2/additional_data/pdb_ligand_interactions/interacting_chains_with_ligand_functions.tsv) available from FTP. The below example shows how this can be done for the entry **1e55**."
      ]
    },
    {
      "cell_type": "code",
      "execution_count": 34,
      "metadata": {
        "id": "zApgyvx7r_GX"
      },
      "outputs": [],
      "source": [
        "import wget\n",
        "from pdbeccdutils.core import clc_reader"
      ]
    },
    {
      "cell_type": "code",
      "execution_count": null,
      "metadata": {
        "colab": {
          "base_uri": "https://localhost:8080/",
          "height": 35
        },
        "id": "kEbzOBRar_GX",
        "outputId": "ba1502c4-7677-424c-ac9a-ce3a4be86dff"
      },
      "outputs": [
        {
          "data": {
            "application/vnd.google.colaboratory.intrinsic+json": {
              "type": "string"
            },
            "text/plain": [
              "'interacting_chains_with_ligand_functions.tsv'"
            ]
          },
          "execution_count": 88,
          "metadata": {},
          "output_type": "execute_result"
        }
      ],
      "source": [
        "interacting_chains = os.path.join(PDBECHEM_URL, \"additional_data\", \"pdb_ligand_interactions\", \"interacting_chains_with_ligand_functions.tsv\")\n",
        "wget.download(interacting_chains)"
      ]
    },
    {
      "cell_type": "code",
      "execution_count": null,
      "metadata": {
        "colab": {
          "base_uri": "https://localhost:8080/",
          "height": 206
        },
        "id": "vOnvwohsr_GX",
        "outputId": "8d0af610-eb3d-4a0e-bc00-a4562558bdb8"
      },
      "outputs": [
        {
          "data": {
            "application/vnd.google.colaboratory.intrinsic+json": {
              "type": "dataframe",
              "variable_name": "int_chain_ligand"
            },
            "text/html": [
              "\n",
              "  <div id=\"df-980a97b6-8c3b-4186-bda2-37fe0c9b4561\" class=\"colab-df-container\">\n",
              "    <div>\n",
              "<style scoped>\n",
              "    .dataframe tbody tr th:only-of-type {\n",
              "        vertical-align: middle;\n",
              "    }\n",
              "\n",
              "    .dataframe tbody tr th {\n",
              "        vertical-align: top;\n",
              "    }\n",
              "\n",
              "    .dataframe thead th {\n",
              "        text-align: right;\n",
              "    }\n",
              "</style>\n",
              "<table border=\"1\" class=\"dataframe\">\n",
              "  <thead>\n",
              "    <tr style=\"text-align: right;\">\n",
              "      <th></th>\n",
              "      <th>PDBID</th>\n",
              "      <th>Chain_Symmetry</th>\n",
              "      <th>BestUnpAccession</th>\n",
              "      <th>bmID</th>\n",
              "      <th>inchikey</th>\n",
              "      <th>LigandID</th>\n",
              "      <th>LigandType</th>\n",
              "      <th>annotation</th>\n",
              "    </tr>\n",
              "  </thead>\n",
              "  <tbody>\n",
              "    <tr>\n",
              "      <th>0</th>\n",
              "      <td>100d</td>\n",
              "      <td>A</td>\n",
              "      <td>NaN</td>\n",
              "      <td>bm1</td>\n",
              "      <td>PFNFFQXMRSDOHW-UHFFFAOYSA-N</td>\n",
              "      <td>SPM</td>\n",
              "      <td>CCD</td>\n",
              "      <td>NaN</td>\n",
              "    </tr>\n",
              "    <tr>\n",
              "      <th>1</th>\n",
              "      <td>101d</td>\n",
              "      <td>A</td>\n",
              "      <td>NaN</td>\n",
              "      <td>bm1</td>\n",
              "      <td>JLVVSXFLKOJNIY-UHFFFAOYSA-N</td>\n",
              "      <td>MG</td>\n",
              "      <td>CCD</td>\n",
              "      <td>ion</td>\n",
              "    </tr>\n",
              "    <tr>\n",
              "      <th>2</th>\n",
              "      <td>101d</td>\n",
              "      <td>A</td>\n",
              "      <td>NaN</td>\n",
              "      <td>bm2</td>\n",
              "      <td>IDBIFFKSXLYUOT-UHFFFAOYSA-N</td>\n",
              "      <td>NT</td>\n",
              "      <td>CCD</td>\n",
              "      <td>NaN</td>\n",
              "    </tr>\n",
              "    <tr>\n",
              "      <th>3</th>\n",
              "      <td>101d</td>\n",
              "      <td>B</td>\n",
              "      <td>NaN</td>\n",
              "      <td>bm1</td>\n",
              "      <td>JLVVSXFLKOJNIY-UHFFFAOYSA-N</td>\n",
              "      <td>MG</td>\n",
              "      <td>CCD</td>\n",
              "      <td>ion</td>\n",
              "    </tr>\n",
              "    <tr>\n",
              "      <th>4</th>\n",
              "      <td>101d</td>\n",
              "      <td>B</td>\n",
              "      <td>NaN</td>\n",
              "      <td>bm2</td>\n",
              "      <td>IDBIFFKSXLYUOT-UHFFFAOYSA-N</td>\n",
              "      <td>NT</td>\n",
              "      <td>CCD</td>\n",
              "      <td>NaN</td>\n",
              "    </tr>\n",
              "  </tbody>\n",
              "</table>\n",
              "</div>\n",
              "    <div class=\"colab-df-buttons\">\n",
              "\n",
              "  <div class=\"colab-df-container\">\n",
              "    <button class=\"colab-df-convert\" onclick=\"convertToInteractive('df-980a97b6-8c3b-4186-bda2-37fe0c9b4561')\"\n",
              "            title=\"Convert this dataframe to an interactive table.\"\n",
              "            style=\"display:none;\">\n",
              "\n",
              "  <svg xmlns=\"http://www.w3.org/2000/svg\" height=\"24px\" viewBox=\"0 -960 960 960\">\n",
              "    <path d=\"M120-120v-720h720v720H120Zm60-500h600v-160H180v160Zm220 220h160v-160H400v160Zm0 220h160v-160H400v160ZM180-400h160v-160H180v160Zm440 0h160v-160H620v160ZM180-180h160v-160H180v160Zm440 0h160v-160H620v160Z\"/>\n",
              "  </svg>\n",
              "    </button>\n",
              "\n",
              "  <style>\n",
              "    .colab-df-container {\n",
              "      display:flex;\n",
              "      gap: 12px;\n",
              "    }\n",
              "\n",
              "    .colab-df-convert {\n",
              "      background-color: #E8F0FE;\n",
              "      border: none;\n",
              "      border-radius: 50%;\n",
              "      cursor: pointer;\n",
              "      display: none;\n",
              "      fill: #1967D2;\n",
              "      height: 32px;\n",
              "      padding: 0 0 0 0;\n",
              "      width: 32px;\n",
              "    }\n",
              "\n",
              "    .colab-df-convert:hover {\n",
              "      background-color: #E2EBFA;\n",
              "      box-shadow: 0px 1px 2px rgba(60, 64, 67, 0.3), 0px 1px 3px 1px rgba(60, 64, 67, 0.15);\n",
              "      fill: #174EA6;\n",
              "    }\n",
              "\n",
              "    .colab-df-buttons div {\n",
              "      margin-bottom: 4px;\n",
              "    }\n",
              "\n",
              "    [theme=dark] .colab-df-convert {\n",
              "      background-color: #3B4455;\n",
              "      fill: #D2E3FC;\n",
              "    }\n",
              "\n",
              "    [theme=dark] .colab-df-convert:hover {\n",
              "      background-color: #434B5C;\n",
              "      box-shadow: 0px 1px 3px 1px rgba(0, 0, 0, 0.15);\n",
              "      filter: drop-shadow(0px 1px 2px rgba(0, 0, 0, 0.3));\n",
              "      fill: #FFFFFF;\n",
              "    }\n",
              "  </style>\n",
              "\n",
              "    <script>\n",
              "      const buttonEl =\n",
              "        document.querySelector('#df-980a97b6-8c3b-4186-bda2-37fe0c9b4561 button.colab-df-convert');\n",
              "      buttonEl.style.display =\n",
              "        google.colab.kernel.accessAllowed ? 'block' : 'none';\n",
              "\n",
              "      async function convertToInteractive(key) {\n",
              "        const element = document.querySelector('#df-980a97b6-8c3b-4186-bda2-37fe0c9b4561');\n",
              "        const dataTable =\n",
              "          await google.colab.kernel.invokeFunction('convertToInteractive',\n",
              "                                                    [key], {});\n",
              "        if (!dataTable) return;\n",
              "\n",
              "        const docLinkHtml = 'Like what you see? Visit the ' +\n",
              "          '<a target=\"_blank\" href=https://colab.research.google.com/notebooks/data_table.ipynb>data table notebook</a>'\n",
              "          + ' to learn more about interactive tables.';\n",
              "        element.innerHTML = '';\n",
              "        dataTable['output_type'] = 'display_data';\n",
              "        await google.colab.output.renderOutput(dataTable, element);\n",
              "        const docLink = document.createElement('div');\n",
              "        docLink.innerHTML = docLinkHtml;\n",
              "        element.appendChild(docLink);\n",
              "      }\n",
              "    </script>\n",
              "  </div>\n",
              "\n",
              "\n",
              "<div id=\"df-1e8bfa2a-9e5d-485b-9676-9febe51f86bf\">\n",
              "  <button class=\"colab-df-quickchart\" onclick=\"quickchart('df-1e8bfa2a-9e5d-485b-9676-9febe51f86bf')\"\n",
              "            title=\"Suggest charts\"\n",
              "            style=\"display:none;\">\n",
              "\n",
              "<svg xmlns=\"http://www.w3.org/2000/svg\" height=\"24px\"viewBox=\"0 0 24 24\"\n",
              "     width=\"24px\">\n",
              "    <g>\n",
              "        <path d=\"M19 3H5c-1.1 0-2 .9-2 2v14c0 1.1.9 2 2 2h14c1.1 0 2-.9 2-2V5c0-1.1-.9-2-2-2zM9 17H7v-7h2v7zm4 0h-2V7h2v10zm4 0h-2v-4h2v4z\"/>\n",
              "    </g>\n",
              "</svg>\n",
              "  </button>\n",
              "\n",
              "<style>\n",
              "  .colab-df-quickchart {\n",
              "      --bg-color: #E8F0FE;\n",
              "      --fill-color: #1967D2;\n",
              "      --hover-bg-color: #E2EBFA;\n",
              "      --hover-fill-color: #174EA6;\n",
              "      --disabled-fill-color: #AAA;\n",
              "      --disabled-bg-color: #DDD;\n",
              "  }\n",
              "\n",
              "  [theme=dark] .colab-df-quickchart {\n",
              "      --bg-color: #3B4455;\n",
              "      --fill-color: #D2E3FC;\n",
              "      --hover-bg-color: #434B5C;\n",
              "      --hover-fill-color: #FFFFFF;\n",
              "      --disabled-bg-color: #3B4455;\n",
              "      --disabled-fill-color: #666;\n",
              "  }\n",
              "\n",
              "  .colab-df-quickchart {\n",
              "    background-color: var(--bg-color);\n",
              "    border: none;\n",
              "    border-radius: 50%;\n",
              "    cursor: pointer;\n",
              "    display: none;\n",
              "    fill: var(--fill-color);\n",
              "    height: 32px;\n",
              "    padding: 0;\n",
              "    width: 32px;\n",
              "  }\n",
              "\n",
              "  .colab-df-quickchart:hover {\n",
              "    background-color: var(--hover-bg-color);\n",
              "    box-shadow: 0 1px 2px rgba(60, 64, 67, 0.3), 0 1px 3px 1px rgba(60, 64, 67, 0.15);\n",
              "    fill: var(--button-hover-fill-color);\n",
              "  }\n",
              "\n",
              "  .colab-df-quickchart-complete:disabled,\n",
              "  .colab-df-quickchart-complete:disabled:hover {\n",
              "    background-color: var(--disabled-bg-color);\n",
              "    fill: var(--disabled-fill-color);\n",
              "    box-shadow: none;\n",
              "  }\n",
              "\n",
              "  .colab-df-spinner {\n",
              "    border: 2px solid var(--fill-color);\n",
              "    border-color: transparent;\n",
              "    border-bottom-color: var(--fill-color);\n",
              "    animation:\n",
              "      spin 1s steps(1) infinite;\n",
              "  }\n",
              "\n",
              "  @keyframes spin {\n",
              "    0% {\n",
              "      border-color: transparent;\n",
              "      border-bottom-color: var(--fill-color);\n",
              "      border-left-color: var(--fill-color);\n",
              "    }\n",
              "    20% {\n",
              "      border-color: transparent;\n",
              "      border-left-color: var(--fill-color);\n",
              "      border-top-color: var(--fill-color);\n",
              "    }\n",
              "    30% {\n",
              "      border-color: transparent;\n",
              "      border-left-color: var(--fill-color);\n",
              "      border-top-color: var(--fill-color);\n",
              "      border-right-color: var(--fill-color);\n",
              "    }\n",
              "    40% {\n",
              "      border-color: transparent;\n",
              "      border-right-color: var(--fill-color);\n",
              "      border-top-color: var(--fill-color);\n",
              "    }\n",
              "    60% {\n",
              "      border-color: transparent;\n",
              "      border-right-color: var(--fill-color);\n",
              "    }\n",
              "    80% {\n",
              "      border-color: transparent;\n",
              "      border-right-color: var(--fill-color);\n",
              "      border-bottom-color: var(--fill-color);\n",
              "    }\n",
              "    90% {\n",
              "      border-color: transparent;\n",
              "      border-bottom-color: var(--fill-color);\n",
              "    }\n",
              "  }\n",
              "</style>\n",
              "\n",
              "  <script>\n",
              "    async function quickchart(key) {\n",
              "      const quickchartButtonEl =\n",
              "        document.querySelector('#' + key + ' button');\n",
              "      quickchartButtonEl.disabled = true;  // To prevent multiple clicks.\n",
              "      quickchartButtonEl.classList.add('colab-df-spinner');\n",
              "      try {\n",
              "        const charts = await google.colab.kernel.invokeFunction(\n",
              "            'suggestCharts', [key], {});\n",
              "      } catch (error) {\n",
              "        console.error('Error during call to suggestCharts:', error);\n",
              "      }\n",
              "      quickchartButtonEl.classList.remove('colab-df-spinner');\n",
              "      quickchartButtonEl.classList.add('colab-df-quickchart-complete');\n",
              "    }\n",
              "    (() => {\n",
              "      let quickchartButtonEl =\n",
              "        document.querySelector('#df-1e8bfa2a-9e5d-485b-9676-9febe51f86bf button');\n",
              "      quickchartButtonEl.style.display =\n",
              "        google.colab.kernel.accessAllowed ? 'block' : 'none';\n",
              "    })();\n",
              "  </script>\n",
              "</div>\n",
              "\n",
              "    </div>\n",
              "  </div>\n"
            ],
            "text/plain": [
              "  PDBID Chain_Symmetry BestUnpAccession bmID                     inchikey  \\\n",
              "0  100d              A              NaN  bm1  PFNFFQXMRSDOHW-UHFFFAOYSA-N   \n",
              "1  101d              A              NaN  bm1  JLVVSXFLKOJNIY-UHFFFAOYSA-N   \n",
              "2  101d              A              NaN  bm2  IDBIFFKSXLYUOT-UHFFFAOYSA-N   \n",
              "3  101d              B              NaN  bm1  JLVVSXFLKOJNIY-UHFFFAOYSA-N   \n",
              "4  101d              B              NaN  bm2  IDBIFFKSXLYUOT-UHFFFAOYSA-N   \n",
              "\n",
              "  LigandID LigandType annotation  \n",
              "0      SPM        CCD        NaN  \n",
              "1       MG        CCD        ion  \n",
              "2       NT        CCD        NaN  \n",
              "3       MG        CCD        ion  \n",
              "4       NT        CCD        NaN  "
            ]
          },
          "execution_count": 90,
          "metadata": {},
          "output_type": "execute_result"
        }
      ],
      "source": [
        "int_chain_ligand = pd.read_csv(\"interacting_chains_with_ligand_functions.tsv\", sep=\"\\t\")\n",
        "int_chain_ligand.head()"
      ]
    },
    {
      "cell_type": "code",
      "execution_count": null,
      "metadata": {
        "colab": {
          "base_uri": "https://localhost:8080/",
          "height": 112
        },
        "id": "6EVVoiJCr_GX",
        "outputId": "996db8c7-b566-4ff8-9bcc-23ac79ede742"
      },
      "outputs": [
        {
          "data": {
            "application/vnd.google.colaboratory.intrinsic+json": {
              "repr_error": "0",
              "type": "dataframe"
            },
            "text/html": [
              "\n",
              "  <div id=\"df-d7df38d9-27f5-43a9-b48e-dfb341162e2e\" class=\"colab-df-container\">\n",
              "    <div>\n",
              "<style scoped>\n",
              "    .dataframe tbody tr th:only-of-type {\n",
              "        vertical-align: middle;\n",
              "    }\n",
              "\n",
              "    .dataframe tbody tr th {\n",
              "        vertical-align: top;\n",
              "    }\n",
              "\n",
              "    .dataframe thead th {\n",
              "        text-align: right;\n",
              "    }\n",
              "</style>\n",
              "<table border=\"1\" class=\"dataframe\">\n",
              "  <thead>\n",
              "    <tr style=\"text-align: right;\">\n",
              "      <th></th>\n",
              "      <th>PDBID</th>\n",
              "      <th>Chain_Symmetry</th>\n",
              "      <th>BestUnpAccession</th>\n",
              "      <th>bmID</th>\n",
              "      <th>inchikey</th>\n",
              "      <th>LigandID</th>\n",
              "      <th>LigandType</th>\n",
              "      <th>annotation</th>\n",
              "    </tr>\n",
              "  </thead>\n",
              "  <tbody>\n",
              "    <tr>\n",
              "      <th>14747</th>\n",
              "      <td>1e55</td>\n",
              "      <td>A</td>\n",
              "      <td>P49235</td>\n",
              "      <td>bm1</td>\n",
              "      <td>NVLTYOJHPBMILU-YOVYLDAJSA-N</td>\n",
              "      <td>CLC_000189</td>\n",
              "      <td>CLC</td>\n",
              "      <td>NaN</td>\n",
              "    </tr>\n",
              "    <tr>\n",
              "      <th>14748</th>\n",
              "      <td>1e55</td>\n",
              "      <td>B</td>\n",
              "      <td>P49235</td>\n",
              "      <td>bm2</td>\n",
              "      <td>NVLTYOJHPBMILU-YOVYLDAJSA-N</td>\n",
              "      <td>CLC_000189</td>\n",
              "      <td>CLC</td>\n",
              "      <td>NaN</td>\n",
              "    </tr>\n",
              "  </tbody>\n",
              "</table>\n",
              "</div>\n",
              "    <div class=\"colab-df-buttons\">\n",
              "\n",
              "  <div class=\"colab-df-container\">\n",
              "    <button class=\"colab-df-convert\" onclick=\"convertToInteractive('df-d7df38d9-27f5-43a9-b48e-dfb341162e2e')\"\n",
              "            title=\"Convert this dataframe to an interactive table.\"\n",
              "            style=\"display:none;\">\n",
              "\n",
              "  <svg xmlns=\"http://www.w3.org/2000/svg\" height=\"24px\" viewBox=\"0 -960 960 960\">\n",
              "    <path d=\"M120-120v-720h720v720H120Zm60-500h600v-160H180v160Zm220 220h160v-160H400v160Zm0 220h160v-160H400v160ZM180-400h160v-160H180v160Zm440 0h160v-160H620v160ZM180-180h160v-160H180v160Zm440 0h160v-160H620v160Z\"/>\n",
              "  </svg>\n",
              "    </button>\n",
              "\n",
              "  <style>\n",
              "    .colab-df-container {\n",
              "      display:flex;\n",
              "      gap: 12px;\n",
              "    }\n",
              "\n",
              "    .colab-df-convert {\n",
              "      background-color: #E8F0FE;\n",
              "      border: none;\n",
              "      border-radius: 50%;\n",
              "      cursor: pointer;\n",
              "      display: none;\n",
              "      fill: #1967D2;\n",
              "      height: 32px;\n",
              "      padding: 0 0 0 0;\n",
              "      width: 32px;\n",
              "    }\n",
              "\n",
              "    .colab-df-convert:hover {\n",
              "      background-color: #E2EBFA;\n",
              "      box-shadow: 0px 1px 2px rgba(60, 64, 67, 0.3), 0px 1px 3px 1px rgba(60, 64, 67, 0.15);\n",
              "      fill: #174EA6;\n",
              "    }\n",
              "\n",
              "    .colab-df-buttons div {\n",
              "      margin-bottom: 4px;\n",
              "    }\n",
              "\n",
              "    [theme=dark] .colab-df-convert {\n",
              "      background-color: #3B4455;\n",
              "      fill: #D2E3FC;\n",
              "    }\n",
              "\n",
              "    [theme=dark] .colab-df-convert:hover {\n",
              "      background-color: #434B5C;\n",
              "      box-shadow: 0px 1px 3px 1px rgba(0, 0, 0, 0.15);\n",
              "      filter: drop-shadow(0px 1px 2px rgba(0, 0, 0, 0.3));\n",
              "      fill: #FFFFFF;\n",
              "    }\n",
              "  </style>\n",
              "\n",
              "    <script>\n",
              "      const buttonEl =\n",
              "        document.querySelector('#df-d7df38d9-27f5-43a9-b48e-dfb341162e2e button.colab-df-convert');\n",
              "      buttonEl.style.display =\n",
              "        google.colab.kernel.accessAllowed ? 'block' : 'none';\n",
              "\n",
              "      async function convertToInteractive(key) {\n",
              "        const element = document.querySelector('#df-d7df38d9-27f5-43a9-b48e-dfb341162e2e');\n",
              "        const dataTable =\n",
              "          await google.colab.kernel.invokeFunction('convertToInteractive',\n",
              "                                                    [key], {});\n",
              "        if (!dataTable) return;\n",
              "\n",
              "        const docLinkHtml = 'Like what you see? Visit the ' +\n",
              "          '<a target=\"_blank\" href=https://colab.research.google.com/notebooks/data_table.ipynb>data table notebook</a>'\n",
              "          + ' to learn more about interactive tables.';\n",
              "        element.innerHTML = '';\n",
              "        dataTable['output_type'] = 'display_data';\n",
              "        await google.colab.output.renderOutput(dataTable, element);\n",
              "        const docLink = document.createElement('div');\n",
              "        docLink.innerHTML = docLinkHtml;\n",
              "        element.appendChild(docLink);\n",
              "      }\n",
              "    </script>\n",
              "  </div>\n",
              "\n",
              "\n",
              "<div id=\"df-617d69b2-60a9-4097-8d8a-22d2f9f1505e\">\n",
              "  <button class=\"colab-df-quickchart\" onclick=\"quickchart('df-617d69b2-60a9-4097-8d8a-22d2f9f1505e')\"\n",
              "            title=\"Suggest charts\"\n",
              "            style=\"display:none;\">\n",
              "\n",
              "<svg xmlns=\"http://www.w3.org/2000/svg\" height=\"24px\"viewBox=\"0 0 24 24\"\n",
              "     width=\"24px\">\n",
              "    <g>\n",
              "        <path d=\"M19 3H5c-1.1 0-2 .9-2 2v14c0 1.1.9 2 2 2h14c1.1 0 2-.9 2-2V5c0-1.1-.9-2-2-2zM9 17H7v-7h2v7zm4 0h-2V7h2v10zm4 0h-2v-4h2v4z\"/>\n",
              "    </g>\n",
              "</svg>\n",
              "  </button>\n",
              "\n",
              "<style>\n",
              "  .colab-df-quickchart {\n",
              "      --bg-color: #E8F0FE;\n",
              "      --fill-color: #1967D2;\n",
              "      --hover-bg-color: #E2EBFA;\n",
              "      --hover-fill-color: #174EA6;\n",
              "      --disabled-fill-color: #AAA;\n",
              "      --disabled-bg-color: #DDD;\n",
              "  }\n",
              "\n",
              "  [theme=dark] .colab-df-quickchart {\n",
              "      --bg-color: #3B4455;\n",
              "      --fill-color: #D2E3FC;\n",
              "      --hover-bg-color: #434B5C;\n",
              "      --hover-fill-color: #FFFFFF;\n",
              "      --disabled-bg-color: #3B4455;\n",
              "      --disabled-fill-color: #666;\n",
              "  }\n",
              "\n",
              "  .colab-df-quickchart {\n",
              "    background-color: var(--bg-color);\n",
              "    border: none;\n",
              "    border-radius: 50%;\n",
              "    cursor: pointer;\n",
              "    display: none;\n",
              "    fill: var(--fill-color);\n",
              "    height: 32px;\n",
              "    padding: 0;\n",
              "    width: 32px;\n",
              "  }\n",
              "\n",
              "  .colab-df-quickchart:hover {\n",
              "    background-color: var(--hover-bg-color);\n",
              "    box-shadow: 0 1px 2px rgba(60, 64, 67, 0.3), 0 1px 3px 1px rgba(60, 64, 67, 0.15);\n",
              "    fill: var(--button-hover-fill-color);\n",
              "  }\n",
              "\n",
              "  .colab-df-quickchart-complete:disabled,\n",
              "  .colab-df-quickchart-complete:disabled:hover {\n",
              "    background-color: var(--disabled-bg-color);\n",
              "    fill: var(--disabled-fill-color);\n",
              "    box-shadow: none;\n",
              "  }\n",
              "\n",
              "  .colab-df-spinner {\n",
              "    border: 2px solid var(--fill-color);\n",
              "    border-color: transparent;\n",
              "    border-bottom-color: var(--fill-color);\n",
              "    animation:\n",
              "      spin 1s steps(1) infinite;\n",
              "  }\n",
              "\n",
              "  @keyframes spin {\n",
              "    0% {\n",
              "      border-color: transparent;\n",
              "      border-bottom-color: var(--fill-color);\n",
              "      border-left-color: var(--fill-color);\n",
              "    }\n",
              "    20% {\n",
              "      border-color: transparent;\n",
              "      border-left-color: var(--fill-color);\n",
              "      border-top-color: var(--fill-color);\n",
              "    }\n",
              "    30% {\n",
              "      border-color: transparent;\n",
              "      border-left-color: var(--fill-color);\n",
              "      border-top-color: var(--fill-color);\n",
              "      border-right-color: var(--fill-color);\n",
              "    }\n",
              "    40% {\n",
              "      border-color: transparent;\n",
              "      border-right-color: var(--fill-color);\n",
              "      border-top-color: var(--fill-color);\n",
              "    }\n",
              "    60% {\n",
              "      border-color: transparent;\n",
              "      border-right-color: var(--fill-color);\n",
              "    }\n",
              "    80% {\n",
              "      border-color: transparent;\n",
              "      border-right-color: var(--fill-color);\n",
              "      border-bottom-color: var(--fill-color);\n",
              "    }\n",
              "    90% {\n",
              "      border-color: transparent;\n",
              "      border-bottom-color: var(--fill-color);\n",
              "    }\n",
              "  }\n",
              "</style>\n",
              "\n",
              "  <script>\n",
              "    async function quickchart(key) {\n",
              "      const quickchartButtonEl =\n",
              "        document.querySelector('#' + key + ' button');\n",
              "      quickchartButtonEl.disabled = true;  // To prevent multiple clicks.\n",
              "      quickchartButtonEl.classList.add('colab-df-spinner');\n",
              "      try {\n",
              "        const charts = await google.colab.kernel.invokeFunction(\n",
              "            'suggestCharts', [key], {});\n",
              "      } catch (error) {\n",
              "        console.error('Error during call to suggestCharts:', error);\n",
              "      }\n",
              "      quickchartButtonEl.classList.remove('colab-df-spinner');\n",
              "      quickchartButtonEl.classList.add('colab-df-quickchart-complete');\n",
              "    }\n",
              "    (() => {\n",
              "      let quickchartButtonEl =\n",
              "        document.querySelector('#df-617d69b2-60a9-4097-8d8a-22d2f9f1505e button');\n",
              "      quickchartButtonEl.style.display =\n",
              "        google.colab.kernel.accessAllowed ? 'block' : 'none';\n",
              "    })();\n",
              "  </script>\n",
              "</div>\n",
              "\n",
              "    </div>\n",
              "  </div>\n"
            ],
            "text/plain": [
              "      PDBID Chain_Symmetry BestUnpAccession bmID                     inchikey  \\\n",
              "14747  1e55              A           P49235  bm1  NVLTYOJHPBMILU-YOVYLDAJSA-N   \n",
              "14748  1e55              B           P49235  bm2  NVLTYOJHPBMILU-YOVYLDAJSA-N   \n",
              "\n",
              "         LigandID LigandType annotation  \n",
              "14747  CLC_000189        CLC        NaN  \n",
              "14748  CLC_000189        CLC        NaN  "
            ]
          },
          "execution_count": 91,
          "metadata": {},
          "output_type": "execute_result"
        }
      ],
      "source": [
        "int_chain_ligand[int_chain_ligand[\"PDBID\"]==\"1e55\"]"
      ]
    },
    {
      "cell_type": "code",
      "execution_count": null,
      "metadata": {
        "colab": {
          "base_uri": "https://localhost:8080/",
          "height": 167
        },
        "id": "v-tIQuYhr_GX",
        "outputId": "3e7b7464-47c6-4f38-cad6-dd7ed71f2141"
      },
      "outputs": [
        {
          "data": {
            "image/png": "[encoded data removed]",
            "text/plain": [
              "<rdkit.Chem.rdchem.Mol at 0x7b965a85f290>"
            ]
          },
          "execution_count": 92,
          "metadata": {},
          "output_type": "execute_result"
        }
      ],
      "source": [
        "durrin_cif = get_ligand_cif(\"CLC_000189\", ligandType.CLC)\n",
        "dhurrin_cif_component = clc_reader.read_clc_cif_file(durrin_cif).component\n",
        "dhurrin_cif_component.mol"
      ]
    },
    {
      "cell_type": "markdown",
      "metadata": {
        "id": "c9dz01AVr_GX"
      },
      "source": [
        "####&nbsp; 1.9.2.1 Highlighting CCDs present in a Covalently Linked Component (CLC)"
      ]
    },
    {
      "cell_type": "code",
      "execution_count": null,
      "metadata": {
        "colab": {
          "base_uri": "https://localhost:8080/"
        },
        "id": "Q5V3OnwYr_GX",
        "outputId": "17c239b8-ef8c-49f1-9b4f-d67062c14e27"
      },
      "outputs": [
        {
          "name": "stderr",
          "output_type": "stream",
          "text": [
            "[20:35:13] unrecognized bond type[20:35:13] unrecognized bond type[20:43:09] Warning: molecule is tagged as 2D, but at least one Z coordinate is not zero. Marking the mol as 3D.\n"
          ]
        },
        {
          "data": {
            "text/plain": [
              "DepictionResult(source=<DepictionSource.PubChem: 1>, template_name='CLC_000189', mol=<rdkit.Chem.rdchem.Mol object at 0x7b965a85f610>, score=0.0)"
            ]
          },
          "execution_count": 93,
          "metadata": {},
          "output_type": "execute_result"
        }
      ],
      "source": [
        "pubchem_downloader.process_template(dhurrin_cif_component)\n",
        "depictions = DepictionManager(pubchem_templates)\n",
        "depiction_result = dhurrin_cif_component.compute_2d(depictions)\n",
        "depiction_result"
      ]
    },
    {
      "cell_type": "code",
      "execution_count": null,
      "metadata": {
        "colab": {
          "base_uri": "https://localhost:8080/",
          "height": 167
        },
        "id": "UaAD2CGgr_GX",
        "outputId": "9b10bb90-10b4-4d9b-ab09-eddf05fd2c11"
      },
      "outputs": [
        {
          "data": {
            "image/png": "[encoded data removed]",
            "text/plain": [
              "<rdkit.Chem.rdchem.Mol at 0x7b965a85f610>"
            ]
          },
          "execution_count": 94,
          "metadata": {},
          "output_type": "execute_result"
        }
      ],
      "source": [
        "dhurrin_cif_component.mol2D"
      ]
    },
    {
      "cell_type": "code",
      "execution_count": null,
      "metadata": {
        "colab": {
          "base_uri": "https://localhost:8080/"
        },
        "id": "on2PI0vWr_GY",
        "outputId": "aa968ded-6cb1-445a-c4e8-23291127e099"
      },
      "outputs": [
        {
          "data": {
            "text/plain": [
              "[Subcomponent(id='1', name='BGC', atoms=['C0', 'C1', 'C2', 'C3', 'C4', 'C5', 'O6', 'O7', 'O8', 'O9', 'O10', 'O11']),\n",
              " Subcomponent(id='2', name='DHR', atoms=['N12', 'C13', 'C14', 'C15', 'C16', 'C17', 'C18', 'C19', 'O20', 'C21'])]"
            ]
          },
          "execution_count": 95,
          "metadata": {},
          "output_type": "execute_result"
        }
      ],
      "source": [
        "dhurrin_subcomponents = get_subcomponents(dhurrin_cif_component)\n",
        "dhurrin_subcomponents"
      ]
    },
    {
      "cell_type": "code",
      "execution_count": null,
      "metadata": {
        "id": "2VO3Qm-Hr_GY"
      },
      "outputs": [],
      "source": [
        "subcomponent_colors = [(0.0, 0.0, 1.0, 0.5), (1.0, 0.0, 0.0, 0.5)]\n",
        "athighlights ={}\n",
        "bndhighlights = {}\n",
        "for i, subcomponent in enumerate(dhurrin_subcomponents):\n",
        "    for atom in subcomponent.atoms:\n",
        "        athighlights[atom] = subcomponent_colors[i]\n",
        "    for bond in dhurrin_cif_component.mol.GetBonds():\n",
        "        bgn_atom = bond.GetBeginAtom().GetProp(\"name\")\n",
        "        end_atom = bond.GetEndAtom().GetProp(\"name\")\n",
        "        if bgn_atom in subcomponent.atoms and end_atom in subcomponent.atoms:\n",
        "            bndhighlights[(bgn_atom, end_atom)] = subcomponent_colors[i]"
      ]
    },
    {
      "cell_type": "code",
      "execution_count": null,
      "metadata": {
        "id": "EVcNGMeLr_GY"
      },
      "outputs": [],
      "source": [
        "dhurrin_cif_component.export_2d_svg(\"dhurrin_ccd.svg\", atom_highlight=athighlights, bond_highlight=bndhighlights)"
      ]
    },
    {
      "cell_type": "code",
      "execution_count": null,
      "metadata": {
        "colab": {
          "base_uri": "https://localhost:8080/",
          "height": 521
        },
        "id": "O3wbDBkpr_GZ",
        "outputId": "8dda8272-e131-416b-9d7a-3ae6c455aa75"
      },
      "outputs": [
        {
          "data": {
            "image/svg+xml": "<svg xmlns=\"http://www.w3.org/2000/svg\" xmlns:rdkit=\"http://www.rdkit.org/xml\" xmlns:xlink=\"http://www.w3.org/1999/xlink\" version=\"1.1\" baseProfile=\"full\" xml:space=\"preserve\" width=\"500px\" height=\"500px\" viewBox=\"0 0 500 500\">\n<!-- END OF HEADER -->\n<rect style=\"opacity:1.0;fill:#FFFFFF;stroke:none\" width=\"500.0\" height=\"500.0\" x=\"0.0\" y=\"0.0\"> </rect>\n<path class=\"bond-0 atom-0 atom-1\" d=\"M 195.5,331.3 L 201.5,334.7 L 201.5,341.7 L 158.5,366.5 L 152.5,363.0 L 152.5,356.1 Z\" style=\"fill:#0000FF7F;fill-rule:evenodd;fill-opacity:0.5;stroke:#0000FF7F;stroke-width:0.0px;stroke-linecap:butt;stroke-linejoin:miter;stroke-opacity:0.5;\"/>\n<path class=\"bond-1 atom-0 atom-5\" d=\"M 201.5,278.2 L 207.5,281.6 L 207.5,331.3 L 201.5,334.7 L 195.5,331.3 L 195.5,281.6 Z\" style=\"fill:#0000FF7F;fill-rule:evenodd;fill-opacity:0.5;stroke:#0000FF7F;stroke-width:0.0px;stroke-linecap:butt;stroke-linejoin:miter;stroke-opacity:0.5;\"/>\n<path class=\"bond-2 atom-0 atom-7\" d=\"M 207.5,331.3 L 253.5,357.8 L 247.5,368.3 L 201.5,341.7 L 201.5,334.7 Z\" style=\"fill:#0000FF7F;fill-rule:evenodd;fill-opacity:0.5;stroke:#0000FF7F;stroke-width:0.0px;stroke-linecap:butt;stroke-linejoin:miter;stroke-opacity:0.5;\"/>\n<path class=\"bond-3 atom-1 atom-2\" d=\"M 109.5,331.3 L 152.5,356.1 L 152.5,363.0 L 146.5,366.5 L 103.5,341.7 L 103.5,334.7 Z\" style=\"fill:#0000FF7F;fill-rule:evenodd;fill-opacity:0.5;stroke:#0000FF7F;stroke-width:0.0px;stroke-linecap:butt;stroke-linejoin:miter;stroke-opacity:0.5;\"/>\n<path class=\"bond-4 atom-1 atom-8\" d=\"M 152.5,363.0 L 158.5,366.5 L 158.5,419.6 L 146.5,419.6 L 146.5,366.5 Z\" style=\"fill:#0000FF7F;fill-rule:evenodd;fill-opacity:0.5;stroke:#0000FF7F;stroke-width:0.0px;stroke-linecap:butt;stroke-linejoin:miter;stroke-opacity:0.5;\"/>\n<path class=\"bond-5 atom-2 atom-3\" d=\"M 103.5,278.2 L 109.5,281.6 L 109.5,331.3 L 103.5,334.7 L 97.5,331.3 L 97.5,281.6 Z\" style=\"fill:#0000FF7F;fill-rule:evenodd;fill-opacity:0.5;stroke:#0000FF7F;stroke-width:0.0px;stroke-linecap:butt;stroke-linejoin:miter;stroke-opacity:0.5;\"/>\n<path class=\"bond-6 atom-2 atom-9\" d=\"M 97.5,331.3 L 103.5,334.7 L 103.5,341.7 L 57.5,368.3 L 51.5,357.8 Z\" style=\"fill:#0000FF7F;fill-rule:evenodd;fill-opacity:0.5;stroke:#0000FF7F;stroke-width:0.0px;stroke-linecap:butt;stroke-linejoin:miter;stroke-opacity:0.5;\"/>\n<path class=\"bond-7 atom-3 atom-4\" d=\"M 60.5,246.4 L 103.5,271.2 L 103.5,278.2 L 97.5,281.6 L 48.5,253.4 Z\" style=\"fill:#0000FF7F;fill-rule:evenodd;fill-opacity:0.5;stroke:#0000FF7F;stroke-width:0.0px;stroke-linecap:butt;stroke-linejoin:miter;stroke-opacity:0.5;\"/>\n<path class=\"bond-8 atom-3 atom-10\" d=\"M 152.5,242.9 L 152.5,256.8 L 109.5,281.6 L 103.5,278.2 L 103.5,271.2 Z\" style=\"fill:#0000FF7F;fill-rule:evenodd;fill-opacity:0.5;stroke:#0000FF7F;stroke-width:0.0px;stroke-linecap:butt;stroke-linejoin:miter;stroke-opacity:0.5;\"/>\n<path class=\"bond-9 atom-4 atom-11\" d=\"M 48.5,193.3 L 60.5,193.3 L 60.5,246.4 L 48.5,253.4 Z\" style=\"fill:#0000FF7F;fill-rule:evenodd;fill-opacity:0.5;stroke:#0000FF7F;stroke-width:0.0px;stroke-linecap:butt;stroke-linejoin:miter;stroke-opacity:0.5;\"/>\n<path class=\"bond-10 atom-5 atom-6\" d=\"M 247.5,244.6 L 253.5,255.1 L 207.5,281.6 L 201.5,278.2 L 201.5,271.2 Z\" style=\"fill:#0000FF7F;fill-rule:evenodd;fill-opacity:0.5;stroke:#0000FF7F;stroke-width:0.0px;stroke-linecap:butt;stroke-linejoin:miter;stroke-opacity:0.5;\"/>\n<path class=\"bond-11 atom-5 atom-10\" d=\"M 152.5,242.9 L 201.5,271.2 L 201.5,278.2 L 195.5,281.6 L 152.5,256.8 Z\" style=\"fill:#0000FF7F;fill-rule:evenodd;fill-opacity:0.5;stroke:#0000FF7F;stroke-width:0.0px;stroke-linecap:butt;stroke-linejoin:miter;stroke-opacity:0.5;\"/>\n<path class=\"bond-12 atom-12 atom-13\" d=\"M 155.5,131.5 L 204.0,159.5 L 199.0,170.5 L 149.5,142.0 Z\" style=\"fill:#FF00007F;fill-rule:evenodd;fill-opacity:0.5;stroke:#FF00007F;stroke-width:0.0px;stroke-linecap:butt;stroke-linejoin:miter;stroke-opacity:0.5;\"/>\n<path class=\"bond-13 atom-13 atom-21\" d=\"M 204.0,159.5 L 250.5,186.3 L 250.5,200.3 L 199.0,170.5 Z\" style=\"fill:#FF00007F;fill-rule:evenodd;fill-opacity:0.5;stroke:#FF00007F;stroke-width:0.0px;stroke-linecap:butt;stroke-linejoin:miter;stroke-opacity:0.5;\"/>\n<path class=\"bond-14 atom-14 atom-15\" d=\"M 293.4,105.0 L 305.5,111.9 L 305.5,161.5 L 299.5,165.0 L 293.4,161.5 Z\" style=\"fill:#FF00007F;fill-rule:evenodd;fill-opacity:0.5;stroke:#FF00007F;stroke-width:0.0px;stroke-linecap:butt;stroke-linejoin:miter;stroke-opacity:0.5;\"/>\n<path class=\"bond-15 atom-14 atom-16\" d=\"M 305.5,161.5 L 348.5,186.3 L 348.5,200.3 L 299.5,172.0 L 299.5,165.0 Z\" style=\"fill:#FF00007F;fill-rule:evenodd;fill-opacity:0.5;stroke:#FF00007F;stroke-width:0.0px;stroke-linecap:butt;stroke-linejoin:miter;stroke-opacity:0.5;\"/>\n<path class=\"bond-16 atom-14 atom-21\" d=\"M 293.4,161.5 L 299.5,165.0 L 299.5,172.0 L 250.5,200.3 L 250.5,186.3 Z\" style=\"fill:#FF00007F;fill-rule:evenodd;fill-opacity:0.5;stroke:#FF00007F;stroke-width:0.0px;stroke-linecap:butt;stroke-linejoin:miter;stroke-opacity:0.5;\"/>\n<path class=\"bond-17 atom-15 atom-18\" d=\"M 348.5,73.2 L 348.5,87.1 L 305.5,111.9 L 293.4,105.0 Z\" style=\"fill:#FF00007F;fill-rule:evenodd;fill-opacity:0.5;stroke:#FF00007F;stroke-width:0.0px;stroke-linecap:butt;stroke-linejoin:miter;stroke-opacity:0.5;\"/>\n<path class=\"bond-18 atom-16 atom-17\" d=\"M 391.4,161.5 L 403.5,168.5 L 348.5,200.3 L 348.5,186.3 Z\" style=\"fill:#FF00007F;fill-rule:evenodd;fill-opacity:0.5;stroke:#FF00007F;stroke-width:0.0px;stroke-linecap:butt;stroke-linejoin:miter;stroke-opacity:0.5;\"/>\n<path class=\"bond-19 atom-17 atom-19\" d=\"M 397.5,108.4 L 403.5,111.9 L 403.5,168.5 L 391.4,161.5 L 391.4,111.9 Z\" style=\"fill:#FF00007F;fill-rule:evenodd;fill-opacity:0.5;stroke:#FF00007F;stroke-width:0.0px;stroke-linecap:butt;stroke-linejoin:miter;stroke-opacity:0.5;\"/>\n<path class=\"bond-20 atom-18 atom-19\" d=\"M 348.5,73.2 L 397.5,101.5 L 397.5,108.4 L 391.4,111.9 L 348.5,87.1 Z\" style=\"fill:#FF00007F;fill-rule:evenodd;fill-opacity:0.5;stroke:#FF00007F;stroke-width:0.0px;stroke-linecap:butt;stroke-linejoin:miter;stroke-opacity:0.5;\"/>\n<path class=\"bond-21 atom-19 atom-20\" d=\"M 443.4,74.9 L 449.5,85.4 L 403.5,111.9 L 397.5,108.4 L 397.5,101.5 Z\" style=\"fill:#FF00007F;fill-rule:evenodd;fill-opacity:0.5;stroke:#FF00007F;stroke-width:0.0px;stroke-linecap:butt;stroke-linejoin:miter;stroke-opacity:0.5;\"/>\n<ellipse cx=\"201.5\" cy=\"334.7\" rx=\"11.3\" ry=\"11.3\" class=\"atom-0\" style=\"fill:#0000FF7F;fill-rule:evenodd;stroke:#0000FF7F;stroke-width:1.0px;stroke-linecap:butt;stroke-linejoin:miter;stroke-opacity:1\"/>\n<ellipse cx=\"152.5\" cy=\"363.0\" rx=\"11.3\" ry=\"11.3\" class=\"atom-1\" style=\"fill:#0000FF7F;fill-rule:evenodd;stroke:#0000FF7F;stroke-width:1.0px;stroke-linecap:butt;stroke-linejoin:miter;stroke-opacity:1\"/>\n<ellipse cx=\"103.5\" cy=\"334.7\" rx=\"11.3\" ry=\"11.3\" class=\"atom-2\" style=\"fill:#0000FF7F;fill-rule:evenodd;stroke:#0000FF7F;stroke-width:1.0px;stroke-linecap:butt;stroke-linejoin:miter;stroke-opacity:1\"/>\n<ellipse cx=\"103.5\" cy=\"278.2\" rx=\"11.3\" ry=\"11.3\" class=\"atom-3\" style=\"fill:#0000FF7F;fill-rule:evenodd;stroke:#0000FF7F;stroke-width:1.0px;stroke-linecap:butt;stroke-linejoin:miter;stroke-opacity:1\"/>\n<ellipse cx=\"54.5\" cy=\"249.9\" rx=\"11.3\" ry=\"11.3\" class=\"atom-4\" style=\"fill:#0000FF7F;fill-rule:evenodd;stroke:#0000FF7F;stroke-width:1.0px;stroke-linecap:butt;stroke-linejoin:miter;stroke-opacity:1\"/>\n<ellipse cx=\"201.5\" cy=\"278.2\" rx=\"11.3\" ry=\"11.3\" class=\"atom-5\" style=\"fill:#0000FF7F;fill-rule:evenodd;stroke:#0000FF7F;stroke-width:1.0px;stroke-linecap:butt;stroke-linejoin:miter;stroke-opacity:1\"/>\n<ellipse cx=\"250.5\" cy=\"250.0\" rx=\"11.3\" ry=\"11.6\" class=\"atom-6\" style=\"fill:#0000FF7F;fill-rule:evenodd;stroke:#0000FF7F;stroke-width:1.0px;stroke-linecap:butt;stroke-linejoin:miter;stroke-opacity:1\"/>\n<ellipse cx=\"258.0\" cy=\"363.1\" rx=\"21.0\" ry=\"11.6\" class=\"atom-7\" style=\"fill:#0000FF7F;fill-rule:evenodd;stroke:#0000FF7F;stroke-width:1.0px;stroke-linecap:butt;stroke-linejoin:miter;stroke-opacity:1\"/>\n<ellipse cx=\"160.0\" cy=\"419.7\" rx=\"21.0\" ry=\"11.6\" class=\"atom-8\" style=\"fill:#0000FF7F;fill-rule:evenodd;stroke:#0000FF7F;stroke-width:1.0px;stroke-linecap:butt;stroke-linejoin:miter;stroke-opacity:1\"/>\n<ellipse cx=\"46.6\" cy=\"363.1\" rx=\"21.6\" ry=\"11.6\" class=\"atom-9\" style=\"fill:#0000FF7F;fill-rule:evenodd;stroke:#0000FF7F;stroke-width:1.0px;stroke-linecap:butt;stroke-linejoin:miter;stroke-opacity:1\"/>\n<ellipse cx=\"152.5\" cy=\"250.0\" rx=\"11.3\" ry=\"11.6\" class=\"atom-10\" style=\"fill:#0000FF7F;fill-rule:evenodd;stroke:#0000FF7F;stroke-width:1.0px;stroke-linecap:butt;stroke-linejoin:miter;stroke-opacity:1\"/>\n<ellipse cx=\"62.0\" cy=\"193.4\" rx=\"21.0\" ry=\"11.6\" class=\"atom-11\" style=\"fill:#0000FF7F;fill-rule:evenodd;stroke:#0000FF7F;stroke-width:1.0px;stroke-linecap:butt;stroke-linejoin:miter;stroke-opacity:1\"/>\n<ellipse cx=\"152.5\" cy=\"136.7\" rx=\"11.3\" ry=\"11.3\" class=\"atom-12\" style=\"fill:#FF00007F;fill-rule:evenodd;stroke:#FF00007F;stroke-width:1.0px;stroke-linecap:butt;stroke-linejoin:miter;stroke-opacity:1\"/>\n<ellipse cx=\"201.5\" cy=\"165.0\" rx=\"11.3\" ry=\"11.3\" class=\"atom-13\" style=\"fill:#FF00007F;fill-rule:evenodd;stroke:#FF00007F;stroke-width:1.0px;stroke-linecap:butt;stroke-linejoin:miter;stroke-opacity:1\"/>\n<ellipse cx=\"299.5\" cy=\"165.0\" rx=\"11.3\" ry=\"11.3\" class=\"atom-14\" style=\"fill:#FF00007F;fill-rule:evenodd;stroke:#FF00007F;stroke-width:1.0px;stroke-linecap:butt;stroke-linejoin:miter;stroke-opacity:1\"/>\n<ellipse cx=\"299.5\" cy=\"108.4\" rx=\"11.3\" ry=\"11.3\" class=\"atom-15\" style=\"fill:#FF00007F;fill-rule:evenodd;stroke:#FF00007F;stroke-width:1.0px;stroke-linecap:butt;stroke-linejoin:miter;stroke-opacity:1\"/>\n<ellipse cx=\"348.5\" cy=\"193.3\" rx=\"11.3\" ry=\"11.3\" class=\"atom-16\" style=\"fill:#FF00007F;fill-rule:evenodd;stroke:#FF00007F;stroke-width:1.0px;stroke-linecap:butt;stroke-linejoin:miter;stroke-opacity:1\"/>\n<ellipse cx=\"397.5\" cy=\"165.0\" rx=\"11.3\" ry=\"11.3\" class=\"atom-17\" style=\"fill:#FF00007F;fill-rule:evenodd;stroke:#FF00007F;stroke-width:1.0px;stroke-linecap:butt;stroke-linejoin:miter;stroke-opacity:1\"/>\n<ellipse cx=\"348.5\" cy=\"80.2\" rx=\"11.3\" ry=\"11.3\" class=\"atom-18\" style=\"fill:#FF00007F;fill-rule:evenodd;stroke:#FF00007F;stroke-width:1.0px;stroke-linecap:butt;stroke-linejoin:miter;stroke-opacity:1\"/>\n<ellipse cx=\"397.5\" cy=\"108.4\" rx=\"11.3\" ry=\"11.3\" class=\"atom-19\" style=\"fill:#FF00007F;fill-rule:evenodd;stroke:#FF00007F;stroke-width:1.0px;stroke-linecap:butt;stroke-linejoin:miter;stroke-opacity:1\"/>\n<ellipse cx=\"454.0\" cy=\"80.3\" rx=\"21.0\" ry=\"11.6\" class=\"atom-20\" style=\"fill:#FF00007F;fill-rule:evenodd;stroke:#FF00007F;stroke-width:1.0px;stroke-linecap:butt;stroke-linejoin:miter;stroke-opacity:1\"/>\n<ellipse cx=\"250.5\" cy=\"193.3\" rx=\"11.3\" ry=\"11.3\" class=\"atom-21\" style=\"fill:#FF00007F;fill-rule:evenodd;stroke:#FF00007F;stroke-width:1.0px;stroke-linecap:butt;stroke-linejoin:miter;stroke-opacity:1\"/>\n<path class=\"bond-0 atom-0 atom-1\" d=\"M 201.5,334.7 L 152.5,363.0\" style=\"fill:none;fill-rule:evenodd;stroke:#000000;stroke-width:2.0px;stroke-linecap:butt;stroke-linejoin:miter;stroke-opacity:1\"/>\n<path class=\"bond-1 atom-0 atom-5\" d=\"M 201.5,334.7 L 201.5,278.2\" style=\"fill:none;fill-rule:evenodd;stroke:#000000;stroke-width:2.0px;stroke-linecap:butt;stroke-linejoin:miter;stroke-opacity:1\"/>\n<path class=\"bond-2 atom-0 atom-7\" d=\"M 201.5,334.7 L 221.4,346.2\" style=\"fill:none;fill-rule:evenodd;stroke:#000000;stroke-width:2.0px;stroke-linecap:butt;stroke-linejoin:miter;stroke-opacity:1\"/>\n<path class=\"bond-2 atom-0 atom-7\" d=\"M 221.4,346.2 L 241.3,357.7\" style=\"fill:none;fill-rule:evenodd;stroke:#FF0000;stroke-width:2.0px;stroke-linecap:butt;stroke-linejoin:miter;stroke-opacity:1\"/>\n<path class=\"bond-3 atom-1 atom-2\" d=\"M 152.5,363.0 L 103.5,334.7\" style=\"fill:none;fill-rule:evenodd;stroke:#000000;stroke-width:2.0px;stroke-linecap:butt;stroke-linejoin:miter;stroke-opacity:1\"/>\n<path class=\"bond-4 atom-1 atom-8\" d=\"M 152.5,363.0 L 152.5,386.3\" style=\"fill:none;fill-rule:evenodd;stroke:#000000;stroke-width:2.0px;stroke-linecap:butt;stroke-linejoin:miter;stroke-opacity:1\"/>\n<path class=\"bond-4 atom-1 atom-8\" d=\"M 152.5,386.3 L 152.5,409.6\" style=\"fill:none;fill-rule:evenodd;stroke:#FF0000;stroke-width:2.0px;stroke-linecap:butt;stroke-linejoin:miter;stroke-opacity:1\"/>\n<path class=\"bond-5 atom-2 atom-3\" d=\"M 103.5,334.7 L 103.5,278.2\" style=\"fill:none;fill-rule:evenodd;stroke:#000000;stroke-width:2.0px;stroke-linecap:butt;stroke-linejoin:miter;stroke-opacity:1\"/>\n<path class=\"bond-6 atom-2 atom-9\" d=\"M 103.5,334.7 L 83.6,346.2\" style=\"fill:none;fill-rule:evenodd;stroke:#000000;stroke-width:2.0px;stroke-linecap:butt;stroke-linejoin:miter;stroke-opacity:1\"/>\n<path class=\"bond-6 atom-2 atom-9\" d=\"M 83.6,346.2 L 63.7,357.7\" style=\"fill:none;fill-rule:evenodd;stroke:#FF0000;stroke-width:2.0px;stroke-linecap:butt;stroke-linejoin:miter;stroke-opacity:1\"/>\n<path class=\"bond-7 atom-3 atom-4\" d=\"M 103.5,278.2 L 54.5,249.9\" style=\"fill:none;fill-rule:evenodd;stroke:#000000;stroke-width:2.0px;stroke-linecap:butt;stroke-linejoin:miter;stroke-opacity:1\"/>\n<path class=\"bond-8 atom-3 atom-10\" d=\"M 103.5,278.2 L 123.4,266.7\" style=\"fill:none;fill-rule:evenodd;stroke:#000000;stroke-width:2.0px;stroke-linecap:butt;stroke-linejoin:miter;stroke-opacity:1\"/>\n<path class=\"bond-8 atom-3 atom-10\" d=\"M 123.4,266.7 L 143.3,255.2\" style=\"fill:none;fill-rule:evenodd;stroke:#FF0000;stroke-width:2.0px;stroke-linecap:butt;stroke-linejoin:miter;stroke-opacity:1\"/>\n<path class=\"bond-9 atom-4 atom-11\" d=\"M 54.5,249.9 L 54.5,226.7\" style=\"fill:none;fill-rule:evenodd;stroke:#000000;stroke-width:2.0px;stroke-linecap:butt;stroke-linejoin:miter;stroke-opacity:1\"/>\n<path class=\"bond-9 atom-4 atom-11\" d=\"M 54.5,226.7 L 54.5,203.5\" style=\"fill:none;fill-rule:evenodd;stroke:#FF0000;stroke-width:2.0px;stroke-linecap:butt;stroke-linejoin:miter;stroke-opacity:1\"/>\n<path class=\"bond-10 atom-5 atom-6\" d=\"M 201.5,278.2 L 221.4,266.7\" style=\"fill:none;fill-rule:evenodd;stroke:#000000;stroke-width:2.0px;stroke-linecap:butt;stroke-linejoin:miter;stroke-opacity:1\"/>\n<path class=\"bond-10 atom-5 atom-6\" d=\"M 221.4,266.7 L 241.3,255.2\" style=\"fill:none;fill-rule:evenodd;stroke:#FF0000;stroke-width:2.0px;stroke-linecap:butt;stroke-linejoin:miter;stroke-opacity:1\"/>\n<path class=\"bond-11 atom-5 atom-10\" d=\"M 201.5,278.2 L 181.6,266.7\" style=\"fill:none;fill-rule:evenodd;stroke:#000000;stroke-width:2.0px;stroke-linecap:butt;stroke-linejoin:miter;stroke-opacity:1\"/>\n<path class=\"bond-11 atom-5 atom-10\" d=\"M 181.6,266.7 L 161.7,255.2\" style=\"fill:none;fill-rule:evenodd;stroke:#FF0000;stroke-width:2.0px;stroke-linecap:butt;stroke-linejoin:miter;stroke-opacity:1\"/>\n<path class=\"bond-12 atom-12 atom-13\" d=\"M 160.4,141.3 L 181.0,153.2\" style=\"fill:none;fill-rule:evenodd;stroke:#0000FF;stroke-width:2.0px;stroke-linecap:butt;stroke-linejoin:miter;stroke-opacity:1\"/>\n<path class=\"bond-12 atom-12 atom-13\" d=\"M 181.0,153.2 L 201.5,165.0\" style=\"fill:none;fill-rule:evenodd;stroke:#000000;stroke-width:2.0px;stroke-linecap:butt;stroke-linejoin:miter;stroke-opacity:1\"/>\n<path class=\"bond-12 atom-12 atom-13\" d=\"M 164.7,134.0 L 185.2,145.8\" style=\"fill:none;fill-rule:evenodd;stroke:#0000FF;stroke-width:2.0px;stroke-linecap:butt;stroke-linejoin:miter;stroke-opacity:1\"/>\n<path class=\"bond-12 atom-12 atom-13\" d=\"M 185.2,145.8 L 205.7,157.7\" style=\"fill:none;fill-rule:evenodd;stroke:#000000;stroke-width:2.0px;stroke-linecap:butt;stroke-linejoin:miter;stroke-opacity:1\"/>\n<path class=\"bond-12 atom-12 atom-13\" d=\"M 156.2,148.7 L 176.7,160.5\" style=\"fill:none;fill-rule:evenodd;stroke:#0000FF;stroke-width:2.0px;stroke-linecap:butt;stroke-linejoin:miter;stroke-opacity:1\"/>\n<path class=\"bond-12 atom-12 atom-13\" d=\"M 176.7,160.5 L 197.2,172.4\" style=\"fill:none;fill-rule:evenodd;stroke:#000000;stroke-width:2.0px;stroke-linecap:butt;stroke-linejoin:miter;stroke-opacity:1\"/>\n<path class=\"bond-13 atom-13 atom-21\" d=\"M 201.5,165.0 L 250.5,193.3\" style=\"fill:none;fill-rule:evenodd;stroke:#000000;stroke-width:2.0px;stroke-linecap:butt;stroke-linejoin:miter;stroke-opacity:1\"/>\n<path class=\"bond-14 atom-14 atom-15\" d=\"M 299.5,165.0 L 299.5,108.4\" style=\"fill:none;fill-rule:evenodd;stroke:#000000;stroke-width:2.0px;stroke-linecap:butt;stroke-linejoin:miter;stroke-opacity:1\"/>\n<path class=\"bond-14 atom-14 atom-15\" d=\"M 308.0,160.1 L 308.0,113.3\" style=\"fill:none;fill-rule:evenodd;stroke:#000000;stroke-width:2.0px;stroke-linecap:butt;stroke-linejoin:miter;stroke-opacity:1\"/>\n<path class=\"bond-15 atom-14 atom-16\" d=\"M 299.5,165.0 L 348.5,193.3\" style=\"fill:none;fill-rule:evenodd;stroke:#000000;stroke-width:2.0px;stroke-linecap:butt;stroke-linejoin:miter;stroke-opacity:1\"/>\n<path class=\"bond-16 atom-14 atom-21\" d=\"M 299.5,165.0 L 250.5,193.3\" style=\"fill:none;fill-rule:evenodd;stroke:#000000;stroke-width:2.0px;stroke-linecap:butt;stroke-linejoin:miter;stroke-opacity:1\"/>\n<path class=\"bond-17 atom-15 atom-18\" d=\"M 299.5,108.4 L 348.5,80.2\" style=\"fill:none;fill-rule:evenodd;stroke:#000000;stroke-width:2.0px;stroke-linecap:butt;stroke-linejoin:miter;stroke-opacity:1\"/>\n<path class=\"bond-18 atom-16 atom-17\" d=\"M 348.5,193.3 L 397.5,165.0\" style=\"fill:none;fill-rule:evenodd;stroke:#000000;stroke-width:2.0px;stroke-linecap:butt;stroke-linejoin:miter;stroke-opacity:1\"/>\n<path class=\"bond-18 atom-16 atom-17\" d=\"M 348.5,183.5 L 389.0,160.1\" style=\"fill:none;fill-rule:evenodd;stroke:#000000;stroke-width:2.0px;stroke-linecap:butt;stroke-linejoin:miter;stroke-opacity:1\"/>\n<path class=\"bond-19 atom-17 atom-19\" d=\"M 397.5,165.0 L 397.5,108.4\" style=\"fill:none;fill-rule:evenodd;stroke:#000000;stroke-width:2.0px;stroke-linecap:butt;stroke-linejoin:miter;stroke-opacity:1\"/>\n<path class=\"bond-20 atom-18 atom-19\" d=\"M 348.5,80.2 L 397.5,108.4\" style=\"fill:none;fill-rule:evenodd;stroke:#000000;stroke-width:2.0px;stroke-linecap:butt;stroke-linejoin:miter;stroke-opacity:1\"/>\n<path class=\"bond-20 atom-18 atom-19\" d=\"M 348.5,90.0 L 389.0,113.3\" style=\"fill:none;fill-rule:evenodd;stroke:#000000;stroke-width:2.0px;stroke-linecap:butt;stroke-linejoin:miter;stroke-opacity:1\"/>\n<path class=\"bond-21 atom-19 atom-20\" d=\"M 397.5,108.4 L 417.3,97.0\" style=\"fill:none;fill-rule:evenodd;stroke:#000000;stroke-width:2.0px;stroke-linecap:butt;stroke-linejoin:miter;stroke-opacity:1\"/>\n<path class=\"bond-21 atom-19 atom-20\" d=\"M 417.3,97.0 L 437.2,85.5\" style=\"fill:none;fill-rule:evenodd;stroke:#FF0000;stroke-width:2.0px;stroke-linecap:butt;stroke-linejoin:miter;stroke-opacity:1\"/>\n<path class=\"bond-22 atom-6 atom-21\" d=\"M 250.5,239.9 L 250.5,216.6\" style=\"fill:none;fill-rule:evenodd;stroke:#FF0000;stroke-width:2.0px;stroke-linecap:butt;stroke-linejoin:miter;stroke-opacity:1\"/>\n<path class=\"bond-22 atom-6 atom-21\" d=\"M 250.5,216.6 L 250.5,193.3\" style=\"fill:none;fill-rule:evenodd;stroke:#000000;stroke-width:2.0px;stroke-linecap:butt;stroke-linejoin:miter;stroke-opacity:1\"/>\n<path d=\"M 57.0,251.3 L 54.5,249.9 L 54.5,248.7\" style=\"fill:none;stroke:#000000;stroke-width:2.0px;stroke-linecap:butt;stroke-linejoin:miter;stroke-opacity:1;\"/>\n<path d=\"M 200.5,164.4 L 201.5,165.0 L 203.9,166.4\" style=\"fill:none;stroke:#000000;stroke-width:2.0px;stroke-linecap:butt;stroke-linejoin:miter;stroke-opacity:1;\"/>\n<path d=\"M 299.5,111.3 L 299.5,108.4 L 301.9,107.0\" style=\"fill:none;stroke:#000000;stroke-width:2.0px;stroke-linecap:butt;stroke-linejoin:miter;stroke-opacity:1;\"/>\n<path d=\"M 346.0,191.9 L 348.5,193.3 L 350.9,191.9\" style=\"fill:none;stroke:#000000;stroke-width:2.0px;stroke-linecap:butt;stroke-linejoin:miter;stroke-opacity:1;\"/>\n<path d=\"M 395.0,166.4 L 397.5,165.0 L 397.5,162.2\" style=\"fill:none;stroke:#000000;stroke-width:2.0px;stroke-linecap:butt;stroke-linejoin:miter;stroke-opacity:1;\"/>\n<path d=\"M 346.0,81.6 L 348.5,80.2 L 350.9,81.6\" style=\"fill:none;stroke:#000000;stroke-width:2.0px;stroke-linecap:butt;stroke-linejoin:miter;stroke-opacity:1;\"/>\n<path class=\"atom-6\" d=\"M 243.1 249.9 Q 243.1 246.1, 245.0 243.9 Q 246.9 241.8, 250.5 241.8 Q 254.0 241.8, 255.9 243.9 Q 257.8 246.1, 257.8 249.9 Q 257.8 253.8, 255.9 256.0 Q 254.0 258.2, 250.5 258.2 Q 246.9 258.2, 245.0 256.0 Q 243.1 253.8, 243.1 249.9 M 250.5 256.4 Q 252.9 256.4, 254.2 254.8 Q 255.6 253.1, 255.6 249.9 Q 255.6 246.8, 254.2 245.2 Q 252.9 243.6, 250.5 243.6 Q 248.0 243.6, 246.7 245.2 Q 245.4 246.8, 245.4 249.9 Q 245.4 253.2, 246.7 254.8 Q 248.0 256.4, 250.5 256.4 \" fill=\"#FF0000\"/>\n<path class=\"atom-7\" d=\"M 243.1 363.1 Q 243.1 359.2, 245.0 357.1 Q 246.9 354.9, 250.5 354.9 Q 254.0 354.9, 255.9 357.1 Q 257.8 359.2, 257.8 363.1 Q 257.8 367.0, 255.9 369.2 Q 254.0 371.4, 250.5 371.4 Q 246.9 371.4, 245.0 369.2 Q 243.1 367.0, 243.1 363.1 M 250.5 369.6 Q 252.9 369.6, 254.2 367.9 Q 255.6 366.3, 255.6 363.1 Q 255.6 359.9, 254.2 358.3 Q 252.9 356.7, 250.5 356.7 Q 248.0 356.7, 246.7 358.3 Q 245.4 359.9, 245.4 363.1 Q 245.4 366.3, 246.7 367.9 Q 248.0 369.6, 250.5 369.6 \" fill=\"#FF0000\"/>\n<path class=\"atom-7\" d=\"M 260.3 355.1 L 262.5 355.1 L 262.5 361.9 L 270.7 361.9 L 270.7 355.1 L 272.9 355.1 L 272.9 371.1 L 270.7 371.1 L 270.7 363.7 L 262.5 363.7 L 262.5 371.1 L 260.3 371.1 L 260.3 355.1 \" fill=\"#FF0000\"/>\n<path class=\"atom-8\" d=\"M 145.1 419.6 Q 145.1 415.8, 147.0 413.6 Q 148.9 411.5, 152.5 411.5 Q 156.0 411.5, 157.9 413.6 Q 159.8 415.8, 159.8 419.6 Q 159.8 423.5, 157.9 425.8 Q 156.0 427.9, 152.5 427.9 Q 149.0 427.9, 147.0 425.8 Q 145.1 423.6, 145.1 419.6 M 152.5 426.1 Q 154.9 426.1, 156.2 424.5 Q 157.6 422.9, 157.6 419.6 Q 157.6 416.5, 156.2 414.9 Q 154.9 413.3, 152.5 413.3 Q 150.0 413.3, 148.7 414.9 Q 147.4 416.5, 147.4 419.6 Q 147.4 422.9, 148.7 424.5 Q 150.0 426.1, 152.5 426.1 \" fill=\"#FF0000\"/>\n<path class=\"atom-8\" d=\"M 162.3 411.7 L 164.5 411.7 L 164.5 418.5 L 172.7 418.5 L 172.7 411.7 L 174.9 411.7 L 174.9 427.7 L 172.7 427.7 L 172.7 420.3 L 164.5 420.3 L 164.5 427.7 L 162.3 427.7 L 162.3 411.7 \" fill=\"#FF0000\"/>\n<path class=\"atom-9\" d=\"M 31.3 355.1 L 33.5 355.1 L 33.5 361.9 L 41.7 361.9 L 41.7 355.1 L 43.9 355.1 L 43.9 371.1 L 41.7 371.1 L 41.7 363.7 L 33.5 363.7 L 33.5 371.1 L 31.3 371.1 L 31.3 355.1 \" fill=\"#FF0000\"/>\n<path class=\"atom-9\" d=\"M 47.1 363.1 Q 47.1 359.2, 49.0 357.1 Q 50.9 354.9, 54.5 354.9 Q 58.1 354.9, 60.0 357.1 Q 61.9 359.2, 61.9 363.1 Q 61.9 367.0, 59.9 369.2 Q 58.0 371.4, 54.5 371.4 Q 51.0 371.4, 49.0 369.2 Q 47.1 367.0, 47.1 363.1 M 54.5 369.6 Q 56.9 369.6, 58.3 367.9 Q 59.6 366.3, 59.6 363.1 Q 59.6 359.9, 58.3 358.3 Q 56.9 356.7, 54.5 356.7 Q 52.1 356.7, 50.7 358.3 Q 49.4 359.9, 49.4 363.1 Q 49.4 366.3, 50.7 367.9 Q 52.1 369.6, 54.5 369.6 \" fill=\"#FF0000\"/>\n<path class=\"atom-10\" d=\"M 145.1 249.9 Q 145.1 246.1, 147.0 243.9 Q 148.9 241.8, 152.5 241.8 Q 156.0 241.8, 157.9 243.9 Q 159.8 246.1, 159.8 249.9 Q 159.8 253.8, 157.9 256.0 Q 156.0 258.2, 152.5 258.2 Q 149.0 258.2, 147.0 256.0 Q 145.1 253.8, 145.1 249.9 M 152.5 256.4 Q 154.9 256.4, 156.2 254.8 Q 157.6 253.1, 157.6 249.9 Q 157.6 246.8, 156.2 245.2 Q 154.9 243.6, 152.5 243.6 Q 150.0 243.6, 148.7 245.2 Q 147.4 246.8, 147.4 249.9 Q 147.4 253.2, 148.7 254.8 Q 150.0 256.4, 152.5 256.4 \" fill=\"#FF0000\"/>\n<path class=\"atom-11\" d=\"M 47.1 193.3 Q 47.1 189.5, 49.0 187.3 Q 50.9 185.2, 54.5 185.2 Q 58.1 185.2, 60.0 187.3 Q 61.9 189.5, 61.9 193.3 Q 61.9 197.2, 59.9 199.5 Q 58.0 201.7, 54.5 201.7 Q 51.0 201.7, 49.0 199.5 Q 47.1 197.3, 47.1 193.3 M 54.5 199.8 Q 56.9 199.8, 58.3 198.2 Q 59.6 196.6, 59.6 193.3 Q 59.6 190.2, 58.3 188.6 Q 56.9 187.0, 54.5 187.0 Q 52.1 187.0, 50.7 188.6 Q 49.4 190.2, 49.4 193.3 Q 49.4 196.6, 50.7 198.2 Q 52.1 199.8, 54.5 199.8 \" fill=\"#FF0000\"/>\n<path class=\"atom-11\" d=\"M 64.3 185.4 L 66.5 185.4 L 66.5 192.2 L 74.7 192.2 L 74.7 185.4 L 76.9 185.4 L 76.9 201.4 L 74.7 201.4 L 74.7 194.0 L 66.5 194.0 L 66.5 201.4 L 64.3 201.4 L 64.3 185.4 \" fill=\"#FF0000\"/>\n<path class=\"atom-12\" d=\"M 148.9 128.7 L 154.2 137.2 Q 154.7 138.0, 155.6 139.6 Q 156.4 141.1, 156.4 141.2 L 156.4 128.7 L 158.6 128.7 L 158.6 144.7 L 156.4 144.7 L 150.7 135.5 Q 150.1 134.4, 149.4 133.1 Q 148.7 131.9, 148.5 131.5 L 148.5 144.7 L 146.4 144.7 L 146.4 128.7 L 148.9 128.7 \" fill=\"#0000FF\"/>\n<path class=\"atom-20\" d=\"M 439.1 80.2 Q 439.1 76.4, 441.0 74.2 Q 442.9 72.1, 446.5 72.1 Q 450.0 72.1, 451.9 74.2 Q 453.8 76.4, 453.8 80.2 Q 453.8 84.1, 451.9 86.3 Q 450.0 88.5, 446.5 88.5 Q 442.9 88.5, 441.0 86.3 Q 439.1 84.1, 439.1 80.2 M 446.5 86.7 Q 448.9 86.7, 450.2 85.1 Q 451.5 83.4, 451.5 80.2 Q 451.5 77.1, 450.2 75.5 Q 448.9 73.9, 446.5 73.9 Q 444.0 73.9, 442.7 75.4 Q 441.4 77.0, 441.4 80.2 Q 441.4 83.4, 442.7 85.1 Q 444.0 86.7, 446.5 86.7 \" fill=\"#FF0000\"/>\n<path class=\"atom-20\" d=\"M 456.3 72.2 L 458.5 72.2 L 458.5 79.0 L 466.7 79.0 L 466.7 72.2 L 468.8 72.2 L 468.8 88.3 L 466.7 88.3 L 466.7 80.9 L 458.5 80.9 L 458.5 88.3 L 456.3 88.3 L 456.3 72.2 \" fill=\"#FF0000\"/>\n</svg>",
            "text/plain": [
              "<IPython.core.display.SVG object>"
            ]
          },
          "execution_count": 98,
          "metadata": {},
          "output_type": "execute_result"
        }
      ],
      "source": [
        "SVG(\"dhurrin_ccd.svg\")"
      ]
    },
    {
      "cell_type": "markdown",
      "metadata": {
        "id": "s-pkaal0r_GZ"
      },
      "source": [
        "###&nbsp; 1.9.3 Analysis of Drug-like molecules in PDB"
      ]
    },
    {
      "cell_type": "code",
      "execution_count": null,
      "metadata": {
        "colab": {
          "base_uri": "https://localhost:8080/"
        },
        "id": "lRFwo9sRr_GZ",
        "outputId": "ad44d309-3ee9-40cd-d713-efe2f514ee93"
      },
      "outputs": [
        {
          "data": {
            "text/plain": [
              "array(['BME', 'MES', 'SAH', ..., 'A1AIL', 'A1APA', 'COC'], dtype=object)"
            ]
          },
          "execution_count": 100,
          "metadata": {},
          "output_type": "execute_result"
        }
      ],
      "source": [
        "drug_like_molecules = int_chain_ligand.loc[int_chain_ligand[\"annotation\"]==\"drug-like\", \"LigandID\"].unique()\n",
        "drug_like_molecules"
      ]
    },
    {
      "cell_type": "code",
      "execution_count": null,
      "metadata": {
        "colab": {
          "base_uri": "https://localhost:8080/",
          "height": 35
        },
        "id": "-Op_grBnr_GZ",
        "outputId": "c4346bc8-9e78-4d83-a0d1-663117f6a552"
      },
      "outputs": [
        {
          "data": {
            "application/vnd.google.colaboratory.intrinsic+json": {
              "type": "string"
            },
            "text/plain": [
              "'components.cif'"
            ]
          },
          "execution_count": 101,
          "metadata": {},
          "output_type": "execute_result"
        }
      ],
      "source": [
        "ccd_component_cif = os.path.join(PDBECHEM_URL, \"ccd\", \"components.cif\")\n",
        "wget.download(ccd_component_cif)"
      ]
    },
    {
      "cell_type": "code",
      "execution_count": null,
      "metadata": {
        "colab": {
          "background_save": true
        },
        "id": "Ojk7MsSAr_Ga"
      },
      "outputs": [],
      "source": [
        "ccd_components = ccd_reader.read_pdb_components_file(\"components.cif\")"
      ]
    },
    {
      "cell_type": "code",
      "execution_count": null,
      "metadata": {
        "id": "61YddUi1r_Ga"
      },
      "outputs": [],
      "source": [
        "import matplotlib.pyplot as plt"
      ]
    },
    {
      "cell_type": "code",
      "execution_count": null,
      "metadata": {
        "id": "nenZ1sjEr_Ga"
      },
      "outputs": [],
      "source": [
        "#Filter based on number of atoms\n",
        "drug_like_with_heavy_atoms = []\n",
        "for ccd in drug_like_molecules:\n",
        "    num_heavy_atoms = ccd_components[ccd].component.physchem_properties.get(\"NumHeavyAtoms\", 0)\n",
        "    if num_heavy_atoms > 6:\n",
        "        drug_like_with_heavy_atoms.append(ccd)\n"
      ]
    },
    {
      "cell_type": "code",
      "execution_count": null,
      "metadata": {
        "id": "iu3jU29pr_Ga"
      },
      "outputs": [],
      "source": [
        "drug_like_weights = []\n",
        "for ccd in drug_like_with_heavy_atoms:\n",
        "    if \"exactmw\" in ccd_components[ccd].component.physchem_properties:\n",
        "        drug_like_weights.append(ccd_components[ccd].component.physchem_properties[\"exactmw\"])"
      ]
    },
    {
      "cell_type": "code",
      "execution_count": null,
      "metadata": {
        "id": "XxMeSYg9r_Ga",
        "outputId": "b8a32b05-be0c-4574-af3d-9cbe125b9743"
      },
      "outputs": [
        {
          "data": {
            "image/png": "[encoded data removed]",
            "text/plain": [
              "<Figure size 640x480 with 1 Axes>"
            ]
          },
          "metadata": {},
          "output_type": "display_data"
        }
      ],
      "source": [
        "plt.hist(drug_like_weights)\n",
        "plt.xlabel(\"Molecular Weight\")\n",
        "plt.ylabel(\"Frequency\")\n",
        "plt.show()"
      ]
    },
    {
      "cell_type": "markdown",
      "metadata": {
        "id": "Esq6k7rLy2t0"
      },
      "source": [
        "#&nbsp; 2. PDBe Arpeggio"
      ]
    },
    {
      "cell_type": "markdown",
      "source": [
        "## Introduction\n",
        "\n",
        "PDBe Arpeggio is an open-source python package to calculate interatomic interactions between macromolecules and ligands from their 3D structures. Currently the library only supports macromolecule-ligand complexes in mmCIF format.\n",
        "\n",
        "In this notebook, we will analyse the protein-ligand interactions present in the crystal structure of hexameric P4 ATPase from bacteriophage $\\phi$12 in complex with ATP analog (APC - $\\alpha$,$\\beta$-methyleneadenosine-5'-triphosphate) from the PDB entry [1w48](https://pdbe.org/1w48). The model file for this PDB entry is a homo trimer and the biological assembly is a homo hexamer. There are 6 instances of ligand APC binding at the interface of adjacent subunits of the PDB entry on the outer surface. We will calculate the interactions between the protein and APC, and identify important interaction types and residues in the binding pocket.\n",
        "\n",
        "Before running the interaction calculations using PDBe Arpeggio, the protein-ligand complex need to be prepared. The preparation steps usually involves:\n",
        "- Selecting an appropriate model of PDB entry if there are multiple models\n",
        "- Selecting appropriate conformations of atoms and residues, if there are multiple conformations present\n",
        "- Creating biological assembly of the model\n",
        "- Protonating the strcuture in an appropriate pH for the analysis\n",
        "\n",
        "For the sake of this tutorial, we will use the protonated biological assembly of PDB ID: [1w48](https://pdbe.org/1w48)) available from PDBe static file server. This file is generated by\n",
        "- Selecting the first model if there are multiple models\n",
        "- Keeping only the conformation with maximum occupancy\n",
        "- Creating biological assembly using [Model Server](https://molstar.org/docs/data-access-tools/model-server/)\n",
        "- Protonating at pH 7.4 using [ChimeraX](https://www.rbvi.ucsf.edu/chimerax/)\n",
        "\n",
        "\n",
        "   "
      ],
      "metadata": {
        "id": "miM1sLEIX8wm"
      }
    },
    {
      "cell_type": "markdown",
      "source": [
        "## Installation of dependencies"
      ],
      "metadata": {
        "id": "G-a0ctaGbYMx"
      }
    },
    {
      "cell_type": "code",
      "source": [
        "# install openbabel\n",
        "!apt-get install openbabel"
      ],
      "metadata": {
        "colab": {
          "base_uri": "https://localhost:8080/"
        },
        "id": "qLR8R4lDbcXe",
        "outputId": "c6f539e4-30bf-4afc-f0e0-4df85ec4473a"
      },
      "execution_count": 96,
      "outputs": [
        {
          "output_type": "stream",
          "name": "stdout",
          "text": [
            "Reading package lists... Done\n",
            "Building dependency tree... Done\n",
            "Reading state information... Done\n",
            "openbabel is already the newest version (3.1.1+dfsg-6ubuntu5).\n",
            "0 upgraded, 0 newly installed, 0 to remove and 49 not upgraded.\n"
          ]
        }
      ]
    },
    {
      "cell_type": "markdown",
      "source": [
        "Official python bindings of OpenBabel had issues with installation using PyPI as of writing of this notebook. Please see the [issue](https://github.com/openbabel/openbabel/issues/2571). Hence, a pre-built unofficial openbabel-wheel is used here"
      ],
      "metadata": {
        "id": "3OfSD86sbgVj"
      }
    },
    {
      "cell_type": "code",
      "source": [
        "# install pdbe-arpeggio and openbabel python bindings\n",
        "# openbabel-wheel is a unofficial OpenBabel prebuilt wheel distributed through PyPI\n",
        "%pip install pdbe-arpeggio openbabel-wheel"
      ],
      "metadata": {
        "colab": {
          "base_uri": "https://localhost:8080/"
        },
        "id": "OZpTymZabjRB",
        "outputId": "a09a9978-24fc-4210-ba64-b38ce19c38e1"
      },
      "execution_count": 97,
      "outputs": [
        {
          "output_type": "stream",
          "name": "stdout",
          "text": [
            "Requirement already satisfied: pdbe-arpeggio in /usr/local/lib/python3.10/dist-packages (1.4.4)\n",
            "Requirement already satisfied: openbabel-wheel in /usr/local/lib/python3.10/dist-packages (3.1.1.20)\n",
            "Requirement already satisfied: gemmi in /usr/local/lib/python3.10/dist-packages (from pdbe-arpeggio) (0.6.7)\n",
            "Requirement already satisfied: numpy in /usr/local/lib/python3.10/dist-packages (from pdbe-arpeggio) (1.26.4)\n",
            "Requirement already satisfied: biopython in /usr/local/lib/python3.10/dist-packages (from pdbe-arpeggio) (1.84)\n"
          ]
        }
      ]
    },
    {
      "cell_type": "markdown",
      "source": [
        "## Helper Functions"
      ],
      "metadata": {
        "id": "f0IorGo0x7CZ"
      }
    },
    {
      "cell_type": "code",
      "source": [
        "import pandas as pd\n",
        "from arpeggio.core import InteractionComplex\n",
        "from collections import defaultdict\n",
        "import seaborn as sns\n",
        "import matplotlib.pyplot as plt"
      ],
      "metadata": {
        "id": "gysnKI7ZOj_S"
      },
      "execution_count": 98,
      "outputs": []
    },
    {
      "cell_type": "code",
      "source": [
        "def get_protonated_preferred_assembly(pdb_id: str) -> str:\n",
        "  \"\"\"\n",
        "    Downloads and writes protonated preferred biological\n",
        "    assembly cif of PDB entry to a file and returns the path\n",
        "\n",
        "    Args:\n",
        "        pdb_id: PDB id of an entry\n",
        "\n",
        "    Returns:\n",
        "        path to the downloaded protinated cif file\n",
        "\n",
        "  \"\"\"\n",
        "\n",
        "  assembly_url = f\"https://www.ebi.ac.uk/pdbe/static/entry/download/{pdb_id}_bio_h.cif.gz\"\n",
        "  response = requests.get(assembly_url, stream=True)\n",
        "  response.raise_for_status()\n",
        "  with open(f\"{pdb_id}_bio_h.cif\", \"wb\") as fh:\n",
        "    fh.write(gzip.decompress(response.content))\n",
        "\n",
        "  return f\"{pdb_id}_bio_h.cif\""
      ],
      "metadata": {
        "id": "G-UNbKQlx5yQ"
      },
      "execution_count": 99,
      "outputs": []
    },
    {
      "cell_type": "code",
      "source": [
        "class ProtLigComplex:\n",
        "    \"\"\"Wrapper for the Arpeggio computation. Parses bound molecules and\n",
        "    calculates interactions.\n",
        "    \"\"\"\n",
        "\n",
        "    def __init__(self, structure, to_discard=None):\n",
        "        \"\"\"Create protein - ligand interaction object.\n",
        "\n",
        "        Args:\n",
        "            structure (str): Path to the structure to be processed\n",
        "            to_discard (list, optional): Defaults to []. list of residue\n",
        "                names to be discarded prior to protein-ligand interaction\n",
        "                lookup.\n",
        "        \"\"\"\n",
        "        self.compl = None\n",
        "        self.path = structure\n",
        "\n",
        "        to_discard = [] if to_discard is None else to_discard\n",
        "\n",
        "    def initialize(self):\n",
        "        \"\"\"Set up Arpeggio basics. Create all the internal representation\"\"\"\n",
        "        self.compl = InteractionComplex(self.path)\n",
        "        self.compl.structure_checks()\n",
        "        self.compl.address_ambiguities()\n",
        "        self.compl.initialize()\n",
        "\n",
        "    def get_interaction(\n",
        "        self,\n",
        "        bm,\n",
        "        interaction_cutoff=5.0,\n",
        "        compensation_factor=0.1,\n",
        "        include_neighbors=False,\n",
        "    ):\n",
        "        \"\"\"Retrieve interactions in the protein within a given selection.\n",
        "\n",
        "        Args:\n",
        "            bm (BoundMolecule): Bound molecule\n",
        "            interaction_cutoff (float, optional): Defaults to 5.0. Distance\n",
        "                cutoff for grid points to be `interacting` with the entity.\n",
        "            compensation_factor (float, optional): Defaults to 0.1.\n",
        "                Compensation factor for VdW radii dependent interaction types.\n",
        "            include_neighbors (bool, optional): Defaults to False. Include\n",
        "                non-bonding interactions between residues that are next to\n",
        "                each other in sequence.\n",
        "\n",
        "        Returns:\n",
        "            dict of str: Interactions in a dictionary like schema.\n",
        "        \"\"\"\n",
        "        selection = bm.to_arpeggio()\n",
        "        self.compl.run_arpeggio(\n",
        "            selection, interaction_cutoff, compensation_factor, include_neighbors\n",
        "        )\n",
        "\n",
        "        return self.compl.get_contacts()\n"
      ],
      "metadata": {
        "id": "oGGqr8-t1b9o"
      },
      "execution_count": 100,
      "outputs": []
    },
    {
      "cell_type": "code",
      "source": [
        "pdb_id = '1w48'\n",
        "discarded_ligands = [\"HOH\"] #chemical components in this list are not considered as bound-molecules for interaction calculation"
      ],
      "metadata": {
        "id": "QeznV_i11_8m"
      },
      "execution_count": 101,
      "outputs": []
    },
    {
      "cell_type": "code",
      "source": [
        "#download the protonated biological assembly\n",
        "protonated_assembly = get_protonated_preferred_assembly(pdb_id)"
      ],
      "metadata": {
        "id": "i2BrT_cZTS5p"
      },
      "execution_count": 102,
      "outputs": []
    },
    {
      "cell_type": "code",
      "source": [
        "#identify all the bound-molecules (ligands) in the PDB entry\n",
        "bound_molecules = infer_bound_molecules(protonated_assembly, discarded_ligands, assembly=True)"
      ],
      "metadata": {
        "id": "Ri9hTdd0Tne1"
      },
      "execution_count": 103,
      "outputs": []
    },
    {
      "cell_type": "code",
      "source": [
        "#setup protein-ligand complex for interaction calculations\n",
        "protein_lignad_complex= ProtLigComplex(protonated_assembly, discarded_ligands)\n",
        "protein_lignad_complex.initialize()\n",
        "\n",
        "#write interactions to a pandas data frame\n",
        "pdb_interactions = defaultdict(list)\n",
        "intx_fields = [\"auth_asym_id\", \"auth_seq_id\", \"label_comp_id\", \"auth_atom_id\"]\n",
        "for i, bm in enumerate(bound_molecules, start=1):\n",
        "  bm_residues = set(f\"{residue['auth_asym_id']}_{residue['auth_seq_id']}_{residue['label_comp_id']}\" for residue in bm.to_dict().get('residues'))\n",
        "  interactions = protein_lignad_complex.get_interaction(bm)\n",
        "  for intx in interactions:\n",
        "    if intx[\"interacting_entities\"] in (\"INTER\", \"INTRA_SELECTION\", \"SELECTION_WATER\"): # filtering interaction types\n",
        "      for contact in intx[\"contact\"]:\n",
        "        pdb_interactions[\"interacting_entities\"].append(intx[\"interacting_entities\"])\n",
        "        pdb_interactions[\"interaction_type\"].append(intx[\"type\"])\n",
        "        pdb_interactions[\"distance\"].append(intx[\"distance\"])\n",
        "        pdb_interactions[\"bm_id\"].append(f\"bm_{i}\")\n",
        "        pdb_interactions[\"contact_type\"].append(contact)\n",
        "        begin_res_id = f\"{intx['bgn']['auth_asym_id']}_{intx['bgn']['auth_seq_id']}_{intx['bgn']['label_comp_id']}\"\n",
        "        if begin_res_id in bm_residues:\n",
        "          ordered_intx_residues = {1:'bgn', 2: 'end'} #keeping bound-molecule as the first residue in the table\n",
        "        else:\n",
        "          ordered_intx_residues = {1:'end', 2: 'bgn'}\n",
        "        for field in intx_fields:\n",
        "          for order in ordered_intx_residues:\n",
        "            pdb_interactions[f\"{field}_{order}\"].append(intx[ordered_intx_residues[order]][field])\n",
        "\n",
        "pdb_interactions_df = pd.DataFrame.from_dict(pdb_interactions)"
      ],
      "metadata": {
        "id": "xPPa4WWBUyqD"
      },
      "execution_count": 104,
      "outputs": []
    },
    {
      "cell_type": "code",
      "source": [
        "print(f\"The number bound-molecules found: {len(bound_molecules)}\")"
      ],
      "metadata": {
        "colab": {
          "base_uri": "https://localhost:8080/"
        },
        "id": "c691STNwKStg",
        "outputId": "e123c825-3491-4bf2-f7c8-067310537a9d"
      },
      "execution_count": 105,
      "outputs": [
        {
          "output_type": "stream",
          "name": "stdout",
          "text": [
            "The number bound-molecules found: 6\n"
          ]
        }
      ]
    },
    {
      "cell_type": "code",
      "source": [
        "pdb_interactions_df.head()"
      ],
      "metadata": {
        "colab": {
          "base_uri": "https://localhost:8080/",
          "height": 226
        },
        "id": "OSaDw5lm-uRN",
        "outputId": "f73033c5-a7a3-4091-e2f0-d63729c83df7"
      },
      "execution_count": 106,
      "outputs": [
        {
          "output_type": "execute_result",
          "data": {
            "text/plain": [
              "  interacting_entities interaction_type  distance bm_id contact_type  \\\n",
              "0                INTER        atom-atom      3.78  bm_1     proximal   \n",
              "1                INTER        atom-atom      3.17  bm_1     proximal   \n",
              "2                INTER        atom-atom      3.17  bm_1        hbond   \n",
              "3                INTER        atom-atom      3.17  bm_1        polar   \n",
              "4                INTER        atom-atom      4.44  bm_1     proximal   \n",
              "\n",
              "  auth_asym_id_1 auth_asym_id_2  auth_seq_id_1  auth_seq_id_2 label_comp_id_1  \\\n",
              "0              A            C_2            700            252             APC   \n",
              "1              A            C_2            700            252             APC   \n",
              "2              A            C_2            700            252             APC   \n",
              "3              A            C_2            700            252             APC   \n",
              "4              A            C_2            700            252             APC   \n",
              "\n",
              "  label_comp_id_2 auth_atom_id_1 auth_atom_id_2  \n",
              "0             SER            O1G             CB  \n",
              "1             SER            O1G             OG  \n",
              "2             SER            O1G             OG  \n",
              "3             SER            O1G             OG  \n",
              "4             SER             PG             OG  "
            ],
            "text/html": [
              "\n",
              "  <div id=\"df-134383ca-23d6-4d09-8a17-0ec1a312891b\" class=\"colab-df-container\">\n",
              "    <div>\n",
              "<style scoped>\n",
              "    .dataframe tbody tr th:only-of-type {\n",
              "        vertical-align: middle;\n",
              "    }\n",
              "\n",
              "    .dataframe tbody tr th {\n",
              "        vertical-align: top;\n",
              "    }\n",
              "\n",
              "    .dataframe thead th {\n",
              "        text-align: right;\n",
              "    }\n",
              "</style>\n",
              "<table border=\"1\" class=\"dataframe\">\n",
              "  <thead>\n",
              "    <tr style=\"text-align: right;\">\n",
              "      <th></th>\n",
              "      <th>interacting_entities</th>\n",
              "      <th>interaction_type</th>\n",
              "      <th>distance</th>\n",
              "      <th>bm_id</th>\n",
              "      <th>contact_type</th>\n",
              "      <th>auth_asym_id_1</th>\n",
              "      <th>auth_asym_id_2</th>\n",
              "      <th>auth_seq_id_1</th>\n",
              "      <th>auth_seq_id_2</th>\n",
              "      <th>label_comp_id_1</th>\n",
              "      <th>label_comp_id_2</th>\n",
              "      <th>auth_atom_id_1</th>\n",
              "      <th>auth_atom_id_2</th>\n",
              "    </tr>\n",
              "  </thead>\n",
              "  <tbody>\n",
              "    <tr>\n",
              "      <th>0</th>\n",
              "      <td>INTER</td>\n",
              "      <td>atom-atom</td>\n",
              "      <td>3.78</td>\n",
              "      <td>bm_1</td>\n",
              "      <td>proximal</td>\n",
              "      <td>A</td>\n",
              "      <td>C_2</td>\n",
              "      <td>700</td>\n",
              "      <td>252</td>\n",
              "      <td>APC</td>\n",
              "      <td>SER</td>\n",
              "      <td>O1G</td>\n",
              "      <td>CB</td>\n",
              "    </tr>\n",
              "    <tr>\n",
              "      <th>1</th>\n",
              "      <td>INTER</td>\n",
              "      <td>atom-atom</td>\n",
              "      <td>3.17</td>\n",
              "      <td>bm_1</td>\n",
              "      <td>proximal</td>\n",
              "      <td>A</td>\n",
              "      <td>C_2</td>\n",
              "      <td>700</td>\n",
              "      <td>252</td>\n",
              "      <td>APC</td>\n",
              "      <td>SER</td>\n",
              "      <td>O1G</td>\n",
              "      <td>OG</td>\n",
              "    </tr>\n",
              "    <tr>\n",
              "      <th>2</th>\n",
              "      <td>INTER</td>\n",
              "      <td>atom-atom</td>\n",
              "      <td>3.17</td>\n",
              "      <td>bm_1</td>\n",
              "      <td>hbond</td>\n",
              "      <td>A</td>\n",
              "      <td>C_2</td>\n",
              "      <td>700</td>\n",
              "      <td>252</td>\n",
              "      <td>APC</td>\n",
              "      <td>SER</td>\n",
              "      <td>O1G</td>\n",
              "      <td>OG</td>\n",
              "    </tr>\n",
              "    <tr>\n",
              "      <th>3</th>\n",
              "      <td>INTER</td>\n",
              "      <td>atom-atom</td>\n",
              "      <td>3.17</td>\n",
              "      <td>bm_1</td>\n",
              "      <td>polar</td>\n",
              "      <td>A</td>\n",
              "      <td>C_2</td>\n",
              "      <td>700</td>\n",
              "      <td>252</td>\n",
              "      <td>APC</td>\n",
              "      <td>SER</td>\n",
              "      <td>O1G</td>\n",
              "      <td>OG</td>\n",
              "    </tr>\n",
              "    <tr>\n",
              "      <th>4</th>\n",
              "      <td>INTER</td>\n",
              "      <td>atom-atom</td>\n",
              "      <td>4.44</td>\n",
              "      <td>bm_1</td>\n",
              "      <td>proximal</td>\n",
              "      <td>A</td>\n",
              "      <td>C_2</td>\n",
              "      <td>700</td>\n",
              "      <td>252</td>\n",
              "      <td>APC</td>\n",
              "      <td>SER</td>\n",
              "      <td>PG</td>\n",
              "      <td>OG</td>\n",
              "    </tr>\n",
              "  </tbody>\n",
              "</table>\n",
              "</div>\n",
              "    <div class=\"colab-df-buttons\">\n",
              "\n",
              "  <div class=\"colab-df-container\">\n",
              "    <button class=\"colab-df-convert\" onclick=\"convertToInteractive('df-134383ca-23d6-4d09-8a17-0ec1a312891b')\"\n",
              "            title=\"Convert this dataframe to an interactive table.\"\n",
              "            style=\"display:none;\">\n",
              "\n",
              "  <svg xmlns=\"http://www.w3.org/2000/svg\" height=\"24px\" viewBox=\"0 -960 960 960\">\n",
              "    <path d=\"M120-120v-720h720v720H120Zm60-500h600v-160H180v160Zm220 220h160v-160H400v160Zm0 220h160v-160H400v160ZM180-400h160v-160H180v160Zm440 0h160v-160H620v160ZM180-180h160v-160H180v160Zm440 0h160v-160H620v160Z\"/>\n",
              "  </svg>\n",
              "    </button>\n",
              "\n",
              "  <style>\n",
              "    .colab-df-container {\n",
              "      display:flex;\n",
              "      gap: 12px;\n",
              "    }\n",
              "\n",
              "    .colab-df-convert {\n",
              "      background-color: #E8F0FE;\n",
              "      border: none;\n",
              "      border-radius: 50%;\n",
              "      cursor: pointer;\n",
              "      display: none;\n",
              "      fill: #1967D2;\n",
              "      height: 32px;\n",
              "      padding: 0 0 0 0;\n",
              "      width: 32px;\n",
              "    }\n",
              "\n",
              "    .colab-df-convert:hover {\n",
              "      background-color: #E2EBFA;\n",
              "      box-shadow: 0px 1px 2px rgba(60, 64, 67, 0.3), 0px 1px 3px 1px rgba(60, 64, 67, 0.15);\n",
              "      fill: #174EA6;\n",
              "    }\n",
              "\n",
              "    .colab-df-buttons div {\n",
              "      margin-bottom: 4px;\n",
              "    }\n",
              "\n",
              "    [theme=dark] .colab-df-convert {\n",
              "      background-color: #3B4455;\n",
              "      fill: #D2E3FC;\n",
              "    }\n",
              "\n",
              "    [theme=dark] .colab-df-convert:hover {\n",
              "      background-color: #434B5C;\n",
              "      box-shadow: 0px 1px 3px 1px rgba(0, 0, 0, 0.15);\n",
              "      filter: drop-shadow(0px 1px 2px rgba(0, 0, 0, 0.3));\n",
              "      fill: #FFFFFF;\n",
              "    }\n",
              "  </style>\n",
              "\n",
              "    <script>\n",
              "      const buttonEl =\n",
              "        document.querySelector('#df-134383ca-23d6-4d09-8a17-0ec1a312891b button.colab-df-convert');\n",
              "      buttonEl.style.display =\n",
              "        google.colab.kernel.accessAllowed ? 'block' : 'none';\n",
              "\n",
              "      async function convertToInteractive(key) {\n",
              "        const element = document.querySelector('#df-134383ca-23d6-4d09-8a17-0ec1a312891b');\n",
              "        const dataTable =\n",
              "          await google.colab.kernel.invokeFunction('convertToInteractive',\n",
              "                                                    [key], {});\n",
              "        if (!dataTable) return;\n",
              "\n",
              "        const docLinkHtml = 'Like what you see? Visit the ' +\n",
              "          '<a target=\"_blank\" href=https://colab.research.google.com/notebooks/data_table.ipynb>data table notebook</a>'\n",
              "          + ' to learn more about interactive tables.';\n",
              "        element.innerHTML = '';\n",
              "        dataTable['output_type'] = 'display_data';\n",
              "        await google.colab.output.renderOutput(dataTable, element);\n",
              "        const docLink = document.createElement('div');\n",
              "        docLink.innerHTML = docLinkHtml;\n",
              "        element.appendChild(docLink);\n",
              "      }\n",
              "    </script>\n",
              "  </div>\n",
              "\n",
              "\n",
              "<div id=\"df-7d3559f4-c707-41c5-a18d-5e28cf03be8f\">\n",
              "  <button class=\"colab-df-quickchart\" onclick=\"quickchart('df-7d3559f4-c707-41c5-a18d-5e28cf03be8f')\"\n",
              "            title=\"Suggest charts\"\n",
              "            style=\"display:none;\">\n",
              "\n",
              "<svg xmlns=\"http://www.w3.org/2000/svg\" height=\"24px\"viewBox=\"0 0 24 24\"\n",
              "     width=\"24px\">\n",
              "    <g>\n",
              "        <path d=\"M19 3H5c-1.1 0-2 .9-2 2v14c0 1.1.9 2 2 2h14c1.1 0 2-.9 2-2V5c0-1.1-.9-2-2-2zM9 17H7v-7h2v7zm4 0h-2V7h2v10zm4 0h-2v-4h2v4z\"/>\n",
              "    </g>\n",
              "</svg>\n",
              "  </button>\n",
              "\n",
              "<style>\n",
              "  .colab-df-quickchart {\n",
              "      --bg-color: #E8F0FE;\n",
              "      --fill-color: #1967D2;\n",
              "      --hover-bg-color: #E2EBFA;\n",
              "      --hover-fill-color: #174EA6;\n",
              "      --disabled-fill-color: #AAA;\n",
              "      --disabled-bg-color: #DDD;\n",
              "  }\n",
              "\n",
              "  [theme=dark] .colab-df-quickchart {\n",
              "      --bg-color: #3B4455;\n",
              "      --fill-color: #D2E3FC;\n",
              "      --hover-bg-color: #434B5C;\n",
              "      --hover-fill-color: #FFFFFF;\n",
              "      --disabled-bg-color: #3B4455;\n",
              "      --disabled-fill-color: #666;\n",
              "  }\n",
              "\n",
              "  .colab-df-quickchart {\n",
              "    background-color: var(--bg-color);\n",
              "    border: none;\n",
              "    border-radius: 50%;\n",
              "    cursor: pointer;\n",
              "    display: none;\n",
              "    fill: var(--fill-color);\n",
              "    height: 32px;\n",
              "    padding: 0;\n",
              "    width: 32px;\n",
              "  }\n",
              "\n",
              "  .colab-df-quickchart:hover {\n",
              "    background-color: var(--hover-bg-color);\n",
              "    box-shadow: 0 1px 2px rgba(60, 64, 67, 0.3), 0 1px 3px 1px rgba(60, 64, 67, 0.15);\n",
              "    fill: var(--button-hover-fill-color);\n",
              "  }\n",
              "\n",
              "  .colab-df-quickchart-complete:disabled,\n",
              "  .colab-df-quickchart-complete:disabled:hover {\n",
              "    background-color: var(--disabled-bg-color);\n",
              "    fill: var(--disabled-fill-color);\n",
              "    box-shadow: none;\n",
              "  }\n",
              "\n",
              "  .colab-df-spinner {\n",
              "    border: 2px solid var(--fill-color);\n",
              "    border-color: transparent;\n",
              "    border-bottom-color: var(--fill-color);\n",
              "    animation:\n",
              "      spin 1s steps(1) infinite;\n",
              "  }\n",
              "\n",
              "  @keyframes spin {\n",
              "    0% {\n",
              "      border-color: transparent;\n",
              "      border-bottom-color: var(--fill-color);\n",
              "      border-left-color: var(--fill-color);\n",
              "    }\n",
              "    20% {\n",
              "      border-color: transparent;\n",
              "      border-left-color: var(--fill-color);\n",
              "      border-top-color: var(--fill-color);\n",
              "    }\n",
              "    30% {\n",
              "      border-color: transparent;\n",
              "      border-left-color: var(--fill-color);\n",
              "      border-top-color: var(--fill-color);\n",
              "      border-right-color: var(--fill-color);\n",
              "    }\n",
              "    40% {\n",
              "      border-color: transparent;\n",
              "      border-right-color: var(--fill-color);\n",
              "      border-top-color: var(--fill-color);\n",
              "    }\n",
              "    60% {\n",
              "      border-color: transparent;\n",
              "      border-right-color: var(--fill-color);\n",
              "    }\n",
              "    80% {\n",
              "      border-color: transparent;\n",
              "      border-right-color: var(--fill-color);\n",
              "      border-bottom-color: var(--fill-color);\n",
              "    }\n",
              "    90% {\n",
              "      border-color: transparent;\n",
              "      border-bottom-color: var(--fill-color);\n",
              "    }\n",
              "  }\n",
              "</style>\n",
              "\n",
              "  <script>\n",
              "    async function quickchart(key) {\n",
              "      const quickchartButtonEl =\n",
              "        document.querySelector('#' + key + ' button');\n",
              "      quickchartButtonEl.disabled = true;  // To prevent multiple clicks.\n",
              "      quickchartButtonEl.classList.add('colab-df-spinner');\n",
              "      try {\n",
              "        const charts = await google.colab.kernel.invokeFunction(\n",
              "            'suggestCharts', [key], {});\n",
              "      } catch (error) {\n",
              "        console.error('Error during call to suggestCharts:', error);\n",
              "      }\n",
              "      quickchartButtonEl.classList.remove('colab-df-spinner');\n",
              "      quickchartButtonEl.classList.add('colab-df-quickchart-complete');\n",
              "    }\n",
              "    (() => {\n",
              "      let quickchartButtonEl =\n",
              "        document.querySelector('#df-7d3559f4-c707-41c5-a18d-5e28cf03be8f button');\n",
              "      quickchartButtonEl.style.display =\n",
              "        google.colab.kernel.accessAllowed ? 'block' : 'none';\n",
              "    })();\n",
              "  </script>\n",
              "</div>\n",
              "\n",
              "    </div>\n",
              "  </div>\n"
            ],
            "application/vnd.google.colaboratory.intrinsic+json": {
              "type": "dataframe",
              "variable_name": "pdb_interactions_df",
              "summary": "{\n  \"name\": \"pdb_interactions_df\",\n  \"rows\": 3028,\n  \"fields\": [\n    {\n      \"column\": \"interacting_entities\",\n      \"properties\": {\n        \"dtype\": \"category\",\n        \"num_unique_values\": 2,\n        \"samples\": [\n          \"SELECTION_WATER\",\n          \"INTER\"\n        ],\n        \"semantic_type\": \"\",\n        \"description\": \"\"\n      }\n    },\n    {\n      \"column\": \"interaction_type\",\n      \"properties\": {\n        \"dtype\": \"category\",\n        \"num_unique_values\": 3,\n        \"samples\": [\n          \"atom-atom\",\n          \"plane-plane\"\n        ],\n        \"semantic_type\": \"\",\n        \"description\": \"\"\n      }\n    },\n    {\n      \"column\": \"distance\",\n      \"properties\": {\n        \"dtype\": \"number\",\n        \"std\": 0.6292551408500876,\n        \"min\": 2.23,\n        \"max\": 5.0,\n        \"num_unique_values\": 218,\n        \"samples\": [\n          4.46,\n          2.63\n        ],\n        \"semantic_type\": \"\",\n        \"description\": \"\"\n      }\n    },\n    {\n      \"column\": \"bm_id\",\n      \"properties\": {\n        \"dtype\": \"category\",\n        \"num_unique_values\": 6,\n        \"samples\": [\n          \"bm_1\",\n          \"bm_2\"\n        ],\n        \"semantic_type\": \"\",\n        \"description\": \"\"\n      }\n    },\n    {\n      \"column\": \"contact_type\",\n      \"properties\": {\n        \"dtype\": \"category\",\n        \"num_unique_values\": 14,\n        \"samples\": [\n          \"FF\",\n          \"DONORPI\"\n        ],\n        \"semantic_type\": \"\",\n        \"description\": \"\"\n      }\n    },\n    {\n      \"column\": \"auth_asym_id_1\",\n      \"properties\": {\n        \"dtype\": \"category\",\n        \"num_unique_values\": 6,\n        \"samples\": [\n          \"A\",\n          \"A_2\"\n        ],\n        \"semantic_type\": \"\",\n        \"description\": \"\"\n      }\n    },\n    {\n      \"column\": \"auth_asym_id_2\",\n      \"properties\": {\n        \"dtype\": \"category\",\n        \"num_unique_values\": 6,\n        \"samples\": [\n          \"C_2\",\n          \"A\"\n        ],\n        \"semantic_type\": \"\",\n        \"description\": \"\"\n      }\n    },\n    {\n      \"column\": \"auth_seq_id_1\",\n      \"properties\": {\n        \"dtype\": \"number\",\n        \"std\": 0,\n        \"min\": 700,\n        \"max\": 700,\n        \"num_unique_values\": 1,\n        \"samples\": [\n          700\n        ],\n        \"semantic_type\": \"\",\n        \"description\": \"\"\n      }\n    },\n    {\n      \"column\": \"auth_seq_id_2\",\n      \"properties\": {\n        \"dtype\": \"number\",\n        \"std\": 733,\n        \"min\": 133,\n        \"max\": 2276,\n        \"num_unique_values\": 59,\n        \"samples\": [\n          252\n        ],\n        \"semantic_type\": \"\",\n        \"description\": \"\"\n      }\n    },\n    {\n      \"column\": \"label_comp_id_1\",\n      \"properties\": {\n        \"dtype\": \"category\",\n        \"num_unique_values\": 1,\n        \"samples\": [\n          \"APC\"\n        ],\n        \"semantic_type\": \"\",\n        \"description\": \"\"\n      }\n    },\n    {\n      \"column\": \"label_comp_id_2\",\n      \"properties\": {\n        \"dtype\": \"category\",\n        \"num_unique_values\": 13,\n        \"samples\": [\n          \"TYR\"\n        ],\n        \"semantic_type\": \"\",\n        \"description\": \"\"\n      }\n    },\n    {\n      \"column\": \"auth_atom_id_1\",\n      \"properties\": {\n        \"dtype\": \"category\",\n        \"num_unique_values\": 32,\n        \"samples\": [\n          \"N1\"\n        ],\n        \"semantic_type\": \"\",\n        \"description\": \"\"\n      }\n    },\n    {\n      \"column\": \"auth_atom_id_2\",\n      \"properties\": {\n        \"dtype\": \"category\",\n        \"num_unique_values\": 28,\n        \"samples\": [\n          \"CZ\"\n        ],\n        \"semantic_type\": \"\",\n        \"description\": \"\"\n      }\n    }\n  ]\n}"
            }
          },
          "metadata": {},
          "execution_count": 106
        }
      ]
    },
    {
      "cell_type": "code",
      "source": [
        "pdb_interactions_df[\"contact_type\"].value_counts()"
      ],
      "metadata": {
        "colab": {
          "base_uri": "https://localhost:8080/",
          "height": 554
        },
        "id": "eSu_dqOh-xpv",
        "outputId": "01af61d6-5103-4916-8fdd-db8af149f393"
      },
      "execution_count": 107,
      "outputs": [
        {
          "output_type": "execute_result",
          "data": {
            "text/plain": [
              "contact_type\n",
              "proximal       2426\n",
              "polar           120\n",
              "vdw_clash       118\n",
              "hbond            90\n",
              "weak_polar       68\n",
              "aromatic         58\n",
              "weak_hbond       56\n",
              "vdw              50\n",
              "DONORPI          12\n",
              "CATIONPI         12\n",
              "OF                6\n",
              "CARBONPI          6\n",
              "FF                4\n",
              "hydrophobic       2\n",
              "Name: count, dtype: int64"
            ],
            "text/html": [
              "<div>\n",
              "<style scoped>\n",
              "    .dataframe tbody tr th:only-of-type {\n",
              "        vertical-align: middle;\n",
              "    }\n",
              "\n",
              "    .dataframe tbody tr th {\n",
              "        vertical-align: top;\n",
              "    }\n",
              "\n",
              "    .dataframe thead th {\n",
              "        text-align: right;\n",
              "    }\n",
              "</style>\n",
              "<table border=\"1\" class=\"dataframe\">\n",
              "  <thead>\n",
              "    <tr style=\"text-align: right;\">\n",
              "      <th></th>\n",
              "      <th>count</th>\n",
              "    </tr>\n",
              "    <tr>\n",
              "      <th>contact_type</th>\n",
              "      <th></th>\n",
              "    </tr>\n",
              "  </thead>\n",
              "  <tbody>\n",
              "    <tr>\n",
              "      <th>proximal</th>\n",
              "      <td>2426</td>\n",
              "    </tr>\n",
              "    <tr>\n",
              "      <th>polar</th>\n",
              "      <td>120</td>\n",
              "    </tr>\n",
              "    <tr>\n",
              "      <th>vdw_clash</th>\n",
              "      <td>118</td>\n",
              "    </tr>\n",
              "    <tr>\n",
              "      <th>hbond</th>\n",
              "      <td>90</td>\n",
              "    </tr>\n",
              "    <tr>\n",
              "      <th>weak_polar</th>\n",
              "      <td>68</td>\n",
              "    </tr>\n",
              "    <tr>\n",
              "      <th>aromatic</th>\n",
              "      <td>58</td>\n",
              "    </tr>\n",
              "    <tr>\n",
              "      <th>weak_hbond</th>\n",
              "      <td>56</td>\n",
              "    </tr>\n",
              "    <tr>\n",
              "      <th>vdw</th>\n",
              "      <td>50</td>\n",
              "    </tr>\n",
              "    <tr>\n",
              "      <th>DONORPI</th>\n",
              "      <td>12</td>\n",
              "    </tr>\n",
              "    <tr>\n",
              "      <th>CATIONPI</th>\n",
              "      <td>12</td>\n",
              "    </tr>\n",
              "    <tr>\n",
              "      <th>OF</th>\n",
              "      <td>6</td>\n",
              "    </tr>\n",
              "    <tr>\n",
              "      <th>CARBONPI</th>\n",
              "      <td>6</td>\n",
              "    </tr>\n",
              "    <tr>\n",
              "      <th>FF</th>\n",
              "      <td>4</td>\n",
              "    </tr>\n",
              "    <tr>\n",
              "      <th>hydrophobic</th>\n",
              "      <td>2</td>\n",
              "    </tr>\n",
              "  </tbody>\n",
              "</table>\n",
              "</div><br><label><b>dtype:</b> int64</label>"
            ]
          },
          "metadata": {},
          "execution_count": 107
        }
      ]
    },
    {
      "cell_type": "markdown",
      "source": [
        "The definitions of different contact types can be found in [PDBe Arpeggio GitHub README](https://github.com/PDBeurope/arpeggio/tree/master). Proximal has the largest frequecy, and it is a contact type between two atoms when the distance between them is greater than the sum of their VdW radius but less than 5 $\\mathring{A}$. Since it is a generic type of interactions we will remove it from the rest of the analysis"
      ],
      "metadata": {
        "id": "1QE6cVYaJvWM"
      }
    },
    {
      "cell_type": "code",
      "source": [
        "# filter to exclude proximal contacts\n",
        "pdb_inx_non_proximal = pdb_interactions_df[pdb_interactions_df[\"contact_type\"]!=\"proximal\"]"
      ],
      "metadata": {
        "id": "OzVd8JwsLfbm"
      },
      "execution_count": 108,
      "outputs": []
    },
    {
      "cell_type": "code",
      "source": [
        "# Generate a count-plot of contact types\n",
        "plt.figure(figsize=(10, 8))  # Adjust figure size as needed\n",
        "sns.countplot(pdb_inx_non_proximal, x=\"contact_type\", hue=\"bm_id\")\n",
        "plt.xticks(rotation=30)\n",
        "plt.xlabel(\"contact type\")\n",
        "plt.ylabel(\"number of interactions\")\n",
        "plt.show()"
      ],
      "metadata": {
        "colab": {
          "base_uri": "https://localhost:8080/",
          "height": 738
        },
        "id": "sVhS1CD2KJXJ",
        "outputId": "397127c5-0752-4461-a140-c5f22bf0c448"
      },
      "execution_count": 109,
      "outputs": [
        {
          "output_type": "display_data",
          "data": {
            "text/plain": [
              "<Figure size 1000x800 with 1 Axes>"
            ],
            "image/png": "[encoded data removed]"
          },
          "metadata": {}
        }
      ]
    },
    {
      "cell_type": "markdown",
      "source": [
        " - From the contact-type count plot, it is clear that the most of the interactions are polar, and there are very less number of hydrophobic interactions. This is in aggrement with the location of binding site - interface of proteins in the outer surface.\n",
        " - Equivalent bound-molecules (bound-molecules from the symmetric subunits) have the same interaction pattern (bm1-bm2, bm3-bm4, and bm5-bm6 ) as expected\n",
        " - atom-plane and plane-plane interactions are same in all instances of ligands"
      ],
      "metadata": {
        "id": "KSaR57LyNmse"
      }
    },
    {
      "cell_type": "code",
      "source": [
        "bound_molecules[0].is_equivalent(bound_molecules[1])"
      ],
      "metadata": {
        "colab": {
          "base_uri": "https://localhost:8080/"
        },
        "id": "E_Iq80VTM2G0",
        "outputId": "e20faa55-a2bd-46dd-eb5c-466096af3562"
      },
      "execution_count": 112,
      "outputs": [
        {
          "output_type": "execute_result",
          "data": {
            "text/plain": [
              "True"
            ]
          },
          "metadata": {},
          "execution_count": 112
        }
      ]
    },
    {
      "cell_type": "code",
      "source": [
        "bound_molecules[0].is_equivalent(bound_molecules[2])"
      ],
      "metadata": {
        "colab": {
          "base_uri": "https://localhost:8080/"
        },
        "id": "zWVLxXplNMyE",
        "outputId": "0cae4740-8efa-4a14-fee7-688322b30382"
      },
      "execution_count": 114,
      "outputs": [
        {
          "output_type": "execute_result",
          "data": {
            "text/plain": [
              "False"
            ]
          },
          "metadata": {},
          "execution_count": 114
        }
      ]
    },
    {
      "cell_type": "code",
      "source": [
        "bound_molecules[2].is_equivalent(bound_molecules[3])"
      ],
      "metadata": {
        "colab": {
          "base_uri": "https://localhost:8080/"
        },
        "id": "ALQoOxtGR157",
        "outputId": "ebedf61c-1aa3-45dd-8061-c773361d40a0"
      },
      "execution_count": 113,
      "outputs": [
        {
          "output_type": "execute_result",
          "data": {
            "text/plain": [
              "True"
            ]
          },
          "metadata": {},
          "execution_count": 113
        }
      ]
    },
    {
      "cell_type": "code",
      "source": [
        "def summarise_bm_interactions(interactions_df, bm_id):\n",
        "  m"
      ],
      "metadata": {
        "id": "9u4KWrvBciEH"
      },
      "execution_count": null,
      "outputs": []
    },
    {
      "cell_type": "code",
      "source": [
        "pdb_inx_non_proximal[(pdb_inx_non_proximal[\"bm_id\"]==\"bm_1\") & (pdb_inx_non_proximal[\"contact_type\"]==\"hbond\") & (pdb_inx_non_proximal[\"interacting_entities\"]==\"INTER\")]"
      ],
      "metadata": {
        "colab": {
          "base_uri": "https://localhost:8080/",
          "height": 195
        },
        "id": "Fy8zx693Vk23",
        "outputId": "9a85d893-03de-4f32-c8de-a91ac3b2bf94"
      },
      "execution_count": 135,
      "outputs": [
        {
          "output_type": "execute_result",
          "data": {
            "text/plain": [
              "    interacting_entities interaction_type  distance bm_id contact_type  \\\n",
              "2                  INTER        atom-atom      3.17  bm_1        hbond   \n",
              "55                 INTER        atom-atom      2.79  bm_1        hbond   \n",
              "116                INTER        atom-atom      2.98  bm_1        hbond   \n",
              "180                INTER        atom-atom      3.35  bm_1        hbond   \n",
              "\n",
              "    auth_asym_id_1 auth_asym_id_2  auth_seq_id_1  auth_seq_id_2  \\\n",
              "2                A            C_2            700            252   \n",
              "55               A              A            700            137   \n",
              "116              A              A            700            136   \n",
              "180              A              A            700            136   \n",
              "\n",
              "    label_comp_id_1 label_comp_id_2 auth_atom_id_1 auth_atom_id_2  \n",
              "2               APC             SER            O1G             OG  \n",
              "55              APC             THR            O2A              N  \n",
              "116             APC             LYS            O1A              N  \n",
              "180             APC             LYS            O2A              N  "
            ],
            "text/html": [
              "\n",
              "  <div id=\"df-db417ebc-bf55-45e8-9b10-3c2f528adf86\" class=\"colab-df-container\">\n",
              "    <div>\n",
              "<style scoped>\n",
              "    .dataframe tbody tr th:only-of-type {\n",
              "        vertical-align: middle;\n",
              "    }\n",
              "\n",
              "    .dataframe tbody tr th {\n",
              "        vertical-align: top;\n",
              "    }\n",
              "\n",
              "    .dataframe thead th {\n",
              "        text-align: right;\n",
              "    }\n",
              "</style>\n",
              "<table border=\"1\" class=\"dataframe\">\n",
              "  <thead>\n",
              "    <tr style=\"text-align: right;\">\n",
              "      <th></th>\n",
              "      <th>interacting_entities</th>\n",
              "      <th>interaction_type</th>\n",
              "      <th>distance</th>\n",
              "      <th>bm_id</th>\n",
              "      <th>contact_type</th>\n",
              "      <th>auth_asym_id_1</th>\n",
              "      <th>auth_asym_id_2</th>\n",
              "      <th>auth_seq_id_1</th>\n",
              "      <th>auth_seq_id_2</th>\n",
              "      <th>label_comp_id_1</th>\n",
              "      <th>label_comp_id_2</th>\n",
              "      <th>auth_atom_id_1</th>\n",
              "      <th>auth_atom_id_2</th>\n",
              "    </tr>\n",
              "  </thead>\n",
              "  <tbody>\n",
              "    <tr>\n",
              "      <th>2</th>\n",
              "      <td>INTER</td>\n",
              "      <td>atom-atom</td>\n",
              "      <td>3.17</td>\n",
              "      <td>bm_1</td>\n",
              "      <td>hbond</td>\n",
              "      <td>A</td>\n",
              "      <td>C_2</td>\n",
              "      <td>700</td>\n",
              "      <td>252</td>\n",
              "      <td>APC</td>\n",
              "      <td>SER</td>\n",
              "      <td>O1G</td>\n",
              "      <td>OG</td>\n",
              "    </tr>\n",
              "    <tr>\n",
              "      <th>55</th>\n",
              "      <td>INTER</td>\n",
              "      <td>atom-atom</td>\n",
              "      <td>2.79</td>\n",
              "      <td>bm_1</td>\n",
              "      <td>hbond</td>\n",
              "      <td>A</td>\n",
              "      <td>A</td>\n",
              "      <td>700</td>\n",
              "      <td>137</td>\n",
              "      <td>APC</td>\n",
              "      <td>THR</td>\n",
              "      <td>O2A</td>\n",
              "      <td>N</td>\n",
              "    </tr>\n",
              "    <tr>\n",
              "      <th>116</th>\n",
              "      <td>INTER</td>\n",
              "      <td>atom-atom</td>\n",
              "      <td>2.98</td>\n",
              "      <td>bm_1</td>\n",
              "      <td>hbond</td>\n",
              "      <td>A</td>\n",
              "      <td>A</td>\n",
              "      <td>700</td>\n",
              "      <td>136</td>\n",
              "      <td>APC</td>\n",
              "      <td>LYS</td>\n",
              "      <td>O1A</td>\n",
              "      <td>N</td>\n",
              "    </tr>\n",
              "    <tr>\n",
              "      <th>180</th>\n",
              "      <td>INTER</td>\n",
              "      <td>atom-atom</td>\n",
              "      <td>3.35</td>\n",
              "      <td>bm_1</td>\n",
              "      <td>hbond</td>\n",
              "      <td>A</td>\n",
              "      <td>A</td>\n",
              "      <td>700</td>\n",
              "      <td>136</td>\n",
              "      <td>APC</td>\n",
              "      <td>LYS</td>\n",
              "      <td>O2A</td>\n",
              "      <td>N</td>\n",
              "    </tr>\n",
              "  </tbody>\n",
              "</table>\n",
              "</div>\n",
              "    <div class=\"colab-df-buttons\">\n",
              "\n",
              "  <div class=\"colab-df-container\">\n",
              "    <button class=\"colab-df-convert\" onclick=\"convertToInteractive('df-db417ebc-bf55-45e8-9b10-3c2f528adf86')\"\n",
              "            title=\"Convert this dataframe to an interactive table.\"\n",
              "            style=\"display:none;\">\n",
              "\n",
              "  <svg xmlns=\"http://www.w3.org/2000/svg\" height=\"24px\" viewBox=\"0 -960 960 960\">\n",
              "    <path d=\"M120-120v-720h720v720H120Zm60-500h600v-160H180v160Zm220 220h160v-160H400v160Zm0 220h160v-160H400v160ZM180-400h160v-160H180v160Zm440 0h160v-160H620v160ZM180-180h160v-160H180v160Zm440 0h160v-160H620v160Z\"/>\n",
              "  </svg>\n",
              "    </button>\n",
              "\n",
              "  <style>\n",
              "    .colab-df-container {\n",
              "      display:flex;\n",
              "      gap: 12px;\n",
              "    }\n",
              "\n",
              "    .colab-df-convert {\n",
              "      background-color: #E8F0FE;\n",
              "      border: none;\n",
              "      border-radius: 50%;\n",
              "      cursor: pointer;\n",
              "      display: none;\n",
              "      fill: #1967D2;\n",
              "      height: 32px;\n",
              "      padding: 0 0 0 0;\n",
              "      width: 32px;\n",
              "    }\n",
              "\n",
              "    .colab-df-convert:hover {\n",
              "      background-color: #E2EBFA;\n",
              "      box-shadow: 0px 1px 2px rgba(60, 64, 67, 0.3), 0px 1px 3px 1px rgba(60, 64, 67, 0.15);\n",
              "      fill: #174EA6;\n",
              "    }\n",
              "\n",
              "    .colab-df-buttons div {\n",
              "      margin-bottom: 4px;\n",
              "    }\n",
              "\n",
              "    [theme=dark] .colab-df-convert {\n",
              "      background-color: #3B4455;\n",
              "      fill: #D2E3FC;\n",
              "    }\n",
              "\n",
              "    [theme=dark] .colab-df-convert:hover {\n",
              "      background-color: #434B5C;\n",
              "      box-shadow: 0px 1px 3px 1px rgba(0, 0, 0, 0.15);\n",
              "      filter: drop-shadow(0px 1px 2px rgba(0, 0, 0, 0.3));\n",
              "      fill: #FFFFFF;\n",
              "    }\n",
              "  </style>\n",
              "\n",
              "    <script>\n",
              "      const buttonEl =\n",
              "        document.querySelector('#df-db417ebc-bf55-45e8-9b10-3c2f528adf86 button.colab-df-convert');\n",
              "      buttonEl.style.display =\n",
              "        google.colab.kernel.accessAllowed ? 'block' : 'none';\n",
              "\n",
              "      async function convertToInteractive(key) {\n",
              "        const element = document.querySelector('#df-db417ebc-bf55-45e8-9b10-3c2f528adf86');\n",
              "        const dataTable =\n",
              "          await google.colab.kernel.invokeFunction('convertToInteractive',\n",
              "                                                    [key], {});\n",
              "        if (!dataTable) return;\n",
              "\n",
              "        const docLinkHtml = 'Like what you see? Visit the ' +\n",
              "          '<a target=\"_blank\" href=https://colab.research.google.com/notebooks/data_table.ipynb>data table notebook</a>'\n",
              "          + ' to learn more about interactive tables.';\n",
              "        element.innerHTML = '';\n",
              "        dataTable['output_type'] = 'display_data';\n",
              "        await google.colab.output.renderOutput(dataTable, element);\n",
              "        const docLink = document.createElement('div');\n",
              "        docLink.innerHTML = docLinkHtml;\n",
              "        element.appendChild(docLink);\n",
              "      }\n",
              "    </script>\n",
              "  </div>\n",
              "\n",
              "\n",
              "<div id=\"df-4c92efa8-ef16-417c-b9ee-b98045d48450\">\n",
              "  <button class=\"colab-df-quickchart\" onclick=\"quickchart('df-4c92efa8-ef16-417c-b9ee-b98045d48450')\"\n",
              "            title=\"Suggest charts\"\n",
              "            style=\"display:none;\">\n",
              "\n",
              "<svg xmlns=\"http://www.w3.org/2000/svg\" height=\"24px\"viewBox=\"0 0 24 24\"\n",
              "     width=\"24px\">\n",
              "    <g>\n",
              "        <path d=\"M19 3H5c-1.1 0-2 .9-2 2v14c0 1.1.9 2 2 2h14c1.1 0 2-.9 2-2V5c0-1.1-.9-2-2-2zM9 17H7v-7h2v7zm4 0h-2V7h2v10zm4 0h-2v-4h2v4z\"/>\n",
              "    </g>\n",
              "</svg>\n",
              "  </button>\n",
              "\n",
              "<style>\n",
              "  .colab-df-quickchart {\n",
              "      --bg-color: #E8F0FE;\n",
              "      --fill-color: #1967D2;\n",
              "      --hover-bg-color: #E2EBFA;\n",
              "      --hover-fill-color: #174EA6;\n",
              "      --disabled-fill-color: #AAA;\n",
              "      --disabled-bg-color: #DDD;\n",
              "  }\n",
              "\n",
              "  [theme=dark] .colab-df-quickchart {\n",
              "      --bg-color: #3B4455;\n",
              "      --fill-color: #D2E3FC;\n",
              "      --hover-bg-color: #434B5C;\n",
              "      --hover-fill-color: #FFFFFF;\n",
              "      --disabled-bg-color: #3B4455;\n",
              "      --disabled-fill-color: #666;\n",
              "  }\n",
              "\n",
              "  .colab-df-quickchart {\n",
              "    background-color: var(--bg-color);\n",
              "    border: none;\n",
              "    border-radius: 50%;\n",
              "    cursor: pointer;\n",
              "    display: none;\n",
              "    fill: var(--fill-color);\n",
              "    height: 32px;\n",
              "    padding: 0;\n",
              "    width: 32px;\n",
              "  }\n",
              "\n",
              "  .colab-df-quickchart:hover {\n",
              "    background-color: var(--hover-bg-color);\n",
              "    box-shadow: 0 1px 2px rgba(60, 64, 67, 0.3), 0 1px 3px 1px rgba(60, 64, 67, 0.15);\n",
              "    fill: var(--button-hover-fill-color);\n",
              "  }\n",
              "\n",
              "  .colab-df-quickchart-complete:disabled,\n",
              "  .colab-df-quickchart-complete:disabled:hover {\n",
              "    background-color: var(--disabled-bg-color);\n",
              "    fill: var(--disabled-fill-color);\n",
              "    box-shadow: none;\n",
              "  }\n",
              "\n",
              "  .colab-df-spinner {\n",
              "    border: 2px solid var(--fill-color);\n",
              "    border-color: transparent;\n",
              "    border-bottom-color: var(--fill-color);\n",
              "    animation:\n",
              "      spin 1s steps(1) infinite;\n",
              "  }\n",
              "\n",
              "  @keyframes spin {\n",
              "    0% {\n",
              "      border-color: transparent;\n",
              "      border-bottom-color: var(--fill-color);\n",
              "      border-left-color: var(--fill-color);\n",
              "    }\n",
              "    20% {\n",
              "      border-color: transparent;\n",
              "      border-left-color: var(--fill-color);\n",
              "      border-top-color: var(--fill-color);\n",
              "    }\n",
              "    30% {\n",
              "      border-color: transparent;\n",
              "      border-left-color: var(--fill-color);\n",
              "      border-top-color: var(--fill-color);\n",
              "      border-right-color: var(--fill-color);\n",
              "    }\n",
              "    40% {\n",
              "      border-color: transparent;\n",
              "      border-right-color: var(--fill-color);\n",
              "      border-top-color: var(--fill-color);\n",
              "    }\n",
              "    60% {\n",
              "      border-color: transparent;\n",
              "      border-right-color: var(--fill-color);\n",
              "    }\n",
              "    80% {\n",
              "      border-color: transparent;\n",
              "      border-right-color: var(--fill-color);\n",
              "      border-bottom-color: var(--fill-color);\n",
              "    }\n",
              "    90% {\n",
              "      border-color: transparent;\n",
              "      border-bottom-color: var(--fill-color);\n",
              "    }\n",
              "  }\n",
              "</style>\n",
              "\n",
              "  <script>\n",
              "    async function quickchart(key) {\n",
              "      const quickchartButtonEl =\n",
              "        document.querySelector('#' + key + ' button');\n",
              "      quickchartButtonEl.disabled = true;  // To prevent multiple clicks.\n",
              "      quickchartButtonEl.classList.add('colab-df-spinner');\n",
              "      try {\n",
              "        const charts = await google.colab.kernel.invokeFunction(\n",
              "            'suggestCharts', [key], {});\n",
              "      } catch (error) {\n",
              "        console.error('Error during call to suggestCharts:', error);\n",
              "      }\n",
              "      quickchartButtonEl.classList.remove('colab-df-spinner');\n",
              "      quickchartButtonEl.classList.add('colab-df-quickchart-complete');\n",
              "    }\n",
              "    (() => {\n",
              "      let quickchartButtonEl =\n",
              "        document.querySelector('#df-4c92efa8-ef16-417c-b9ee-b98045d48450 button');\n",
              "      quickchartButtonEl.style.display =\n",
              "        google.colab.kernel.accessAllowed ? 'block' : 'none';\n",
              "    })();\n",
              "  </script>\n",
              "</div>\n",
              "\n",
              "    </div>\n",
              "  </div>\n"
            ],
            "application/vnd.google.colaboratory.intrinsic+json": {
              "type": "dataframe",
              "summary": "{\n  \"name\": \"pdb_inx_non_proximal[(pdb_inx_non_proximal[\\\"bm_id\\\"]==\\\"bm_1\\\") & (pdb_inx_non_proximal[\\\"contact_type\\\"]==\\\"hbond\\\") & (pdb_inx_non_proximal[\\\"interacting_entities\\\"]==\\\"INTER\\\")]\",\n  \"rows\": 4,\n  \"fields\": [\n    {\n      \"column\": \"interacting_entities\",\n      \"properties\": {\n        \"dtype\": \"category\",\n        \"num_unique_values\": 1,\n        \"samples\": [\n          \"INTER\"\n        ],\n        \"semantic_type\": \"\",\n        \"description\": \"\"\n      }\n    },\n    {\n      \"column\": \"interaction_type\",\n      \"properties\": {\n        \"dtype\": \"category\",\n        \"num_unique_values\": 1,\n        \"samples\": [\n          \"atom-atom\"\n        ],\n        \"semantic_type\": \"\",\n        \"description\": \"\"\n      }\n    },\n    {\n      \"column\": \"distance\",\n      \"properties\": {\n        \"dtype\": \"number\",\n        \"std\": 0.24143667216615347,\n        \"min\": 2.79,\n        \"max\": 3.35,\n        \"num_unique_values\": 4,\n        \"samples\": [\n          2.79\n        ],\n        \"semantic_type\": \"\",\n        \"description\": \"\"\n      }\n    },\n    {\n      \"column\": \"bm_id\",\n      \"properties\": {\n        \"dtype\": \"category\",\n        \"num_unique_values\": 1,\n        \"samples\": [\n          \"bm_1\"\n        ],\n        \"semantic_type\": \"\",\n        \"description\": \"\"\n      }\n    },\n    {\n      \"column\": \"contact_type\",\n      \"properties\": {\n        \"dtype\": \"category\",\n        \"num_unique_values\": 1,\n        \"samples\": [\n          \"hbond\"\n        ],\n        \"semantic_type\": \"\",\n        \"description\": \"\"\n      }\n    },\n    {\n      \"column\": \"auth_asym_id_1\",\n      \"properties\": {\n        \"dtype\": \"category\",\n        \"num_unique_values\": 1,\n        \"samples\": [\n          \"A\"\n        ],\n        \"semantic_type\": \"\",\n        \"description\": \"\"\n      }\n    },\n    {\n      \"column\": \"auth_asym_id_2\",\n      \"properties\": {\n        \"dtype\": \"string\",\n        \"num_unique_values\": 2,\n        \"samples\": [\n          \"A\"\n        ],\n        \"semantic_type\": \"\",\n        \"description\": \"\"\n      }\n    },\n    {\n      \"column\": \"auth_seq_id_1\",\n      \"properties\": {\n        \"dtype\": \"number\",\n        \"std\": 0,\n        \"min\": 700,\n        \"max\": 700,\n        \"num_unique_values\": 1,\n        \"samples\": [\n          700\n        ],\n        \"semantic_type\": \"\",\n        \"description\": \"\"\n      }\n    },\n    {\n      \"column\": \"auth_seq_id_2\",\n      \"properties\": {\n        \"dtype\": \"number\",\n        \"std\": 57,\n        \"min\": 136,\n        \"max\": 252,\n        \"num_unique_values\": 3,\n        \"samples\": [\n          252\n        ],\n        \"semantic_type\": \"\",\n        \"description\": \"\"\n      }\n    },\n    {\n      \"column\": \"label_comp_id_1\",\n      \"properties\": {\n        \"dtype\": \"category\",\n        \"num_unique_values\": 1,\n        \"samples\": [\n          \"APC\"\n        ],\n        \"semantic_type\": \"\",\n        \"description\": \"\"\n      }\n    },\n    {\n      \"column\": \"label_comp_id_2\",\n      \"properties\": {\n        \"dtype\": \"string\",\n        \"num_unique_values\": 3,\n        \"samples\": [\n          \"SER\"\n        ],\n        \"semantic_type\": \"\",\n        \"description\": \"\"\n      }\n    },\n    {\n      \"column\": \"auth_atom_id_1\",\n      \"properties\": {\n        \"dtype\": \"string\",\n        \"num_unique_values\": 3,\n        \"samples\": [\n          \"O1G\"\n        ],\n        \"semantic_type\": \"\",\n        \"description\": \"\"\n      }\n    },\n    {\n      \"column\": \"auth_atom_id_2\",\n      \"properties\": {\n        \"dtype\": \"string\",\n        \"num_unique_values\": 2,\n        \"samples\": [\n          \"N\"\n        ],\n        \"semantic_type\": \"\",\n        \"description\": \"\"\n      }\n    }\n  ]\n}"
            }
          },
          "metadata": {},
          "execution_count": 135
        }
      ]
    },
    {
      "cell_type": "code",
      "source": [
        "pdb_inx_non_proximal[(pdb_inx_non_proximal[\"bm_id\"]==\"bm_1\") & (pdb_inx_non_proximal[\"contact_type\"]==\"polar\") & (pdb_inx_non_proximal[\"interacting_entities\"]==\"INTER\")]"
      ],
      "metadata": {
        "colab": {
          "base_uri": "https://localhost:8080/",
          "height": 320
        },
        "id": "GT3pkD0vPfLN",
        "outputId": "3fe5dba1-6552-43c3-d489-3ce4fa6aa1fb"
      },
      "execution_count": 136,
      "outputs": [
        {
          "output_type": "execute_result",
          "data": {
            "text/plain": [
              "    interacting_entities interaction_type  distance bm_id contact_type  \\\n",
              "3                  INTER        atom-atom      3.17  bm_1        polar   \n",
              "56                 INTER        atom-atom      2.79  bm_1        polar   \n",
              "64                 INTER        atom-atom      3.07  bm_1        polar   \n",
              "117                INTER        atom-atom      2.98  bm_1        polar   \n",
              "181                INTER        atom-atom      3.35  bm_1        polar   \n",
              "297                INTER        atom-atom      3.46  bm_1        polar   \n",
              "403                INTER        atom-atom      2.86  bm_1        polar   \n",
              "411                INTER        atom-atom      3.26  bm_1        polar   \n",
              "\n",
              "    auth_asym_id_1 auth_asym_id_2  auth_seq_id_1  auth_seq_id_2  \\\n",
              "3                A            C_2            700            252   \n",
              "56               A              A            700            137   \n",
              "64               A              A            700            137   \n",
              "117              A              A            700            136   \n",
              "181              A              A            700            136   \n",
              "297              A              A            700            288   \n",
              "403              A              A            700            292   \n",
              "411              A              A            700            292   \n",
              "\n",
              "    label_comp_id_1 label_comp_id_2 auth_atom_id_1 auth_atom_id_2  \n",
              "3               APC             SER            O1G             OG  \n",
              "56              APC             THR            O2A              N  \n",
              "64              APC             THR            O2A            OG1  \n",
              "117             APC             LYS            O1A              N  \n",
              "181             APC             LYS            O2A              N  \n",
              "297             APC             TYR             N9             OH  \n",
              "403             APC             SER             N7             OG  \n",
              "411             APC             SER             N6             OG  "
            ],
            "text/html": [
              "\n",
              "  <div id=\"df-aed72e67-eaab-43bd-8ea6-dea75550cb10\" class=\"colab-df-container\">\n",
              "    <div>\n",
              "<style scoped>\n",
              "    .dataframe tbody tr th:only-of-type {\n",
              "        vertical-align: middle;\n",
              "    }\n",
              "\n",
              "    .dataframe tbody tr th {\n",
              "        vertical-align: top;\n",
              "    }\n",
              "\n",
              "    .dataframe thead th {\n",
              "        text-align: right;\n",
              "    }\n",
              "</style>\n",
              "<table border=\"1\" class=\"dataframe\">\n",
              "  <thead>\n",
              "    <tr style=\"text-align: right;\">\n",
              "      <th></th>\n",
              "      <th>interacting_entities</th>\n",
              "      <th>interaction_type</th>\n",
              "      <th>distance</th>\n",
              "      <th>bm_id</th>\n",
              "      <th>contact_type</th>\n",
              "      <th>auth_asym_id_1</th>\n",
              "      <th>auth_asym_id_2</th>\n",
              "      <th>auth_seq_id_1</th>\n",
              "      <th>auth_seq_id_2</th>\n",
              "      <th>label_comp_id_1</th>\n",
              "      <th>label_comp_id_2</th>\n",
              "      <th>auth_atom_id_1</th>\n",
              "      <th>auth_atom_id_2</th>\n",
              "    </tr>\n",
              "  </thead>\n",
              "  <tbody>\n",
              "    <tr>\n",
              "      <th>3</th>\n",
              "      <td>INTER</td>\n",
              "      <td>atom-atom</td>\n",
              "      <td>3.17</td>\n",
              "      <td>bm_1</td>\n",
              "      <td>polar</td>\n",
              "      <td>A</td>\n",
              "      <td>C_2</td>\n",
              "      <td>700</td>\n",
              "      <td>252</td>\n",
              "      <td>APC</td>\n",
              "      <td>SER</td>\n",
              "      <td>O1G</td>\n",
              "      <td>OG</td>\n",
              "    </tr>\n",
              "    <tr>\n",
              "      <th>56</th>\n",
              "      <td>INTER</td>\n",
              "      <td>atom-atom</td>\n",
              "      <td>2.79</td>\n",
              "      <td>bm_1</td>\n",
              "      <td>polar</td>\n",
              "      <td>A</td>\n",
              "      <td>A</td>\n",
              "      <td>700</td>\n",
              "      <td>137</td>\n",
              "      <td>APC</td>\n",
              "      <td>THR</td>\n",
              "      <td>O2A</td>\n",
              "      <td>N</td>\n",
              "    </tr>\n",
              "    <tr>\n",
              "      <th>64</th>\n",
              "      <td>INTER</td>\n",
              "      <td>atom-atom</td>\n",
              "      <td>3.07</td>\n",
              "      <td>bm_1</td>\n",
              "      <td>polar</td>\n",
              "      <td>A</td>\n",
              "      <td>A</td>\n",
              "      <td>700</td>\n",
              "      <td>137</td>\n",
              "      <td>APC</td>\n",
              "      <td>THR</td>\n",
              "      <td>O2A</td>\n",
              "      <td>OG1</td>\n",
              "    </tr>\n",
              "    <tr>\n",
              "      <th>117</th>\n",
              "      <td>INTER</td>\n",
              "      <td>atom-atom</td>\n",
              "      <td>2.98</td>\n",
              "      <td>bm_1</td>\n",
              "      <td>polar</td>\n",
              "      <td>A</td>\n",
              "      <td>A</td>\n",
              "      <td>700</td>\n",
              "      <td>136</td>\n",
              "      <td>APC</td>\n",
              "      <td>LYS</td>\n",
              "      <td>O1A</td>\n",
              "      <td>N</td>\n",
              "    </tr>\n",
              "    <tr>\n",
              "      <th>181</th>\n",
              "      <td>INTER</td>\n",
              "      <td>atom-atom</td>\n",
              "      <td>3.35</td>\n",
              "      <td>bm_1</td>\n",
              "      <td>polar</td>\n",
              "      <td>A</td>\n",
              "      <td>A</td>\n",
              "      <td>700</td>\n",
              "      <td>136</td>\n",
              "      <td>APC</td>\n",
              "      <td>LYS</td>\n",
              "      <td>O2A</td>\n",
              "      <td>N</td>\n",
              "    </tr>\n",
              "    <tr>\n",
              "      <th>297</th>\n",
              "      <td>INTER</td>\n",
              "      <td>atom-atom</td>\n",
              "      <td>3.46</td>\n",
              "      <td>bm_1</td>\n",
              "      <td>polar</td>\n",
              "      <td>A</td>\n",
              "      <td>A</td>\n",
              "      <td>700</td>\n",
              "      <td>288</td>\n",
              "      <td>APC</td>\n",
              "      <td>TYR</td>\n",
              "      <td>N9</td>\n",
              "      <td>OH</td>\n",
              "    </tr>\n",
              "    <tr>\n",
              "      <th>403</th>\n",
              "      <td>INTER</td>\n",
              "      <td>atom-atom</td>\n",
              "      <td>2.86</td>\n",
              "      <td>bm_1</td>\n",
              "      <td>polar</td>\n",
              "      <td>A</td>\n",
              "      <td>A</td>\n",
              "      <td>700</td>\n",
              "      <td>292</td>\n",
              "      <td>APC</td>\n",
              "      <td>SER</td>\n",
              "      <td>N7</td>\n",
              "      <td>OG</td>\n",
              "    </tr>\n",
              "    <tr>\n",
              "      <th>411</th>\n",
              "      <td>INTER</td>\n",
              "      <td>atom-atom</td>\n",
              "      <td>3.26</td>\n",
              "      <td>bm_1</td>\n",
              "      <td>polar</td>\n",
              "      <td>A</td>\n",
              "      <td>A</td>\n",
              "      <td>700</td>\n",
              "      <td>292</td>\n",
              "      <td>APC</td>\n",
              "      <td>SER</td>\n",
              "      <td>N6</td>\n",
              "      <td>OG</td>\n",
              "    </tr>\n",
              "  </tbody>\n",
              "</table>\n",
              "</div>\n",
              "    <div class=\"colab-df-buttons\">\n",
              "\n",
              "  <div class=\"colab-df-container\">\n",
              "    <button class=\"colab-df-convert\" onclick=\"convertToInteractive('df-aed72e67-eaab-43bd-8ea6-dea75550cb10')\"\n",
              "            title=\"Convert this dataframe to an interactive table.\"\n",
              "            style=\"display:none;\">\n",
              "\n",
              "  <svg xmlns=\"http://www.w3.org/2000/svg\" height=\"24px\" viewBox=\"0 -960 960 960\">\n",
              "    <path d=\"M120-120v-720h720v720H120Zm60-500h600v-160H180v160Zm220 220h160v-160H400v160Zm0 220h160v-160H400v160ZM180-400h160v-160H180v160Zm440 0h160v-160H620v160ZM180-180h160v-160H180v160Zm440 0h160v-160H620v160Z\"/>\n",
              "  </svg>\n",
              "    </button>\n",
              "\n",
              "  <style>\n",
              "    .colab-df-container {\n",
              "      display:flex;\n",
              "      gap: 12px;\n",
              "    }\n",
              "\n",
              "    .colab-df-convert {\n",
              "      background-color: #E8F0FE;\n",
              "      border: none;\n",
              "      border-radius: 50%;\n",
              "      cursor: pointer;\n",
              "      display: none;\n",
              "      fill: #1967D2;\n",
              "      height: 32px;\n",
              "      padding: 0 0 0 0;\n",
              "      width: 32px;\n",
              "    }\n",
              "\n",
              "    .colab-df-convert:hover {\n",
              "      background-color: #E2EBFA;\n",
              "      box-shadow: 0px 1px 2px rgba(60, 64, 67, 0.3), 0px 1px 3px 1px rgba(60, 64, 67, 0.15);\n",
              "      fill: #174EA6;\n",
              "    }\n",
              "\n",
              "    .colab-df-buttons div {\n",
              "      margin-bottom: 4px;\n",
              "    }\n",
              "\n",
              "    [theme=dark] .colab-df-convert {\n",
              "      background-color: #3B4455;\n",
              "      fill: #D2E3FC;\n",
              "    }\n",
              "\n",
              "    [theme=dark] .colab-df-convert:hover {\n",
              "      background-color: #434B5C;\n",
              "      box-shadow: 0px 1px 3px 1px rgba(0, 0, 0, 0.15);\n",
              "      filter: drop-shadow(0px 1px 2px rgba(0, 0, 0, 0.3));\n",
              "      fill: #FFFFFF;\n",
              "    }\n",
              "  </style>\n",
              "\n",
              "    <script>\n",
              "      const buttonEl =\n",
              "        document.querySelector('#df-aed72e67-eaab-43bd-8ea6-dea75550cb10 button.colab-df-convert');\n",
              "      buttonEl.style.display =\n",
              "        google.colab.kernel.accessAllowed ? 'block' : 'none';\n",
              "\n",
              "      async function convertToInteractive(key) {\n",
              "        const element = document.querySelector('#df-aed72e67-eaab-43bd-8ea6-dea75550cb10');\n",
              "        const dataTable =\n",
              "          await google.colab.kernel.invokeFunction('convertToInteractive',\n",
              "                                                    [key], {});\n",
              "        if (!dataTable) return;\n",
              "\n",
              "        const docLinkHtml = 'Like what you see? Visit the ' +\n",
              "          '<a target=\"_blank\" href=https://colab.research.google.com/notebooks/data_table.ipynb>data table notebook</a>'\n",
              "          + ' to learn more about interactive tables.';\n",
              "        element.innerHTML = '';\n",
              "        dataTable['output_type'] = 'display_data';\n",
              "        await google.colab.output.renderOutput(dataTable, element);\n",
              "        const docLink = document.createElement('div');\n",
              "        docLink.innerHTML = docLinkHtml;\n",
              "        element.appendChild(docLink);\n",
              "      }\n",
              "    </script>\n",
              "  </div>\n",
              "\n",
              "\n",
              "<div id=\"df-c584ba61-1fbf-4bce-8a8d-5cd962e17ba3\">\n",
              "  <button class=\"colab-df-quickchart\" onclick=\"quickchart('df-c584ba61-1fbf-4bce-8a8d-5cd962e17ba3')\"\n",
              "            title=\"Suggest charts\"\n",
              "            style=\"display:none;\">\n",
              "\n",
              "<svg xmlns=\"http://www.w3.org/2000/svg\" height=\"24px\"viewBox=\"0 0 24 24\"\n",
              "     width=\"24px\">\n",
              "    <g>\n",
              "        <path d=\"M19 3H5c-1.1 0-2 .9-2 2v14c0 1.1.9 2 2 2h14c1.1 0 2-.9 2-2V5c0-1.1-.9-2-2-2zM9 17H7v-7h2v7zm4 0h-2V7h2v10zm4 0h-2v-4h2v4z\"/>\n",
              "    </g>\n",
              "</svg>\n",
              "  </button>\n",
              "\n",
              "<style>\n",
              "  .colab-df-quickchart {\n",
              "      --bg-color: #E8F0FE;\n",
              "      --fill-color: #1967D2;\n",
              "      --hover-bg-color: #E2EBFA;\n",
              "      --hover-fill-color: #174EA6;\n",
              "      --disabled-fill-color: #AAA;\n",
              "      --disabled-bg-color: #DDD;\n",
              "  }\n",
              "\n",
              "  [theme=dark] .colab-df-quickchart {\n",
              "      --bg-color: #3B4455;\n",
              "      --fill-color: #D2E3FC;\n",
              "      --hover-bg-color: #434B5C;\n",
              "      --hover-fill-color: #FFFFFF;\n",
              "      --disabled-bg-color: #3B4455;\n",
              "      --disabled-fill-color: #666;\n",
              "  }\n",
              "\n",
              "  .colab-df-quickchart {\n",
              "    background-color: var(--bg-color);\n",
              "    border: none;\n",
              "    border-radius: 50%;\n",
              "    cursor: pointer;\n",
              "    display: none;\n",
              "    fill: var(--fill-color);\n",
              "    height: 32px;\n",
              "    padding: 0;\n",
              "    width: 32px;\n",
              "  }\n",
              "\n",
              "  .colab-df-quickchart:hover {\n",
              "    background-color: var(--hover-bg-color);\n",
              "    box-shadow: 0 1px 2px rgba(60, 64, 67, 0.3), 0 1px 3px 1px rgba(60, 64, 67, 0.15);\n",
              "    fill: var(--button-hover-fill-color);\n",
              "  }\n",
              "\n",
              "  .colab-df-quickchart-complete:disabled,\n",
              "  .colab-df-quickchart-complete:disabled:hover {\n",
              "    background-color: var(--disabled-bg-color);\n",
              "    fill: var(--disabled-fill-color);\n",
              "    box-shadow: none;\n",
              "  }\n",
              "\n",
              "  .colab-df-spinner {\n",
              "    border: 2px solid var(--fill-color);\n",
              "    border-color: transparent;\n",
              "    border-bottom-color: var(--fill-color);\n",
              "    animation:\n",
              "      spin 1s steps(1) infinite;\n",
              "  }\n",
              "\n",
              "  @keyframes spin {\n",
              "    0% {\n",
              "      border-color: transparent;\n",
              "      border-bottom-color: var(--fill-color);\n",
              "      border-left-color: var(--fill-color);\n",
              "    }\n",
              "    20% {\n",
              "      border-color: transparent;\n",
              "      border-left-color: var(--fill-color);\n",
              "      border-top-color: var(--fill-color);\n",
              "    }\n",
              "    30% {\n",
              "      border-color: transparent;\n",
              "      border-left-color: var(--fill-color);\n",
              "      border-top-color: var(--fill-color);\n",
              "      border-right-color: var(--fill-color);\n",
              "    }\n",
              "    40% {\n",
              "      border-color: transparent;\n",
              "      border-right-color: var(--fill-color);\n",
              "      border-top-color: var(--fill-color);\n",
              "    }\n",
              "    60% {\n",
              "      border-color: transparent;\n",
              "      border-right-color: var(--fill-color);\n",
              "    }\n",
              "    80% {\n",
              "      border-color: transparent;\n",
              "      border-right-color: var(--fill-color);\n",
              "      border-bottom-color: var(--fill-color);\n",
              "    }\n",
              "    90% {\n",
              "      border-color: transparent;\n",
              "      border-bottom-color: var(--fill-color);\n",
              "    }\n",
              "  }\n",
              "</style>\n",
              "\n",
              "  <script>\n",
              "    async function quickchart(key) {\n",
              "      const quickchartButtonEl =\n",
              "        document.querySelector('#' + key + ' button');\n",
              "      quickchartButtonEl.disabled = true;  // To prevent multiple clicks.\n",
              "      quickchartButtonEl.classList.add('colab-df-spinner');\n",
              "      try {\n",
              "        const charts = await google.colab.kernel.invokeFunction(\n",
              "            'suggestCharts', [key], {});\n",
              "      } catch (error) {\n",
              "        console.error('Error during call to suggestCharts:', error);\n",
              "      }\n",
              "      quickchartButtonEl.classList.remove('colab-df-spinner');\n",
              "      quickchartButtonEl.classList.add('colab-df-quickchart-complete');\n",
              "    }\n",
              "    (() => {\n",
              "      let quickchartButtonEl =\n",
              "        document.querySelector('#df-c584ba61-1fbf-4bce-8a8d-5cd962e17ba3 button');\n",
              "      quickchartButtonEl.style.display =\n",
              "        google.colab.kernel.accessAllowed ? 'block' : 'none';\n",
              "    })();\n",
              "  </script>\n",
              "</div>\n",
              "\n",
              "    </div>\n",
              "  </div>\n"
            ],
            "application/vnd.google.colaboratory.intrinsic+json": {
              "type": "dataframe",
              "summary": "{\n  \"name\": \"pdb_inx_non_proximal[(pdb_inx_non_proximal[\\\"bm_id\\\"]==\\\"bm_1\\\") & (pdb_inx_non_proximal[\\\"contact_type\\\"]==\\\"polar\\\") & (pdb_inx_non_proximal[\\\"interacting_entities\\\"]==\\\"INTER\\\")]\",\n  \"rows\": 8,\n  \"fields\": [\n    {\n      \"column\": \"interacting_entities\",\n      \"properties\": {\n        \"dtype\": \"category\",\n        \"num_unique_values\": 1,\n        \"samples\": [\n          \"INTER\"\n        ],\n        \"semantic_type\": \"\",\n        \"description\": \"\"\n      }\n    },\n    {\n      \"column\": \"interaction_type\",\n      \"properties\": {\n        \"dtype\": \"category\",\n        \"num_unique_values\": 1,\n        \"samples\": [\n          \"atom-atom\"\n        ],\n        \"semantic_type\": \"\",\n        \"description\": \"\"\n      }\n    },\n    {\n      \"column\": \"distance\",\n      \"properties\": {\n        \"dtype\": \"number\",\n        \"std\": 0.23578137573365957,\n        \"min\": 2.79,\n        \"max\": 3.46,\n        \"num_unique_values\": 8,\n        \"samples\": [\n          2.79\n        ],\n        \"semantic_type\": \"\",\n        \"description\": \"\"\n      }\n    },\n    {\n      \"column\": \"bm_id\",\n      \"properties\": {\n        \"dtype\": \"category\",\n        \"num_unique_values\": 1,\n        \"samples\": [\n          \"bm_1\"\n        ],\n        \"semantic_type\": \"\",\n        \"description\": \"\"\n      }\n    },\n    {\n      \"column\": \"contact_type\",\n      \"properties\": {\n        \"dtype\": \"category\",\n        \"num_unique_values\": 1,\n        \"samples\": [\n          \"polar\"\n        ],\n        \"semantic_type\": \"\",\n        \"description\": \"\"\n      }\n    },\n    {\n      \"column\": \"auth_asym_id_1\",\n      \"properties\": {\n        \"dtype\": \"category\",\n        \"num_unique_values\": 1,\n        \"samples\": [\n          \"A\"\n        ],\n        \"semantic_type\": \"\",\n        \"description\": \"\"\n      }\n    },\n    {\n      \"column\": \"auth_asym_id_2\",\n      \"properties\": {\n        \"dtype\": \"category\",\n        \"num_unique_values\": 2,\n        \"samples\": [\n          \"A\"\n        ],\n        \"semantic_type\": \"\",\n        \"description\": \"\"\n      }\n    },\n    {\n      \"column\": \"auth_seq_id_1\",\n      \"properties\": {\n        \"dtype\": \"number\",\n        \"std\": 0,\n        \"min\": 700,\n        \"max\": 700,\n        \"num_unique_values\": 1,\n        \"samples\": [\n          700\n        ],\n        \"semantic_type\": \"\",\n        \"description\": \"\"\n      }\n    },\n    {\n      \"column\": \"auth_seq_id_2\",\n      \"properties\": {\n        \"dtype\": \"number\",\n        \"std\": 78,\n        \"min\": 136,\n        \"max\": 292,\n        \"num_unique_values\": 5,\n        \"samples\": [\n          137\n        ],\n        \"semantic_type\": \"\",\n        \"description\": \"\"\n      }\n    },\n    {\n      \"column\": \"label_comp_id_1\",\n      \"properties\": {\n        \"dtype\": \"category\",\n        \"num_unique_values\": 1,\n        \"samples\": [\n          \"APC\"\n        ],\n        \"semantic_type\": \"\",\n        \"description\": \"\"\n      }\n    },\n    {\n      \"column\": \"label_comp_id_2\",\n      \"properties\": {\n        \"dtype\": \"string\",\n        \"num_unique_values\": 4,\n        \"samples\": [\n          \"THR\"\n        ],\n        \"semantic_type\": \"\",\n        \"description\": \"\"\n      }\n    },\n    {\n      \"column\": \"auth_atom_id_1\",\n      \"properties\": {\n        \"dtype\": \"string\",\n        \"num_unique_values\": 6,\n        \"samples\": [\n          \"O1G\"\n        ],\n        \"semantic_type\": \"\",\n        \"description\": \"\"\n      }\n    },\n    {\n      \"column\": \"auth_atom_id_2\",\n      \"properties\": {\n        \"dtype\": \"string\",\n        \"num_unique_values\": 4,\n        \"samples\": [\n          \"N\"\n        ],\n        \"semantic_type\": \"\",\n        \"description\": \"\"\n      }\n    }\n  ]\n}"
            }
          },
          "metadata": {},
          "execution_count": 136
        }
      ]
    },
    {
      "cell_type": "code",
      "source": [
        "pdb_inx_non_proximal[(pdb_inx_non_proximal[\"bm_id\"]==\"bm_1\") & (pdb_inx_non_proximal[\"contact_type\"]==\"vdw\") & (pdb_inx_non_proximal[\"interacting_entities\"]==\"INTER\")].head()"
      ],
      "metadata": {
        "colab": {
          "base_uri": "https://localhost:8080/",
          "height": 226
        },
        "id": "hwOE2OVDPkXE",
        "outputId": "1a3fbb52-ff8a-41d0-b513-1c2178a39410"
      },
      "execution_count": 137,
      "outputs": [
        {
          "output_type": "execute_result",
          "data": {
            "text/plain": [
              "    interacting_entities interaction_type  distance bm_id contact_type  \\\n",
              "29                 INTER        atom-atom      3.28  bm_1          vdw   \n",
              "63                 INTER        atom-atom      3.07  bm_1          vdw   \n",
              "244                INTER        atom-atom      3.47  bm_1          vdw   \n",
              "278                INTER        atom-atom      3.44  bm_1          vdw   \n",
              "304                INTER        atom-atom      3.43  bm_1          vdw   \n",
              "\n",
              "    auth_asym_id_1 auth_asym_id_2  auth_seq_id_1  auth_seq_id_2  \\\n",
              "29               A              A            700            160   \n",
              "63               A              A            700            137   \n",
              "244              A            C_2            700            278   \n",
              "278              A              A            700            288   \n",
              "304              A              A            700            288   \n",
              "\n",
              "    label_comp_id_1 label_comp_id_2 auth_atom_id_1 auth_atom_id_2  \n",
              "29              APC             GLU            O2G             CD  \n",
              "63              APC             THR            O2A            OG1  \n",
              "244             APC             GLN             C4             CG  \n",
              "278             APC             TYR             C2            CE2  \n",
              "304             APC             TYR             C4             CZ  "
            ],
            "text/html": [
              "\n",
              "  <div id=\"df-2710978f-ea0c-47de-b54c-de12fdd4fcdc\" class=\"colab-df-container\">\n",
              "    <div>\n",
              "<style scoped>\n",
              "    .dataframe tbody tr th:only-of-type {\n",
              "        vertical-align: middle;\n",
              "    }\n",
              "\n",
              "    .dataframe tbody tr th {\n",
              "        vertical-align: top;\n",
              "    }\n",
              "\n",
              "    .dataframe thead th {\n",
              "        text-align: right;\n",
              "    }\n",
              "</style>\n",
              "<table border=\"1\" class=\"dataframe\">\n",
              "  <thead>\n",
              "    <tr style=\"text-align: right;\">\n",
              "      <th></th>\n",
              "      <th>interacting_entities</th>\n",
              "      <th>interaction_type</th>\n",
              "      <th>distance</th>\n",
              "      <th>bm_id</th>\n",
              "      <th>contact_type</th>\n",
              "      <th>auth_asym_id_1</th>\n",
              "      <th>auth_asym_id_2</th>\n",
              "      <th>auth_seq_id_1</th>\n",
              "      <th>auth_seq_id_2</th>\n",
              "      <th>label_comp_id_1</th>\n",
              "      <th>label_comp_id_2</th>\n",
              "      <th>auth_atom_id_1</th>\n",
              "      <th>auth_atom_id_2</th>\n",
              "    </tr>\n",
              "  </thead>\n",
              "  <tbody>\n",
              "    <tr>\n",
              "      <th>29</th>\n",
              "      <td>INTER</td>\n",
              "      <td>atom-atom</td>\n",
              "      <td>3.28</td>\n",
              "      <td>bm_1</td>\n",
              "      <td>vdw</td>\n",
              "      <td>A</td>\n",
              "      <td>A</td>\n",
              "      <td>700</td>\n",
              "      <td>160</td>\n",
              "      <td>APC</td>\n",
              "      <td>GLU</td>\n",
              "      <td>O2G</td>\n",
              "      <td>CD</td>\n",
              "    </tr>\n",
              "    <tr>\n",
              "      <th>63</th>\n",
              "      <td>INTER</td>\n",
              "      <td>atom-atom</td>\n",
              "      <td>3.07</td>\n",
              "      <td>bm_1</td>\n",
              "      <td>vdw</td>\n",
              "      <td>A</td>\n",
              "      <td>A</td>\n",
              "      <td>700</td>\n",
              "      <td>137</td>\n",
              "      <td>APC</td>\n",
              "      <td>THR</td>\n",
              "      <td>O2A</td>\n",
              "      <td>OG1</td>\n",
              "    </tr>\n",
              "    <tr>\n",
              "      <th>244</th>\n",
              "      <td>INTER</td>\n",
              "      <td>atom-atom</td>\n",
              "      <td>3.47</td>\n",
              "      <td>bm_1</td>\n",
              "      <td>vdw</td>\n",
              "      <td>A</td>\n",
              "      <td>C_2</td>\n",
              "      <td>700</td>\n",
              "      <td>278</td>\n",
              "      <td>APC</td>\n",
              "      <td>GLN</td>\n",
              "      <td>C4</td>\n",
              "      <td>CG</td>\n",
              "    </tr>\n",
              "    <tr>\n",
              "      <th>278</th>\n",
              "      <td>INTER</td>\n",
              "      <td>atom-atom</td>\n",
              "      <td>3.44</td>\n",
              "      <td>bm_1</td>\n",
              "      <td>vdw</td>\n",
              "      <td>A</td>\n",
              "      <td>A</td>\n",
              "      <td>700</td>\n",
              "      <td>288</td>\n",
              "      <td>APC</td>\n",
              "      <td>TYR</td>\n",
              "      <td>C2</td>\n",
              "      <td>CE2</td>\n",
              "    </tr>\n",
              "    <tr>\n",
              "      <th>304</th>\n",
              "      <td>INTER</td>\n",
              "      <td>atom-atom</td>\n",
              "      <td>3.43</td>\n",
              "      <td>bm_1</td>\n",
              "      <td>vdw</td>\n",
              "      <td>A</td>\n",
              "      <td>A</td>\n",
              "      <td>700</td>\n",
              "      <td>288</td>\n",
              "      <td>APC</td>\n",
              "      <td>TYR</td>\n",
              "      <td>C4</td>\n",
              "      <td>CZ</td>\n",
              "    </tr>\n",
              "  </tbody>\n",
              "</table>\n",
              "</div>\n",
              "    <div class=\"colab-df-buttons\">\n",
              "\n",
              "  <div class=\"colab-df-container\">\n",
              "    <button class=\"colab-df-convert\" onclick=\"convertToInteractive('df-2710978f-ea0c-47de-b54c-de12fdd4fcdc')\"\n",
              "            title=\"Convert this dataframe to an interactive table.\"\n",
              "            style=\"display:none;\">\n",
              "\n",
              "  <svg xmlns=\"http://www.w3.org/2000/svg\" height=\"24px\" viewBox=\"0 -960 960 960\">\n",
              "    <path d=\"M120-120v-720h720v720H120Zm60-500h600v-160H180v160Zm220 220h160v-160H400v160Zm0 220h160v-160H400v160ZM180-400h160v-160H180v160Zm440 0h160v-160H620v160ZM180-180h160v-160H180v160Zm440 0h160v-160H620v160Z\"/>\n",
              "  </svg>\n",
              "    </button>\n",
              "\n",
              "  <style>\n",
              "    .colab-df-container {\n",
              "      display:flex;\n",
              "      gap: 12px;\n",
              "    }\n",
              "\n",
              "    .colab-df-convert {\n",
              "      background-color: #E8F0FE;\n",
              "      border: none;\n",
              "      border-radius: 50%;\n",
              "      cursor: pointer;\n",
              "      display: none;\n",
              "      fill: #1967D2;\n",
              "      height: 32px;\n",
              "      padding: 0 0 0 0;\n",
              "      width: 32px;\n",
              "    }\n",
              "\n",
              "    .colab-df-convert:hover {\n",
              "      background-color: #E2EBFA;\n",
              "      box-shadow: 0px 1px 2px rgba(60, 64, 67, 0.3), 0px 1px 3px 1px rgba(60, 64, 67, 0.15);\n",
              "      fill: #174EA6;\n",
              "    }\n",
              "\n",
              "    .colab-df-buttons div {\n",
              "      margin-bottom: 4px;\n",
              "    }\n",
              "\n",
              "    [theme=dark] .colab-df-convert {\n",
              "      background-color: #3B4455;\n",
              "      fill: #D2E3FC;\n",
              "    }\n",
              "\n",
              "    [theme=dark] .colab-df-convert:hover {\n",
              "      background-color: #434B5C;\n",
              "      box-shadow: 0px 1px 3px 1px rgba(0, 0, 0, 0.15);\n",
              "      filter: drop-shadow(0px 1px 2px rgba(0, 0, 0, 0.3));\n",
              "      fill: #FFFFFF;\n",
              "    }\n",
              "  </style>\n",
              "\n",
              "    <script>\n",
              "      const buttonEl =\n",
              "        document.querySelector('#df-2710978f-ea0c-47de-b54c-de12fdd4fcdc button.colab-df-convert');\n",
              "      buttonEl.style.display =\n",
              "        google.colab.kernel.accessAllowed ? 'block' : 'none';\n",
              "\n",
              "      async function convertToInteractive(key) {\n",
              "        const element = document.querySelector('#df-2710978f-ea0c-47de-b54c-de12fdd4fcdc');\n",
              "        const dataTable =\n",
              "          await google.colab.kernel.invokeFunction('convertToInteractive',\n",
              "                                                    [key], {});\n",
              "        if (!dataTable) return;\n",
              "\n",
              "        const docLinkHtml = 'Like what you see? Visit the ' +\n",
              "          '<a target=\"_blank\" href=https://colab.research.google.com/notebooks/data_table.ipynb>data table notebook</a>'\n",
              "          + ' to learn more about interactive tables.';\n",
              "        element.innerHTML = '';\n",
              "        dataTable['output_type'] = 'display_data';\n",
              "        await google.colab.output.renderOutput(dataTable, element);\n",
              "        const docLink = document.createElement('div');\n",
              "        docLink.innerHTML = docLinkHtml;\n",
              "        element.appendChild(docLink);\n",
              "      }\n",
              "    </script>\n",
              "  </div>\n",
              "\n",
              "\n",
              "<div id=\"df-21066cad-4d39-49a8-ad08-d26e00221ecd\">\n",
              "  <button class=\"colab-df-quickchart\" onclick=\"quickchart('df-21066cad-4d39-49a8-ad08-d26e00221ecd')\"\n",
              "            title=\"Suggest charts\"\n",
              "            style=\"display:none;\">\n",
              "\n",
              "<svg xmlns=\"http://www.w3.org/2000/svg\" height=\"24px\"viewBox=\"0 0 24 24\"\n",
              "     width=\"24px\">\n",
              "    <g>\n",
              "        <path d=\"M19 3H5c-1.1 0-2 .9-2 2v14c0 1.1.9 2 2 2h14c1.1 0 2-.9 2-2V5c0-1.1-.9-2-2-2zM9 17H7v-7h2v7zm4 0h-2V7h2v10zm4 0h-2v-4h2v4z\"/>\n",
              "    </g>\n",
              "</svg>\n",
              "  </button>\n",
              "\n",
              "<style>\n",
              "  .colab-df-quickchart {\n",
              "      --bg-color: #E8F0FE;\n",
              "      --fill-color: #1967D2;\n",
              "      --hover-bg-color: #E2EBFA;\n",
              "      --hover-fill-color: #174EA6;\n",
              "      --disabled-fill-color: #AAA;\n",
              "      --disabled-bg-color: #DDD;\n",
              "  }\n",
              "\n",
              "  [theme=dark] .colab-df-quickchart {\n",
              "      --bg-color: #3B4455;\n",
              "      --fill-color: #D2E3FC;\n",
              "      --hover-bg-color: #434B5C;\n",
              "      --hover-fill-color: #FFFFFF;\n",
              "      --disabled-bg-color: #3B4455;\n",
              "      --disabled-fill-color: #666;\n",
              "  }\n",
              "\n",
              "  .colab-df-quickchart {\n",
              "    background-color: var(--bg-color);\n",
              "    border: none;\n",
              "    border-radius: 50%;\n",
              "    cursor: pointer;\n",
              "    display: none;\n",
              "    fill: var(--fill-color);\n",
              "    height: 32px;\n",
              "    padding: 0;\n",
              "    width: 32px;\n",
              "  }\n",
              "\n",
              "  .colab-df-quickchart:hover {\n",
              "    background-color: var(--hover-bg-color);\n",
              "    box-shadow: 0 1px 2px rgba(60, 64, 67, 0.3), 0 1px 3px 1px rgba(60, 64, 67, 0.15);\n",
              "    fill: var(--button-hover-fill-color);\n",
              "  }\n",
              "\n",
              "  .colab-df-quickchart-complete:disabled,\n",
              "  .colab-df-quickchart-complete:disabled:hover {\n",
              "    background-color: var(--disabled-bg-color);\n",
              "    fill: var(--disabled-fill-color);\n",
              "    box-shadow: none;\n",
              "  }\n",
              "\n",
              "  .colab-df-spinner {\n",
              "    border: 2px solid var(--fill-color);\n",
              "    border-color: transparent;\n",
              "    border-bottom-color: var(--fill-color);\n",
              "    animation:\n",
              "      spin 1s steps(1) infinite;\n",
              "  }\n",
              "\n",
              "  @keyframes spin {\n",
              "    0% {\n",
              "      border-color: transparent;\n",
              "      border-bottom-color: var(--fill-color);\n",
              "      border-left-color: var(--fill-color);\n",
              "    }\n",
              "    20% {\n",
              "      border-color: transparent;\n",
              "      border-left-color: var(--fill-color);\n",
              "      border-top-color: var(--fill-color);\n",
              "    }\n",
              "    30% {\n",
              "      border-color: transparent;\n",
              "      border-left-color: var(--fill-color);\n",
              "      border-top-color: var(--fill-color);\n",
              "      border-right-color: var(--fill-color);\n",
              "    }\n",
              "    40% {\n",
              "      border-color: transparent;\n",
              "      border-right-color: var(--fill-color);\n",
              "      border-top-color: var(--fill-color);\n",
              "    }\n",
              "    60% {\n",
              "      border-color: transparent;\n",
              "      border-right-color: var(--fill-color);\n",
              "    }\n",
              "    80% {\n",
              "      border-color: transparent;\n",
              "      border-right-color: var(--fill-color);\n",
              "      border-bottom-color: var(--fill-color);\n",
              "    }\n",
              "    90% {\n",
              "      border-color: transparent;\n",
              "      border-bottom-color: var(--fill-color);\n",
              "    }\n",
              "  }\n",
              "</style>\n",
              "\n",
              "  <script>\n",
              "    async function quickchart(key) {\n",
              "      const quickchartButtonEl =\n",
              "        document.querySelector('#' + key + ' button');\n",
              "      quickchartButtonEl.disabled = true;  // To prevent multiple clicks.\n",
              "      quickchartButtonEl.classList.add('colab-df-spinner');\n",
              "      try {\n",
              "        const charts = await google.colab.kernel.invokeFunction(\n",
              "            'suggestCharts', [key], {});\n",
              "      } catch (error) {\n",
              "        console.error('Error during call to suggestCharts:', error);\n",
              "      }\n",
              "      quickchartButtonEl.classList.remove('colab-df-spinner');\n",
              "      quickchartButtonEl.classList.add('colab-df-quickchart-complete');\n",
              "    }\n",
              "    (() => {\n",
              "      let quickchartButtonEl =\n",
              "        document.querySelector('#df-21066cad-4d39-49a8-ad08-d26e00221ecd button');\n",
              "      quickchartButtonEl.style.display =\n",
              "        google.colab.kernel.accessAllowed ? 'block' : 'none';\n",
              "    })();\n",
              "  </script>\n",
              "</div>\n",
              "\n",
              "    </div>\n",
              "  </div>\n"
            ],
            "application/vnd.google.colaboratory.intrinsic+json": {
              "type": "dataframe",
              "summary": "{\n  \"name\": \"pdb_inx_non_proximal[(pdb_inx_non_proximal[\\\"bm_id\\\"]==\\\"bm_1\\\") & (pdb_inx_non_proximal[\\\"contact_type\\\"]==\\\"vdw\\\") & (pdb_inx_non_proximal[\\\"interacting_entities\\\"]==\\\"INTER\\\")]\",\n  \"rows\": 5,\n  \"fields\": [\n    {\n      \"column\": \"interacting_entities\",\n      \"properties\": {\n        \"dtype\": \"category\",\n        \"num_unique_values\": 1,\n        \"samples\": [\n          \"INTER\"\n        ],\n        \"semantic_type\": \"\",\n        \"description\": \"\"\n      }\n    },\n    {\n      \"column\": \"interaction_type\",\n      \"properties\": {\n        \"dtype\": \"category\",\n        \"num_unique_values\": 1,\n        \"samples\": [\n          \"atom-atom\"\n        ],\n        \"semantic_type\": \"\",\n        \"description\": \"\"\n      }\n    },\n    {\n      \"column\": \"distance\",\n      \"properties\": {\n        \"dtype\": \"number\",\n        \"std\": 0.16694310408040233,\n        \"min\": 3.07,\n        \"max\": 3.47,\n        \"num_unique_values\": 5,\n        \"samples\": [\n          3.07\n        ],\n        \"semantic_type\": \"\",\n        \"description\": \"\"\n      }\n    },\n    {\n      \"column\": \"bm_id\",\n      \"properties\": {\n        \"dtype\": \"category\",\n        \"num_unique_values\": 1,\n        \"samples\": [\n          \"bm_1\"\n        ],\n        \"semantic_type\": \"\",\n        \"description\": \"\"\n      }\n    },\n    {\n      \"column\": \"contact_type\",\n      \"properties\": {\n        \"dtype\": \"category\",\n        \"num_unique_values\": 1,\n        \"samples\": [\n          \"vdw\"\n        ],\n        \"semantic_type\": \"\",\n        \"description\": \"\"\n      }\n    },\n    {\n      \"column\": \"auth_asym_id_1\",\n      \"properties\": {\n        \"dtype\": \"category\",\n        \"num_unique_values\": 1,\n        \"samples\": [\n          \"A\"\n        ],\n        \"semantic_type\": \"\",\n        \"description\": \"\"\n      }\n    },\n    {\n      \"column\": \"auth_asym_id_2\",\n      \"properties\": {\n        \"dtype\": \"category\",\n        \"num_unique_values\": 2,\n        \"samples\": [\n          \"C_2\"\n        ],\n        \"semantic_type\": \"\",\n        \"description\": \"\"\n      }\n    },\n    {\n      \"column\": \"auth_seq_id_1\",\n      \"properties\": {\n        \"dtype\": \"number\",\n        \"std\": 0,\n        \"min\": 700,\n        \"max\": 700,\n        \"num_unique_values\": 1,\n        \"samples\": [\n          700\n        ],\n        \"semantic_type\": \"\",\n        \"description\": \"\"\n      }\n    },\n    {\n      \"column\": \"auth_seq_id_2\",\n      \"properties\": {\n        \"dtype\": \"number\",\n        \"std\": 75,\n        \"min\": 137,\n        \"max\": 288,\n        \"num_unique_values\": 4,\n        \"samples\": [\n          137\n        ],\n        \"semantic_type\": \"\",\n        \"description\": \"\"\n      }\n    },\n    {\n      \"column\": \"label_comp_id_1\",\n      \"properties\": {\n        \"dtype\": \"category\",\n        \"num_unique_values\": 1,\n        \"samples\": [\n          \"APC\"\n        ],\n        \"semantic_type\": \"\",\n        \"description\": \"\"\n      }\n    },\n    {\n      \"column\": \"label_comp_id_2\",\n      \"properties\": {\n        \"dtype\": \"string\",\n        \"num_unique_values\": 4,\n        \"samples\": [\n          \"THR\"\n        ],\n        \"semantic_type\": \"\",\n        \"description\": \"\"\n      }\n    },\n    {\n      \"column\": \"auth_atom_id_1\",\n      \"properties\": {\n        \"dtype\": \"string\",\n        \"num_unique_values\": 4,\n        \"samples\": [\n          \"O2A\"\n        ],\n        \"semantic_type\": \"\",\n        \"description\": \"\"\n      }\n    },\n    {\n      \"column\": \"auth_atom_id_2\",\n      \"properties\": {\n        \"dtype\": \"string\",\n        \"num_unique_values\": 5,\n        \"samples\": [\n          \"OG1\"\n        ],\n        \"semantic_type\": \"\",\n        \"description\": \"\"\n      }\n    }\n  ]\n}"
            }
          },
          "metadata": {},
          "execution_count": 137
        }
      ]
    },
    {
      "cell_type": "code",
      "source": [
        "pdb_inx_non_proximal[(pdb_inx_non_proximal[\"bm_id\"]==\"bm_3\") & (pdb_inx_non_proximal[\"contact_type\"]==\"hbond\") & (pdb_inx_non_proximal[\"interacting_entities\"]==\"INTER\")]"
      ],
      "metadata": {
        "colab": {
          "base_uri": "https://localhost:8080/",
          "height": 352
        },
        "id": "sDoahrW-bB0y",
        "outputId": "b57d609a-aa12-4531-f841-187702aa0cc7"
      },
      "execution_count": 139,
      "outputs": [
        {
          "output_type": "execute_result",
          "data": {
            "text/plain": [
              "     interacting_entities interaction_type  distance bm_id contact_type  \\\n",
              "1077                INTER        atom-atom      2.41  bm_3        hbond   \n",
              "1096                INTER        atom-atom      3.27  bm_3        hbond   \n",
              "1106                INTER        atom-atom      3.50  bm_3        hbond   \n",
              "1126                INTER        atom-atom      3.52  bm_3        hbond   \n",
              "1143                INTER        atom-atom      3.17  bm_3        hbond   \n",
              "1169                INTER        atom-atom      3.00  bm_3        hbond   \n",
              "1250                INTER        atom-atom      2.78  bm_3        hbond   \n",
              "1256                INTER        atom-atom      3.27  bm_3        hbond   \n",
              "1456                INTER        atom-atom      3.45  bm_3        hbond   \n",
              "\n",
              "     auth_asym_id_1 auth_asym_id_2  auth_seq_id_1  auth_seq_id_2  \\\n",
              "1077              B              B            700            137   \n",
              "1096              B              B            700            234   \n",
              "1106              B              B            700            288   \n",
              "1126              B              B            700            136   \n",
              "1143              B              B            700            234   \n",
              "1169              B              B            700            136   \n",
              "1250              B              B            700            292   \n",
              "1256              B              B            700            292   \n",
              "1456              B              B            700            288   \n",
              "\n",
              "     label_comp_id_1 label_comp_id_2 auth_atom_id_1 auth_atom_id_2  \n",
              "1077             APC             THR            O2A              N  \n",
              "1096             APC             ASN            O1A            ND2  \n",
              "1106             APC             TYR            O4'             OH  \n",
              "1126             APC             LYS            O1A              N  \n",
              "1143             APC             ASN            O2G            ND2  \n",
              "1169             APC             LYS            O2A              N  \n",
              "1250             APC             SER             N7             OG  \n",
              "1256             APC             SER             N6             OG  \n",
              "1456             APC             TYR             N9             OH  "
            ],
            "text/html": [
              "\n",
              "  <div id=\"df-855f14c4-a3af-4f8c-a764-5146f9697833\" class=\"colab-df-container\">\n",
              "    <div>\n",
              "<style scoped>\n",
              "    .dataframe tbody tr th:only-of-type {\n",
              "        vertical-align: middle;\n",
              "    }\n",
              "\n",
              "    .dataframe tbody tr th {\n",
              "        vertical-align: top;\n",
              "    }\n",
              "\n",
              "    .dataframe thead th {\n",
              "        text-align: right;\n",
              "    }\n",
              "</style>\n",
              "<table border=\"1\" class=\"dataframe\">\n",
              "  <thead>\n",
              "    <tr style=\"text-align: right;\">\n",
              "      <th></th>\n",
              "      <th>interacting_entities</th>\n",
              "      <th>interaction_type</th>\n",
              "      <th>distance</th>\n",
              "      <th>bm_id</th>\n",
              "      <th>contact_type</th>\n",
              "      <th>auth_asym_id_1</th>\n",
              "      <th>auth_asym_id_2</th>\n",
              "      <th>auth_seq_id_1</th>\n",
              "      <th>auth_seq_id_2</th>\n",
              "      <th>label_comp_id_1</th>\n",
              "      <th>label_comp_id_2</th>\n",
              "      <th>auth_atom_id_1</th>\n",
              "      <th>auth_atom_id_2</th>\n",
              "    </tr>\n",
              "  </thead>\n",
              "  <tbody>\n",
              "    <tr>\n",
              "      <th>1077</th>\n",
              "      <td>INTER</td>\n",
              "      <td>atom-atom</td>\n",
              "      <td>2.41</td>\n",
              "      <td>bm_3</td>\n",
              "      <td>hbond</td>\n",
              "      <td>B</td>\n",
              "      <td>B</td>\n",
              "      <td>700</td>\n",
              "      <td>137</td>\n",
              "      <td>APC</td>\n",
              "      <td>THR</td>\n",
              "      <td>O2A</td>\n",
              "      <td>N</td>\n",
              "    </tr>\n",
              "    <tr>\n",
              "      <th>1096</th>\n",
              "      <td>INTER</td>\n",
              "      <td>atom-atom</td>\n",
              "      <td>3.27</td>\n",
              "      <td>bm_3</td>\n",
              "      <td>hbond</td>\n",
              "      <td>B</td>\n",
              "      <td>B</td>\n",
              "      <td>700</td>\n",
              "      <td>234</td>\n",
              "      <td>APC</td>\n",
              "      <td>ASN</td>\n",
              "      <td>O1A</td>\n",
              "      <td>ND2</td>\n",
              "    </tr>\n",
              "    <tr>\n",
              "      <th>1106</th>\n",
              "      <td>INTER</td>\n",
              "      <td>atom-atom</td>\n",
              "      <td>3.50</td>\n",
              "      <td>bm_3</td>\n",
              "      <td>hbond</td>\n",
              "      <td>B</td>\n",
              "      <td>B</td>\n",
              "      <td>700</td>\n",
              "      <td>288</td>\n",
              "      <td>APC</td>\n",
              "      <td>TYR</td>\n",
              "      <td>O4'</td>\n",
              "      <td>OH</td>\n",
              "    </tr>\n",
              "    <tr>\n",
              "      <th>1126</th>\n",
              "      <td>INTER</td>\n",
              "      <td>atom-atom</td>\n",
              "      <td>3.52</td>\n",
              "      <td>bm_3</td>\n",
              "      <td>hbond</td>\n",
              "      <td>B</td>\n",
              "      <td>B</td>\n",
              "      <td>700</td>\n",
              "      <td>136</td>\n",
              "      <td>APC</td>\n",
              "      <td>LYS</td>\n",
              "      <td>O1A</td>\n",
              "      <td>N</td>\n",
              "    </tr>\n",
              "    <tr>\n",
              "      <th>1143</th>\n",
              "      <td>INTER</td>\n",
              "      <td>atom-atom</td>\n",
              "      <td>3.17</td>\n",
              "      <td>bm_3</td>\n",
              "      <td>hbond</td>\n",
              "      <td>B</td>\n",
              "      <td>B</td>\n",
              "      <td>700</td>\n",
              "      <td>234</td>\n",
              "      <td>APC</td>\n",
              "      <td>ASN</td>\n",
              "      <td>O2G</td>\n",
              "      <td>ND2</td>\n",
              "    </tr>\n",
              "    <tr>\n",
              "      <th>1169</th>\n",
              "      <td>INTER</td>\n",
              "      <td>atom-atom</td>\n",
              "      <td>3.00</td>\n",
              "      <td>bm_3</td>\n",
              "      <td>hbond</td>\n",
              "      <td>B</td>\n",
              "      <td>B</td>\n",
              "      <td>700</td>\n",
              "      <td>136</td>\n",
              "      <td>APC</td>\n",
              "      <td>LYS</td>\n",
              "      <td>O2A</td>\n",
              "      <td>N</td>\n",
              "    </tr>\n",
              "    <tr>\n",
              "      <th>1250</th>\n",
              "      <td>INTER</td>\n",
              "      <td>atom-atom</td>\n",
              "      <td>2.78</td>\n",
              "      <td>bm_3</td>\n",
              "      <td>hbond</td>\n",
              "      <td>B</td>\n",
              "      <td>B</td>\n",
              "      <td>700</td>\n",
              "      <td>292</td>\n",
              "      <td>APC</td>\n",
              "      <td>SER</td>\n",
              "      <td>N7</td>\n",
              "      <td>OG</td>\n",
              "    </tr>\n",
              "    <tr>\n",
              "      <th>1256</th>\n",
              "      <td>INTER</td>\n",
              "      <td>atom-atom</td>\n",
              "      <td>3.27</td>\n",
              "      <td>bm_3</td>\n",
              "      <td>hbond</td>\n",
              "      <td>B</td>\n",
              "      <td>B</td>\n",
              "      <td>700</td>\n",
              "      <td>292</td>\n",
              "      <td>APC</td>\n",
              "      <td>SER</td>\n",
              "      <td>N6</td>\n",
              "      <td>OG</td>\n",
              "    </tr>\n",
              "    <tr>\n",
              "      <th>1456</th>\n",
              "      <td>INTER</td>\n",
              "      <td>atom-atom</td>\n",
              "      <td>3.45</td>\n",
              "      <td>bm_3</td>\n",
              "      <td>hbond</td>\n",
              "      <td>B</td>\n",
              "      <td>B</td>\n",
              "      <td>700</td>\n",
              "      <td>288</td>\n",
              "      <td>APC</td>\n",
              "      <td>TYR</td>\n",
              "      <td>N9</td>\n",
              "      <td>OH</td>\n",
              "    </tr>\n",
              "  </tbody>\n",
              "</table>\n",
              "</div>\n",
              "    <div class=\"colab-df-buttons\">\n",
              "\n",
              "  <div class=\"colab-df-container\">\n",
              "    <button class=\"colab-df-convert\" onclick=\"convertToInteractive('df-855f14c4-a3af-4f8c-a764-5146f9697833')\"\n",
              "            title=\"Convert this dataframe to an interactive table.\"\n",
              "            style=\"display:none;\">\n",
              "\n",
              "  <svg xmlns=\"http://www.w3.org/2000/svg\" height=\"24px\" viewBox=\"0 -960 960 960\">\n",
              "    <path d=\"M120-120v-720h720v720H120Zm60-500h600v-160H180v160Zm220 220h160v-160H400v160Zm0 220h160v-160H400v160ZM180-400h160v-160H180v160Zm440 0h160v-160H620v160ZM180-180h160v-160H180v160Zm440 0h160v-160H620v160Z\"/>\n",
              "  </svg>\n",
              "    </button>\n",
              "\n",
              "  <style>\n",
              "    .colab-df-container {\n",
              "      display:flex;\n",
              "      gap: 12px;\n",
              "    }\n",
              "\n",
              "    .colab-df-convert {\n",
              "      background-color: #E8F0FE;\n",
              "      border: none;\n",
              "      border-radius: 50%;\n",
              "      cursor: pointer;\n",
              "      display: none;\n",
              "      fill: #1967D2;\n",
              "      height: 32px;\n",
              "      padding: 0 0 0 0;\n",
              "      width: 32px;\n",
              "    }\n",
              "\n",
              "    .colab-df-convert:hover {\n",
              "      background-color: #E2EBFA;\n",
              "      box-shadow: 0px 1px 2px rgba(60, 64, 67, 0.3), 0px 1px 3px 1px rgba(60, 64, 67, 0.15);\n",
              "      fill: #174EA6;\n",
              "    }\n",
              "\n",
              "    .colab-df-buttons div {\n",
              "      margin-bottom: 4px;\n",
              "    }\n",
              "\n",
              "    [theme=dark] .colab-df-convert {\n",
              "      background-color: #3B4455;\n",
              "      fill: #D2E3FC;\n",
              "    }\n",
              "\n",
              "    [theme=dark] .colab-df-convert:hover {\n",
              "      background-color: #434B5C;\n",
              "      box-shadow: 0px 1px 3px 1px rgba(0, 0, 0, 0.15);\n",
              "      filter: drop-shadow(0px 1px 2px rgba(0, 0, 0, 0.3));\n",
              "      fill: #FFFFFF;\n",
              "    }\n",
              "  </style>\n",
              "\n",
              "    <script>\n",
              "      const buttonEl =\n",
              "        document.querySelector('#df-855f14c4-a3af-4f8c-a764-5146f9697833 button.colab-df-convert');\n",
              "      buttonEl.style.display =\n",
              "        google.colab.kernel.accessAllowed ? 'block' : 'none';\n",
              "\n",
              "      async function convertToInteractive(key) {\n",
              "        const element = document.querySelector('#df-855f14c4-a3af-4f8c-a764-5146f9697833');\n",
              "        const dataTable =\n",
              "          await google.colab.kernel.invokeFunction('convertToInteractive',\n",
              "                                                    [key], {});\n",
              "        if (!dataTable) return;\n",
              "\n",
              "        const docLinkHtml = 'Like what you see? Visit the ' +\n",
              "          '<a target=\"_blank\" href=https://colab.research.google.com/notebooks/data_table.ipynb>data table notebook</a>'\n",
              "          + ' to learn more about interactive tables.';\n",
              "        element.innerHTML = '';\n",
              "        dataTable['output_type'] = 'display_data';\n",
              "        await google.colab.output.renderOutput(dataTable, element);\n",
              "        const docLink = document.createElement('div');\n",
              "        docLink.innerHTML = docLinkHtml;\n",
              "        element.appendChild(docLink);\n",
              "      }\n",
              "    </script>\n",
              "  </div>\n",
              "\n",
              "\n",
              "<div id=\"df-472fdd2d-c618-4989-b1ed-e8ba979ceada\">\n",
              "  <button class=\"colab-df-quickchart\" onclick=\"quickchart('df-472fdd2d-c618-4989-b1ed-e8ba979ceada')\"\n",
              "            title=\"Suggest charts\"\n",
              "            style=\"display:none;\">\n",
              "\n",
              "<svg xmlns=\"http://www.w3.org/2000/svg\" height=\"24px\"viewBox=\"0 0 24 24\"\n",
              "     width=\"24px\">\n",
              "    <g>\n",
              "        <path d=\"M19 3H5c-1.1 0-2 .9-2 2v14c0 1.1.9 2 2 2h14c1.1 0 2-.9 2-2V5c0-1.1-.9-2-2-2zM9 17H7v-7h2v7zm4 0h-2V7h2v10zm4 0h-2v-4h2v4z\"/>\n",
              "    </g>\n",
              "</svg>\n",
              "  </button>\n",
              "\n",
              "<style>\n",
              "  .colab-df-quickchart {\n",
              "      --bg-color: #E8F0FE;\n",
              "      --fill-color: #1967D2;\n",
              "      --hover-bg-color: #E2EBFA;\n",
              "      --hover-fill-color: #174EA6;\n",
              "      --disabled-fill-color: #AAA;\n",
              "      --disabled-bg-color: #DDD;\n",
              "  }\n",
              "\n",
              "  [theme=dark] .colab-df-quickchart {\n",
              "      --bg-color: #3B4455;\n",
              "      --fill-color: #D2E3FC;\n",
              "      --hover-bg-color: #434B5C;\n",
              "      --hover-fill-color: #FFFFFF;\n",
              "      --disabled-bg-color: #3B4455;\n",
              "      --disabled-fill-color: #666;\n",
              "  }\n",
              "\n",
              "  .colab-df-quickchart {\n",
              "    background-color: var(--bg-color);\n",
              "    border: none;\n",
              "    border-radius: 50%;\n",
              "    cursor: pointer;\n",
              "    display: none;\n",
              "    fill: var(--fill-color);\n",
              "    height: 32px;\n",
              "    padding: 0;\n",
              "    width: 32px;\n",
              "  }\n",
              "\n",
              "  .colab-df-quickchart:hover {\n",
              "    background-color: var(--hover-bg-color);\n",
              "    box-shadow: 0 1px 2px rgba(60, 64, 67, 0.3), 0 1px 3px 1px rgba(60, 64, 67, 0.15);\n",
              "    fill: var(--button-hover-fill-color);\n",
              "  }\n",
              "\n",
              "  .colab-df-quickchart-complete:disabled,\n",
              "  .colab-df-quickchart-complete:disabled:hover {\n",
              "    background-color: var(--disabled-bg-color);\n",
              "    fill: var(--disabled-fill-color);\n",
              "    box-shadow: none;\n",
              "  }\n",
              "\n",
              "  .colab-df-spinner {\n",
              "    border: 2px solid var(--fill-color);\n",
              "    border-color: transparent;\n",
              "    border-bottom-color: var(--fill-color);\n",
              "    animation:\n",
              "      spin 1s steps(1) infinite;\n",
              "  }\n",
              "\n",
              "  @keyframes spin {\n",
              "    0% {\n",
              "      border-color: transparent;\n",
              "      border-bottom-color: var(--fill-color);\n",
              "      border-left-color: var(--fill-color);\n",
              "    }\n",
              "    20% {\n",
              "      border-color: transparent;\n",
              "      border-left-color: var(--fill-color);\n",
              "      border-top-color: var(--fill-color);\n",
              "    }\n",
              "    30% {\n",
              "      border-color: transparent;\n",
              "      border-left-color: var(--fill-color);\n",
              "      border-top-color: var(--fill-color);\n",
              "      border-right-color: var(--fill-color);\n",
              "    }\n",
              "    40% {\n",
              "      border-color: transparent;\n",
              "      border-right-color: var(--fill-color);\n",
              "      border-top-color: var(--fill-color);\n",
              "    }\n",
              "    60% {\n",
              "      border-color: transparent;\n",
              "      border-right-color: var(--fill-color);\n",
              "    }\n",
              "    80% {\n",
              "      border-color: transparent;\n",
              "      border-right-color: var(--fill-color);\n",
              "      border-bottom-color: var(--fill-color);\n",
              "    }\n",
              "    90% {\n",
              "      border-color: transparent;\n",
              "      border-bottom-color: var(--fill-color);\n",
              "    }\n",
              "  }\n",
              "</style>\n",
              "\n",
              "  <script>\n",
              "    async function quickchart(key) {\n",
              "      const quickchartButtonEl =\n",
              "        document.querySelector('#' + key + ' button');\n",
              "      quickchartButtonEl.disabled = true;  // To prevent multiple clicks.\n",
              "      quickchartButtonEl.classList.add('colab-df-spinner');\n",
              "      try {\n",
              "        const charts = await google.colab.kernel.invokeFunction(\n",
              "            'suggestCharts', [key], {});\n",
              "      } catch (error) {\n",
              "        console.error('Error during call to suggestCharts:', error);\n",
              "      }\n",
              "      quickchartButtonEl.classList.remove('colab-df-spinner');\n",
              "      quickchartButtonEl.classList.add('colab-df-quickchart-complete');\n",
              "    }\n",
              "    (() => {\n",
              "      let quickchartButtonEl =\n",
              "        document.querySelector('#df-472fdd2d-c618-4989-b1ed-e8ba979ceada button');\n",
              "      quickchartButtonEl.style.display =\n",
              "        google.colab.kernel.accessAllowed ? 'block' : 'none';\n",
              "    })();\n",
              "  </script>\n",
              "</div>\n",
              "\n",
              "    </div>\n",
              "  </div>\n"
            ],
            "application/vnd.google.colaboratory.intrinsic+json": {
              "type": "dataframe",
              "summary": "{\n  \"name\": \"pdb_inx_non_proximal[(pdb_inx_non_proximal[\\\"bm_id\\\"]==\\\"bm_3\\\") & (pdb_inx_non_proximal[\\\"contact_type\\\"]==\\\"hbond\\\") & (pdb_inx_non_proximal[\\\"interacting_entities\\\"]==\\\"INTER\\\")]\",\n  \"rows\": 9,\n  \"fields\": [\n    {\n      \"column\": \"interacting_entities\",\n      \"properties\": {\n        \"dtype\": \"category\",\n        \"num_unique_values\": 1,\n        \"samples\": [\n          \"INTER\"\n        ],\n        \"semantic_type\": \"\",\n        \"description\": \"\"\n      }\n    },\n    {\n      \"column\": \"interaction_type\",\n      \"properties\": {\n        \"dtype\": \"category\",\n        \"num_unique_values\": 1,\n        \"samples\": [\n          \"atom-atom\"\n        ],\n        \"semantic_type\": \"\",\n        \"description\": \"\"\n      }\n    },\n    {\n      \"column\": \"distance\",\n      \"properties\": {\n        \"dtype\": \"number\",\n        \"std\": 0.3683672684216724,\n        \"min\": 2.41,\n        \"max\": 3.52,\n        \"num_unique_values\": 8,\n        \"samples\": [\n          3.27\n        ],\n        \"semantic_type\": \"\",\n        \"description\": \"\"\n      }\n    },\n    {\n      \"column\": \"bm_id\",\n      \"properties\": {\n        \"dtype\": \"category\",\n        \"num_unique_values\": 1,\n        \"samples\": [\n          \"bm_3\"\n        ],\n        \"semantic_type\": \"\",\n        \"description\": \"\"\n      }\n    },\n    {\n      \"column\": \"contact_type\",\n      \"properties\": {\n        \"dtype\": \"category\",\n        \"num_unique_values\": 1,\n        \"samples\": [\n          \"hbond\"\n        ],\n        \"semantic_type\": \"\",\n        \"description\": \"\"\n      }\n    },\n    {\n      \"column\": \"auth_asym_id_1\",\n      \"properties\": {\n        \"dtype\": \"category\",\n        \"num_unique_values\": 1,\n        \"samples\": [\n          \"B\"\n        ],\n        \"semantic_type\": \"\",\n        \"description\": \"\"\n      }\n    },\n    {\n      \"column\": \"auth_asym_id_2\",\n      \"properties\": {\n        \"dtype\": \"category\",\n        \"num_unique_values\": 1,\n        \"samples\": [\n          \"B\"\n        ],\n        \"semantic_type\": \"\",\n        \"description\": \"\"\n      }\n    },\n    {\n      \"column\": \"auth_seq_id_1\",\n      \"properties\": {\n        \"dtype\": \"number\",\n        \"std\": 0,\n        \"min\": 700,\n        \"max\": 700,\n        \"num_unique_values\": 1,\n        \"samples\": [\n          700\n        ],\n        \"semantic_type\": \"\",\n        \"description\": \"\"\n      }\n    },\n    {\n      \"column\": \"auth_seq_id_2\",\n      \"properties\": {\n        \"dtype\": \"number\",\n        \"std\": 71,\n        \"min\": 136,\n        \"max\": 292,\n        \"num_unique_values\": 5,\n        \"samples\": [\n          234\n        ],\n        \"semantic_type\": \"\",\n        \"description\": \"\"\n      }\n    },\n    {\n      \"column\": \"label_comp_id_1\",\n      \"properties\": {\n        \"dtype\": \"category\",\n        \"num_unique_values\": 1,\n        \"samples\": [\n          \"APC\"\n        ],\n        \"semantic_type\": \"\",\n        \"description\": \"\"\n      }\n    },\n    {\n      \"column\": \"label_comp_id_2\",\n      \"properties\": {\n        \"dtype\": \"string\",\n        \"num_unique_values\": 5,\n        \"samples\": [\n          \"ASN\"\n        ],\n        \"semantic_type\": \"\",\n        \"description\": \"\"\n      }\n    },\n    {\n      \"column\": \"auth_atom_id_1\",\n      \"properties\": {\n        \"dtype\": \"string\",\n        \"num_unique_values\": 7,\n        \"samples\": [\n          \"O2A\"\n        ],\n        \"semantic_type\": \"\",\n        \"description\": \"\"\n      }\n    },\n    {\n      \"column\": \"auth_atom_id_2\",\n      \"properties\": {\n        \"dtype\": \"category\",\n        \"num_unique_values\": 4,\n        \"samples\": [\n          \"ND2\"\n        ],\n        \"semantic_type\": \"\",\n        \"description\": \"\"\n      }\n    }\n  ]\n}"
            }
          },
          "metadata": {},
          "execution_count": 139
        }
      ]
    },
    {
      "cell_type": "code",
      "source": [
        "pdb_interactions_df[(pdb_interactions_df[\"bm_id\"]==\"bm_1\") & (pdb_interactions_df[\"contact_type\"]==\"hbond\") & (pdb_interactions_df[\"interacting_entities\"]==\"INTER\")].head()"
      ],
      "metadata": {
        "id": "o3AYuaehaeys"
      },
      "execution_count": null,
      "outputs": []
    },
    {
      "cell_type": "markdown",
      "metadata": {
        "id": "tzGflIvry_Tv"
      },
      "source": [
        "#&nbsp; 3 PDBe RelLig"
      ]
    },
    {
      "cell_type": "markdown",
      "source": [
        "With over 200,000 entries in the PDB, about 75% of these structures contain at least one ligand bound to a protein or nucleic acid. However, not all ligands are biologically relevant, some are present due to experimental necessities, such as aiding crystallisation or enabling cryoprotection, while others play biologically significant roles acting as cofactors, reactants or drugs. Unfortunately, the biological role of ligands present in PDB entries is not annotated in the PDB/mmCIF files.\n",
        "PDBe RelLig is designed to bridge this gap by automatically annotating the ligand's functional role as the following:\n",
        " - cofactor\n",
        " - reactant\n",
        " - drug"
      ],
      "metadata": {
        "id": "r6Nj5kceLvzZ"
      }
    }
  ]
}